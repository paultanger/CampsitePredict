{
 "cells": [
  {
   "cell_type": "code",
   "execution_count": 1,
   "metadata": {},
   "outputs": [],
   "source": [
    "import numpy as np\n",
    "import pandas as pd\n",
    "import matplotlib.pyplot as plt\n",
    "import seaborn as sns\n",
    "from scipy import stats\n",
    "%matplotlib inline\n",
    "pd.options.display.float_format = '{:,.2f}'.format\n",
    "plt.style.use('seaborn-white')\n",
    "# colorblind safe\n",
    "plt.style.use('seaborn-colorblind')\n",
    "plt.style.use('tableau-colorblind10')\n",
    "\n",
    "# width and precision for f strings\n",
    "width = 10\n",
    "precision = 4\n",
    "\n",
    "# default sizes for plots\n",
    "# https://matplotlib.org/3.3.0/tutorials/introductory/customizing.html#customizing-with-matplotlibrc-files\n",
    "plt.rcParams['figure.figsize'] = [10, 6]\n",
    "plt.rcParams['font.size'] = 16\n",
    "plt.rcParams['legend.fontsize'] = 'large'\n",
    "plt.rcParams['figure.titlesize'] = 'medium'\n",
    "plt.rcParams['lines.linewidth'] = 2\n",
    "\n",
    "# other settings\n",
    "pd.options.display.float_format = '{:,.4f}'.format\n",
    "pd.set_option(\"display.precision\", 3)\n",
    "np.set_printoptions(precision=3, suppress=True)\n",
    "%load_ext autoreload\n",
    "%autoreload 2\n",
    "pd.set_option('display.max_columns', None)\n",
    "%config IPCompleter.greedy=True\n"
   ]
  },
  {
   "cell_type": "code",
   "execution_count": null,
   "metadata": {},
   "outputs": [],
   "source": [
    "import os\n",
    "G_MAPS_API = os.environ.get(\"GOOGLE_STATICMAPS_API\")"
   ]
  },
  {
   "cell_type": "code",
   "execution_count": null,
   "metadata": {},
   "outputs": [],
   "source": [
    "import random, time"
   ]
  },
  {
   "cell_type": "code",
   "execution_count": null,
   "metadata": {},
   "outputs": [],
   "source": [
    "import googlemaps"
   ]
  },
  {
   "cell_type": "code",
   "execution_count": null,
   "metadata": {},
   "outputs": [],
   "source": [
    "gmaps = googlemaps.Client(G_MAPS_API)"
   ]
  },
  {
   "cell_type": "code",
   "execution_count": null,
   "metadata": {},
   "outputs": [],
   "source": [
    "n_requests = 0"
   ]
  },
  {
   "cell_type": "code",
   "execution_count": null,
   "metadata": {},
   "outputs": [],
   "source": [
    "def download_images(client, df, zoomlevel, max_requests=10, prefix=\"\", out_path=\"data/\"):\n",
    "    if not os.path.exists(out_path):\n",
    "        os.makedirs(out_path)\n",
    "    \n",
    "    global n_requests\n",
    "    \n",
    "    for i, site in df.iterrows():\n",
    "        print(f'Pulling image {i}, total API requests so far = {n_requests}')\n",
    "        #print(f\"{site['Latitude']}, {site['Longitude']}\")\n",
    "        \n",
    "        # temp save coords\n",
    "        lat = site['Latitude']\n",
    "        long = site['Longitude']\n",
    "        \n",
    "        # and tags for site\n",
    "        cat = site['Category']\n",
    "        \n",
    "        # create filename\n",
    "        cur_filename = f'satimg_{i}_{cat}_{zoomlevel}_{lat}_{long}.png'\n",
    "        print(cur_filename)\n",
    "\n",
    "        # if it already exists, skip to next\n",
    "        if os.path.exists(out_path + cur_filename):\n",
    "            continue\n",
    "\n",
    "        # get the image\n",
    "        satimg = client.static_map(size = (400, 400), # pixels\n",
    "           zoom = zoomlevel, # 1-21\n",
    "           center = (lat, long),\n",
    "           scale = 1, # default is 1, 2 returns 2x pixels for high res displays\n",
    "           maptype = \"satellite\",\n",
    "           format = \"png\"\n",
    "          )\n",
    "        \n",
    "        # if it didn't work, exit\n",
    "        if satimg is None or n_requests >= max_requests:\n",
    "            print(\"API requests quota exceeded!\")    \n",
    "            break\n",
    "        # increase counter otherwise\n",
    "        n_requests += 1\n",
    "        \n",
    "        # save the current image\n",
    "        f = open(out_path + cur_filename, 'wb')\n",
    "        for chunk in satimg:\n",
    "            if chunk:\n",
    "                f.write(chunk)\n",
    "        f.close()\n",
    "        \n",
    "        # open it to crop the text off\n",
    "        img = plt.imread(out_path + cur_filename)\n",
    "        # maybe crop all 4 sides?\n",
    "        cropped = img[25:375, 25:375]\n",
    "        # and resave\n",
    "        #cropped_filename = f'satimg_{i}_{cat}_{zoomlevel}_{lat}_{long}.png'\n",
    "        plt.imsave(out_path + cur_filename, cropped)\n",
    "        \n",
    "        # and rotate and save that version\n",
    "        for k, degrees in enumerate([90, 180, 270]):\n",
    "            #print(k, degrees)\n",
    "            cropped_rotated = np.rot90(cropped, k=k)\n",
    "            cropped_rot_filename = f'satimg_{i}_{cat}_{zoomlevel}_rot{degrees}_{lat}_{long}.png'\n",
    "            #print(cropped_rot_filename)\n",
    "            plt.imsave(out_path + cropped_rot_filename, cropped_rotated)\n",
    "        \n",
    "        # and zoom in and save\n",
    "#         zoomed = img[100:300, 100:300]\n",
    "#         zoomed_cropped_filename = f'satimg_{i}_{cat}_{zoomlevel}_zoomed_{lat}_{long}.png'\n",
    "#         plt.imsave(out_path + zoomed_cropped_filename, zoomed)\n",
    "        \n",
    "#         # and rotate on zoom in and save\n",
    "#         zoomed_rot = np.rot90(zoomed)\n",
    "#         zoomed_cropped_rot_filename = f'satimg_{i}_{cat}_{zoomlevel}_zoomed_rot90_{lat}_{long}.png'\n",
    "#         plt.imsave(out_path + zoomed_cropped_rot_filename, zoomed_rot)\n",
    "        \n",
    "        # wait a bit before next request\n",
    "        wait_time = random.randint(1, 5)\n",
    "        print(f'waiting for: {wait_time} seconds')\n",
    "        time.sleep(wait_time) # in seconds\n",
    "\n",
    "        # display samples every now and then\n",
    "        if i % 100 == 0:\n",
    "            img = plt.imread(out_path + cur_filename)\n",
    "            plt.imshow(img)\n",
    "            plt.title(f'image {i}')\n",
    "            plt.show()\n",
    "            time.sleep(2)\n",
    "    return True"
   ]
  },
  {
   "cell_type": "code",
   "execution_count": null,
   "metadata": {},
   "outputs": [],
   "source": [
    "USdata_CO = USdata[USdata['State'] == 'CO'].copy()"
   ]
  },
  {
   "cell_type": "code",
   "execution_count": null,
   "metadata": {},
   "outputs": [],
   "source": [
    "# maybe do this by category and put into different folders?"
   ]
  },
  {
   "cell_type": "code",
   "execution_count": null,
   "metadata": {},
   "outputs": [],
   "source": [
    "download_images(gmaps, test, max_requests=max_requests, zoomlevel=17, prefix=\"CO_\", out_path=\"data/sites_CO/\")"
   ]
  }
 ],
 "metadata": {
  "kernelspec": {
   "display_name": "Python 3",
   "language": "python",
   "name": "python3"
  },
  "language_info": {
   "codemirror_mode": {
    "name": "ipython",
    "version": 3
   },
   "file_extension": ".py",
   "mimetype": "text/x-python",
   "name": "python",
   "nbconvert_exporter": "python",
   "pygments_lexer": "ipython3",
   "version": "3.7.7"
  }
 },
 "nbformat": 4,
 "nbformat_minor": 4
}
