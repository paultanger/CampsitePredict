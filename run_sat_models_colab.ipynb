{
  "nbformat": 4,
  "nbformat_minor": 0,
  "metadata": {
    "colab": {
      "name": "run_sat_models.ipynb",
      "provenance": [],
      "collapsed_sections": [],
      "machine_shape": "hm",
      "mount_file_id": "1eKpm7vC1kcxTWwF_9wjCgqjDLnC4Ya3T",
      "authorship_tag": "ABX9TyMXEvWS00ToBBfLWCsd8V1q"
    },
    "kernelspec": {
      "name": "python3",
      "display_name": "Python 3"
    },
    "accelerator": "GPU"
  },
  "cells": [
    {
      "cell_type": "code",
      "metadata": {
        "id": "TODrBOQqcIKz",
        "colab_type": "code",
        "colab": {}
      },
      "source": [
        "import numpy as np\n",
        "import pandas as pd\n",
        "import matplotlib.pyplot as plt"
      ],
      "execution_count": 1,
      "outputs": []
    },
    {
      "cell_type": "code",
      "metadata": {
        "id": "6cEprneL3xqA",
        "colab_type": "code",
        "colab": {
          "base_uri": "https://localhost:8080/",
          "height": 36
        },
        "outputId": "546504a8-5038-4144-b548-40dcd61cde7b"
      },
      "source": [
        "import keras\n",
        "keras.__version__"
      ],
      "execution_count": 2,
      "outputs": [
        {
          "output_type": "execute_result",
          "data": {
            "application/vnd.google.colaboratory.intrinsic+json": {
              "type": "string"
            },
            "text/plain": [
              "'2.4.3'"
            ]
          },
          "metadata": {
            "tags": []
          },
          "execution_count": 2
        }
      ]
    },
    {
      "cell_type": "code",
      "metadata": {
        "id": "yzqvPm7D34LJ",
        "colab_type": "code",
        "colab": {
          "base_uri": "https://localhost:8080/",
          "height": 36
        },
        "outputId": "d620e008-6162-4d75-f0bf-84c1ac0c3de6"
      },
      "source": [
        "import tensorflow\n",
        "tensorflow.__version__"
      ],
      "execution_count": 3,
      "outputs": [
        {
          "output_type": "execute_result",
          "data": {
            "application/vnd.google.colaboratory.intrinsic+json": {
              "type": "string"
            },
            "text/plain": [
              "'2.3.0'"
            ]
          },
          "metadata": {
            "tags": []
          },
          "execution_count": 3
        }
      ]
    },
    {
      "cell_type": "code",
      "metadata": {
        "id": "K8WGmi5Kobzr",
        "colab_type": "code",
        "colab": {}
      },
      "source": [
        "# from pydrive.auth import GoogleAuth\n",
        "# from pydrive.drive import GoogleDrive\n",
        "# from google.colab import auth\n",
        "# from oauth2client.client import GoogleCredentials"
      ],
      "execution_count": 4,
      "outputs": []
    },
    {
      "cell_type": "code",
      "metadata": {
        "id": "DAD9vV2Dokqx",
        "colab_type": "code",
        "colab": {}
      },
      "source": [
        "# auth.authenticate_user()\n",
        "# gauth = GoogleAuth()\n",
        "# gauth.credentials = GoogleCredentials.get_application_default()\n",
        "# drive = GoogleDrive(gauth)"
      ],
      "execution_count": 5,
      "outputs": []
    },
    {
      "cell_type": "code",
      "metadata": {
        "id": "ViTVn91ao7-N",
        "colab_type": "code",
        "colab": {}
      },
      "source": [
        "#1ybMB62yiqWTJWf224HKvm7nPRifnSG8D?usp=sharing\n",
        "# one approach to get data is zip directory, and then unzip on this virtual machine\n",
        "#downloaded = drive.CreateFile({'id':\"1ykRetxLnjCi_wSY-LxTy03dG-TB1Shii\"})\n",
        "# https://drive.google.com/drive/folders/1ykRetxLnjCi_wSY-LxTy03dG-TB1Shii?usp=sharing\n",
        "# unzip file on virtual machine..\n",
        "# directory = downloaded"
      ],
      "execution_count": 6,
      "outputs": []
    },
    {
      "cell_type": "code",
      "metadata": {
        "id": "onmFjiOqpCiZ",
        "colab_type": "code",
        "colab": {}
      },
      "source": [
        "# downloaded.GetContentFile('satimg_AZ_18_Established Campground_17_31.703691999999997_-111.063476_rot90.png')"
      ],
      "execution_count": 7,
      "outputs": []
    },
    {
      "cell_type": "code",
      "metadata": {
        "id": "qTh4UIMgNVCu",
        "colab_type": "code",
        "colab": {
          "base_uri": "https://localhost:8080/",
          "height": 399
        },
        "outputId": "eeafda08-36a1-4df7-bc40-3cfee90f982e"
      },
      "source": [
        "gpu_info = !nvidia-smi\n",
        "gpu_info = '\\n'.join(gpu_info)\n",
        "if gpu_info.find('failed') >= 0:\n",
        "  print('Select the Runtime > \"Change runtime type\" menu to enable a GPU accelerator, ')\n",
        "  print('and then re-execute this cell.')\n",
        "else:\n",
        "  print(gpu_info)"
      ],
      "execution_count": 8,
      "outputs": [
        {
          "output_type": "stream",
          "text": [
            "Wed Aug 26 21:17:00 2020       \n",
            "+-----------------------------------------------------------------------------+\n",
            "| NVIDIA-SMI 450.57       Driver Version: 418.67       CUDA Version: 10.1     |\n",
            "|-------------------------------+----------------------+----------------------+\n",
            "| GPU  Name        Persistence-M| Bus-Id        Disp.A | Volatile Uncorr. ECC |\n",
            "| Fan  Temp  Perf  Pwr:Usage/Cap|         Memory-Usage | GPU-Util  Compute M. |\n",
            "|                               |                      |               MIG M. |\n",
            "|===============================+======================+======================|\n",
            "|   0  Tesla P100-PCIE...  Off  | 00000000:00:04.0 Off |                    0 |\n",
            "| N/A   50C    P0    29W / 250W |      0MiB / 16280MiB |      0%      Default |\n",
            "|                               |                      |                 ERR! |\n",
            "+-------------------------------+----------------------+----------------------+\n",
            "                                                                               \n",
            "+-----------------------------------------------------------------------------+\n",
            "| Processes:                                                                  |\n",
            "|  GPU   GI   CI        PID   Type   Process name                  GPU Memory |\n",
            "|        ID   ID                                                   Usage      |\n",
            "|=============================================================================|\n",
            "|  No running processes found                                                 |\n",
            "+-----------------------------------------------------------------------------+\n"
          ],
          "name": "stdout"
        }
      ]
    },
    {
      "cell_type": "code",
      "metadata": {
        "id": "SkDl2vpnOqNf",
        "colab_type": "code",
        "colab": {
          "base_uri": "https://localhost:8080/",
          "height": 75
        },
        "outputId": "47d1d7f4-fa02-4ab0-b032-05a952074ebf"
      },
      "source": [
        "from psutil import virtual_memory\n",
        "ram_gb = virtual_memory().total / 1e9\n",
        "print('Your runtime has {:.1f} gigabytes of available RAM\\n'.format(ram_gb))\n",
        "\n",
        "if ram_gb < 20:\n",
        "  print('To enable a high-RAM runtime, select the Runtime > \"Change runtime type\"')\n",
        "  print('menu, and then select High-RAM in the Runtime shape dropdown. Then, ')\n",
        "  print('re-execute this cell.')\n",
        "else:\n",
        "  print('You are using a high-RAM runtime!')"
      ],
      "execution_count": 9,
      "outputs": [
        {
          "output_type": "stream",
          "text": [
            "Your runtime has 27.4 gigabytes of available RAM\n",
            "\n",
            "You are using a high-RAM runtime!\n"
          ],
          "name": "stdout"
        }
      ]
    },
    {
      "cell_type": "code",
      "metadata": {
        "id": "wef5tc9YyGye",
        "colab_type": "code",
        "colab": {}
      },
      "source": [
        "#('TensorSpec(shape=(None, 256, 256, 3), dtype=tf.float32, name=None)', 'TensorSpec(shape=(None,), dtype=tf.int32, name=None)')\n",
        "from tensorflow import TensorSpec, float32, int32\n",
        "from tensorflow import keras, data\n",
        "from tensorflow.keras import layers\n",
        "from tensorflow.keras.models import Sequential\n",
        "from tensorflow.data.experimental import load\n",
        "elem_spec = (TensorSpec(shape=(None, 256, 256, 3), dtype=float32, name=None), TensorSpec(shape=(None,), dtype=int32, name=None))"
      ],
      "execution_count": 10,
      "outputs": []
    },
    {
      "cell_type": "code",
      "metadata": {
        "id": "ZoIR9VgduHcw",
        "colab_type": "code",
        "colab": {}
      },
      "source": [
        "# try to load tensorflow datasets from google drive into this notebook\n",
        "# path to files:\n",
        "# X_train_data_loaded = drive.CreateFile({'id':\"\"})\n",
        "# X_test_data_loaded = drive.CreateFile({'id':\"\"})\n",
        "\n",
        "X_train_data_path = '/content/drive/My Drive/TF_datasets/X_train'\n",
        "X_test_data_path = '/content/drive/My Drive/TF_datasets/X_test'\n",
        "X_train = load(X_train_data_path, element_spec=elem_spec, compression='GZIP', reader_func=None)\n",
        "X_test = load(X_test_data_path, element_spec=elem_spec, compression='GZIP', reader_func=None)"
      ],
      "execution_count": 11,
      "outputs": []
    },
    {
      "cell_type": "code",
      "metadata": {
        "id": "enYmPNtI5C0F",
        "colab_type": "code",
        "colab": {}
      },
      "source": [
        "num_classes = 2\n",
        "epochs = 200 # number of passes through the entire train dataset before weights \"final\"\n",
        "AUTOTUNE = data.experimental.AUTOTUNE\n",
        "img_height = 256\n",
        "img_width = 256\n",
        "nb_filters = 32    # number of convolutional filters to use (same as neurons) if more, more parameters\n",
        "pool_size = (2, 2)  # pooling decreases image size, reduces computation, adds translational invariance\n",
        "kernel_size = (2, 2)  # convolutional kernel size, slides over image to learn features\n",
        "X_train = X_train.cache().shuffle(32).prefetch(buffer_size=AUTOTUNE) # include shuffle? set to 32? X_train.cache().shuffle(1000)\n",
        "# Note: While large buffer_sizes shuffle more thoroughly, they can take a lot of memory, and significant time to fill. \n",
        "# Consider using Dataset.interleave across files if this becomes a problem.\n",
        "X_test = X_test.cache().prefetch(buffer_size=AUTOTUNE)"
      ],
      "execution_count": 12,
      "outputs": []
    },
    {
      "cell_type": "code",
      "metadata": {
        "id": "xXhuNS0o5HdT",
        "colab_type": "code",
        "colab": {}
      },
      "source": [
        "model = Sequential([\n",
        "    layers.experimental.preprocessing.Rescaling(1./255, input_shape=(256, 256, 3)),\n",
        "    layers.experimental.preprocessing.RandomFlip(\"horizontal\", \n",
        "                                                 input_shape=(img_height, \n",
        "                                                              img_width,\n",
        "                                                              3)),\n",
        "    layers.experimental.preprocessing.RandomRotation(0.1),\n",
        "    layers.experimental.preprocessing.RandomZoom(0.1),\n",
        "    layers.Conv2D(nb_filters, (kernel_size[0], kernel_size[1]), padding='same', activation='relu'), # was 16, 32, 64\n",
        "    layers.MaxPooling2D(pool_size=pool_size),\n",
        "    layers.Conv2D(nb_filters*2, (kernel_size[0], kernel_size[1]), padding='same', activation='relu'), # drop layers.. for initial testing\n",
        "    layers.MaxPooling2D(pool_size=pool_size),\n",
        "    layers.Conv2D(nb_filters*3, (kernel_size[0], kernel_size[1]), padding='same', activation='relu'),\n",
        "    layers.MaxPooling2D(pool_size=pool_size),\n",
        "    layers.Conv2D(nb_filters*4, (kernel_size[0], kernel_size[1]), padding='same', activation='relu'),\n",
        "    layers.MaxPooling2D(pool_size=pool_size),\n",
        "    # insert more layers?\n",
        "    # insert callback?\n",
        "    layers.Flatten(),\n",
        "    layers.Dense(256, activation='relu'), # increase this?\n",
        "    layers.Dropout(0.5),\n",
        "    #layers.Dense(num_classes, activation='relu') # or sigmoid for binary? relu?\n",
        "    layers.Dense(1, activation='sigmoid') # or sigmoid for binary? relu?\n",
        "])"
      ],
      "execution_count": 13,
      "outputs": []
    },
    {
      "cell_type": "code",
      "metadata": {
        "id": "bQ63ceOD5KTM",
        "colab_type": "code",
        "colab": {}
      },
      "source": [
        "model.compile(optimizer='adam', # adadelta sgd\n",
        "              loss=keras.losses.BinaryCrossentropy(from_logits=False),\n",
        "              metrics=['accuracy'])"
      ],
      "execution_count": 14,
      "outputs": []
    },
    {
      "cell_type": "code",
      "metadata": {
        "id": "5DAYlbFV5MUx",
        "colab_type": "code",
        "colab": {
          "base_uri": "https://localhost:8080/",
          "height": 781
        },
        "outputId": "d7af0fdb-1ae0-4f25-e954-0b079db82f88"
      },
      "source": [
        "model.summary()"
      ],
      "execution_count": 15,
      "outputs": [
        {
          "output_type": "stream",
          "text": [
            "Model: \"sequential\"\n",
            "_________________________________________________________________\n",
            "Layer (type)                 Output Shape              Param #   \n",
            "=================================================================\n",
            "rescaling (Rescaling)        (None, 256, 256, 3)       0         \n",
            "_________________________________________________________________\n",
            "random_flip (RandomFlip)     (None, 256, 256, 3)       0         \n",
            "_________________________________________________________________\n",
            "random_rotation (RandomRotat (None, 256, 256, 3)       0         \n",
            "_________________________________________________________________\n",
            "random_zoom (RandomZoom)     (None, 256, 256, 3)       0         \n",
            "_________________________________________________________________\n",
            "conv2d (Conv2D)              (None, 256, 256, 32)      416       \n",
            "_________________________________________________________________\n",
            "max_pooling2d (MaxPooling2D) (None, 128, 128, 32)      0         \n",
            "_________________________________________________________________\n",
            "conv2d_1 (Conv2D)            (None, 128, 128, 64)      8256      \n",
            "_________________________________________________________________\n",
            "max_pooling2d_1 (MaxPooling2 (None, 64, 64, 64)        0         \n",
            "_________________________________________________________________\n",
            "conv2d_2 (Conv2D)            (None, 64, 64, 96)        24672     \n",
            "_________________________________________________________________\n",
            "max_pooling2d_2 (MaxPooling2 (None, 32, 32, 96)        0         \n",
            "_________________________________________________________________\n",
            "conv2d_3 (Conv2D)            (None, 32, 32, 128)       49280     \n",
            "_________________________________________________________________\n",
            "max_pooling2d_3 (MaxPooling2 (None, 16, 16, 128)       0         \n",
            "_________________________________________________________________\n",
            "flatten (Flatten)            (None, 32768)             0         \n",
            "_________________________________________________________________\n",
            "dense (Dense)                (None, 256)               8388864   \n",
            "_________________________________________________________________\n",
            "dropout (Dropout)            (None, 256)               0         \n",
            "_________________________________________________________________\n",
            "dense_1 (Dense)              (None, 1)                 257       \n",
            "=================================================================\n",
            "Total params: 8,471,745\n",
            "Trainable params: 8,471,745\n",
            "Non-trainable params: 0\n",
            "_________________________________________________________________\n"
          ],
          "name": "stdout"
        }
      ]
    },
    {
      "cell_type": "code",
      "metadata": {
        "id": "ZQh3qXK95Nnl",
        "colab_type": "code",
        "colab": {}
      },
      "source": [
        "# 450 GPU\n",
        "# history = model.fit(\n",
        "#             X_train,\n",
        "#             validation_data = X_test,\n",
        "#             epochs = epochs,\n",
        "#             #batch_size=batch_size,\n",
        "#             verbose = 1\n",
        "# )"
      ],
      "execution_count": 229,
      "outputs": []
    },
    {
      "cell_type": "code",
      "metadata": {
        "id": "2IAlaZdk1apI",
        "colab_type": "code",
        "colab": {}
      },
      "source": [
        "# with autotune stuff enabled (slower GPU)\n",
        "# history = model.fit(\n",
        "#             X_train,\n",
        "#             validation_data = X_test,\n",
        "#             epochs = epochs,\n",
        "#             #batch_size=batch_size,\n",
        "#             verbose = 1\n",
        "# )"
      ],
      "execution_count": 230,
      "outputs": []
    },
    {
      "cell_type": "code",
      "metadata": {
        "id": "nZpg_E2y3mC3",
        "colab_type": "code",
        "colab": {
          "base_uri": "https://localhost:8080/",
          "height": 55
        },
        "outputId": "c92ccd9e-66c9-427c-af42-b2e15837745d"
      },
      "source": [
        "history = model.fit(\n",
        "            X_train,\n",
        "            validation_data = X_test,\n",
        "            epochs = epochs,\n",
        "            #batch_size=batch_size,\n",
        "            verbose = 1\n",
        ")"
      ],
      "execution_count": null,
      "outputs": [
        {
          "output_type": "stream",
          "text": [
            "Epoch 1/200\n",
            "215/406 [==============>...............] - ETA: 52s - loss: 0.6634 - accuracy: 0.6471"
          ],
          "name": "stdout"
        }
      ]
    },
    {
      "cell_type": "code",
      "metadata": {
        "id": "10y3BR5A4dYF",
        "colab_type": "code",
        "colab": {
          "base_uri": "https://localhost:8080/",
          "height": 75
        },
        "outputId": "a87d0fb9-ab79-4286-864c-0b7fbb032b86"
      },
      "source": [
        "score = model.evaluate(X_test, verbose=1) \n",
        "print('Test score:', score[0])\n",
        "print('Test accuracy:', score[1])"
      ],
      "execution_count": 152,
      "outputs": [
        {
          "output_type": "stream",
          "text": [
            "102/102 [==============================] - 1s 13ms/step - loss: 0.4088 - accuracy: 0.8484\n",
            "Test score: 0.4087788462638855\n",
            "Test accuracy: 0.8484288454055786\n"
          ],
          "name": "stdout"
        }
      ]
    },
    {
      "cell_type": "code",
      "metadata": {
        "id": "n8G5P66W5qTm",
        "colab_type": "code",
        "colab": {
          "base_uri": "https://localhost:8080/",
          "height": 36
        },
        "outputId": "6c8dc835-6634-4a4c-fd8b-64912c3d521e"
      },
      "source": [
        "predictions = model.predict(X_test, verbose=1)"
      ],
      "execution_count": 153,
      "outputs": [
        {
          "output_type": "stream",
          "text": [
            "102/102 [==============================] - 1s 12ms/step\n"
          ],
          "name": "stdout"
        }
      ]
    },
    {
      "cell_type": "code",
      "metadata": {
        "id": "ZmR0sKO7fczs",
        "colab_type": "code",
        "colab": {
          "base_uri": "https://localhost:8080/",
          "height": 114
        },
        "outputId": "e2e13c89-1b0b-4f39-e625-5d10e6552d18"
      },
      "source": [
        "predictions_binary = model.predict_classes(X_test, verbose=1) "
      ],
      "execution_count": 175,
      "outputs": [
        {
          "output_type": "stream",
          "text": [
            "WARNING:tensorflow:From <ipython-input-175-e01e45682d15>:1: Sequential.predict_classes (from tensorflow.python.keras.engine.sequential) is deprecated and will be removed after 2021-01-01.\n",
            "Instructions for updating:\n",
            "Please use instead:* `np.argmax(model.predict(x), axis=-1)`,   if your model does multi-class classification   (e.g. if it uses a `softmax` last-layer activation).* `(model.predict(x) > 0.5).astype(\"int32\")`,   if your model does binary classification   (e.g. if it uses a `sigmoid` last-layer activation).\n",
            "102/102 [==============================] - 1s 12ms/step\n"
          ],
          "name": "stdout"
        }
      ]
    },
    {
      "cell_type": "code",
      "metadata": {
        "id": "XGOLU3bnf0Zv",
        "colab_type": "code",
        "colab": {
          "base_uri": "https://localhost:8080/",
          "height": 151
        },
        "outputId": "41449fb7-305c-4286-df7f-9da57caae88e"
      },
      "source": [
        "predictions_binary"
      ],
      "execution_count": 178,
      "outputs": [
        {
          "output_type": "execute_result",
          "data": {
            "text/plain": [
              "array([[1],\n",
              "       [1],\n",
              "       [0],\n",
              "       ...,\n",
              "       [1],\n",
              "       [0],\n",
              "       [1]], dtype=int32)"
            ]
          },
          "metadata": {
            "tags": []
          },
          "execution_count": 178
        }
      ]
    },
    {
      "cell_type": "code",
      "metadata": {
        "id": "xJEIgRd-fs7W",
        "colab_type": "code",
        "colab": {}
      },
      "source": [
        "predictions_binary = (model.predict(X_test) > 0.5).astype(\"int32\")"
      ],
      "execution_count": 179,
      "outputs": []
    },
    {
      "cell_type": "code",
      "metadata": {
        "id": "VQxR-hBUf4mx",
        "colab_type": "code",
        "colab": {
          "base_uri": "https://localhost:8080/",
          "height": 151
        },
        "outputId": "fe67a1d5-2411-4224-dfe7-d9baabb8d6bc"
      },
      "source": [
        "predictions_binary"
      ],
      "execution_count": 180,
      "outputs": [
        {
          "output_type": "execute_result",
          "data": {
            "text/plain": [
              "array([[1],\n",
              "       [1],\n",
              "       [0],\n",
              "       ...,\n",
              "       [1],\n",
              "       [0],\n",
              "       [1]], dtype=int32)"
            ]
          },
          "metadata": {
            "tags": []
          },
          "execution_count": 180
        }
      ]
    },
    {
      "cell_type": "code",
      "metadata": {
        "id": "mJXY3jti7RjM",
        "colab_type": "code",
        "colab": {
          "base_uri": "https://localhost:8080/",
          "height": 1000
        },
        "outputId": "4328b7cc-0d34-4087-9140-f23e0fcc6d0d"
      },
      "source": [
        "predictions[1000:1100,:]"
      ],
      "execution_count": 154,
      "outputs": [
        {
          "output_type": "execute_result",
          "data": {
            "text/plain": [
              "array([[9.0574282e-01],\n",
              "       [8.2370842e-01],\n",
              "       [5.9639007e-01],\n",
              "       [3.4318689e-01],\n",
              "       [9.1223556e-01],\n",
              "       [2.0705903e-07],\n",
              "       [9.9622065e-01],\n",
              "       [4.9361706e-01],\n",
              "       [6.7981685e-14],\n",
              "       [9.3246955e-01],\n",
              "       [1.7297639e-02],\n",
              "       [9.5244491e-01],\n",
              "       [7.8560758e-01],\n",
              "       [9.9997020e-01],\n",
              "       [9.9999785e-01],\n",
              "       [9.6618849e-01],\n",
              "       [9.9996531e-01],\n",
              "       [9.9998164e-01],\n",
              "       [9.8927569e-01],\n",
              "       [6.2016773e-01],\n",
              "       [1.1939559e-03],\n",
              "       [1.5074013e-11],\n",
              "       [7.7193087e-01],\n",
              "       [8.9810878e-01],\n",
              "       [8.2454342e-01],\n",
              "       [9.4913918e-01],\n",
              "       [9.9591124e-01],\n",
              "       [2.4303979e-09],\n",
              "       [6.3673401e-01],\n",
              "       [7.0527874e-02],\n",
              "       [5.4455364e-01],\n",
              "       [9.9346739e-01],\n",
              "       [5.0097013e-01],\n",
              "       [9.8442692e-01],\n",
              "       [9.9236542e-01],\n",
              "       [9.9987352e-01],\n",
              "       [7.6005584e-01],\n",
              "       [3.2131806e-01],\n",
              "       [9.4965088e-01],\n",
              "       [9.8672605e-01],\n",
              "       [9.8768103e-01],\n",
              "       [9.8620403e-01],\n",
              "       [8.1087178e-01],\n",
              "       [9.9993813e-01],\n",
              "       [4.8566580e-01],\n",
              "       [9.9999988e-01],\n",
              "       [7.3274904e-01],\n",
              "       [9.9313712e-01],\n",
              "       [9.9804401e-01],\n",
              "       [6.2139487e-01],\n",
              "       [9.1935676e-01],\n",
              "       [3.5624242e-01],\n",
              "       [8.7907130e-01],\n",
              "       [5.9291410e-01],\n",
              "       [9.6481889e-01],\n",
              "       [2.8636777e-01],\n",
              "       [9.2031461e-01],\n",
              "       [9.9615967e-01],\n",
              "       [5.1697630e-02],\n",
              "       [6.9295716e-01],\n",
              "       [6.4537847e-01],\n",
              "       [8.5080189e-01],\n",
              "       [6.5987688e-01],\n",
              "       [8.7641943e-01],\n",
              "       [9.9805850e-01],\n",
              "       [1.6223157e-02],\n",
              "       [2.1605918e-01],\n",
              "       [4.1106890e-05],\n",
              "       [1.2546493e-01],\n",
              "       [4.6851566e-01],\n",
              "       [9.9989545e-01],\n",
              "       [9.9487203e-01],\n",
              "       [5.5942848e-02],\n",
              "       [4.0044760e-23],\n",
              "       [8.2067877e-01],\n",
              "       [8.6523747e-01],\n",
              "       [8.8372105e-01],\n",
              "       [9.9986398e-01],\n",
              "       [2.6269209e-01],\n",
              "       [8.2240820e-01],\n",
              "       [9.9999261e-01],\n",
              "       [1.0739466e-08],\n",
              "       [9.9942386e-01],\n",
              "       [7.7555531e-01],\n",
              "       [9.9332631e-01],\n",
              "       [1.0000000e+00],\n",
              "       [8.9589220e-01],\n",
              "       [9.9609888e-01],\n",
              "       [5.6344455e-01],\n",
              "       [9.8760659e-01],\n",
              "       [8.7333691e-01],\n",
              "       [9.2566144e-01],\n",
              "       [8.0518442e-01],\n",
              "       [9.0711731e-01],\n",
              "       [9.9536395e-01],\n",
              "       [9.8229045e-01],\n",
              "       [9.3031526e-01],\n",
              "       [6.0352045e-01],\n",
              "       [9.9687672e-01],\n",
              "       [9.3441379e-01]], dtype=float32)"
            ]
          },
          "metadata": {
            "tags": []
          },
          "execution_count": 154
        }
      ]
    },
    {
      "cell_type": "code",
      "metadata": {
        "id": "61A7PxZV7VIJ",
        "colab_type": "code",
        "colab": {
          "base_uri": "https://localhost:8080/",
          "height": 288
        },
        "outputId": "6e9f9d47-debe-42bb-cbc4-fc2a4218502f"
      },
      "source": [
        "predictions_df = pd.DataFrame(predictions) # , columns=X_test.class_names)\n",
        "predictions_df.describe()"
      ],
      "execution_count": 53,
      "outputs": [
        {
          "output_type": "execute_result",
          "data": {
            "text/html": [
              "<div>\n",
              "<style scoped>\n",
              "    .dataframe tbody tr th:only-of-type {\n",
              "        vertical-align: middle;\n",
              "    }\n",
              "\n",
              "    .dataframe tbody tr th {\n",
              "        vertical-align: top;\n",
              "    }\n",
              "\n",
              "    .dataframe thead th {\n",
              "        text-align: right;\n",
              "    }\n",
              "</style>\n",
              "<table border=\"1\" class=\"dataframe\">\n",
              "  <thead>\n",
              "    <tr style=\"text-align: right;\">\n",
              "      <th></th>\n",
              "      <th>0</th>\n",
              "    </tr>\n",
              "  </thead>\n",
              "  <tbody>\n",
              "    <tr>\n",
              "      <th>count</th>\n",
              "      <td>3246.000000</td>\n",
              "    </tr>\n",
              "    <tr>\n",
              "      <th>mean</th>\n",
              "      <td>0.706621</td>\n",
              "    </tr>\n",
              "    <tr>\n",
              "      <th>std</th>\n",
              "      <td>0.433733</td>\n",
              "    </tr>\n",
              "    <tr>\n",
              "      <th>min</th>\n",
              "      <td>0.000000</td>\n",
              "    </tr>\n",
              "    <tr>\n",
              "      <th>25%</th>\n",
              "      <td>0.084044</td>\n",
              "    </tr>\n",
              "    <tr>\n",
              "      <th>50%</th>\n",
              "      <td>0.999737</td>\n",
              "    </tr>\n",
              "    <tr>\n",
              "      <th>75%</th>\n",
              "      <td>1.000000</td>\n",
              "    </tr>\n",
              "    <tr>\n",
              "      <th>max</th>\n",
              "      <td>1.000000</td>\n",
              "    </tr>\n",
              "  </tbody>\n",
              "</table>\n",
              "</div>"
            ],
            "text/plain": [
              "                 0\n",
              "count  3246.000000\n",
              "mean      0.706621\n",
              "std       0.433733\n",
              "min       0.000000\n",
              "25%       0.084044\n",
              "50%       0.999737\n",
              "75%       1.000000\n",
              "max       1.000000"
            ]
          },
          "metadata": {
            "tags": []
          },
          "execution_count": 53
        }
      ]
    },
    {
      "cell_type": "code",
      "metadata": {
        "id": "m2QPcab37dvy",
        "colab_type": "code",
        "colab": {
          "base_uri": "https://localhost:8080/",
          "height": 518
        },
        "outputId": "cd95aafc-c3fe-4a67-f663-b69e834db5e4"
      },
      "source": [
        "# plot results\n",
        "acc = history.history['accuracy']\n",
        "val_acc = history.history['val_accuracy']\n",
        "\n",
        "loss=history.history['loss']\n",
        "val_loss=history.history['val_loss']\n",
        "\n",
        "epochs_range = range(epochs)\n",
        "\n",
        "plt.figure(figsize=(8, 8))\n",
        "plt.subplot(1, 2, 1)\n",
        "plt.plot(epochs_range, acc, label='Training Accuracy')\n",
        "plt.plot(epochs_range, val_acc, label='Validation Accuracy')\n",
        "plt.legend(loc='lower right')\n",
        "plt.title('Training and Validation Accuracy')\n",
        "\n",
        "plt.subplot(1, 2, 2)\n",
        "plt.plot(epochs_range, loss, label='Training Loss')\n",
        "plt.plot(epochs_range, val_loss, label='Validation Loss')\n",
        "plt.legend(loc='upper right')\n",
        "plt.title('Training and Validation Loss')\n",
        "plt.show()\n",
        "plt.savefig('earlierrun.png')"
      ],
      "execution_count": 155,
      "outputs": [
        {
          "output_type": "display_data",
          "data": {
            "image/png": "[encoded data removed]",
            "text/plain": [
              "<Figure size 576x576 with 2 Axes>"
            ]
          },
          "metadata": {
            "tags": [],
            "needs_background": "light"
          }
        },
        {
          "output_type": "display_data",
          "data": {
            "text/plain": [
              "<Figure size 432x288 with 0 Axes>"
            ]
          },
          "metadata": {
            "tags": []
          }
        }
      ]
    },
    {
      "cell_type": "code",
      "metadata": {
        "id": "WwCXxX567iaq",
        "colab_type": "code",
        "colab": {}
      },
      "source": [
        "y = np.concatenate([y for x, y in X_test], axis=0)"
      ],
      "execution_count": 156,
      "outputs": []
    },
    {
      "cell_type": "code",
      "metadata": {
        "id": "D-uHhU348m6Z",
        "colab_type": "code",
        "colab": {
          "base_uri": "https://localhost:8080/",
          "height": 36
        },
        "outputId": "958aad76-ffa4-45cb-a249-95668c075aeb"
      },
      "source": [
        "y.shape"
      ],
      "execution_count": 157,
      "outputs": [
        {
          "output_type": "execute_result",
          "data": {
            "text/plain": [
              "(3246,)"
            ]
          },
          "metadata": {
            "tags": []
          },
          "execution_count": 157
        }
      ]
    },
    {
      "cell_type": "code",
      "metadata": {
        "id": "p5SPbmKh9n8l",
        "colab_type": "code",
        "colab": {}
      },
      "source": [
        "y_pred = predictions.ravel()"
      ],
      "execution_count": 158,
      "outputs": []
    },
    {
      "cell_type": "code",
      "metadata": {
        "id": "XcPYWwEX93ib",
        "colab_type": "code",
        "colab": {
          "base_uri": "https://localhost:8080/",
          "height": 36
        },
        "outputId": "b600f60d-6ca3-4650-e648-a4aa9d065570"
      },
      "source": [
        "y_pred.shape"
      ],
      "execution_count": 167,
      "outputs": [
        {
          "output_type": "execute_result",
          "data": {
            "text/plain": [
              "(3246,)"
            ]
          },
          "metadata": {
            "tags": []
          },
          "execution_count": 167
        }
      ]
    },
    {
      "cell_type": "code",
      "metadata": {
        "id": "_E7-ft-7eLnA",
        "colab_type": "code",
        "colab": {
          "base_uri": "https://localhost:8080/",
          "height": 75
        },
        "outputId": "37823287-bcd4-4ffe-857c-160e33c96831"
      },
      "source": [
        "y_pred[:10]"
      ],
      "execution_count": 168,
      "outputs": [
        {
          "output_type": "execute_result",
          "data": {
            "text/plain": [
              "array([9.1557467e-01, 9.4814855e-01, 4.5636219e-01, 8.9590991e-01,\n",
              "       9.9919027e-01, 9.5066565e-01, 9.6600002e-01, 4.0917976e-09,\n",
              "       9.9803334e-01, 9.2713726e-01], dtype=float32)"
            ]
          },
          "metadata": {
            "tags": []
          },
          "execution_count": 168
        }
      ]
    },
    {
      "cell_type": "code",
      "metadata": {
        "id": "OI_iMu9KePgt",
        "colab_type": "code",
        "colab": {
          "base_uri": "https://localhost:8080/",
          "height": 36
        },
        "outputId": "18fe45fe-efd6-4736-8834-b05a08d3f86a"
      },
      "source": [
        "y[:10]"
      ],
      "execution_count": 169,
      "outputs": [
        {
          "output_type": "execute_result",
          "data": {
            "text/plain": [
              "array([1, 1, 1, 1, 1, 1, 1, 0, 1, 1], dtype=int32)"
            ]
          },
          "metadata": {
            "tags": []
          },
          "execution_count": 169
        }
      ]
    },
    {
      "cell_type": "code",
      "metadata": {
        "id": "QbFNjHKV-JYh",
        "colab_type": "code",
        "colab": {}
      },
      "source": [
        "from sklearn import metrics\n",
        "fpr_keras, tpr_keras, thresholds_keras = metrics.roc_curve(y, y_pred)\n",
        "auc_keras = metrics.auc(fpr_keras, tpr_keras)"
      ],
      "execution_count": 187,
      "outputs": []
    },
    {
      "cell_type": "code",
      "metadata": {
        "id": "cZHajSPG8sWA",
        "colab_type": "code",
        "colab": {
          "base_uri": "https://localhost:8080/",
          "height": 513
        },
        "outputId": "05853219-5684-451b-a590-fe68bdc63a90"
      },
      "source": [
        "# https://www.dlology.com/blog/simple-guide-on-how-to-generate-roc-plot-for-keras-classifier/\n",
        "fig, ax = plt.subplots(1, figsize=(10, 8))\n",
        "ax.plot(fpr_keras, tpr_keras, label='model (area = {:.3f})'.format(auc_keras))\n",
        "ax.plot([0, 1], [0, 1], linestyle='--', lw=2, color='r', label='Chance', alpha=.8)\n",
        "ax.set_xlabel('False positive rate')\n",
        "ax.set_ylabel('True positive rate')\n",
        "ax.set_title('ROC curve')\n",
        "plt.legend(loc='best')\n",
        "plt.show()"
      ],
      "execution_count": 188,
      "outputs": [
        {
          "output_type": "display_data",
          "data": {
            "image/png": "[encoded data removed]",
            "text/plain": [
              "<Figure size 720x576 with 1 Axes>"
            ]
          },
          "metadata": {
            "tags": [],
            "needs_background": "light"
          }
        }
      ]
    },
    {
      "cell_type": "code",
      "metadata": {
        "id": "em7AyoL-_Lj1",
        "colab_type": "code",
        "colab": {
          "base_uri": "https://localhost:8080/",
          "height": 75
        },
        "outputId": "9ed53e4b-6777-4d64-b8d0-0125ced965cd"
      },
      "source": [
        "from sklearn.metrics import confusion_matrix\n",
        "import seaborn as sns\n",
        "def compute_plot_confusion_matrix(y_true_class, y_pred_class, classes):\n",
        "    confmat = confusion_matrix(y_true_class, y_pred_class, labels=range(2))\n",
        "    confmat = confmat / confmat.sum(0).astype(float)\n",
        "    df_cm = pd.DataFrame(confmat, columns = classes)\n",
        "    plt.figure(figsize = (12,10))\n",
        "    sns.heatmap(df_cm, annot=True, fmt=\".2f\")\n",
        "    return confmat"
      ],
      "execution_count": 192,
      "outputs": [
        {
          "output_type": "stream",
          "text": [
            "/usr/local/lib/python3.6/dist-packages/statsmodels/tools/_testing.py:19: FutureWarning: pandas.util.testing is deprecated. Use the functions in the public API at pandas.testing instead.\n",
            "  import pandas.util.testing as tm\n"
          ],
          "name": "stderr"
        }
      ]
    },
    {
      "cell_type": "code",
      "metadata": {
        "id": "0Ss90qledZsX",
        "colab_type": "code",
        "colab": {}
      },
      "source": [
        "confmat = confusion_matrix(y, predictions_binary)"
      ],
      "execution_count": 190,
      "outputs": []
    },
    {
      "cell_type": "code",
      "metadata": {
        "id": "e90zKDXIdf1g",
        "colab_type": "code",
        "colab": {
          "base_uri": "https://localhost:8080/",
          "height": 55
        },
        "outputId": "b29f0b93-6e0d-48b2-e912-5fec6827b585"
      },
      "source": [
        "confmat"
      ],
      "execution_count": 182,
      "outputs": [
        {
          "output_type": "execute_result",
          "data": {
            "text/plain": [
              "array([[ 739,  364],\n",
              "       [ 128, 2015]])"
            ]
          },
          "metadata": {
            "tags": []
          },
          "execution_count": 182
        }
      ]
    },
    {
      "cell_type": "code",
      "metadata": {
        "id": "zv7y9y4_hLkm",
        "colab_type": "code",
        "colab": {
          "base_uri": "https://localhost:8080/",
          "height": 55
        },
        "outputId": "adeb6ec9-4eee-4380-9be3-5c6e0c3f058e"
      },
      "source": [
        "confmat / confmat.sum(0).astype(float)"
      ],
      "execution_count": 194,
      "outputs": [
        {
          "output_type": "execute_result",
          "data": {
            "text/plain": [
              "array([[0.85236448, 0.15300546],\n",
              "       [0.14763552, 0.84699454]])"
            ]
          },
          "metadata": {
            "tags": []
          },
          "execution_count": 194
        }
      ]
    },
    {
      "cell_type": "code",
      "metadata": {
        "id": "7C_EbD0QgLBN",
        "colab_type": "code",
        "colab": {
          "base_uri": "https://localhost:8080/",
          "height": 630
        },
        "outputId": "ef241147-76ce-495f-a213-7e054f299b0f"
      },
      "source": [
        "compute_plot_confusion_matrix(y, predictions_binary, ['Established Campground', 'Wild Camping'])"
      ],
      "execution_count": 193,
      "outputs": [
        {
          "output_type": "execute_result",
          "data": {
            "text/plain": [
              "array([[0.85236448, 0.15300546],\n",
              "       [0.14763552, 0.84699454]])"
            ]
          },
          "metadata": {
            "tags": []
          },
          "execution_count": 193
        },
        {
          "output_type": "display_data",
          "data": {
            "image/png": "[encoded data removed]",
            "text/plain": [
              "<Figure size 864x720 with 2 Axes>"
            ]
          },
          "metadata": {
            "tags": [],
            "needs_background": "light"
          }
        }
      ]
    },
    {
      "cell_type": "code",
      "metadata": {
        "id": "nBk1kl54gWZ1",
        "colab_type": "code",
        "colab": {}
      },
      "source": [
        "# check some images where predictions were wrong\n"
      ],
      "execution_count": null,
      "outputs": []
    }
  ]
}