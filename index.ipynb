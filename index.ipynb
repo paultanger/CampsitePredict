{
 "cells": [
  {
   "cell_type": "code",
   "execution_count": null,
   "metadata": {
    "slideshow": {
     "slide_type": "skip"
    }
   },
   "outputs": [],
   "source": [
    "# to convert this to index.html for slideshow on github, do this in shell:\n",
    "git commit -m \"update index.ipynb\"\n",
    "jupyter nbconvert --to slides index.ipynb\n",
    "git checkout gh-pages\n",
    "mv index.slides.html index.html\n",
    "git add index.html\n",
    "git commit -m \"update index.html\"\n",
    "git push\n",
    "git checkout master"
   ]
  },
  {
   "cell_type": "markdown",
   "metadata": {
    "slideshow": {
     "slide_type": "slide"
    }
   },
   "source": [
    "# Can I use machine learning methods to detect and predict awesome undiscovered campsite locations?"
   ]
  },
  {
   "cell_type": "markdown",
   "metadata": {
    "slideshow": {
     "slide_type": "slide"
    }
   },
   "source": [
    "This project stems out of my interest and interest of many outdoor enthusiasts to find amazing and undiscovered areas to go camping. There are several resources currently to locate interesting campsites, but they depend on users entering campsite information. What if we could scan satellite imagery and predict where good campsites will be? \n",
    "\n",
    "list resources here\n",
    "image of cool campsite"
   ]
  },
  {
   "cell_type": "markdown",
   "metadata": {
    "slideshow": {
     "slide_type": "slide"
    }
   },
   "source": [
    "example of cool unreported campsite:\n",
    "add image here"
   ]
  },
  {
   "cell_type": "markdown",
   "metadata": {
    "slideshow": {
     "slide_type": "slide"
    }
   },
   "source": [
    "### The overall plan\n",
    "Initially this project will use data available from the ioverlander mobile app to train and validate predictions. Using lat long coordinates from ioverlander sites, satellite image tiles will be obtained from one of the following sources:\n",
    "* google earth engine API\n",
    "* EO Browser (Sentinel hub)\n",
    "* Planet\n",
    "* USGS earth explorer\n",
    "\n",
    "These tiles will be used to train a model using tensorflow in python likely with a convolutional neural network.\n",
    "\n",
    "Next, this model will be integrated into a user interface platform that allows them to choose a region and the model will return some predicted campsite locations."
   ]
  },
  {
   "cell_type": "markdown",
   "metadata": {
    "slideshow": {
     "slide_type": "slide"
    }
   },
   "source": [
    "### Goal and end product\n",
    "to add detail here"
   ]
  },
  {
   "cell_type": "markdown",
   "metadata": {
    "slideshow": {
     "slide_type": "slide"
    }
   },
   "source": [
    "### Literature review\n",
    "Others have done similar types of analysis:\n",
    "\n",
    "* https://github.com/adrianalbert/urban-environments\n",
    "* https://www.kaggle.com/rhammell/ships-in-satellite-imagery\n",
    "* https://www.kaggle.com/bhavesh907/crop-classificationcs2292017usgscroplanddata"
   ]
  },
  {
   "cell_type": "markdown",
   "metadata": {
    "slideshow": {
     "slide_type": "slide"
    }
   },
   "source": [
    "Important considerations for campsites:\n",
    "* relatively flat area\n",
    "* near a road\n",
    "* on public land\n",
    "* near water source\n",
    "* away from buildings\n",
    "* If weather may impede road access (for example summer only roads)"
   ]
  },
  {
   "cell_type": "markdown",
   "metadata": {
    "slideshow": {
     "slide_type": "slide"
    }
   },
   "source": [
    "### Training data - iOverlander\n",
    "This is a rich source of confirmed campsites we can use as training data.\n",
    "In the US, it contains over 15,000 user entered points.\n",
    "You can read more about this app and their mission here:\n",
    "http://blog.ioverlander.com/about/about-ioverlander/\n",
    "\n",
    "Click the down arrow to explore this data, obtained from here:\n",
    "http://blog.ioverlander.com/about/about-ioverlander/"
   ]
  },
  {
   "cell_type": "code",
   "execution_count": 9,
   "metadata": {
    "slideshow": {
     "slide_type": "subslide"
    }
   },
   "outputs": [
    {
     "data": {
      "text/html": [
       "<div>\n",
       "<style scoped>\n",
       "    .dataframe tbody tr th:only-of-type {\n",
       "        vertical-align: middle;\n",
       "    }\n",
       "\n",
       "    .dataframe tbody tr th {\n",
       "        vertical-align: top;\n",
       "    }\n",
       "\n",
       "    .dataframe thead th {\n",
       "        text-align: right;\n",
       "    }\n",
       "</style>\n",
       "<table border=\"1\" class=\"dataframe\">\n",
       "  <thead>\n",
       "    <tr style=\"text-align: right;\">\n",
       "      <th></th>\n",
       "      <th>Location</th>\n",
       "      <th>Name</th>\n",
       "      <th>Category</th>\n",
       "      <th>Description</th>\n",
       "      <th>Latitude</th>\n",
       "      <th>Longitude</th>\n",
       "      <th>Altitude</th>\n",
       "      <th>Date verified</th>\n",
       "      <th>Open</th>\n",
       "      <th>Electricity</th>\n",
       "      <th>Wifi</th>\n",
       "      <th>Kitchen</th>\n",
       "      <th>Parking</th>\n",
       "      <th>Restaurant</th>\n",
       "      <th>Showers</th>\n",
       "      <th>Water</th>\n",
       "      <th>Toilets</th>\n",
       "      <th>Big rig friendly</th>\n",
       "      <th>Tent friendly</th>\n",
       "      <th>Pet friendly</th>\n",
       "    </tr>\n",
       "  </thead>\n",
       "  <tbody>\n",
       "    <tr>\n",
       "      <th>0</th>\n",
       "      <td>Borrego Salton Seaway, Borrego Springs, CA 920...</td>\n",
       "      <td>Anza Borrego - NICE</td>\n",
       "      <td>Wild Camping</td>\n",
       "      <td>Free Camping on Anza Borrego Park. Nice and wa...</td>\n",
       "      <td>33.280572</td>\n",
       "      <td>-116.146887</td>\n",
       "      <td>0.0</td>\n",
       "      <td>2019-01-28 00:00:00 UTC</td>\n",
       "      <td>Yes</td>\n",
       "      <td>Unknown</td>\n",
       "      <td>Unknown</td>\n",
       "      <td>Unknown</td>\n",
       "      <td>NaN</td>\n",
       "      <td>Unknown</td>\n",
       "      <td>Unknown</td>\n",
       "      <td>Unknown</td>\n",
       "      <td>Unknown</td>\n",
       "      <td>Unknown</td>\n",
       "      <td>Unknown</td>\n",
       "      <td>Unknown</td>\n",
       "    </tr>\n",
       "    <tr>\n",
       "      <th>1</th>\n",
       "      <td>Borrego Salton Seaway, Borrego Springs, CA 920...</td>\n",
       "      <td>Arroyo Salado Camping</td>\n",
       "      <td>Established Campground</td>\n",
       "      <td>Free with two vault toilets, nothing else exis...</td>\n",
       "      <td>33.280188</td>\n",
       "      <td>-116.145788</td>\n",
       "      <td>0.0</td>\n",
       "      <td>2020-02-16 14:20:45 UTC</td>\n",
       "      <td>Yes</td>\n",
       "      <td>No</td>\n",
       "      <td>No</td>\n",
       "      <td>No</td>\n",
       "      <td>NaN</td>\n",
       "      <td>No</td>\n",
       "      <td>No</td>\n",
       "      <td>No</td>\n",
       "      <td>Pit Toilets</td>\n",
       "      <td>Yes</td>\n",
       "      <td>Yes</td>\n",
       "      <td>Yes</td>\n",
       "    </tr>\n",
       "  </tbody>\n",
       "</table>\n",
       "</div>"
      ],
      "text/plain": [
       "                                            Location                   Name  \\\n",
       "0  Borrego Salton Seaway, Borrego Springs, CA 920...    Anza Borrego - NICE   \n",
       "1  Borrego Salton Seaway, Borrego Springs, CA 920...  Arroyo Salado Camping   \n",
       "\n",
       "                 Category                                        Description  \\\n",
       "0            Wild Camping  Free Camping on Anza Borrego Park. Nice and wa...   \n",
       "1  Established Campground  Free with two vault toilets, nothing else exis...   \n",
       "\n",
       "    Latitude   Longitude  Altitude            Date verified Open Electricity  \\\n",
       "0  33.280572 -116.146887       0.0  2019-01-28 00:00:00 UTC  Yes     Unknown   \n",
       "1  33.280188 -116.145788       0.0  2020-02-16 14:20:45 UTC  Yes          No   \n",
       "\n",
       "      Wifi  Kitchen Parking Restaurant  Showers    Water      Toilets  \\\n",
       "0  Unknown  Unknown     NaN    Unknown  Unknown  Unknown      Unknown   \n",
       "1       No       No     NaN         No       No       No  Pit Toilets   \n",
       "\n",
       "  Big rig friendly Tent friendly Pet friendly  \n",
       "0          Unknown       Unknown      Unknown  \n",
       "1              Yes           Yes          Yes  "
      ]
     },
     "execution_count": 9,
     "metadata": {},
     "output_type": "execute_result"
    }
   ],
   "source": [
    "# load the data \n",
    "import pandas as pd\n",
    "wd = './data/'\n",
    "USdata = pd.read_csv(wd + 'iOverlander Places - United States - 2020-04-29.csv')\n",
    "USdata.head(2)"
   ]
  },
  {
   "cell_type": "markdown",
   "metadata": {
    "slideshow": {
     "slide_type": "fragment"
    }
   },
   "source": [
    "Scroll down to check some of this data on a map.."
   ]
  },
  {
   "cell_type": "markdown",
   "metadata": {
    "slideshow": {
     "slide_type": "subslide"
    }
   },
   "source": [
    "Here, we map the points to a world map"
   ]
  },
  {
   "cell_type": "code",
   "execution_count": 8,
   "metadata": {
    "slideshow": {
     "slide_type": "fragment"
    }
   },
   "outputs": [
    {
     "data": {
      "image/png": "[encoded data removed]",
      "text/plain": [
       "<Figure size 720x432 with 1 Axes>"
      ]
     },
     "metadata": {
      "needs_background": "light"
     },
     "output_type": "display_data"
    }
   ],
   "source": [
    "from shapely.geometry import Point\n",
    "import geopandas as gpd\n",
    "import descartes\n",
    "\n",
    "# subset just some categories\n",
    "USdata_filtered = USdata[USdata.Category.isin(['Wild Camping', 'Informal Campsite'])]\n",
    "\n",
    "# keep cols we need\n",
    "USdata_filtered = USdata_filtered.iloc[:,0:6]\n",
    "\n",
    "# plot on a world map\n",
    "# TODO make this much better\n",
    "geometry = [Point(xy) for xy in zip(USdata_filtered['Longitude'], USdata_filtered['Latitude'])]\n",
    "gdf = gpd.GeoDataFrame(USdata_filtered, geometry=geometry)   \n",
    "\n",
    "world = gpd.read_file(gpd.datasets.get_path('naturalearth_lowres'))\n",
    "gdf.plot(ax=world.plot(figsize=(10, 6)), marker='o', color='red', markersize=10);"
   ]
  },
  {
   "cell_type": "markdown",
   "metadata": {
    "slideshow": {
     "slide_type": "fragment"
    }
   },
   "source": [
    "Let's continue with the project overview"
   ]
  },
  {
   "cell_type": "markdown",
   "metadata": {
    "slideshow": {
     "slide_type": "slide"
    }
   },
   "source": [
    "### Ideas for data sources for campsite prediction parameters\n",
    "* use DEM (digital elevation maps) to get aspect and slope data\n",
    "* use google maps or similar to get road information"
   ]
  },
  {
   "cell_type": "markdown",
   "metadata": {
    "slideshow": {
     "slide_type": "slide"
    }
   },
   "source": [
    "### Why I chose this project\n",
    "\n",
    "* skills I want to develop and demonstrate\n",
    "* will be useful to me and others\n",
    "* broader applications for example, finding safe areas during natural disasters"
   ]
  },
  {
   "cell_type": "markdown",
   "metadata": {
    "slideshow": {
     "slide_type": "slide"
    }
   },
   "source": [
    "### Progress so far\n",
    "\n",
    "* to add detail here"
   ]
  },
  {
   "cell_type": "markdown",
   "metadata": {
    "slideshow": {
     "slide_type": "slide"
    }
   },
   "source": [
    "## Thank you!\n",
    "\n",
    "## Questions?"
   ]
  }
 ],
 "metadata": {
  "celltoolbar": "Slideshow",
  "kernelspec": {
   "display_name": "Python [conda env:camppredict]",
   "language": "python",
   "name": "conda-env-camppredict-py"
  },
  "language_info": {
   "codemirror_mode": {
    "name": "ipython",
    "version": 3
   },
   "file_extension": ".py",
   "mimetype": "text/x-python",
   "name": "python",
   "nbconvert_exporter": "python",
   "pygments_lexer": "ipython3",
   "version": "3.8.2"
  }
 },
 "nbformat": 4,
 "nbformat_minor": 4
}
