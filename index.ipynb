{
 "cells": [
  {
   "cell_type": "markdown",
   "metadata": {
    "slideshow": {
     "slide_type": "slide"
    }
   },
   "source": [
    "# Can I use machine learning methods to detect and predict awesome undiscovered campsite locations?"
   ]
  },
  {
   "cell_type": "markdown",
   "metadata": {
    "slideshow": {
     "slide_type": "slide"
    }
   },
   "source": [
    "This project stems out of my interest and interest of many outdoor enthusiasts to find amazing and undiscovered areas to go camping. There are several resources currently to locate interesting campsites, but they depend on users entering campsite information. What if we could scan satellite imagery and predict where good campsites will be? \n",
    "\n",
    "list resources here\n",
    "image of cool campsite"
   ]
  },
  {
   "cell_type": "markdown",
   "metadata": {
    "slideshow": {
     "slide_type": "slide"
    }
   },
   "source": [
    "example of cool unreported campsite:\n",
    "add image here"
   ]
  },
  {
   "cell_type": "markdown",
   "metadata": {
    "slideshow": {
     "slide_type": "slide"
    }
   },
   "source": [
    "### The overall plan\n",
    "Initially this project will use data available from the ioverlander mobile app to train and validate predictions. Using lat long coordinates from ioverlander sites, satellite image tiles will be obtained from one of the following sources:\n",
    "* google earth engine API\n",
    "* EO Browser (Sentinel hub)\n",
    "* Planet\n",
    "* USGS earth explorer\n",
    "\n",
    "These tiles will be used to train a model using tensorflow in python likely with a convolutional neural network.\n",
    "\n",
    "Next, this model will be integrated into a user interface platform that allows them to choose a region and the model will return some predicted campsite locations."
   ]
  },
  {
   "cell_type": "markdown",
   "metadata": {
    "slideshow": {
     "slide_type": "slide"
    }
   },
   "source": [
    "### Goal and end product\n",
    "to add detail here"
   ]
  },
  {
   "cell_type": "markdown",
   "metadata": {
    "slideshow": {
     "slide_type": "slide"
    }
   },
   "source": [
    "### Literature review\n",
    "Others have done similar types of analysis:\n",
    "\n",
    "* https://github.com/adrianalbert/urban-environments\n",
    "* https://www.kaggle.com/rhammell/ships-in-satellite-imagery\n",
    "* https://www.kaggle.com/bhavesh907/crop-classificationcs2292017usgscroplanddata"
   ]
  },
  {
   "cell_type": "markdown",
   "metadata": {
    "slideshow": {
     "slide_type": "slide"
    }
   },
   "source": [
    "Important considerations for campsites:\n",
    "* relatively flat area\n",
    "* near a road\n",
    "* on public land\n",
    "* near water source\n",
    "* away from buildings\n",
    "* If weather may impede road access (for example summer only roads)"
   ]
  },
  {
   "cell_type": "markdown",
   "metadata": {
    "slideshow": {
     "slide_type": "slide"
    }
   },
   "source": [
    "### Ideas for data sources for campsite prediction parameters\n",
    "* use DEM (digital elevation maps) to get aspect and slope data\n",
    "* use google maps or similar to get road information"
   ]
  },
  {
   "cell_type": "markdown",
   "metadata": {
    "slideshow": {
     "slide_type": "slide"
    }
   },
   "source": [
    "### Why I chose this project\n",
    "\n",
    "* skills I want to develop and demonstrate\n",
    "* will be useful to me and others\n",
    "* broader applications for example, finding safe areas during natural disasters"
   ]
  },
  {
   "cell_type": "markdown",
   "metadata": {
    "slideshow": {
     "slide_type": "slide"
    }
   },
   "source": [
    "### Progress so far\n",
    "\n",
    "* to add detail here"
   ]
  },
  {
   "cell_type": "markdown",
   "metadata": {
    "slideshow": {
     "slide_type": "slide"
    }
   },
   "source": [
    "## Thank you!\n",
    "\n",
    "## Questions?"
   ]
  }
 ],
 "metadata": {
  "celltoolbar": "Slideshow",
  "kernelspec": {
   "display_name": "Python [conda env:camppredict]",
   "language": "python",
   "name": "conda-env-camppredict-py"
  },
  "language_info": {
   "codemirror_mode": {
    "name": "ipython",
    "version": 3
   },
   "file_extension": ".py",
   "mimetype": "text/x-python",
   "name": "python",
   "nbconvert_exporter": "python",
   "pygments_lexer": "ipython3",
   "version": "3.8.2"
  }
 },
 "nbformat": 4,
 "nbformat_minor": 4
}
