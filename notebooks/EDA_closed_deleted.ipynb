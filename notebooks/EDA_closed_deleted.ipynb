{
 "cells": [
  {
   "cell_type": "code",
   "execution_count": 1,
   "metadata": {},
   "outputs": [],
   "source": [
    "# generic imports\n",
    "import numpy as np\n",
    "import pandas as pd\n",
    "import matplotlib.pyplot as plt\n",
    "import seaborn as sns\n",
    "from scipy import stats\n",
    "# notebook settings\n",
    "%config IPCompleter.greedy=True\n",
    "%load_ext autoreload\n",
    "%autoreload 2 \n",
    "# precision and plot settings\n",
    "num_precision = 3\n",
    "np.set_printoptions(precision=num_precision, suppress=True)\n",
    "pd.set_option('display.float_format', lambda x: f'{x:,.{num_precision}f}')\n",
    "pd.set_option(\"display.precision\", num_precision)\n",
    "pd.set_option('display.max_columns', None)\n",
    "\n",
    "plt.style.use('tableau-colorblind10')\n",
    "plt.rcParams['figure.figsize'] = [10, 6]\n",
    "plt.rcParams['font.size'] = 16\n",
    "plt.rcParams['legend.fontsize'] = 'large'\n",
    "plt.rcParams['figure.titlesize'] = 'medium'\n",
    "plt.rcParams['lines.linewidth'] = 2"
   ]
  },
  {
   "cell_type": "code",
   "execution_count": 2,
   "metadata": {},
   "outputs": [],
   "source": [
    "import random, time\n",
    "import googlemaps"
   ]
  },
  {
   "cell_type": "code",
   "execution_count": 3,
   "metadata": {},
   "outputs": [],
   "source": [
    "# setup dir and import helper functions\n",
    "import sys, os\n",
    "sys.path.append(os.path.join(os.path.dirname(sys.path[0]),'src'))\n",
    "import helper_funcs as my_funcs"
   ]
  },
  {
   "cell_type": "code",
   "execution_count": 4,
   "metadata": {},
   "outputs": [],
   "source": [
    "# US, 7 categories\n",
    "closed = pd.read_csv('../data/iOverlander Places -  closed US 7 cats 2020-09-14.csv')\n",
    "deleted = pd.read_csv('../data/iOverlander Places - US deleted 2020-09-14.csv')\n",
    "clos_del = pd.read_csv('../data/iOverlander Places - closed and deleted 2020-09-14.csv')"
   ]
  },
  {
   "cell_type": "code",
   "execution_count": 5,
   "metadata": {},
   "outputs": [
    {
     "name": "stdout",
     "output_type": "stream",
     "text": [
      "<class 'pandas.core.frame.DataFrame'>\n",
      "RangeIndex: 681 entries, 0 to 680\n",
      "Data columns (total 36 columns):\n",
      " #   Column                     Non-Null Count  Dtype  \n",
      "---  ------                     --------------  -----  \n",
      " 0   Location                   154 non-null    object \n",
      " 1   Name                       681 non-null    object \n",
      " 2   Category                   681 non-null    object \n",
      " 3   Description                681 non-null    object \n",
      " 4   Latitude                   681 non-null    float64\n",
      " 5   Longitude                  681 non-null    float64\n",
      " 6   Altitude                   670 non-null    float64\n",
      " 7   Date verified              681 non-null    object \n",
      " 8   Open                       681 non-null    object \n",
      " 9   Electricity                661 non-null    object \n",
      " 10  Wifi                       661 non-null    object \n",
      " 11  Kitchen                    661 non-null    object \n",
      " 12  Parking                    0 non-null      float64\n",
      " 13  Restaurant                 661 non-null    object \n",
      " 14  Showers                    664 non-null    object \n",
      " 15  Water                      661 non-null    object \n",
      " 16  Toilets                    661 non-null    object \n",
      " 17  Big rig friendly           661 non-null    object \n",
      " 18  Tent friendly              661 non-null    object \n",
      " 19  Pet friendly               661 non-null    object \n",
      " 20  Sanitation dump station    76 non-null     object \n",
      " 21  Outdoor gear               0 non-null      float64\n",
      " 22  Groceries                  0 non-null      float64\n",
      " 23  Artesian goods             0 non-null      float64\n",
      " 24  Bakery                     0 non-null      float64\n",
      " 25  Rarity in this area        0 non-null      float64\n",
      " 26  Repairs vehicles           0 non-null      float64\n",
      " 27  Repairs motorcycles        0 non-null      float64\n",
      " 28  Repairs bicycles           0 non-null      float64\n",
      " 29  Sells parts                0 non-null      float64\n",
      " 30  Recycles batteries         0 non-null      float64\n",
      " 31  Recycles oil               0 non-null      float64\n",
      " 32  Bio fuel                   0 non-null      float64\n",
      " 33  Electric vehicle charging  0 non-null      float64\n",
      " 34  Composting sawdust         0 non-null      float64\n",
      " 35  Recycling center           0 non-null      float64\n",
      "dtypes: float64(19), object(17)\n",
      "memory usage: 191.7+ KB\n"
     ]
    }
   ],
   "source": [
    "closed.info()"
   ]
  },
  {
   "cell_type": "code",
   "execution_count": 6,
   "metadata": {},
   "outputs": [],
   "source": [
    "dfs = [closed, deleted, clos_del]"
   ]
  },
  {
   "cell_type": "code",
   "execution_count": 7,
   "metadata": {
    "scrolled": true
   },
   "outputs": [],
   "source": [
    "# are these unique?\n",
    "clos_set = set(closed['Name'])\n",
    "del_set = set(deleted['Name'])\n",
    "clos_del_set = set(clos_del['Name'])"
   ]
  },
  {
   "cell_type": "code",
   "execution_count": 8,
   "metadata": {},
   "outputs": [
    {
     "data": {
      "text/plain": [
       "{'Albertsons',\n",
       " 'Cabellas',\n",
       " 'Camping World',\n",
       " 'Dead end road',\n",
       " 'Parking for overnight',\n",
       " 'Parking lot ',\n",
       " 'Planet Fitness ',\n",
       " 'Rest Area',\n",
       " 'Rest area',\n",
       " 'Saddle Mountain',\n",
       " 'Street parking ',\n",
       " 'Super Walmart ',\n",
       " 'Walmart',\n",
       " 'Walmart ',\n",
       " 'Walmart Supercenter',\n",
       " 'Walmart camping',\n",
       " 'Walmart parking lot',\n",
       " 'walmart'}"
      ]
     },
     "execution_count": 8,
     "metadata": {},
     "output_type": "execute_result"
    }
   ],
   "source": [
    "clos_set.intersection(del_set)"
   ]
  },
  {
   "cell_type": "code",
   "execution_count": 9,
   "metadata": {},
   "outputs": [],
   "source": [
    "closed['latlong'] = closed['Latitude'].astype('str') + '_' + closed['Longitude'].astype('str')"
   ]
  },
  {
   "cell_type": "code",
   "execution_count": 10,
   "metadata": {},
   "outputs": [],
   "source": [
    "def foo(df):\n",
    "    df['latlong'] = df['Latitude'].astype('str') + '_' + df['Longitude'].astype('str')\n",
    "    return df"
   ]
  },
  {
   "cell_type": "code",
   "execution_count": 11,
   "metadata": {},
   "outputs": [],
   "source": [
    "dfs2 = [df.pipe(foo) for df in dfs]"
   ]
  },
  {
   "cell_type": "code",
   "execution_count": 12,
   "metadata": {},
   "outputs": [],
   "source": [
    "# are these unique?\n",
    "clos_set = set(dfs2[0]['latlong'])\n",
    "del_set = set(dfs2[1]['latlong'])\n",
    "clos_del_set = set(dfs2[2]['latlong'])"
   ]
  },
  {
   "cell_type": "code",
   "execution_count": 13,
   "metadata": {},
   "outputs": [
    {
     "data": {
      "text/plain": [
       "set()"
      ]
     },
     "execution_count": 13,
     "metadata": {},
     "output_type": "execute_result"
    }
   ],
   "source": [
    "clos_set & del_set & clos_del_set"
   ]
  },
  {
   "cell_type": "code",
   "execution_count": 14,
   "metadata": {},
   "outputs": [],
   "source": [
    "# get states and zips for them\n",
    "# setup API\n",
    "G_MAPS_API = os.environ.get(\"GOOGLE_STATICMAPS_API\")\n",
    "gmaps = googlemaps.Client(G_MAPS_API)\n",
    "n_requests = 0"
   ]
  },
  {
   "cell_type": "code",
   "execution_count": 15,
   "metadata": {},
   "outputs": [],
   "source": [
    "names = ['closed', 'deleted', 'closed_deleted']"
   ]
  },
  {
   "cell_type": "code",
   "execution_count": 16,
   "metadata": {},
   "outputs": [
    {
     "data": {
      "text/plain": [
       "3"
      ]
     },
     "execution_count": 16,
     "metadata": {},
     "output_type": "execute_result"
    }
   ],
   "source": [
    "len(dfs)"
   ]
  },
  {
   "cell_type": "code",
   "execution_count": 17,
   "metadata": {},
   "outputs": [
    {
     "name": "stdout",
     "output_type": "stream",
     "text": [
      "<class 'pandas.core.frame.DataFrame'>\n",
      "RangeIndex: 681 entries, 0 to 680\n",
      "Data columns (total 37 columns):\n",
      " #   Column                     Non-Null Count  Dtype  \n",
      "---  ------                     --------------  -----  \n",
      " 0   Location                   154 non-null    object \n",
      " 1   Name                       681 non-null    object \n",
      " 2   Category                   681 non-null    object \n",
      " 3   Description                681 non-null    object \n",
      " 4   Latitude                   681 non-null    float64\n",
      " 5   Longitude                  681 non-null    float64\n",
      " 6   Altitude                   670 non-null    float64\n",
      " 7   Date verified              681 non-null    object \n",
      " 8   Open                       681 non-null    object \n",
      " 9   Electricity                661 non-null    object \n",
      " 10  Wifi                       661 non-null    object \n",
      " 11  Kitchen                    661 non-null    object \n",
      " 12  Parking                    0 non-null      float64\n",
      " 13  Restaurant                 661 non-null    object \n",
      " 14  Showers                    664 non-null    object \n",
      " 15  Water                      661 non-null    object \n",
      " 16  Toilets                    661 non-null    object \n",
      " 17  Big rig friendly           661 non-null    object \n",
      " 18  Tent friendly              661 non-null    object \n",
      " 19  Pet friendly               661 non-null    object \n",
      " 20  Sanitation dump station    76 non-null     object \n",
      " 21  Outdoor gear               0 non-null      float64\n",
      " 22  Groceries                  0 non-null      float64\n",
      " 23  Artesian goods             0 non-null      float64\n",
      " 24  Bakery                     0 non-null      float64\n",
      " 25  Rarity in this area        0 non-null      float64\n",
      " 26  Repairs vehicles           0 non-null      float64\n",
      " 27  Repairs motorcycles        0 non-null      float64\n",
      " 28  Repairs bicycles           0 non-null      float64\n",
      " 29  Sells parts                0 non-null      float64\n",
      " 30  Recycles batteries         0 non-null      float64\n",
      " 31  Recycles oil               0 non-null      float64\n",
      " 32  Bio fuel                   0 non-null      float64\n",
      " 33  Electric vehicle charging  0 non-null      float64\n",
      " 34  Composting sawdust         0 non-null      float64\n",
      " 35  Recycling center           0 non-null      float64\n",
      " 36  latlong                    681 non-null    object \n",
      "dtypes: float64(19), object(18)\n",
      "memory usage: 197.0+ KB\n"
     ]
    }
   ],
   "source": [
    "dfs[0].info()"
   ]
  },
  {
   "cell_type": "code",
   "execution_count": null,
   "metadata": {},
   "outputs": [
    {
     "name": "stdout",
     "output_type": "stream",
     "text": [
      "Pulling request 0, total API requests so far = 0\n",
      "waiting for: 1 seconds\n"
     ]
    }
   ],
   "source": [
    "for name, df in zip(names, dfs):\n",
    "    zips, states = my_funcs.get_state_zip(df, gmaps, n_requests)\n",
    "    zips_pd = pd.Series(zips, name='zip_codes') \n",
    "    states_pd = pd.Series(states, name='states') \n",
    "    zips_pd.to_csv(f'../data/zip_codes_{name}.csv')\n",
    "    states_pd.to_csv(f'../data/states_{name}.csv')"
   ]
  }
 ],
 "metadata": {
  "kernelspec": {
   "display_name": "Python [conda env:py377_maps]",
   "language": "python",
   "name": "conda-env-py377_maps-py"
  },
  "language_info": {
   "codemirror_mode": {
    "name": "ipython",
    "version": 3
   },
   "file_extension": ".py",
   "mimetype": "text/x-python",
   "name": "python",
   "nbconvert_exporter": "python",
   "pygments_lexer": "ipython3",
   "version": "3.7.7"
  }
 },
 "nbformat": 4,
 "nbformat_minor": 4
}
