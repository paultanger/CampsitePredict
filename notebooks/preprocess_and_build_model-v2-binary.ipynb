{
 "cells": [
  {
   "cell_type": "code",
   "execution_count": 140,
   "metadata": {},
   "outputs": [],
   "source": [
    "from tensorflow.keras.preprocessing import image_dataset_from_directory\n",
    "import numpy as np\n",
    "import pandas as pd\n",
    "import matplotlib.pyplot as plt"
   ]
  },
  {
   "cell_type": "code",
   "execution_count": 141,
   "metadata": {},
   "outputs": [],
   "source": [
    "directory = 'data/sat_images/wild_est/'"
   ]
  },
  {
   "cell_type": "code",
   "execution_count": 142,
   "metadata": {},
   "outputs": [],
   "source": [
    "batch_size = 32\n",
    "img_size = 256"
   ]
  },
  {
   "cell_type": "code",
   "execution_count": 164,
   "metadata": {},
   "outputs": [
    {
     "name": "stdout",
     "output_type": "stream",
     "text": [
      "Found 16232 files belonging to 2 classes.\n",
      "Using 12986 files for training.\n"
     ]
    }
   ],
   "source": [
    "X_train = image_dataset_from_directory(\n",
    "    directory, labels='inferred', class_names=None, # maybe need: label_mode='binary' and rename directories to 0 1\n",
    "    color_mode='rgb', batch_size=12986, image_size=(img_size, img_size), shuffle=True, seed=42,\n",
    "    validation_split=0.2, subset='training', interpolation='bilinear', follow_links=True\n",
    ")\n",
    "# this batch size is how it divides the data in the epochs below"
   ]
  },
  {
   "cell_type": "code",
   "execution_count": 168,
   "metadata": {},
   "outputs": [
    {
     "ename": "TypeError",
     "evalue": "'BatchDataset' object is not subscriptable",
     "output_type": "error",
     "traceback": [
      "\u001b[0;31m---------------------------------------------------------------------------\u001b[0m",
      "\u001b[0;31mTypeError\u001b[0m                                 Traceback (most recent call last)",
      "\u001b[0;32m<ipython-input-168-691b4934c597>\u001b[0m in \u001b[0;36m<module>\u001b[0;34m\u001b[0m\n\u001b[0;32m----> 1\u001b[0;31m \u001b[0mX_train\u001b[0m\u001b[0;34m[\u001b[0m\u001b[0;36m0\u001b[0m\u001b[0;34m]\u001b[0m\u001b[0;34m\u001b[0m\u001b[0;34m\u001b[0m\u001b[0m\n\u001b[0m",
      "\u001b[0;31mTypeError\u001b[0m: 'BatchDataset' object is not subscriptable"
     ]
    }
   ],
   "source": [
    "X_train[0]"
   ]
  },
  {
   "cell_type": "code",
   "execution_count": 144,
   "metadata": {
    "scrolled": true
   },
   "outputs": [
    {
     "name": "stdout",
     "output_type": "stream",
     "text": [
      "Found 16232 files belonging to 2 classes.\n",
      "Using 3246 files for validation.\n"
     ]
    }
   ],
   "source": [
    "X_test = image_dataset_from_directory(\n",
    "    directory, labels='inferred', class_names=None, # # maybe need: label_mode='binary' and rename directories to 0 1\n",
    "    color_mode='rgb', batch_size=batch_size, image_size=(img_size, img_size), shuffle=True, seed=42,\n",
    "    validation_split=0.2, subset='validation', interpolation='bilinear', follow_links=True\n",
    ")"
   ]
  },
  {
   "cell_type": "code",
   "execution_count": null,
   "metadata": {},
   "outputs": [],
   "source": [
    "# batch it after transformation with:\n",
    "#batched_dataset = X_train.batch(32)"
   ]
  },
  {
   "cell_type": "code",
   "execution_count": 167,
   "metadata": {},
   "outputs": [
    {
     "data": {
      "text/plain": [
       "tensorflow.python.data.ops.dataset_ops.BatchDataset"
      ]
     },
     "execution_count": 167,
     "metadata": {},
     "output_type": "execute_result"
    }
   ],
   "source": [
    "type(X_train)"
   ]
  },
  {
   "cell_type": "code",
   "execution_count": 148,
   "metadata": {},
   "outputs": [],
   "source": [
    "# from tensorflow.data.experimental import save\n",
    "\n",
    "# # dataset = make_dataset()\n",
    "# # def custom_shard_func(element):\n",
    "# #   return 0\n",
    "# # dataset = tf.data.experimental.save(\n",
    "# #     path=\"/path/to/data\", ..., shard_func=custom_shard_func)\n",
    "\n",
    "# save(X_train, 'data/X_train', compression='GZIP', shard_func=None)"
   ]
  },
  {
   "cell_type": "code",
   "execution_count": 149,
   "metadata": {},
   "outputs": [],
   "source": [
    "# save(X_test, 'data/X_test', compression='GZIP', shard_func=None)"
   ]
  },
  {
   "cell_type": "code",
   "execution_count": 152,
   "metadata": {},
   "outputs": [],
   "source": [
    "# also need to specify this when loading:\n",
    "thespec = X_train.element_spec"
   ]
  },
  {
   "cell_type": "code",
   "execution_count": 153,
   "metadata": {},
   "outputs": [
    {
     "data": {
      "text/plain": [
       "tuple"
      ]
     },
     "execution_count": 153,
     "metadata": {},
     "output_type": "execute_result"
    }
   ],
   "source": [
    "type(thespec)"
   ]
  },
  {
   "cell_type": "code",
   "execution_count": 156,
   "metadata": {},
   "outputs": [],
   "source": [
    "blah = thespec[0]"
   ]
  },
  {
   "cell_type": "code",
   "execution_count": 157,
   "metadata": {},
   "outputs": [
    {
     "data": {
      "text/plain": [
       "tensorflow.python.framework.tensor_spec.TensorSpec"
      ]
     },
     "execution_count": 157,
     "metadata": {},
     "output_type": "execute_result"
    }
   ],
   "source": [
    "type(blah)"
   ]
  },
  {
   "cell_type": "code",
   "execution_count": 160,
   "metadata": {},
   "outputs": [
    {
     "data": {
      "text/plain": [
       "True"
      ]
     },
     "execution_count": 160,
     "metadata": {},
     "output_type": "execute_result"
    }
   ],
   "source": [
    "X_train.element_spec == X_test.element_spec"
   ]
  },
  {
   "cell_type": "code",
   "execution_count": 151,
   "metadata": {},
   "outputs": [
    {
     "data": {
      "text/plain": [
       "(TensorSpec(shape=(None, 256, 256, 3), dtype=tf.float32, name=None),\n",
       " TensorSpec(shape=(None,), dtype=tf.int32, name=None))"
      ]
     },
     "execution_count": 151,
     "metadata": {},
     "output_type": "execute_result"
    }
   ],
   "source": [
    "X_test.element_spec"
   ]
  },
  {
   "cell_type": "code",
   "execution_count": 106,
   "metadata": {},
   "outputs": [],
   "source": [
    "# try sobel?\n",
    "from tensorflow.image import sobel_edges\n",
    "from tensorflow import clip_by_value"
   ]
  },
  {
   "cell_type": "code",
   "execution_count": 169,
   "metadata": {},
   "outputs": [
    {
     "data": {
      "text/plain": [
       "['Established Campground', 'Wild Camping']"
      ]
     },
     "execution_count": 169,
     "metadata": {},
     "output_type": "execute_result"
    }
   ],
   "source": [
    "X_train.class_names"
   ]
  },
  {
   "cell_type": "code",
   "execution_count": 6,
   "metadata": {},
   "outputs": [
    {
     "data": {
      "text/plain": [
       "['Established Campground', 'Wild Camping']"
      ]
     },
     "execution_count": 6,
     "metadata": {},
     "output_type": "execute_result"
    }
   ],
   "source": [
    "X_test.class_names"
   ]
  },
  {
   "cell_type": "code",
   "execution_count": 170,
   "metadata": {},
   "outputs": [],
   "source": [
    "image_batch, labels_batch = next(iter(X_train))"
   ]
  },
  {
   "cell_type": "code",
   "execution_count": 171,
   "metadata": {},
   "outputs": [
    {
     "data": {
      "text/plain": [
       "<tf.Tensor: shape=(12986, 256, 256, 3), dtype=float32, numpy=\n",
       "array([[[[ 45.46698 ,  57.46698 ,  46.201355],\n",
       "         [ 30.548416,  43.99852 ,  34.098755],\n",
       "         [ 38.068863,  45.938828,  38.330017],\n",
       "         ...,\n",
       "         [ 73.23212 ,  84.31189 ,  76.29683 ],\n",
       "         [137.07039 , 146.15286 , 138.05174 ],\n",
       "         [108.17207 , 119.655   , 111.655   ]],\n",
       "\n",
       "        [[ 33.6073  ,  45.6073  ,  36.14032 ],\n",
       "         [ 50.161865,  62.409286,  52.948425],\n",
       "         [ 38.0943  ,  44.8098  ,  40.2641  ],\n",
       "         ...,\n",
       "         [ 56.109375,  66.30417 ,  58.131775],\n",
       "         [122.03993 , 132.59071 , 123.68063 ],\n",
       "         [115.936844, 126.42291 , 119.87302 ]],\n",
       "\n",
       "        [[ 21.787842,  33.78784 ,  22.7901  ],\n",
       "         [ 28.9729  ,  38.9505  ,  30.769775],\n",
       "         [ 45.590332,  53.61725 ,  45.89154 ],\n",
       "         ...,\n",
       "         [ 73.25354 ,  85.24681 ,  73.85596 ],\n",
       "         [120.1911  , 130.90881 , 122.81012 ],\n",
       "         [150.2901  , 160.08472 , 156.04787 ]],\n",
       "\n",
       "        ...,\n",
       "\n",
       "        [[ 19.824738,  31.632156,  24.060242],\n",
       "         [ 15.690231,  26.040756,  19.921875],\n",
       "         [ 19.096375,  31.939041,  23.069458],\n",
       "         ...,\n",
       "         [ 90.55292 , 102.55292 ,  90.55292 ],\n",
       "         [ 80.426575,  92.426575,  80.426575],\n",
       "         [ 75.163025,  87.163025,  75.163025]],\n",
       "\n",
       "        [[ 20.247864,  28.652344,  24.734375],\n",
       "         [ 22.604065,  33.796875,  23.59375 ],\n",
       "         [ 16.328125,  28.328125,  20.      ],\n",
       "         ...,\n",
       "         [ 67.58165 ,  79.6922  ,  67.6922  ],\n",
       "         [ 52.28868 ,  65.030945,  53.030945],\n",
       "         [ 68.730835,  80.730835,  68.730835]],\n",
       "\n",
       "        [[ 32.448776,  41.115295,  37.197327],\n",
       "         [ 30.242996,  41.795105,  31.59198 ],\n",
       "         [ 29.403381,  43.8526  ,  32.526733],\n",
       "         ...,\n",
       "         [ 63.695786,  75.74097 ,  63.740967],\n",
       "         [ 47.28862 ,  59.59198 ,  47.59198 ],\n",
       "         [ 77.66028 ,  89.66028 ,  77.66028 ]]],\n",
       "\n",
       "\n",
       "       [[[165.53125 , 162.1308  , 150.1308  ],\n",
       "         [173.93396 , 170.33844 , 158.33844 ],\n",
       "         [163.12952 , 162.86163 , 150.86163 ],\n",
       "         ...,\n",
       "         [185.99774 , 185.99774 , 173.99774 ],\n",
       "         [180.87323 , 180.87323 , 168.17659 ],\n",
       "         [178.86517 , 178.86517 , 165.76405 ]],\n",
       "\n",
       "        [[124.50833 , 124.17844 , 112.4818  ],\n",
       "         [145.66292 , 144.85573 , 133.59799 ],\n",
       "         [156.94427 , 156.94427 , 146.96667 ],\n",
       "         ...,\n",
       "         [185.20312 , 185.20312 , 173.20312 ],\n",
       "         [181.60938 , 180.61969 , 167.8125  ],\n",
       "         [180.46875 , 180.06427 , 167.36763 ]],\n",
       "\n",
       "        [[ 84.75278 ,  84.75278 ,  73.71593 ],\n",
       "         [117.4366  , 119.459   , 110.00432 ],\n",
       "         [154.09637 , 156.92558 , 152.26933 ],\n",
       "         ...,\n",
       "         [166.17358 , 166.17358 , 154.09828 ],\n",
       "         [177.71198 , 177.56458 , 165.05898 ],\n",
       "         [148.61633 , 148.55609 , 138.05496 ]],\n",
       "\n",
       "        ...,\n",
       "\n",
       "        [[ 56.848694,  57.31749 ,  39.10608 ],\n",
       "         [ 65.31627 ,  65.31627 ,  50.451813],\n",
       "         [ 95.42972 ,  95.42972 ,  84.889145],\n",
       "         ...,\n",
       "         [161.51733 , 161.51733 , 149.81854 ],\n",
       "         [167.96875 , 167.96875 , 158.13855 ],\n",
       "         [137.33228 , 137.33228 , 126.95836 ]],\n",
       "\n",
       "        [[ 47.113205,  48.793854,  36.61203 ],\n",
       "         [ 60.111496,  59.12181 ,  43.775482],\n",
       "         [ 86.89281 ,  86.74541 ,  75.422745],\n",
       "         ...,\n",
       "         [157.4646  , 157.4646  , 145.612   ],\n",
       "         [160.26001 , 160.26001 , 150.23938 ],\n",
       "         [ 88.074005,  88.074005,  75.82791 ]],\n",
       "\n",
       "        [[ 54.201355,  53.601807,  34.201355],\n",
       "         [ 54.78656 ,  54.38208 ,  34.78656 ],\n",
       "         [ 97.69084 ,  97.6306  ,  85.37166 ],\n",
       "         ...,\n",
       "         [115.90022 , 115.90022 , 106.476654],\n",
       "         [151.91951 , 151.91951 , 145.42334 ],\n",
       "         [112.565125, 112.565125, 104.13052 ]]],\n",
       "\n",
       "\n",
       "       [[[163.6209  , 162.95438 , 161.72157 ],\n",
       "         [127.82422 , 129.03766 , 127.33247 ],\n",
       "         [ 45.65663 ,  45.837357,  39.552246],\n",
       "         ...,\n",
       "         [ 87.72609 ,  87.72609 ,  82.76294 ],\n",
       "         [ 92.041275,  92.041275,  87.64888 ],\n",
       "         [ 91.91797 ,  89.91841 ,  86.33618 ]],\n",
       "\n",
       "        [[173.      , 173.      , 172.      ],\n",
       "         [149.86719 , 156.47656 , 153.82422 ],\n",
       "         [ 53.026443,  54.01082 ,  46.751312],\n",
       "         ...,\n",
       "         [ 93.3824  ,  93.3824  ,  90.46796 ],\n",
       "         [107.334045, 105.354675,  98.45662 ],\n",
       "         [112.55719 , 111.74823 ,  95.74823 ]],\n",
       "\n",
       "        [[171.65173 , 171.4832  , 170.65173 ],\n",
       "         [159.20824 , 159.33804 , 159.62607 ],\n",
       "         [113.37572 , 113.45647 , 112.902435],\n",
       "         ...,\n",
       "         [ 77.98132 ,  77.98132 ,  66.872375],\n",
       "         [111.3349  , 111.0401  ,  93.685425],\n",
       "         [123.05798 , 122.9375  ,  91.12726 ]],\n",
       "\n",
       "        ...,\n",
       "\n",
       "        [[198.30469 , 197.22713 , 203.36107 ],\n",
       "         [208.4655  , 208.27292 , 211.97943 ],\n",
       "         [180.96786 , 180.96114 , 177.66577 ],\n",
       "         ...,\n",
       "         [120.966125, 118.53667 , 119.05121 ],\n",
       "         [112.07483 , 105.916504, 100.15648 ],\n",
       "         [ 65.77258 ,  63.835037,  55.31433 ]],\n",
       "\n",
       "        [[178.5     , 175.96698 , 187.79893 ],\n",
       "         [190.09155 , 187.99132 , 192.82217 ],\n",
       "         [178.37303 , 177.50311 , 175.19362 ],\n",
       "         ...,\n",
       "         [ 74.1427  ,  65.09856 ,  63.422775],\n",
       "         [100.236755,  93.002686,  85.09659 ],\n",
       "         [157.9198  , 147.4355  , 135.27954 ]],\n",
       "\n",
       "        [[175.29712 , 175.0124  , 183.99464 ],\n",
       "         [175.68219 , 171.38826 , 175.68985 ],\n",
       "         [168.10773 , 164.23715 , 160.50217 ],\n",
       "         ...,\n",
       "         [ 79.54767 ,  78.84337 ,  72.45053 ],\n",
       "         [104.546906,  97.355865,  88.797195],\n",
       "         [108.09668 , 104.22974 ,  87.96185 ]]],\n",
       "\n",
       "\n",
       "       ...,\n",
       "\n",
       "\n",
       "       [[[ 99.902466,  97.902466,  79.467865],\n",
       "         [ 92.75812 ,  88.18692 ,  70.55411 ],\n",
       "         [120.12613 , 110.70256 ,  90.22101 ],\n",
       "         ...,\n",
       "         [121.41138 , 109.288025,  92.28577 ],\n",
       "         [122.01555 , 108.732605,  90.199585],\n",
       "         [114.88156 , 100.16672 ,  83.73212 ]],\n",
       "\n",
       "        [[114.87338 , 111.03833 ,  89.97406 ],\n",
       "         [ 86.634445,  81.138275,  61.64476 ],\n",
       "         [105.14923 ,  95.54494 ,  75.17488 ],\n",
       "         ...,\n",
       "         [128.9784  , 117.687775,  98.8797  ],\n",
       "         [107.52446 ,  96.12985 ,  78.33298 ],\n",
       "         [104.554245,  92.6163  ,  75.55292 ]],\n",
       "\n",
       "        [[ 92.4039  ,  95.485886,  72.3542  ],\n",
       "         [ 43.33542 ,  38.002213,  20.160156],\n",
       "         [ 70.89867 ,  62.905396,  43.15149 ],\n",
       "         ...,\n",
       "         [129.20293 , 119.34007 , 101.127625],\n",
       "         [ 84.30119 ,  76.27489 ,  57.33452 ],\n",
       "         [ 61.629517,  53.973267,  36.305862]],\n",
       "\n",
       "        ...,\n",
       "\n",
       "        [[126.06142 , 110.56702 ,  90.56702 ],\n",
       "         [124.762344, 110.180176,  90.180176],\n",
       "         [ 96.48064 ,  77.36279 ,  57.362793],\n",
       "         ...,\n",
       "         [ 92.972855,  96.877365,  73.36955 ],\n",
       "         [ 62.26645 ,  62.724   ,  44.724   ],\n",
       "         [ 56.92578 ,  51.37947 ,  33.37947 ]],\n",
       "\n",
       "        [[115.34021 ,  99.34021 ,  79.34021 ],\n",
       "         [121.48453 , 108.42992 ,  88.182495],\n",
       "         [135.75806 , 121.71353 , 102.50142 ],\n",
       "         ...,\n",
       "         [ 79.69832 ,  86.35353 ,  62.66147 ],\n",
       "         [ 65.41228 ,  66.95274 ,  47.312042],\n",
       "         [ 84.54083 ,  80.65971 ,  62.494766]],\n",
       "\n",
       "        [[128.24698 , 113.796875,  93.796875],\n",
       "         [124.022766, 110.778   ,  90.67688 ],\n",
       "         [132.35551 , 120.67691 , 100.99892 ],\n",
       "         ...,\n",
       "         [ 81.66867 ,  88.63855 ,  64.65361 ],\n",
       "         [ 84.2307  ,  89.71765 ,  66.88216 ],\n",
       "         [ 91.851   ,  92.96718 ,  73.6337  ]]],\n",
       "\n",
       "\n",
       "       [[[163.44205 , 143.10901 , 127.76047 ],\n",
       "         [162.99625 , 146.6295  , 129.22546 ],\n",
       "         [165.83598 , 150.11667 , 132.4688  ],\n",
       "         ...,\n",
       "         [141.41402 , 122.78346 , 106.74214 ],\n",
       "         [149.89622 , 134.6931  , 121.46344 ],\n",
       "         [144.49976 , 133.99774 , 117.6647  ]],\n",
       "\n",
       "        [[151.10612 , 131.676   , 118.2724  ],\n",
       "         [137.93109 , 120.22414 , 104.72797 ],\n",
       "         [140.44818 , 121.53021 , 107.47058 ],\n",
       "         ...,\n",
       "         [136.62227 , 118.17018 , 101.95039 ],\n",
       "         [146.01031 , 129.26805 , 115.010315],\n",
       "         [147.8164  , 137.53125 , 119.265625]],\n",
       "\n",
       "        [[136.83885 , 119.13907 , 102.84111 ],\n",
       "         [145.57643 , 129.99167 , 114.395706],\n",
       "         [139.2541  , 123.93271 , 108.22719 ],\n",
       "         ...,\n",
       "         [143.32812 , 124.27301 , 111.72571 ],\n",
       "         [149.84714 , 132.64948 , 117.649475],\n",
       "         [148.90291 , 135.20764 , 119.93976 ]],\n",
       "\n",
       "        ...,\n",
       "\n",
       "        [[183.52673 , 155.39279 , 139.57639 ],\n",
       "         [171.36145 , 143.54218 , 128.31627 ],\n",
       "         [179.31555 , 155.93231 , 139.9807  ],\n",
       "         ...,\n",
       "         [141.63133 , 131.28975 , 108.33685 ],\n",
       "         [166.4216  , 152.444   , 132.9048  ],\n",
       "         [206.29443 , 190.29443 , 174.29443 ]],\n",
       "\n",
       "        [[168.91187 , 142.54291 , 125.94739 ],\n",
       "         [183.89578 , 160.88547 , 143.11226 ],\n",
       "         [177.28232 , 154.49509 , 137.902   ],\n",
       "         ...,\n",
       "         [170.4075  , 156.4299  , 136.8907  ],\n",
       "         [190.20547 , 171.7839  , 154.16953 ],\n",
       "         [198.55823 , 177.1676  , 160.50781 ]],\n",
       "\n",
       "        [[161.67635 , 139.30916 , 123.757935],\n",
       "         [194.30469 , 174.71094 , 156.91406 ],\n",
       "         [174.05078 , 151.625   , 134.70703 ],\n",
       "         ...,\n",
       "         [207.59874 , 185.81693 , 169.54904 ],\n",
       "         [194.24234 , 169.25443 , 150.79599 ],\n",
       "         [207.9344  , 183.267   , 166.99734 ]]],\n",
       "\n",
       "\n",
       "       [[[ 78.26337 ,  94.80267 ,  60.736145],\n",
       "         [ 95.522705, 114.460205,  88.991455],\n",
       "         [ 92.3974  , 114.33264 ,  88.86389 ],\n",
       "         ...,\n",
       "         [111.56142 , 113.56593 ,  97.56593 ],\n",
       "         [113.63982 , 117.71617 , 101.71617 ],\n",
       "         [111.59375 , 110.859375,  94.859375]],\n",
       "\n",
       "        [[ 67.464325,  89.089035,  58.33078 ],\n",
       "         [ 71.72891 ,  97.8618  ,  69.30203 ],\n",
       "         [ 74.203125,  97.57135 ,  63.729675],\n",
       "         ...,\n",
       "         [104.32031 , 107.91406 ,  91.91406 ],\n",
       "         [102.497116, 103.6693  ,  88.9064  ],\n",
       "         [100.26172 ,  97.11586 ,  81.62146 ]],\n",
       "\n",
       "        [[ 64.099304,  87.91571 ,  60.83368 ],\n",
       "         [ 66.45181 ,  89.31627 ,  66.09036 ],\n",
       "         [ 61.764313,  85.05968 ,  56.83377 ],\n",
       "         ...,\n",
       "         [129.24242 , 128.94121 , 110.41321 ],\n",
       "         [123.0121  , 119.340225, 103.524475],\n",
       "         [122.60547 , 118.73268 , 102.80798 ]],\n",
       "\n",
       "        ...,\n",
       "\n",
       "        [[ 60.61267 ,  72.82031 ,  64.180725],\n",
       "         [ 59.126038,  73.18176 ,  62.78125 ],\n",
       "         [ 43.46678 ,  55.418396,  47.50171 ],\n",
       "         ...,\n",
       "         [ 82.61371 ,  91.71097 ,  73.874146],\n",
       "         [ 84.18346 ,  82.89543 ,  71.72044 ],\n",
       "         [111.81966 , 111.14552 ,  95.220825]],\n",
       "\n",
       "        [[ 58.723022,  73.91406 ,  59.822815],\n",
       "         [ 66.27905 ,  78.56773 ,  67.46921 ],\n",
       "         [ 66.79335 ,  77.985   ,  68.47995 ],\n",
       "         ...,\n",
       "         [107.39574 , 106.38779 ,  92.65054 ],\n",
       "         [113.08765 , 115.69702 , 102.28311 ],\n",
       "         [ 87.87709 ,  88.64743 ,  76.453735]],\n",
       "\n",
       "        [[ 29.605347,  48.271423,  33.605347],\n",
       "         [ 43.75    ,  59.04216 ,  47.54776 ],\n",
       "         [ 57.27005 ,  73.16463 ,  60.22873 ],\n",
       "         ...,\n",
       "         [126.87317 , 127.201294, 110.04175 ],\n",
       "         [124.37073 , 126.24396 , 111.8963  ],\n",
       "         [ 43.55847 ,  41.20723 ,  34.554443]]]], dtype=float32)>"
      ]
     },
     "execution_count": 171,
     "metadata": {},
     "output_type": "execute_result"
    }
   ],
   "source": [
    "image_batch"
   ]
  },
  {
   "cell_type": "code",
   "execution_count": 172,
   "metadata": {},
   "outputs": [],
   "source": [
    "image_batch_sobeled = sobel_edges(image_batch)\n",
    "# maybe save these as images in new dir"
   ]
  },
  {
   "cell_type": "markdown",
   "metadata": {},
   "source": [
    "Tensor holding edge maps for each channel. Returns a tensor with shape [batch_size, h, w, d, 2] where the last two dimensions hold [[dy[0], dx[0]], [dy[1], dx[1]], ..., [dy[d-1], dx[d-1]]] calculated using the Sobel filter."
   ]
  },
  {
   "cell_type": "code",
   "execution_count": 107,
   "metadata": {},
   "outputs": [],
   "source": [
    "def clip_0_1(image):\n",
    "  return clip_by_value(image, clip_value_min=0.0, clip_value_max=1.0)"
   ]
  },
  {
   "cell_type": "code",
   "execution_count": 173,
   "metadata": {},
   "outputs": [
    {
     "data": {
      "text/plain": [
       "TensorShape([12986, 256, 256, 3, 2])"
      ]
     },
     "execution_count": 173,
     "metadata": {},
     "output_type": "execute_result"
    }
   ],
   "source": [
    "image_batch_sobeled.shape"
   ]
  },
  {
   "cell_type": "code",
   "execution_count": 174,
   "metadata": {},
   "outputs": [
    {
     "data": {
      "text/plain": [
       "TensorShape([256, 256, 3, 2])"
      ]
     },
     "execution_count": 174,
     "metadata": {},
     "output_type": "execute_result"
    }
   ],
   "source": [
    "image_batch_sobeled[0].shape"
   ]
  },
  {
   "cell_type": "code",
   "execution_count": 176,
   "metadata": {
    "scrolled": true
   },
   "outputs": [
    {
     "ename": "SyntaxError",
     "evalue": "invalid syntax (<ipython-input-176-edf31565689c>, line 2)",
     "output_type": "error",
     "traceback": [
      "\u001b[0;36m  File \u001b[0;32m\"<ipython-input-176-edf31565689c>\"\u001b[0;36m, line \u001b[0;32m2\u001b[0m\n\u001b[0;31m    axs[0].imshow(clip_0_1(image_batch_sobeled[0][..,0]/4+0.5))\u001b[0m\n\u001b[0m                                                  ^\u001b[0m\n\u001b[0;31mSyntaxError\u001b[0m\u001b[0;31m:\u001b[0m invalid syntax\n"
     ]
    }
   ],
   "source": [
    "fig, axs = plt.subplots(1,3, figsize=(10,10))\n",
    "axs[0].imshow(clip_0_1(image_batch_sobeled[0][...,0]/4+0.5))\n",
    "axs[1].imshow(clip_0_1(image_batch_sobeled[0][...,1]/4+0.5))\n",
    "axs[2].imshow(image_batch[0].numpy().astype(\"uint8\"))\n",
    "axs[0].set_title('horizontal edges')\n",
    "axs[1].set_title('vertical edges')\n",
    "axs[2].set_title('original')"
   ]
  },
  {
   "cell_type": "code",
   "execution_count": 189,
   "metadata": {},
   "outputs": [
    {
     "data": {
      "text/plain": [
       "['_GeneratorState',\n",
       " '__abstractmethods__',\n",
       " '__bool__',\n",
       " '__class__',\n",
       " '__delattr__',\n",
       " '__dict__',\n",
       " '__dir__',\n",
       " '__doc__',\n",
       " '__eq__',\n",
       " '__format__',\n",
       " '__ge__',\n",
       " '__getattribute__',\n",
       " '__gt__',\n",
       " '__hash__',\n",
       " '__init__',\n",
       " '__init_subclass__',\n",
       " '__iter__',\n",
       " '__le__',\n",
       " '__len__',\n",
       " '__lt__',\n",
       " '__module__',\n",
       " '__ne__',\n",
       " '__new__',\n",
       " '__nonzero__',\n",
       " '__reduce__',\n",
       " '__reduce_ex__',\n",
       " '__repr__',\n",
       " '__setattr__',\n",
       " '__sizeof__',\n",
       " '__slots__',\n",
       " '__str__',\n",
       " '__subclasshook__',\n",
       " '__weakref__',\n",
       " '_abc_impl',\n",
       " '_add_variable_with_custom_getter',\n",
       " '_apply_options',\n",
       " '_as_serialized_graph',\n",
       " '_batch_size',\n",
       " '_checkpoint_dependencies',\n",
       " '_consumers',\n",
       " '_deferred_dependencies',\n",
       " '_drop_remainder',\n",
       " '_flat_shapes',\n",
       " '_flat_structure',\n",
       " '_flat_types',\n",
       " '_functions',\n",
       " '_gather_saveables_for_checkpoint',\n",
       " '_graph',\n",
       " '_graph_attr',\n",
       " '_handle_deferred_dependencies',\n",
       " '_has_captured_ref',\n",
       " '_input_dataset',\n",
       " '_inputs',\n",
       " '_list_extra_dependencies_for_serialization',\n",
       " '_list_functions_for_serialization',\n",
       " '_lookup_dependency',\n",
       " '_map_resources',\n",
       " '_maybe_initialize_trackable',\n",
       " '_name_based_attribute_restore',\n",
       " '_name_based_restores',\n",
       " '_no_dependency',\n",
       " '_object_identifier',\n",
       " '_options_attr',\n",
       " '_preload_simple_restoration',\n",
       " '_restore_from_checkpoint_position',\n",
       " '_self_name_based_restores',\n",
       " '_self_saveable_object_factories',\n",
       " '_self_setattr_tracking',\n",
       " '_self_unconditional_checkpoint_dependencies',\n",
       " '_self_unconditional_deferred_dependencies',\n",
       " '_self_unconditional_dependency_names',\n",
       " '_self_update_uid',\n",
       " '_setattr_tracking',\n",
       " '_shape_invariant_to_type_spec',\n",
       " '_single_restoration_from_checkpoint_position',\n",
       " '_structure',\n",
       " '_tf_api_names',\n",
       " '_tf_api_names_v1',\n",
       " '_trace_variant_creation',\n",
       " '_track_trackable',\n",
       " '_tracking_metadata',\n",
       " '_type_spec',\n",
       " '_unconditional_checkpoint_dependencies',\n",
       " '_unconditional_dependency_names',\n",
       " '_update_uid',\n",
       " '_variant_tensor',\n",
       " '_variant_tensor_attr',\n",
       " '_variant_tracker',\n",
       " 'apply',\n",
       " 'as_numpy_iterator',\n",
       " 'batch',\n",
       " 'cache',\n",
       " 'cardinality',\n",
       " 'class_names',\n",
       " 'concatenate',\n",
       " 'element_spec',\n",
       " 'enumerate',\n",
       " 'filter',\n",
       " 'flat_map',\n",
       " 'from_generator',\n",
       " 'from_tensor_slices',\n",
       " 'from_tensors',\n",
       " 'interleave',\n",
       " 'list_files',\n",
       " 'map',\n",
       " 'options',\n",
       " 'padded_batch',\n",
       " 'prefetch',\n",
       " 'range',\n",
       " 'reduce',\n",
       " 'repeat',\n",
       " 'shard',\n",
       " 'shuffle',\n",
       " 'skip',\n",
       " 'take',\n",
       " 'unbatch',\n",
       " 'window',\n",
       " 'with_options',\n",
       " 'zip']"
      ]
     },
     "execution_count": 189,
     "metadata": {},
     "output_type": "execute_result"
    }
   ],
   "source": [
    "dir(X_train)"
   ]
  },
  {
   "cell_type": "code",
   "execution_count": 191,
   "metadata": {},
   "outputs": [
    {
     "ename": "TypeError",
     "evalue": "in user code:\n\n\n    TypeError: tf__dataset_fn() takes 1 positional argument but 2 were given\n",
     "output_type": "error",
     "traceback": [
      "\u001b[0;31m---------------------------------------------------------------------------\u001b[0m",
      "\u001b[0;31mTypeError\u001b[0m                                 Traceback (most recent call last)",
      "\u001b[0;32m<ipython-input-191-5be56555b1a8>\u001b[0m in \u001b[0;36m<module>\u001b[0;34m\u001b[0m\n\u001b[1;32m     10\u001b[0m     \u001b[0;32mreturn\u001b[0m \u001b[0mgrad_components\u001b[0m\u001b[0;34m\u001b[0m\u001b[0;34m\u001b[0m\u001b[0m\n\u001b[1;32m     11\u001b[0m \u001b[0;34m\u001b[0m\u001b[0m\n\u001b[0;32m---> 12\u001b[0;31m \u001b[0mX_train\u001b[0m\u001b[0;34m.\u001b[0m\u001b[0mmap\u001b[0m\u001b[0;34m(\u001b[0m\u001b[0mdataset_fn\u001b[0m\u001b[0;34m)\u001b[0m\u001b[0;34m\u001b[0m\u001b[0;34m\u001b[0m\u001b[0m\n\u001b[0m\u001b[1;32m     13\u001b[0m \u001b[0;34m\u001b[0m\u001b[0m\n\u001b[1;32m     14\u001b[0m \u001b[0;31m# dataset = dataset.map(lambda x: x*2)\u001b[0m\u001b[0;34m\u001b[0m\u001b[0;34m\u001b[0m\u001b[0;34m\u001b[0m\u001b[0m\n",
      "\u001b[0;32m/usr/local/anaconda3/envs/tf_py377/lib/python3.7/site-packages/tensorflow/python/data/ops/dataset_ops.py\u001b[0m in \u001b[0;36mmap\u001b[0;34m(self, map_func, num_parallel_calls, deterministic)\u001b[0m\n\u001b[1;32m   1693\u001b[0m     \"\"\"\n\u001b[1;32m   1694\u001b[0m     \u001b[0;32mif\u001b[0m \u001b[0mnum_parallel_calls\u001b[0m \u001b[0;32mis\u001b[0m \u001b[0;32mNone\u001b[0m\u001b[0;34m:\u001b[0m\u001b[0;34m\u001b[0m\u001b[0;34m\u001b[0m\u001b[0m\n\u001b[0;32m-> 1695\u001b[0;31m       \u001b[0;32mreturn\u001b[0m \u001b[0mMapDataset\u001b[0m\u001b[0;34m(\u001b[0m\u001b[0mself\u001b[0m\u001b[0;34m,\u001b[0m \u001b[0mmap_func\u001b[0m\u001b[0;34m,\u001b[0m \u001b[0mpreserve_cardinality\u001b[0m\u001b[0;34m=\u001b[0m\u001b[0;32mTrue\u001b[0m\u001b[0;34m)\u001b[0m\u001b[0;34m\u001b[0m\u001b[0;34m\u001b[0m\u001b[0m\n\u001b[0m\u001b[1;32m   1696\u001b[0m     \u001b[0;32melse\u001b[0m\u001b[0;34m:\u001b[0m\u001b[0;34m\u001b[0m\u001b[0;34m\u001b[0m\u001b[0m\n\u001b[1;32m   1697\u001b[0m       return ParallelMapDataset(\n",
      "\u001b[0;32m/usr/local/anaconda3/envs/tf_py377/lib/python3.7/site-packages/tensorflow/python/data/ops/dataset_ops.py\u001b[0m in \u001b[0;36m__init__\u001b[0;34m(self, input_dataset, map_func, use_inter_op_parallelism, preserve_cardinality, use_legacy_function)\u001b[0m\n\u001b[1;32m   4043\u001b[0m         \u001b[0mself\u001b[0m\u001b[0;34m.\u001b[0m\u001b[0m_transformation_name\u001b[0m\u001b[0;34m(\u001b[0m\u001b[0;34m)\u001b[0m\u001b[0;34m,\u001b[0m\u001b[0;34m\u001b[0m\u001b[0;34m\u001b[0m\u001b[0m\n\u001b[1;32m   4044\u001b[0m         \u001b[0mdataset\u001b[0m\u001b[0;34m=\u001b[0m\u001b[0minput_dataset\u001b[0m\u001b[0;34m,\u001b[0m\u001b[0;34m\u001b[0m\u001b[0;34m\u001b[0m\u001b[0m\n\u001b[0;32m-> 4045\u001b[0;31m         use_legacy_function=use_legacy_function)\n\u001b[0m\u001b[1;32m   4046\u001b[0m     variant_tensor = gen_dataset_ops.map_dataset(\n\u001b[1;32m   4047\u001b[0m         \u001b[0minput_dataset\u001b[0m\u001b[0;34m.\u001b[0m\u001b[0m_variant_tensor\u001b[0m\u001b[0;34m,\u001b[0m  \u001b[0;31m# pylint: disable=protected-access\u001b[0m\u001b[0;34m\u001b[0m\u001b[0;34m\u001b[0m\u001b[0m\n",
      "\u001b[0;32m/usr/local/anaconda3/envs/tf_py377/lib/python3.7/site-packages/tensorflow/python/data/ops/dataset_ops.py\u001b[0m in \u001b[0;36m__init__\u001b[0;34m(self, func, transformation_name, dataset, input_classes, input_shapes, input_types, input_structure, add_to_graph, use_legacy_function, defun_kwargs)\u001b[0m\n\u001b[1;32m   3369\u001b[0m       \u001b[0;32mwith\u001b[0m \u001b[0mtracking\u001b[0m\u001b[0;34m.\u001b[0m\u001b[0mresource_tracker_scope\u001b[0m\u001b[0;34m(\u001b[0m\u001b[0mresource_tracker\u001b[0m\u001b[0;34m)\u001b[0m\u001b[0;34m:\u001b[0m\u001b[0;34m\u001b[0m\u001b[0;34m\u001b[0m\u001b[0m\n\u001b[1;32m   3370\u001b[0m         \u001b[0;31m# TODO(b/141462134): Switch to using garbage collection.\u001b[0m\u001b[0;34m\u001b[0m\u001b[0;34m\u001b[0m\u001b[0;34m\u001b[0m\u001b[0m\n\u001b[0;32m-> 3371\u001b[0;31m         \u001b[0mself\u001b[0m\u001b[0;34m.\u001b[0m\u001b[0m_function\u001b[0m \u001b[0;34m=\u001b[0m \u001b[0mwrapper_fn\u001b[0m\u001b[0;34m.\u001b[0m\u001b[0mget_concrete_function\u001b[0m\u001b[0;34m(\u001b[0m\u001b[0;34m)\u001b[0m\u001b[0;34m\u001b[0m\u001b[0;34m\u001b[0m\u001b[0m\n\u001b[0m\u001b[1;32m   3372\u001b[0m         \u001b[0;32mif\u001b[0m \u001b[0madd_to_graph\u001b[0m\u001b[0;34m:\u001b[0m\u001b[0;34m\u001b[0m\u001b[0;34m\u001b[0m\u001b[0m\n\u001b[1;32m   3373\u001b[0m           \u001b[0mself\u001b[0m\u001b[0;34m.\u001b[0m\u001b[0m_function\u001b[0m\u001b[0;34m.\u001b[0m\u001b[0madd_to_graph\u001b[0m\u001b[0;34m(\u001b[0m\u001b[0mops\u001b[0m\u001b[0;34m.\u001b[0m\u001b[0mget_default_graph\u001b[0m\u001b[0;34m(\u001b[0m\u001b[0;34m)\u001b[0m\u001b[0;34m)\u001b[0m\u001b[0;34m\u001b[0m\u001b[0;34m\u001b[0m\u001b[0m\n",
      "\u001b[0;32m/usr/local/anaconda3/envs/tf_py377/lib/python3.7/site-packages/tensorflow/python/eager/function.py\u001b[0m in \u001b[0;36mget_concrete_function\u001b[0;34m(self, *args, **kwargs)\u001b[0m\n\u001b[1;32m   2937\u001b[0m     \"\"\"\n\u001b[1;32m   2938\u001b[0m     graph_function = self._get_concrete_function_garbage_collected(\n\u001b[0;32m-> 2939\u001b[0;31m         *args, **kwargs)\n\u001b[0m\u001b[1;32m   2940\u001b[0m     \u001b[0mgraph_function\u001b[0m\u001b[0;34m.\u001b[0m\u001b[0m_garbage_collector\u001b[0m\u001b[0;34m.\u001b[0m\u001b[0mrelease\u001b[0m\u001b[0;34m(\u001b[0m\u001b[0;34m)\u001b[0m  \u001b[0;31m# pylint: disable=protected-access\u001b[0m\u001b[0;34m\u001b[0m\u001b[0;34m\u001b[0m\u001b[0m\n\u001b[1;32m   2941\u001b[0m     \u001b[0;32mreturn\u001b[0m \u001b[0mgraph_function\u001b[0m\u001b[0;34m\u001b[0m\u001b[0;34m\u001b[0m\u001b[0m\n",
      "\u001b[0;32m/usr/local/anaconda3/envs/tf_py377/lib/python3.7/site-packages/tensorflow/python/eager/function.py\u001b[0m in \u001b[0;36m_get_concrete_function_garbage_collected\u001b[0;34m(self, *args, **kwargs)\u001b[0m\n\u001b[1;32m   2904\u001b[0m       \u001b[0margs\u001b[0m\u001b[0;34m,\u001b[0m \u001b[0mkwargs\u001b[0m \u001b[0;34m=\u001b[0m \u001b[0;32mNone\u001b[0m\u001b[0;34m,\u001b[0m \u001b[0;32mNone\u001b[0m\u001b[0;34m\u001b[0m\u001b[0;34m\u001b[0m\u001b[0m\n\u001b[1;32m   2905\u001b[0m     \u001b[0;32mwith\u001b[0m \u001b[0mself\u001b[0m\u001b[0;34m.\u001b[0m\u001b[0m_lock\u001b[0m\u001b[0;34m:\u001b[0m\u001b[0;34m\u001b[0m\u001b[0;34m\u001b[0m\u001b[0m\n\u001b[0;32m-> 2906\u001b[0;31m       \u001b[0mgraph_function\u001b[0m\u001b[0;34m,\u001b[0m \u001b[0margs\u001b[0m\u001b[0;34m,\u001b[0m \u001b[0mkwargs\u001b[0m \u001b[0;34m=\u001b[0m \u001b[0mself\u001b[0m\u001b[0;34m.\u001b[0m\u001b[0m_maybe_define_function\u001b[0m\u001b[0;34m(\u001b[0m\u001b[0margs\u001b[0m\u001b[0;34m,\u001b[0m \u001b[0mkwargs\u001b[0m\u001b[0;34m)\u001b[0m\u001b[0;34m\u001b[0m\u001b[0;34m\u001b[0m\u001b[0m\n\u001b[0m\u001b[1;32m   2907\u001b[0m       \u001b[0mseen_names\u001b[0m \u001b[0;34m=\u001b[0m \u001b[0mset\u001b[0m\u001b[0;34m(\u001b[0m\u001b[0;34m)\u001b[0m\u001b[0;34m\u001b[0m\u001b[0;34m\u001b[0m\u001b[0m\n\u001b[1;32m   2908\u001b[0m       captured = object_identity.ObjectIdentitySet(\n",
      "\u001b[0;32m/usr/local/anaconda3/envs/tf_py377/lib/python3.7/site-packages/tensorflow/python/eager/function.py\u001b[0m in \u001b[0;36m_maybe_define_function\u001b[0;34m(self, args, kwargs)\u001b[0m\n\u001b[1;32m   3211\u001b[0m \u001b[0;34m\u001b[0m\u001b[0m\n\u001b[1;32m   3212\u001b[0m       \u001b[0mself\u001b[0m\u001b[0;34m.\u001b[0m\u001b[0m_function_cache\u001b[0m\u001b[0;34m.\u001b[0m\u001b[0mmissed\u001b[0m\u001b[0;34m.\u001b[0m\u001b[0madd\u001b[0m\u001b[0;34m(\u001b[0m\u001b[0mcall_context_key\u001b[0m\u001b[0;34m)\u001b[0m\u001b[0;34m\u001b[0m\u001b[0;34m\u001b[0m\u001b[0m\n\u001b[0;32m-> 3213\u001b[0;31m       \u001b[0mgraph_function\u001b[0m \u001b[0;34m=\u001b[0m \u001b[0mself\u001b[0m\u001b[0;34m.\u001b[0m\u001b[0m_create_graph_function\u001b[0m\u001b[0;34m(\u001b[0m\u001b[0margs\u001b[0m\u001b[0;34m,\u001b[0m \u001b[0mkwargs\u001b[0m\u001b[0;34m)\u001b[0m\u001b[0;34m\u001b[0m\u001b[0;34m\u001b[0m\u001b[0m\n\u001b[0m\u001b[1;32m   3214\u001b[0m       \u001b[0mself\u001b[0m\u001b[0;34m.\u001b[0m\u001b[0m_function_cache\u001b[0m\u001b[0;34m.\u001b[0m\u001b[0mprimary\u001b[0m\u001b[0;34m[\u001b[0m\u001b[0mcache_key\u001b[0m\u001b[0;34m]\u001b[0m \u001b[0;34m=\u001b[0m \u001b[0mgraph_function\u001b[0m\u001b[0;34m\u001b[0m\u001b[0;34m\u001b[0m\u001b[0m\n\u001b[1;32m   3215\u001b[0m       \u001b[0;32mreturn\u001b[0m \u001b[0mgraph_function\u001b[0m\u001b[0;34m,\u001b[0m \u001b[0margs\u001b[0m\u001b[0;34m,\u001b[0m \u001b[0mkwargs\u001b[0m\u001b[0;34m\u001b[0m\u001b[0;34m\u001b[0m\u001b[0m\n",
      "\u001b[0;32m/usr/local/anaconda3/envs/tf_py377/lib/python3.7/site-packages/tensorflow/python/eager/function.py\u001b[0m in \u001b[0;36m_create_graph_function\u001b[0;34m(self, args, kwargs, override_flat_arg_shapes)\u001b[0m\n\u001b[1;32m   3073\u001b[0m             \u001b[0marg_names\u001b[0m\u001b[0;34m=\u001b[0m\u001b[0marg_names\u001b[0m\u001b[0;34m,\u001b[0m\u001b[0;34m\u001b[0m\u001b[0;34m\u001b[0m\u001b[0m\n\u001b[1;32m   3074\u001b[0m             \u001b[0moverride_flat_arg_shapes\u001b[0m\u001b[0;34m=\u001b[0m\u001b[0moverride_flat_arg_shapes\u001b[0m\u001b[0;34m,\u001b[0m\u001b[0;34m\u001b[0m\u001b[0;34m\u001b[0m\u001b[0m\n\u001b[0;32m-> 3075\u001b[0;31m             capture_by_value=self._capture_by_value),\n\u001b[0m\u001b[1;32m   3076\u001b[0m         \u001b[0mself\u001b[0m\u001b[0;34m.\u001b[0m\u001b[0m_function_attributes\u001b[0m\u001b[0;34m,\u001b[0m\u001b[0;34m\u001b[0m\u001b[0;34m\u001b[0m\u001b[0m\n\u001b[1;32m   3077\u001b[0m         \u001b[0mfunction_spec\u001b[0m\u001b[0;34m=\u001b[0m\u001b[0mself\u001b[0m\u001b[0;34m.\u001b[0m\u001b[0mfunction_spec\u001b[0m\u001b[0;34m,\u001b[0m\u001b[0;34m\u001b[0m\u001b[0;34m\u001b[0m\u001b[0m\n",
      "\u001b[0;32m/usr/local/anaconda3/envs/tf_py377/lib/python3.7/site-packages/tensorflow/python/framework/func_graph.py\u001b[0m in \u001b[0;36mfunc_graph_from_py_func\u001b[0;34m(name, python_func, args, kwargs, signature, func_graph, autograph, autograph_options, add_control_dependencies, arg_names, op_return_value, collections, capture_by_value, override_flat_arg_shapes)\u001b[0m\n\u001b[1;32m    984\u001b[0m         \u001b[0m_\u001b[0m\u001b[0;34m,\u001b[0m \u001b[0moriginal_func\u001b[0m \u001b[0;34m=\u001b[0m \u001b[0mtf_decorator\u001b[0m\u001b[0;34m.\u001b[0m\u001b[0munwrap\u001b[0m\u001b[0;34m(\u001b[0m\u001b[0mpython_func\u001b[0m\u001b[0;34m)\u001b[0m\u001b[0;34m\u001b[0m\u001b[0;34m\u001b[0m\u001b[0m\n\u001b[1;32m    985\u001b[0m \u001b[0;34m\u001b[0m\u001b[0m\n\u001b[0;32m--> 986\u001b[0;31m       \u001b[0mfunc_outputs\u001b[0m \u001b[0;34m=\u001b[0m \u001b[0mpython_func\u001b[0m\u001b[0;34m(\u001b[0m\u001b[0;34m*\u001b[0m\u001b[0mfunc_args\u001b[0m\u001b[0;34m,\u001b[0m \u001b[0;34m**\u001b[0m\u001b[0mfunc_kwargs\u001b[0m\u001b[0;34m)\u001b[0m\u001b[0;34m\u001b[0m\u001b[0;34m\u001b[0m\u001b[0m\n\u001b[0m\u001b[1;32m    987\u001b[0m \u001b[0;34m\u001b[0m\u001b[0m\n\u001b[1;32m    988\u001b[0m       \u001b[0;31m# invariant: `func_outputs` contains only Tensors, CompositeTensors,\u001b[0m\u001b[0;34m\u001b[0m\u001b[0;34m\u001b[0m\u001b[0;34m\u001b[0m\u001b[0m\n",
      "\u001b[0;32m/usr/local/anaconda3/envs/tf_py377/lib/python3.7/site-packages/tensorflow/python/data/ops/dataset_ops.py\u001b[0m in \u001b[0;36mwrapper_fn\u001b[0;34m(*args)\u001b[0m\n\u001b[1;32m   3362\u001b[0m           attributes=defun_kwargs)\n\u001b[1;32m   3363\u001b[0m       \u001b[0;32mdef\u001b[0m \u001b[0mwrapper_fn\u001b[0m\u001b[0;34m(\u001b[0m\u001b[0;34m*\u001b[0m\u001b[0margs\u001b[0m\u001b[0;34m)\u001b[0m\u001b[0;34m:\u001b[0m  \u001b[0;31m# pylint: disable=missing-docstring\u001b[0m\u001b[0;34m\u001b[0m\u001b[0;34m\u001b[0m\u001b[0m\n\u001b[0;32m-> 3364\u001b[0;31m         \u001b[0mret\u001b[0m \u001b[0;34m=\u001b[0m \u001b[0m_wrapper_helper\u001b[0m\u001b[0;34m(\u001b[0m\u001b[0;34m*\u001b[0m\u001b[0margs\u001b[0m\u001b[0;34m)\u001b[0m\u001b[0;34m\u001b[0m\u001b[0;34m\u001b[0m\u001b[0m\n\u001b[0m\u001b[1;32m   3365\u001b[0m         \u001b[0mret\u001b[0m \u001b[0;34m=\u001b[0m \u001b[0mstructure\u001b[0m\u001b[0;34m.\u001b[0m\u001b[0mto_tensor_list\u001b[0m\u001b[0;34m(\u001b[0m\u001b[0mself\u001b[0m\u001b[0;34m.\u001b[0m\u001b[0m_output_structure\u001b[0m\u001b[0;34m,\u001b[0m \u001b[0mret\u001b[0m\u001b[0;34m)\u001b[0m\u001b[0;34m\u001b[0m\u001b[0;34m\u001b[0m\u001b[0m\n\u001b[1;32m   3366\u001b[0m         \u001b[0;32mreturn\u001b[0m \u001b[0;34m[\u001b[0m\u001b[0mops\u001b[0m\u001b[0;34m.\u001b[0m\u001b[0mconvert_to_tensor\u001b[0m\u001b[0;34m(\u001b[0m\u001b[0mt\u001b[0m\u001b[0;34m)\u001b[0m \u001b[0;32mfor\u001b[0m \u001b[0mt\u001b[0m \u001b[0;32min\u001b[0m \u001b[0mret\u001b[0m\u001b[0;34m]\u001b[0m\u001b[0;34m\u001b[0m\u001b[0;34m\u001b[0m\u001b[0m\n",
      "\u001b[0;32m/usr/local/anaconda3/envs/tf_py377/lib/python3.7/site-packages/tensorflow/python/data/ops/dataset_ops.py\u001b[0m in \u001b[0;36m_wrapper_helper\u001b[0;34m(*args)\u001b[0m\n\u001b[1;32m   3297\u001b[0m         \u001b[0mnested_args\u001b[0m \u001b[0;34m=\u001b[0m \u001b[0;34m(\u001b[0m\u001b[0mnested_args\u001b[0m\u001b[0;34m,\u001b[0m\u001b[0;34m)\u001b[0m\u001b[0;34m\u001b[0m\u001b[0;34m\u001b[0m\u001b[0m\n\u001b[1;32m   3298\u001b[0m \u001b[0;34m\u001b[0m\u001b[0m\n\u001b[0;32m-> 3299\u001b[0;31m       \u001b[0mret\u001b[0m \u001b[0;34m=\u001b[0m \u001b[0mautograph\u001b[0m\u001b[0;34m.\u001b[0m\u001b[0mtf_convert\u001b[0m\u001b[0;34m(\u001b[0m\u001b[0mfunc\u001b[0m\u001b[0;34m,\u001b[0m \u001b[0mag_ctx\u001b[0m\u001b[0;34m)\u001b[0m\u001b[0;34m(\u001b[0m\u001b[0;34m*\u001b[0m\u001b[0mnested_args\u001b[0m\u001b[0;34m)\u001b[0m\u001b[0;34m\u001b[0m\u001b[0;34m\u001b[0m\u001b[0m\n\u001b[0m\u001b[1;32m   3300\u001b[0m       \u001b[0;31m# If `func` returns a list of tensors, `nest.flatten()` and\u001b[0m\u001b[0;34m\u001b[0m\u001b[0;34m\u001b[0m\u001b[0;34m\u001b[0m\u001b[0m\n\u001b[1;32m   3301\u001b[0m       \u001b[0;31m# `ops.convert_to_tensor()` would conspire to attempt to stack\u001b[0m\u001b[0;34m\u001b[0m\u001b[0;34m\u001b[0m\u001b[0;34m\u001b[0m\u001b[0m\n",
      "\u001b[0;32m/usr/local/anaconda3/envs/tf_py377/lib/python3.7/site-packages/tensorflow/python/autograph/impl/api.py\u001b[0m in \u001b[0;36mwrapper\u001b[0;34m(*args, **kwargs)\u001b[0m\n\u001b[1;32m    256\u001b[0m       \u001b[0;32mexcept\u001b[0m \u001b[0mException\u001b[0m \u001b[0;32mas\u001b[0m \u001b[0me\u001b[0m\u001b[0;34m:\u001b[0m  \u001b[0;31m# pylint:disable=broad-except\u001b[0m\u001b[0;34m\u001b[0m\u001b[0;34m\u001b[0m\u001b[0m\n\u001b[1;32m    257\u001b[0m         \u001b[0;32mif\u001b[0m \u001b[0mhasattr\u001b[0m\u001b[0;34m(\u001b[0m\u001b[0me\u001b[0m\u001b[0;34m,\u001b[0m \u001b[0;34m'ag_error_metadata'\u001b[0m\u001b[0;34m)\u001b[0m\u001b[0;34m:\u001b[0m\u001b[0;34m\u001b[0m\u001b[0;34m\u001b[0m\u001b[0m\n\u001b[0;32m--> 258\u001b[0;31m           \u001b[0;32mraise\u001b[0m \u001b[0me\u001b[0m\u001b[0;34m.\u001b[0m\u001b[0mag_error_metadata\u001b[0m\u001b[0;34m.\u001b[0m\u001b[0mto_exception\u001b[0m\u001b[0;34m(\u001b[0m\u001b[0me\u001b[0m\u001b[0;34m)\u001b[0m\u001b[0;34m\u001b[0m\u001b[0;34m\u001b[0m\u001b[0m\n\u001b[0m\u001b[1;32m    259\u001b[0m         \u001b[0;32melse\u001b[0m\u001b[0;34m:\u001b[0m\u001b[0;34m\u001b[0m\u001b[0;34m\u001b[0m\u001b[0m\n\u001b[1;32m    260\u001b[0m           \u001b[0;32mraise\u001b[0m\u001b[0;34m\u001b[0m\u001b[0;34m\u001b[0m\u001b[0m\n",
      "\u001b[0;31mTypeError\u001b[0m: in user code:\n\n\n    TypeError: tf__dataset_fn() takes 1 positional argument but 2 were given\n"
     ]
    }
   ],
   "source": [
    "#X_train_sobel = X_train.apply(dataset_fn)\n",
    "# https://stackoverflow.com/questions/56740582/how-to-calculate-sobel-edge-detection-in-tensorflow\n",
    "\n",
    "import tensorflow\n",
    "def dataset_fn(ds):\n",
    "    grad_components = sobel_edges(ds)\n",
    "#     grad_mag_components = grad_components**2\n",
    "#     grad_mag_square = tensorflow.math.reduce_sum(grad_mag_components,axis=-1) # sum all magnitude components\n",
    "#     grad_mag_img = tensorflow.sqrt(grad_mag_square) # this is the image tensor you want\n",
    "    return grad_components\n",
    "\n",
    "X_train.map(dataset_fn)\n",
    "\n",
    "# dataset = dataset.map(lambda x: x*2)\n",
    "#list(dataset.as_numpy_iterator())"
   ]
  },
  {
   "cell_type": "code",
   "execution_count": null,
   "metadata": {},
   "outputs": [],
   "source": [
    "# then batch it:\n",
    "batched_dataset = X_train.batch(32)"
   ]
  },
  {
   "cell_type": "code",
   "execution_count": 113,
   "metadata": {},
   "outputs": [
    {
     "data": {
      "text/plain": [
       "<matplotlib.image.AxesImage at 0x7fd432988b10>"
      ]
     },
     "execution_count": 113,
     "metadata": {},
     "output_type": "execute_result"
    },
    {
     "data": {
      "image/png": "[encoded data removed]",
      "text/plain": [
       "<Figure size 432x288 with 1 Axes>"
      ]
     },
     "metadata": {
      "needs_background": "light"
     },
     "output_type": "display_data"
    }
   ],
   "source": [
    "plt.imshow(image_batch[0].numpy().astype(\"uint8\"))"
   ]
  },
  {
   "cell_type": "code",
   "execution_count": 9,
   "metadata": {},
   "outputs": [],
   "source": [
    "from tensorflow import keras\n",
    "from tensorflow.keras import layers\n",
    "from tensorflow.keras.models import Sequential\n",
    "from tensorflow import data"
   ]
  },
  {
   "cell_type": "code",
   "execution_count": null,
   "metadata": {},
   "outputs": [],
   "source": [
    "# # I don't think I need these, but just for reference:\n",
    "# from skimage.transform import resize\n",
    "# # if need to rescale\n",
    "# img_shp_desired = (100, 100, 3)\n",
    "# img_resized = resize(img_cropped_2, img_shp_desired, mode='constant')\n",
    "# plt.imshow(img_resized)\n",
    "# # if need to grayscale\n",
    "# plt.imshow(img_hsv[:,:,0], cmap='gray');"
   ]
  },
  {
   "cell_type": "code",
   "execution_count": null,
   "metadata": {},
   "outputs": [],
   "source": [
    "# https://blog.keras.io/building-powerful-image-classification-models-using-very-little-data.html"
   ]
  },
  {
   "cell_type": "code",
   "execution_count": 75,
   "metadata": {},
   "outputs": [],
   "source": [
    "# set parameters\n",
    "num_classes = 2\n",
    "epochs = 2 # number of passes through the entire train dataset before weights \"final\"\n",
    "AUTOTUNE = data.experimental.AUTOTUNE\n",
    "# X_train = X_train.cache().shuffle(1000).prefetch(buffer_size=AUTOTUNE)\n",
    "# X_test = X_test.cache().prefetch(buffer_size=AUTOTUNE)\n",
    "img_height = 256\n",
    "img_width = 256\n",
    "#input_shape = (img_rows, img_cols, 1)   # 1 channel image input (grayscale) KEEP\n",
    "nb_filters = 16    # number of convolutional filters to use summarizes more\n",
    "pool_size = (2, 2)  # pooling decreases image size, reduces computation, adds translational invariance\n",
    "kernel_size = (4, 4)  # convolutional kernel size, slides over image to learn features\n",
    "#batch_size = 1000 # number of training samples used at a time to update the weights\n",
    "# model.add(Dropout(0.5))  # zeros out some fraction of inputs (neurons), helps prevent overfitting\n",
    "\n",
    "# add callback to save weights \n",
    "# https://www.tensorflow.org/api_docs/python/tf/keras/callbacks/Callback\n",
    "# model callback\n",
    "# reduce LR on plateau\n",
    "\n",
    "# what about padding? below same uses padding if needed\n",
    "\n",
    "# '''\n",
    "# When you apply Dropout to a layer it randomly drops out (by setting the activation to zero) a \n",
    "# number of output units from the layer during the training process. Dropout takes a fractional \n",
    "# number as its input value, in the form such as 0.1, 0.2, 0.4, etc. This means dropping out 10%, \n",
    "# 20% or 40% of the output units randomly from the applied layer.\n",
    "# '''"
   ]
  },
  {
   "cell_type": "code",
   "execution_count": 81,
   "metadata": {},
   "outputs": [],
   "source": [
    "model = Sequential([\n",
    "    layers.experimental.preprocessing.Rescaling(1./255, input_shape=(256, 256, 3)),\n",
    "    layers.Conv2D(nb_filters, 3, padding='same', activation='relu'), # was 16, 32, 64\n",
    "    layers.MaxPooling2D(pool_size=pool_size),\n",
    "    layers.Conv2D(nb_filters, 3, padding='same', activation='relu'), # drop layers.. for initial testing\n",
    "    layers.MaxPooling2D(pool_size=pool_size),\n",
    "    layers.Conv2D(nb_filters, 3, padding='same', activation='relu'),\n",
    "    layers.MaxPooling2D(pool_size=pool_size),\n",
    "    # insert more layers?\n",
    "    # insert callback?\n",
    "    layers.Flatten(),\n",
    "    layers.Dense(256, activation='relu'), # activation='relu'\n",
    "    #layers.Dropout(0.3),\n",
    "    #layers.Dense(num_classes, activation='relu') # or sigmoid for binary? relu?\n",
    "    layers.Dense(1, activation='sigmoid') # or sigmoid for binary? relu?\n",
    "])"
   ]
  },
  {
   "cell_type": "code",
   "execution_count": 82,
   "metadata": {},
   "outputs": [],
   "source": [
    "model.compile(optimizer='adam',\n",
    "              loss=keras.losses.BinaryCrossentropy(from_logits=False),\n",
    "              metrics=['accuracy'])\n",
    "              # if multiclass then use this:\n",
    "              #loss = keras.losses.CategoricalCrossentropy(from_logits=True),\n",
    "#               metrics = ['accuracy'])"
   ]
  },
  {
   "cell_type": "code",
   "execution_count": 83,
   "metadata": {},
   "outputs": [
    {
     "name": "stdout",
     "output_type": "stream",
     "text": [
      "Model: \"sequential_13\"\n",
      "_________________________________________________________________\n",
      "Layer (type)                 Output Shape              Param #   \n",
      "=================================================================\n",
      "rescaling_13 (Rescaling)     (None, 256, 256, 3)       0         \n",
      "_________________________________________________________________\n",
      "conv2d_36 (Conv2D)           (None, 256, 256, 32)      896       \n",
      "_________________________________________________________________\n",
      "max_pooling2d_36 (MaxPooling (None, 128, 128, 32)      0         \n",
      "_________________________________________________________________\n",
      "conv2d_37 (Conv2D)           (None, 128, 128, 32)      9248      \n",
      "_________________________________________________________________\n",
      "max_pooling2d_37 (MaxPooling (None, 64, 64, 32)        0         \n",
      "_________________________________________________________________\n",
      "conv2d_38 (Conv2D)           (None, 64, 64, 32)        9248      \n",
      "_________________________________________________________________\n",
      "max_pooling2d_38 (MaxPooling (None, 32, 32, 32)        0         \n",
      "_________________________________________________________________\n",
      "flatten_13 (Flatten)         (None, 32768)             0         \n",
      "_________________________________________________________________\n",
      "dense_26 (Dense)             (None, 256)               8388864   \n",
      "_________________________________________________________________\n",
      "dense_27 (Dense)             (None, 1)                 257       \n",
      "=================================================================\n",
      "Total params: 8,408,513\n",
      "Trainable params: 8,408,513\n",
      "Non-trainable params: 0\n",
      "_________________________________________________________________\n"
     ]
    }
   ],
   "source": [
    "# check model\n",
    "model.summary()"
   ]
  },
  {
   "cell_type": "code",
   "execution_count": 84,
   "metadata": {},
   "outputs": [
    {
     "name": "stdout",
     "output_type": "stream",
     "text": [
      "Epoch 1/2\n",
      "406/406 [==============================] - 444s 1s/step - loss: 0.6521 - accuracy: 0.6536 - val_loss: 0.6060 - val_accuracy: 0.7144\n",
      "Epoch 2/2\n",
      "406/406 [==============================] - 495s 1s/step - loss: 0.5556 - accuracy: 0.7241 - val_loss: 0.5555 - val_accuracy: 0.7344\n"
     ]
    }
   ],
   "source": [
    "# run it\n",
    "# try more epochs (maybe 1000.. at least 100)\n",
    "history = model.fit(\n",
    "            X_train,\n",
    "            validation_data = X_test,\n",
    "            epochs = epochs,\n",
    "            #batch_size=batch_size,\n",
    "            verbose = 1\n",
    ") # weighted_metrics"
   ]
  },
  {
   "cell_type": "code",
   "execution_count": 85,
   "metadata": {
    "scrolled": true
   },
   "outputs": [
    {
     "name": "stdout",
     "output_type": "stream",
     "text": [
      "102/102 [==============================] - 51s 503ms/step - loss: 0.5555 - accuracy: 0.7344\n",
      "Test score: 0.5555156469345093\n",
      "Test accuracy: 0.734442412853241\n"
     ]
    }
   ],
   "source": [
    "score = model.evaluate(X_test, verbose=1) # diff that model.predict ? yes.. just gets scores will predict will return classes\n",
    "print('Test score:', score[0])\n",
    "print('Test accuracy:', score[1])  # this is the one we care about"
   ]
  },
  {
   "cell_type": "code",
   "execution_count": 86,
   "metadata": {},
   "outputs": [
    {
     "name": "stdout",
     "output_type": "stream",
     "text": [
      "102/102 [==============================] - 48s 472ms/step\n"
     ]
    }
   ],
   "source": [
    "predictions = model.predict(X_test, verbose=1)"
   ]
  },
  {
   "cell_type": "code",
   "execution_count": 87,
   "metadata": {},
   "outputs": [
    {
     "data": {
      "text/plain": [
       "(3246, 1)"
      ]
     },
     "execution_count": 87,
     "metadata": {},
     "output_type": "execute_result"
    }
   ],
   "source": [
    "predictions.shape"
   ]
  },
  {
   "cell_type": "code",
   "execution_count": 88,
   "metadata": {},
   "outputs": [
    {
     "data": {
      "text/plain": [
       "0.0016230643"
      ]
     },
     "execution_count": 88,
     "metadata": {},
     "output_type": "execute_result"
    }
   ],
   "source": [
    "predictions.min()"
   ]
  },
  {
   "cell_type": "code",
   "execution_count": 89,
   "metadata": {},
   "outputs": [
    {
     "data": {
      "text/plain": [
       "0.88822687"
      ]
     },
     "execution_count": 89,
     "metadata": {},
     "output_type": "execute_result"
    }
   ],
   "source": [
    "predictions.max()"
   ]
  },
  {
   "cell_type": "code",
   "execution_count": 90,
   "metadata": {},
   "outputs": [
    {
     "data": {
      "text/plain": [
       "array([[0.6722532 ],\n",
       "       [0.6050503 ],\n",
       "       [0.43888563],\n",
       "       [0.19882956],\n",
       "       [0.47917396],\n",
       "       [0.7379529 ],\n",
       "       [0.67509705],\n",
       "       [0.4247958 ],\n",
       "       [0.20129296],\n",
       "       [0.61510694],\n",
       "       [0.64871395],\n",
       "       [0.81741226],\n",
       "       [0.19250637],\n",
       "       [0.67350525],\n",
       "       [0.76219815],\n",
       "       [0.6874801 ],\n",
       "       [0.62052864],\n",
       "       [0.71057016],\n",
       "       [0.70556074],\n",
       "       [0.83287954],\n",
       "       [0.7130101 ],\n",
       "       [0.7768239 ],\n",
       "       [0.38085198],\n",
       "       [0.6777659 ],\n",
       "       [0.3881136 ],\n",
       "       [0.41484576],\n",
       "       [0.78182995],\n",
       "       [0.32505476],\n",
       "       [0.80556357],\n",
       "       [0.78794706],\n",
       "       [0.55810106],\n",
       "       [0.4303198 ],\n",
       "       [0.63347596],\n",
       "       [0.4807983 ],\n",
       "       [0.24380499],\n",
       "       [0.72324955],\n",
       "       [0.2752599 ],\n",
       "       [0.6481939 ],\n",
       "       [0.1414347 ],\n",
       "       [0.6569437 ],\n",
       "       [0.6149409 ],\n",
       "       [0.5245405 ],\n",
       "       [0.82091296],\n",
       "       [0.6848963 ],\n",
       "       [0.79818666],\n",
       "       [0.5852078 ],\n",
       "       [0.75445247],\n",
       "       [0.7081469 ],\n",
       "       [0.52271754],\n",
       "       [0.5932203 ],\n",
       "       [0.54028195],\n",
       "       [0.5804679 ],\n",
       "       [0.719437  ],\n",
       "       [0.17762762],\n",
       "       [0.54168516],\n",
       "       [0.12201899],\n",
       "       [0.40587497],\n",
       "       [0.6536048 ],\n",
       "       [0.87763906],\n",
       "       [0.46440703],\n",
       "       [0.58481205],\n",
       "       [0.5048495 ],\n",
       "       [0.65900433],\n",
       "       [0.22994336],\n",
       "       [0.32144967],\n",
       "       [0.45117497],\n",
       "       [0.55158025],\n",
       "       [0.3856762 ],\n",
       "       [0.15386054],\n",
       "       [0.80168474],\n",
       "       [0.84437835],\n",
       "       [0.77404547],\n",
       "       [0.78304064],\n",
       "       [0.72291297],\n",
       "       [0.44556826],\n",
       "       [0.78259933],\n",
       "       [0.6668488 ],\n",
       "       [0.59887004],\n",
       "       [0.64428407],\n",
       "       [0.56816113],\n",
       "       [0.22867337],\n",
       "       [0.85446346],\n",
       "       [0.7295939 ],\n",
       "       [0.7190391 ],\n",
       "       [0.5802603 ],\n",
       "       [0.7722019 ],\n",
       "       [0.17217124],\n",
       "       [0.32793817],\n",
       "       [0.1496408 ],\n",
       "       [0.34902373],\n",
       "       [0.79674995],\n",
       "       [0.5934954 ],\n",
       "       [0.37629044],\n",
       "       [0.83766174],\n",
       "       [0.6080073 ],\n",
       "       [0.8276835 ],\n",
       "       [0.5124775 ],\n",
       "       [0.6517534 ],\n",
       "       [0.3167565 ],\n",
       "       [0.7958182 ]], dtype=float32)"
      ]
     },
     "execution_count": 90,
     "metadata": {},
     "output_type": "execute_result"
    }
   ],
   "source": [
    "predictions[1000:1100,:]"
   ]
  },
  {
   "cell_type": "code",
   "execution_count": 91,
   "metadata": {},
   "outputs": [
    {
     "ename": "ValueError",
     "evalue": "Shape of passed values is (3246, 1), indices imply (3246, 2)",
     "output_type": "error",
     "traceback": [
      "\u001b[0;31m---------------------------------------------------------------------------\u001b[0m",
      "\u001b[0;31mValueError\u001b[0m                                Traceback (most recent call last)",
      "\u001b[0;32m/usr/local/anaconda3/envs/tf_py377/lib/python3.7/site-packages/pandas/core/internals/managers.py\u001b[0m in \u001b[0;36mcreate_block_manager_from_blocks\u001b[0;34m(blocks, axes)\u001b[0m\n\u001b[1;32m   1653\u001b[0m                 blocks = [\n\u001b[0;32m-> 1654\u001b[0;31m                     \u001b[0mmake_block\u001b[0m\u001b[0;34m(\u001b[0m\u001b[0mvalues\u001b[0m\u001b[0;34m=\u001b[0m\u001b[0mblocks\u001b[0m\u001b[0;34m[\u001b[0m\u001b[0;36m0\u001b[0m\u001b[0;34m]\u001b[0m\u001b[0;34m,\u001b[0m \u001b[0mplacement\u001b[0m\u001b[0;34m=\u001b[0m\u001b[0mslice\u001b[0m\u001b[0;34m(\u001b[0m\u001b[0;36m0\u001b[0m\u001b[0;34m,\u001b[0m \u001b[0mlen\u001b[0m\u001b[0;34m(\u001b[0m\u001b[0maxes\u001b[0m\u001b[0;34m[\u001b[0m\u001b[0;36m0\u001b[0m\u001b[0;34m]\u001b[0m\u001b[0;34m)\u001b[0m\u001b[0;34m)\u001b[0m\u001b[0;34m)\u001b[0m\u001b[0;34m\u001b[0m\u001b[0;34m\u001b[0m\u001b[0m\n\u001b[0m\u001b[1;32m   1655\u001b[0m                 ]\n",
      "\u001b[0;32m/usr/local/anaconda3/envs/tf_py377/lib/python3.7/site-packages/pandas/core/internals/blocks.py\u001b[0m in \u001b[0;36mmake_block\u001b[0;34m(values, placement, klass, ndim, dtype)\u001b[0m\n\u001b[1;32m   3052\u001b[0m \u001b[0;34m\u001b[0m\u001b[0m\n\u001b[0;32m-> 3053\u001b[0;31m     \u001b[0;32mreturn\u001b[0m \u001b[0mklass\u001b[0m\u001b[0;34m(\u001b[0m\u001b[0mvalues\u001b[0m\u001b[0;34m,\u001b[0m \u001b[0mndim\u001b[0m\u001b[0;34m=\u001b[0m\u001b[0mndim\u001b[0m\u001b[0;34m,\u001b[0m \u001b[0mplacement\u001b[0m\u001b[0;34m=\u001b[0m\u001b[0mplacement\u001b[0m\u001b[0;34m)\u001b[0m\u001b[0;34m\u001b[0m\u001b[0;34m\u001b[0m\u001b[0m\n\u001b[0m\u001b[1;32m   3054\u001b[0m \u001b[0;34m\u001b[0m\u001b[0m\n",
      "\u001b[0;32m/usr/local/anaconda3/envs/tf_py377/lib/python3.7/site-packages/pandas/core/internals/blocks.py\u001b[0m in \u001b[0;36m__init__\u001b[0;34m(self, values, placement, ndim)\u001b[0m\n\u001b[1;32m    124\u001b[0m             raise ValueError(\n\u001b[0;32m--> 125\u001b[0;31m                 \u001b[0;34mf\"Wrong number of items passed {len(self.values)}, \"\u001b[0m\u001b[0;34m\u001b[0m\u001b[0;34m\u001b[0m\u001b[0m\n\u001b[0m\u001b[1;32m    126\u001b[0m                 \u001b[0;34mf\"placement implies {len(self.mgr_locs)}\"\u001b[0m\u001b[0;34m\u001b[0m\u001b[0;34m\u001b[0m\u001b[0m\n",
      "\u001b[0;31mValueError\u001b[0m: Wrong number of items passed 1, placement implies 2",
      "\nDuring handling of the above exception, another exception occurred:\n",
      "\u001b[0;31mValueError\u001b[0m                                Traceback (most recent call last)",
      "\u001b[0;32m<ipython-input-91-85d8aaeb3d41>\u001b[0m in \u001b[0;36m<module>\u001b[0;34m\u001b[0m\n\u001b[0;32m----> 1\u001b[0;31m \u001b[0mpredictions_df\u001b[0m \u001b[0;34m=\u001b[0m \u001b[0mpd\u001b[0m\u001b[0;34m.\u001b[0m\u001b[0mDataFrame\u001b[0m\u001b[0;34m(\u001b[0m\u001b[0mpredictions\u001b[0m\u001b[0;34m,\u001b[0m \u001b[0mcolumns\u001b[0m\u001b[0;34m=\u001b[0m\u001b[0mX_test\u001b[0m\u001b[0;34m.\u001b[0m\u001b[0mclass_names\u001b[0m\u001b[0;34m)\u001b[0m\u001b[0;34m\u001b[0m\u001b[0;34m\u001b[0m\u001b[0m\n\u001b[0m",
      "\u001b[0;32m/usr/local/anaconda3/envs/tf_py377/lib/python3.7/site-packages/pandas/core/frame.py\u001b[0m in \u001b[0;36m__init__\u001b[0;34m(self, data, index, columns, dtype, copy)\u001b[0m\n\u001b[1;32m    462\u001b[0m                 \u001b[0mmgr\u001b[0m \u001b[0;34m=\u001b[0m \u001b[0minit_dict\u001b[0m\u001b[0;34m(\u001b[0m\u001b[0;34m{\u001b[0m\u001b[0mdata\u001b[0m\u001b[0;34m.\u001b[0m\u001b[0mname\u001b[0m\u001b[0;34m:\u001b[0m \u001b[0mdata\u001b[0m\u001b[0;34m}\u001b[0m\u001b[0;34m,\u001b[0m \u001b[0mindex\u001b[0m\u001b[0;34m,\u001b[0m \u001b[0mcolumns\u001b[0m\u001b[0;34m,\u001b[0m \u001b[0mdtype\u001b[0m\u001b[0;34m=\u001b[0m\u001b[0mdtype\u001b[0m\u001b[0;34m)\u001b[0m\u001b[0;34m\u001b[0m\u001b[0;34m\u001b[0m\u001b[0m\n\u001b[1;32m    463\u001b[0m             \u001b[0;32melse\u001b[0m\u001b[0;34m:\u001b[0m\u001b[0;34m\u001b[0m\u001b[0;34m\u001b[0m\u001b[0m\n\u001b[0;32m--> 464\u001b[0;31m                 \u001b[0mmgr\u001b[0m \u001b[0;34m=\u001b[0m \u001b[0minit_ndarray\u001b[0m\u001b[0;34m(\u001b[0m\u001b[0mdata\u001b[0m\u001b[0;34m,\u001b[0m \u001b[0mindex\u001b[0m\u001b[0;34m,\u001b[0m \u001b[0mcolumns\u001b[0m\u001b[0;34m,\u001b[0m \u001b[0mdtype\u001b[0m\u001b[0;34m=\u001b[0m\u001b[0mdtype\u001b[0m\u001b[0;34m,\u001b[0m \u001b[0mcopy\u001b[0m\u001b[0;34m=\u001b[0m\u001b[0mcopy\u001b[0m\u001b[0;34m)\u001b[0m\u001b[0;34m\u001b[0m\u001b[0;34m\u001b[0m\u001b[0m\n\u001b[0m\u001b[1;32m    465\u001b[0m \u001b[0;34m\u001b[0m\u001b[0m\n\u001b[1;32m    466\u001b[0m         \u001b[0;31m# For data is list-like, or Iterable (will consume into list)\u001b[0m\u001b[0;34m\u001b[0m\u001b[0;34m\u001b[0m\u001b[0;34m\u001b[0m\u001b[0m\n",
      "\u001b[0;32m/usr/local/anaconda3/envs/tf_py377/lib/python3.7/site-packages/pandas/core/internals/construction.py\u001b[0m in \u001b[0;36minit_ndarray\u001b[0;34m(values, index, columns, dtype, copy)\u001b[0m\n\u001b[1;32m    208\u001b[0m         \u001b[0mblock_values\u001b[0m \u001b[0;34m=\u001b[0m \u001b[0;34m[\u001b[0m\u001b[0mvalues\u001b[0m\u001b[0;34m]\u001b[0m\u001b[0;34m\u001b[0m\u001b[0;34m\u001b[0m\u001b[0m\n\u001b[1;32m    209\u001b[0m \u001b[0;34m\u001b[0m\u001b[0m\n\u001b[0;32m--> 210\u001b[0;31m     \u001b[0;32mreturn\u001b[0m \u001b[0mcreate_block_manager_from_blocks\u001b[0m\u001b[0;34m(\u001b[0m\u001b[0mblock_values\u001b[0m\u001b[0;34m,\u001b[0m \u001b[0;34m[\u001b[0m\u001b[0mcolumns\u001b[0m\u001b[0;34m,\u001b[0m \u001b[0mindex\u001b[0m\u001b[0;34m]\u001b[0m\u001b[0;34m)\u001b[0m\u001b[0;34m\u001b[0m\u001b[0;34m\u001b[0m\u001b[0m\n\u001b[0m\u001b[1;32m    211\u001b[0m \u001b[0;34m\u001b[0m\u001b[0m\n\u001b[1;32m    212\u001b[0m \u001b[0;34m\u001b[0m\u001b[0m\n",
      "\u001b[0;32m/usr/local/anaconda3/envs/tf_py377/lib/python3.7/site-packages/pandas/core/internals/managers.py\u001b[0m in \u001b[0;36mcreate_block_manager_from_blocks\u001b[0;34m(blocks, axes)\u001b[0m\n\u001b[1;32m   1662\u001b[0m         \u001b[0mblocks\u001b[0m \u001b[0;34m=\u001b[0m \u001b[0;34m[\u001b[0m\u001b[0mgetattr\u001b[0m\u001b[0;34m(\u001b[0m\u001b[0mb\u001b[0m\u001b[0;34m,\u001b[0m \u001b[0;34m\"values\"\u001b[0m\u001b[0;34m,\u001b[0m \u001b[0mb\u001b[0m\u001b[0;34m)\u001b[0m \u001b[0;32mfor\u001b[0m \u001b[0mb\u001b[0m \u001b[0;32min\u001b[0m \u001b[0mblocks\u001b[0m\u001b[0;34m]\u001b[0m\u001b[0;34m\u001b[0m\u001b[0;34m\u001b[0m\u001b[0m\n\u001b[1;32m   1663\u001b[0m         \u001b[0mtot_items\u001b[0m \u001b[0;34m=\u001b[0m \u001b[0msum\u001b[0m\u001b[0;34m(\u001b[0m\u001b[0mb\u001b[0m\u001b[0;34m.\u001b[0m\u001b[0mshape\u001b[0m\u001b[0;34m[\u001b[0m\u001b[0;36m0\u001b[0m\u001b[0;34m]\u001b[0m \u001b[0;32mfor\u001b[0m \u001b[0mb\u001b[0m \u001b[0;32min\u001b[0m \u001b[0mblocks\u001b[0m\u001b[0;34m)\u001b[0m\u001b[0;34m\u001b[0m\u001b[0;34m\u001b[0m\u001b[0m\n\u001b[0;32m-> 1664\u001b[0;31m         \u001b[0mconstruction_error\u001b[0m\u001b[0;34m(\u001b[0m\u001b[0mtot_items\u001b[0m\u001b[0;34m,\u001b[0m \u001b[0mblocks\u001b[0m\u001b[0;34m[\u001b[0m\u001b[0;36m0\u001b[0m\u001b[0;34m]\u001b[0m\u001b[0;34m.\u001b[0m\u001b[0mshape\u001b[0m\u001b[0;34m[\u001b[0m\u001b[0;36m1\u001b[0m\u001b[0;34m:\u001b[0m\u001b[0;34m]\u001b[0m\u001b[0;34m,\u001b[0m \u001b[0maxes\u001b[0m\u001b[0;34m,\u001b[0m \u001b[0me\u001b[0m\u001b[0;34m)\u001b[0m\u001b[0;34m\u001b[0m\u001b[0;34m\u001b[0m\u001b[0m\n\u001b[0m\u001b[1;32m   1665\u001b[0m \u001b[0;34m\u001b[0m\u001b[0m\n\u001b[1;32m   1666\u001b[0m \u001b[0;34m\u001b[0m\u001b[0m\n",
      "\u001b[0;32m/usr/local/anaconda3/envs/tf_py377/lib/python3.7/site-packages/pandas/core/internals/managers.py\u001b[0m in \u001b[0;36mconstruction_error\u001b[0;34m(tot_items, block_shape, axes, e)\u001b[0m\n\u001b[1;32m   1692\u001b[0m     \u001b[0;32mif\u001b[0m \u001b[0mblock_shape\u001b[0m\u001b[0;34m[\u001b[0m\u001b[0;36m0\u001b[0m\u001b[0;34m]\u001b[0m \u001b[0;34m==\u001b[0m \u001b[0;36m0\u001b[0m\u001b[0;34m:\u001b[0m\u001b[0;34m\u001b[0m\u001b[0;34m\u001b[0m\u001b[0m\n\u001b[1;32m   1693\u001b[0m         \u001b[0;32mraise\u001b[0m \u001b[0mValueError\u001b[0m\u001b[0;34m(\u001b[0m\u001b[0;34m\"Empty data passed with indices specified.\"\u001b[0m\u001b[0;34m)\u001b[0m\u001b[0;34m\u001b[0m\u001b[0;34m\u001b[0m\u001b[0m\n\u001b[0;32m-> 1694\u001b[0;31m     \u001b[0;32mraise\u001b[0m \u001b[0mValueError\u001b[0m\u001b[0;34m(\u001b[0m\u001b[0;34mf\"Shape of passed values is {passed}, indices imply {implied}\"\u001b[0m\u001b[0;34m)\u001b[0m\u001b[0;34m\u001b[0m\u001b[0;34m\u001b[0m\u001b[0m\n\u001b[0m\u001b[1;32m   1695\u001b[0m \u001b[0;34m\u001b[0m\u001b[0m\n\u001b[1;32m   1696\u001b[0m \u001b[0;34m\u001b[0m\u001b[0m\n",
      "\u001b[0;31mValueError\u001b[0m: Shape of passed values is (3246, 1), indices imply (3246, 2)"
     ]
    }
   ],
   "source": [
    "predictions_df = pd.DataFrame(predictions, columns=X_test.class_names)"
   ]
  },
  {
   "cell_type": "code",
   "execution_count": 94,
   "metadata": {},
   "outputs": [
    {
     "data": {
      "text/html": [
       "<div>\n",
       "<style scoped>\n",
       "    .dataframe tbody tr th:only-of-type {\n",
       "        vertical-align: middle;\n",
       "    }\n",
       "\n",
       "    .dataframe tbody tr th {\n",
       "        vertical-align: top;\n",
       "    }\n",
       "\n",
       "    .dataframe thead th {\n",
       "        text-align: right;\n",
       "    }\n",
       "</style>\n",
       "<table border=\"1\" class=\"dataframe\">\n",
       "  <thead>\n",
       "    <tr style=\"text-align: right;\">\n",
       "      <th></th>\n",
       "      <th>Eco-Friendly</th>\n",
       "      <th>Informal Campsite</th>\n",
       "      <th>Short-term Parking</th>\n",
       "      <th>Showers</th>\n",
       "      <th>Water</th>\n",
       "      <th>Wild Camping</th>\n",
       "    </tr>\n",
       "  </thead>\n",
       "  <tbody>\n",
       "    <tr>\n",
       "      <th>count</th>\n",
       "      <td>4746.000000</td>\n",
       "      <td>4746.000000</td>\n",
       "      <td>4746.000000</td>\n",
       "      <td>4746.000000</td>\n",
       "      <td>4746.000000</td>\n",
       "      <td>4746.000000</td>\n",
       "    </tr>\n",
       "    <tr>\n",
       "      <th>mean</th>\n",
       "      <td>-0.394905</td>\n",
       "      <td>0.237534</td>\n",
       "      <td>-0.536505</td>\n",
       "      <td>-0.439493</td>\n",
       "      <td>-0.545223</td>\n",
       "      <td>0.610541</td>\n",
       "    </tr>\n",
       "    <tr>\n",
       "      <th>std</th>\n",
       "      <td>0.000000</td>\n",
       "      <td>0.000000</td>\n",
       "      <td>0.000000</td>\n",
       "      <td>0.000000</td>\n",
       "      <td>0.000000</td>\n",
       "      <td>0.000000</td>\n",
       "    </tr>\n",
       "    <tr>\n",
       "      <th>min</th>\n",
       "      <td>-0.394905</td>\n",
       "      <td>0.237534</td>\n",
       "      <td>-0.536505</td>\n",
       "      <td>-0.439493</td>\n",
       "      <td>-0.545223</td>\n",
       "      <td>0.610541</td>\n",
       "    </tr>\n",
       "    <tr>\n",
       "      <th>25%</th>\n",
       "      <td>-0.394905</td>\n",
       "      <td>0.237534</td>\n",
       "      <td>-0.536505</td>\n",
       "      <td>-0.439493</td>\n",
       "      <td>-0.545223</td>\n",
       "      <td>0.610541</td>\n",
       "    </tr>\n",
       "    <tr>\n",
       "      <th>50%</th>\n",
       "      <td>-0.394905</td>\n",
       "      <td>0.237534</td>\n",
       "      <td>-0.536505</td>\n",
       "      <td>-0.439493</td>\n",
       "      <td>-0.545223</td>\n",
       "      <td>0.610541</td>\n",
       "    </tr>\n",
       "    <tr>\n",
       "      <th>75%</th>\n",
       "      <td>-0.394905</td>\n",
       "      <td>0.237534</td>\n",
       "      <td>-0.536505</td>\n",
       "      <td>-0.439493</td>\n",
       "      <td>-0.545223</td>\n",
       "      <td>0.610541</td>\n",
       "    </tr>\n",
       "    <tr>\n",
       "      <th>max</th>\n",
       "      <td>-0.394905</td>\n",
       "      <td>0.237534</td>\n",
       "      <td>-0.536505</td>\n",
       "      <td>-0.439493</td>\n",
       "      <td>-0.545223</td>\n",
       "      <td>0.610541</td>\n",
       "    </tr>\n",
       "  </tbody>\n",
       "</table>\n",
       "</div>"
      ],
      "text/plain": [
       "       Eco-Friendly  Informal Campsite  Short-term Parking      Showers  \\\n",
       "count   4746.000000        4746.000000         4746.000000  4746.000000   \n",
       "mean      -0.394905           0.237534           -0.536505    -0.439493   \n",
       "std        0.000000           0.000000            0.000000     0.000000   \n",
       "min       -0.394905           0.237534           -0.536505    -0.439493   \n",
       "25%       -0.394905           0.237534           -0.536505    -0.439493   \n",
       "50%       -0.394905           0.237534           -0.536505    -0.439493   \n",
       "75%       -0.394905           0.237534           -0.536505    -0.439493   \n",
       "max       -0.394905           0.237534           -0.536505    -0.439493   \n",
       "\n",
       "             Water  Wild Camping  \n",
       "count  4746.000000   4746.000000  \n",
       "mean     -0.545223      0.610541  \n",
       "std       0.000000      0.000000  \n",
       "min      -0.545223      0.610541  \n",
       "25%      -0.545223      0.610541  \n",
       "50%      -0.545223      0.610541  \n",
       "75%      -0.545223      0.610541  \n",
       "max      -0.545223      0.610541  "
      ]
     },
     "execution_count": 94,
     "metadata": {},
     "output_type": "execute_result"
    }
   ],
   "source": [
    "predictions_df.describe()"
   ]
  },
  {
   "cell_type": "code",
   "execution_count": 82,
   "metadata": {},
   "outputs": [
    {
     "data": {
      "image/png": "[encoded data removed]",
      "text/plain": [
       "<Figure size 576x576 with 2 Axes>"
      ]
     },
     "metadata": {
      "needs_background": "light"
     },
     "output_type": "display_data"
    }
   ],
   "source": [
    "# plot results\n",
    "acc = history.history['accuracy']\n",
    "val_acc = history.history['val_accuracy']\n",
    "\n",
    "loss=history.history['loss']\n",
    "val_loss=history.history['val_loss']\n",
    "\n",
    "epochs_range = range(epochs)\n",
    "\n",
    "plt.figure(figsize=(8, 8))\n",
    "plt.subplot(1, 2, 1)\n",
    "plt.plot(epochs_range, acc, label='Training Accuracy')\n",
    "plt.plot(epochs_range, val_acc, label='Validation Accuracy')\n",
    "plt.legend(loc='lower right')\n",
    "plt.title('Training and Validation Accuracy')\n",
    "\n",
    "plt.subplot(1, 2, 2)\n",
    "plt.plot(epochs_range, loss, label='Training Loss')\n",
    "plt.plot(epochs_range, val_loss, label='Validation Loss')\n",
    "plt.legend(loc='upper right')\n",
    "plt.title('Training and Validation Loss')\n",
    "plt.show()"
   ]
  },
  {
   "cell_type": "code",
   "execution_count": null,
   "metadata": {},
   "outputs": [],
   "source": [
    "from sklearn.metrics import confusion_matrix\n",
    "\n",
    "def compute_plot_confusion_matrix(y_true_class, y_pred_class, classes):\n",
    "\n",
    "    confmat = confusion_matrix(y_true_class, y_pred_class, labels=range(N_CLASSES))\n",
    "    confmat = confmat / confmat.sum(0).astype(float)\n",
    "    df_cm = pd.DataFrame(confmat, index = [split_str(c) for c in classes],\n",
    "                          columns = [split_str(c) for c in classes])\n",
    "\n",
    "    sns.set_context(\"notebook\", font_scale=1.5, rc={\"lines.linewidth\": 1})\n",
    "    plt.figure(figsize = (12,10))\n",
    "    sns.heatmap(df_cm, annot=True, fmt=\".2f\")\n",
    "    \n",
    "    return confmat"
   ]
  },
  {
   "cell_type": "code",
   "execution_count": 135,
   "metadata": {},
   "outputs": [],
   "source": [
    "# get y_test out of tf dataset\n",
    "y_test_labels = []\n",
    "#https://stackoverflow.com/questions/56226621/how-to-extract-data-labels-back-from-tensorflow-dataset\n",
    "for images, labels in X_test.take(1):  # only take first element of dataset\n",
    "    #numpy_images = images.numpy()\n",
    "    y_test_labels.append(labels.numpy())"
   ]
  },
  {
   "cell_type": "code",
   "execution_count": 138,
   "metadata": {},
   "outputs": [],
   "source": [
    "# since my data is batched\n",
    "y = np.concatenate([y for x, y in X_test], axis=0)"
   ]
  },
  {
   "cell_type": "code",
   "execution_count": 139,
   "metadata": {
    "scrolled": true
   },
   "outputs": [
    {
     "data": {
      "text/plain": [
       "numpy.ndarray"
      ]
     },
     "execution_count": 139,
     "metadata": {},
     "output_type": "execute_result"
    }
   ],
   "source": [
    "type(y)"
   ]
  },
  {
   "cell_type": "code",
   "execution_count": 140,
   "metadata": {
    "scrolled": true
   },
   "outputs": [
    {
     "data": {
      "text/plain": [
       "(4746, 6)"
      ]
     },
     "execution_count": 140,
     "metadata": {},
     "output_type": "execute_result"
    }
   ],
   "source": [
    "y.shape"
   ]
  },
  {
   "cell_type": "code",
   "execution_count": 141,
   "metadata": {},
   "outputs": [
    {
     "data": {
      "text/plain": [
       "array([[0., 0., 0., 0., 0., 1.],\n",
       "       [0., 0., 0., 0., 0., 1.],\n",
       "       [0., 0., 0., 0., 0., 1.],\n",
       "       ...,\n",
       "       [0., 0., 0., 0., 0., 1.],\n",
       "       [0., 0., 0., 0., 1., 0.],\n",
       "       [0., 0., 0., 0., 0., 1.]], dtype=float32)"
      ]
     },
     "execution_count": 141,
     "metadata": {},
     "output_type": "execute_result"
    }
   ],
   "source": [
    "y"
   ]
  },
  {
   "cell_type": "code",
   "execution_count": null,
   "metadata": {
    "scrolled": true
   },
   "outputs": [],
   "source": [
    "# only works for binary\n",
    "predictions_raveled = predictions.ravel()\n",
    "fpr_keras, tpr_keras, thresholds_keras = metrics.roc_curve(y, predictions_raveled)"
   ]
  },
  {
   "cell_type": "code",
   "execution_count": 147,
   "metadata": {},
   "outputs": [],
   "source": [
    "classes = len(X_test.class_names)"
   ]
  },
  {
   "cell_type": "code",
   "execution_count": 157,
   "metadata": {},
   "outputs": [
    {
     "data": {
      "image/png": "[encoded data removed]",
      "text/plain": [
       "<Figure size 432x288 with 1 Axes>"
      ]
     },
     "metadata": {
      "needs_background": "light"
     },
     "output_type": "display_data"
    },
    {
     "data": {
      "image/png": "[encoded data removed]",
      "text/plain": [
       "<Figure size 432x288 with 1 Axes>"
      ]
     },
     "metadata": {
      "needs_background": "light"
     },
     "output_type": "display_data"
    }
   ],
   "source": [
    "# https://scikit-learn.org/0.15/auto_examples/plot_roc.html#:~:text=ROC%20curves%20are%20typically%20used,necessary%20to%20binarize%20the%20output.\n",
    "fpr = dict()\n",
    "tpr = dict()\n",
    "roc_auc = dict()\n",
    "for i in range(classes):\n",
    "    fpr[i], tpr[i], _ = metrics.roc_curve(y[:, i], predictions[:, i])\n",
    "    roc_auc[i] = metrics.auc(fpr[i], tpr[i])\n",
    "    \n",
    "# Compute micro-average ROC curve and ROC area\n",
    "fpr[\"micro\"], tpr[\"micro\"], _ = metrics.roc_curve(y.ravel(), predictions.ravel())\n",
    "roc_auc[\"micro\"] = metrics.auc(fpr[\"micro\"], tpr[\"micro\"])\n",
    "\n",
    "# Plot of a ROC curve for a specific class\n",
    "plt.figure()\n",
    "plt.plot(fpr[2], tpr[2], label='ROC curve (area = %0.2f)' % roc_auc[2])\n",
    "plt.plot([0, 1], [0, 1], 'k--')\n",
    "plt.xlim([0.0, 1.0])\n",
    "plt.ylim([0.0, 1.05])\n",
    "plt.xlabel('False Positive Rate')\n",
    "plt.ylabel('True Positive Rate')\n",
    "plt.title('Receiver operating characteristic example')\n",
    "plt.legend(loc=\"lower right\")\n",
    "plt.show()\n",
    "\n",
    "# Plot ROC curve\n",
    "plt.figure()\n",
    "plt.plot(fpr[\"micro\"], tpr[\"micro\"],\n",
    "         label='micro-average ROC curve (area = {0:0.2f})'\n",
    "               ''.format(roc_auc[\"micro\"]))\n",
    "for i in range(classes):\n",
    "    plt.plot(fpr[i], tpr[i], label='ROC curve of class {0} (area = {1:0.2f})'\n",
    "                                   ''.format(i, roc_auc[i]))\n",
    "\n",
    "plt.plot([0, 1], [0, 1], 'k--')\n",
    "plt.xlim([0.0, 1.0])\n",
    "plt.ylim([0.0, 1.05])\n",
    "plt.xlabel('False Positive Rate')\n",
    "plt.ylabel('True Positive Rate')\n",
    "plt.title('Some extension of Receiver operating characteristic to multi-class')\n",
    "plt.legend(loc=\"lower right\")\n",
    "plt.show()"
   ]
  },
  {
   "cell_type": "code",
   "execution_count": 122,
   "metadata": {},
   "outputs": [
    {
     "ename": "ValueError",
     "evalue": "Sequential should be a binary classifier",
     "output_type": "error",
     "traceback": [
      "\u001b[0;31m---------------------------------------------------------------------------\u001b[0m",
      "\u001b[0;31mValueError\u001b[0m                                Traceback (most recent call last)",
      "\u001b[0;32m<ipython-input-122-e38827e30a0d>\u001b[0m in \u001b[0;36m<module>\u001b[0;34m\u001b[0m\n\u001b[1;32m      1\u001b[0m \u001b[0;32mfrom\u001b[0m \u001b[0msklearn\u001b[0m \u001b[0;32mimport\u001b[0m \u001b[0mmetrics\u001b[0m\u001b[0;34m\u001b[0m\u001b[0;34m\u001b[0m\u001b[0m\n\u001b[1;32m      2\u001b[0m \u001b[0mfig\u001b[0m\u001b[0;34m,\u001b[0m \u001b[0max\u001b[0m \u001b[0;34m=\u001b[0m \u001b[0mplt\u001b[0m\u001b[0;34m.\u001b[0m\u001b[0msubplots\u001b[0m\u001b[0;34m(\u001b[0m\u001b[0;36m1\u001b[0m\u001b[0;34m,\u001b[0m \u001b[0mfigsize\u001b[0m\u001b[0;34m=\u001b[0m\u001b[0;34m(\u001b[0m\u001b[0;36m10\u001b[0m\u001b[0;34m,\u001b[0m \u001b[0;36m8\u001b[0m\u001b[0;34m)\u001b[0m\u001b[0;34m)\u001b[0m\u001b[0;34m\u001b[0m\u001b[0;34m\u001b[0m\u001b[0m\n\u001b[0;32m----> 3\u001b[0;31m \u001b[0mmetrics\u001b[0m\u001b[0;34m.\u001b[0m\u001b[0mplot_roc_curve\u001b[0m\u001b[0;34m(\u001b[0m\u001b[0mmodel\u001b[0m\u001b[0;34m,\u001b[0m \u001b[0mX_test\u001b[0m\u001b[0;34m,\u001b[0m \u001b[0mpredictions\u001b[0m\u001b[0;34m,\u001b[0m \u001b[0max\u001b[0m\u001b[0;34m=\u001b[0m\u001b[0max\u001b[0m\u001b[0;34m)\u001b[0m\u001b[0;34m\u001b[0m\u001b[0;34m\u001b[0m\u001b[0m\n\u001b[0m\u001b[1;32m      4\u001b[0m \u001b[0max\u001b[0m\u001b[0;34m.\u001b[0m\u001b[0mplot\u001b[0m\u001b[0;34m(\u001b[0m\u001b[0;34m[\u001b[0m\u001b[0;36m0\u001b[0m\u001b[0;34m,\u001b[0m \u001b[0;36m1\u001b[0m\u001b[0;34m]\u001b[0m\u001b[0;34m,\u001b[0m \u001b[0;34m[\u001b[0m\u001b[0;36m0\u001b[0m\u001b[0;34m,\u001b[0m \u001b[0;36m1\u001b[0m\u001b[0;34m]\u001b[0m\u001b[0;34m,\u001b[0m \u001b[0mlinestyle\u001b[0m\u001b[0;34m=\u001b[0m\u001b[0;34m'--'\u001b[0m\u001b[0;34m,\u001b[0m \u001b[0mlw\u001b[0m\u001b[0;34m=\u001b[0m\u001b[0;36m2\u001b[0m\u001b[0;34m,\u001b[0m \u001b[0mcolor\u001b[0m\u001b[0;34m=\u001b[0m\u001b[0;34m'r'\u001b[0m\u001b[0;34m,\u001b[0m \u001b[0mlabel\u001b[0m\u001b[0;34m=\u001b[0m\u001b[0;34m'Chance'\u001b[0m\u001b[0;34m,\u001b[0m \u001b[0malpha\u001b[0m\u001b[0;34m=\u001b[0m\u001b[0;36m.8\u001b[0m\u001b[0;34m)\u001b[0m\u001b[0;34m\u001b[0m\u001b[0;34m\u001b[0m\u001b[0m\n\u001b[1;32m      5\u001b[0m \u001b[0mplt\u001b[0m\u001b[0;34m.\u001b[0m\u001b[0mshow\u001b[0m\u001b[0;34m(\u001b[0m\u001b[0;34m)\u001b[0m\u001b[0;34m\u001b[0m\u001b[0;34m\u001b[0m\u001b[0m\n",
      "\u001b[0;32m/usr/local/anaconda3/envs/tf_py377/lib/python3.7/site-packages/sklearn/utils/validation.py\u001b[0m in \u001b[0;36minner_f\u001b[0;34m(*args, **kwargs)\u001b[0m\n\u001b[1;32m     71\u001b[0m                           FutureWarning)\n\u001b[1;32m     72\u001b[0m         \u001b[0mkwargs\u001b[0m\u001b[0;34m.\u001b[0m\u001b[0mupdate\u001b[0m\u001b[0;34m(\u001b[0m\u001b[0;34m{\u001b[0m\u001b[0mk\u001b[0m\u001b[0;34m:\u001b[0m \u001b[0marg\u001b[0m \u001b[0;32mfor\u001b[0m \u001b[0mk\u001b[0m\u001b[0;34m,\u001b[0m \u001b[0marg\u001b[0m \u001b[0;32min\u001b[0m \u001b[0mzip\u001b[0m\u001b[0;34m(\u001b[0m\u001b[0msig\u001b[0m\u001b[0;34m.\u001b[0m\u001b[0mparameters\u001b[0m\u001b[0;34m,\u001b[0m \u001b[0margs\u001b[0m\u001b[0;34m)\u001b[0m\u001b[0;34m}\u001b[0m\u001b[0;34m)\u001b[0m\u001b[0;34m\u001b[0m\u001b[0;34m\u001b[0m\u001b[0m\n\u001b[0;32m---> 73\u001b[0;31m         \u001b[0;32mreturn\u001b[0m \u001b[0mf\u001b[0m\u001b[0;34m(\u001b[0m\u001b[0;34m**\u001b[0m\u001b[0mkwargs\u001b[0m\u001b[0;34m)\u001b[0m\u001b[0;34m\u001b[0m\u001b[0;34m\u001b[0m\u001b[0m\n\u001b[0m\u001b[1;32m     74\u001b[0m     \u001b[0;32mreturn\u001b[0m \u001b[0minner_f\u001b[0m\u001b[0;34m\u001b[0m\u001b[0;34m\u001b[0m\u001b[0m\n\u001b[1;32m     75\u001b[0m \u001b[0;34m\u001b[0m\u001b[0m\n",
      "\u001b[0;32m/usr/local/anaconda3/envs/tf_py377/lib/python3.7/site-packages/sklearn/metrics/_plot/roc_curve.py\u001b[0m in \u001b[0;36mplot_roc_curve\u001b[0;34m(estimator, X, y, sample_weight, drop_intermediate, response_method, name, ax, **kwargs)\u001b[0m\n\u001b[1;32m    180\u001b[0m     )\n\u001b[1;32m    181\u001b[0m     \u001b[0;32mif\u001b[0m \u001b[0;32mnot\u001b[0m \u001b[0mis_classifier\u001b[0m\u001b[0;34m(\u001b[0m\u001b[0mestimator\u001b[0m\u001b[0;34m)\u001b[0m\u001b[0;34m:\u001b[0m\u001b[0;34m\u001b[0m\u001b[0;34m\u001b[0m\u001b[0m\n\u001b[0;32m--> 182\u001b[0;31m         \u001b[0;32mraise\u001b[0m \u001b[0mValueError\u001b[0m\u001b[0;34m(\u001b[0m\u001b[0mclassification_error\u001b[0m\u001b[0;34m)\u001b[0m\u001b[0;34m\u001b[0m\u001b[0;34m\u001b[0m\u001b[0m\n\u001b[0m\u001b[1;32m    183\u001b[0m \u001b[0;34m\u001b[0m\u001b[0m\n\u001b[1;32m    184\u001b[0m     prediction_method = _check_classifer_response_method(estimator,\n",
      "\u001b[0;31mValueError\u001b[0m: Sequential should be a binary classifier"
     ]
    },
    {
     "data": {
      "image/png": "[encoded data removed]",
      "text/plain": [
       "<Figure size 720x576 with 1 Axes>"
      ]
     },
     "metadata": {
      "needs_background": "light"
     },
     "output_type": "display_data"
    }
   ],
   "source": [
    "from sklearn import metrics\n",
    "fig, ax = plt.subplots(1, figsize=(10, 8))\n",
    "metrics.plot_roc_curve(model, X_test, predictions, ax=ax)\n",
    "ax.plot([0, 1], [0, 1], linestyle='--', lw=2, color='r', label='Chance', alpha=.8)\n",
    "plt.show()"
   ]
  },
  {
   "cell_type": "code",
   "execution_count": null,
   "metadata": {},
   "outputs": [],
   "source": [
    "def create_roc_curve(X_train, X_test, y_train, y_test, estimator, ax):\n",
    "    #fig, ax = plt.subplots()\n",
    "    for i in estimator:\n",
    "        clf = i.fit(X_train, y_train)\n",
    "        metrics.plot_roc_curve(i, X_test, y_test, ax=ax)\n",
    "    #plt.legend() #or would this be ax.legend?\n",
    "    #plt.show()\n",
    "    ax.plot([0, 1], [0, 1], linestyle='--', lw=2, color='r', label='Chance', alpha=.8)\n",
    "    return ax\n",
    "    # return roc_curve(y_true, y_score, pos_label=None, sample_weight=None, drop_intermediate=True)"
   ]
  },
  {
   "cell_type": "code",
   "execution_count": null,
   "metadata": {},
   "outputs": [],
   "source": [
    "lst = [rf, dt, gdb]\n",
    "create_roc_curve(X_train, X_test, y_train_ravel, y_test, lst, ax)"
   ]
  },
  {
   "cell_type": "code",
   "execution_count": null,
   "metadata": {},
   "outputs": [],
   "source": [
    "# edit this function for improvements and track model progress\n",
    "def define_model(nb_filters, kernel_size, input_shape, pool_size):\n",
    "    model = Sequential()  # model is a linear stack of layers (don't change)\n",
    "\n",
    "    # note: the convolutional layers and dense layers require an activation function\n",
    "    # see https://keras.io/activations/\n",
    "    # and https://en.wikipedia.org/wiki/Activation_function\n",
    "    # options: 'linear', 'sigmoid', 'tanh', 'relu', 'softplus', 'softsign'\n",
    "\n",
    "    model.add(Conv2D(nb_filters,\n",
    "                     (kernel_size[0], kernel_size[1]),\n",
    "                     padding='valid',\n",
    "                     input_shape=input_shape))  # first conv. layer  KEEP\n",
    "    model.add(Activation('relu'))  # Activation specification necessary for Conv2D and Dense layers\n",
    "\n",
    "    model.add(Conv2D(nb_filters,\n",
    "                     (kernel_size[0], kernel_size[1]),\n",
    "                     padding='valid'))  # 2nd conv. layer KEEP\n",
    "    model.add(Activation('relu'))\n",
    "\n",
    "    model.add(MaxPooling2D(pool_size=pool_size))  # decreases size, helps prevent overfitting\n",
    "    model.add(Dropout(0.5))  # zeros out some fraction of inputs, helps prevent overfitting\n",
    "\n",
    "    model.add(Flatten())  # necessary to flatten before going into conventional dense layer  KEEP\n",
    "    print('Model flattened out to ', model.output_shape)\n",
    "\n",
    "    # now start a typical neural network\n",
    "    model.add(Dense(32))  # (only) 32 neurons in this layer, really?   KEEP\n",
    "    model.add(Activation('tanh'))\n",
    "\n",
    "    model.add(Dropout(0.5))  # zeros out some fraction of inputs, helps prevent overfitting\n",
    "\n",
    "    model.add(Dense(nb_classes))  # 10 final nodes (one for each class)  KEEP\n",
    "    model.add(Activation('softmax'))  # softmax at end to pick between classes 0-9 KEEP\n",
    "\n",
    "    # many optimizers available, see https://keras.io/optimizers/#usage-of-optimizers\n",
    "    # suggest you KEEP loss at 'categorical_crossentropy' for this multiclass problem,\n",
    "    # and KEEP metrics at 'accuracy'\n",
    "    # suggest limiting optimizers to one of these: 'adam', 'adadelta', 'sgd'\n",
    "    model.compile(loss='categorical_crossentropy',\n",
    "                  optimizer='adam',\n",
    "                  metrics=['accuracy'])\n",
    "    return model"
   ]
  },
  {
   "cell_type": "code",
   "execution_count": null,
   "metadata": {},
   "outputs": [],
   "source": [
    "model2 = define_model(nb_filters, kernel_size, input_shape, pool_size)"
   ]
  },
  {
   "cell_type": "code",
   "execution_count": null,
   "metadata": {},
   "outputs": [],
   "source": [
    "# augmentation?\n",
    "data_augmentation = keras.Sequential(\n",
    "  [\n",
    "    layers.experimental.preprocessing.RandomFlip(\"horizontal\", \n",
    "                                                 input_shape=(img_height, \n",
    "                                                              img_width,\n",
    "                                                              3)),\n",
    "    layers.experimental.preprocessing.RandomRotation(0.1),\n",
    "    layers.experimental.preprocessing.RandomZoom(0.1),\n",
    "  ]\n",
    ")"
   ]
  }
 ],
 "metadata": {
  "kernelspec": {
   "display_name": "Python [conda env:tf_py377]",
   "language": "python",
   "name": "conda-env-tf_py377-py"
  },
  "language_info": {
   "codemirror_mode": {
    "name": "ipython",
    "version": 3
   },
   "file_extension": ".py",
   "mimetype": "text/x-python",
   "name": "python",
   "nbconvert_exporter": "python",
   "pygments_lexer": "ipython3",
   "version": "3.7.7"
  }
 },
 "nbformat": 4,
 "nbformat_minor": 4
}
