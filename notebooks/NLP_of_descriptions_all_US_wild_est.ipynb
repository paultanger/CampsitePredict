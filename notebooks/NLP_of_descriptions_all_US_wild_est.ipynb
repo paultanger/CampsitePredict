{
 "cells": [
  {
   "cell_type": "code",
   "execution_count": 1,
   "metadata": {},
   "outputs": [],
   "source": [
    "# generic imports\n",
    "import numpy as np\n",
    "import pandas as pd\n",
    "import matplotlib.pyplot as plt\n",
    "import seaborn as sns\n",
    "from scipy import stats\n",
    "# notebook settings\n",
    "%config IPCompleter.greedy=True\n",
    "%load_ext autoreload\n",
    "%autoreload 2 \n",
    "# precision and plot settings\n",
    "num_precision = 3\n",
    "np.set_printoptions(precision=num_precision, suppress=True)\n",
    "pd.set_option('display.float_format', lambda x: f'{x:,.{num_precision}f}')\n",
    "pd.set_option(\"display.precision\", num_precision)\n",
    "pd.set_option('display.max_columns', None)\n",
    "\n",
    "plt.style.use('tableau-colorblind10')\n",
    "plt.rcParams['figure.figsize'] = [10, 6]\n",
    "plt.rcParams['font.size'] = 16\n",
    "plt.rcParams['legend.fontsize'] = 'large'\n",
    "plt.rcParams['figure.titlesize'] = 'medium'\n",
    "plt.rcParams['lines.linewidth'] = 2"
   ]
  },
  {
   "cell_type": "code",
   "execution_count": 2,
   "metadata": {},
   "outputs": [],
   "source": [
    "# setup dir and import helper functions\n",
    "import sys, os\n",
    "sys.path.append(os.path.join(os.path.dirname(sys.path[0]),'src'))\n",
    "import helper_funcs as my_funcs"
   ]
  },
  {
   "cell_type": "code",
   "execution_count": 3,
   "metadata": {},
   "outputs": [],
   "source": [
    "from sklearn.feature_extraction.text import TfidfVectorizer\n",
    "from sklearn.cluster import KMeans\n",
    "from sklearn.metrics import silhouette_score\n",
    "from collections import Counter"
   ]
  },
  {
   "cell_type": "code",
   "execution_count": 4,
   "metadata": {},
   "outputs": [],
   "source": [
    "# use the data that I have aligned with the images so it will be easier to update labels\n",
    "# the images are here: unique_wild_est_for_aligned_model\n",
    "data = pd.read_csv('../data/image_file_df_final_with_df_NO_DUPS.csv')\n",
    "data.drop(['Unnamed: 0'], axis=1, inplace=True)"
   ]
  },
  {
   "cell_type": "code",
   "execution_count": 5,
   "metadata": {},
   "outputs": [],
   "source": [
    "no_desc = data[data['Description'].isna()]"
   ]
  },
  {
   "cell_type": "code",
   "execution_count": 6,
   "metadata": {},
   "outputs": [
    {
     "data": {
      "text/plain": [
       "['satimg_WA_734_Established Campground_17_48.5126_-122.61267']"
      ]
     },
     "execution_count": 6,
     "metadata": {},
     "output_type": "execute_result"
    }
   ],
   "source": [
    "no_desc['filename'].to_list()"
   ]
  },
  {
   "cell_type": "code",
   "execution_count": 7,
   "metadata": {},
   "outputs": [
    {
     "name": "stdout",
     "output_type": "stream",
     "text": [
      "rm: /Users/pault/Desktop/github/CampsitePredict/data/symlink_data/unique_wild_est_for_aligned_model/Established Campground/satimg_WA_734_Established Campground_17_48.5126_-122.61267.png: No such file or directory\r\n"
     ]
    }
   ],
   "source": [
    "# remove one file without description\n",
    "!rm /Users/pault/Desktop/github/CampsitePredict/data/symlink_data/unique_wild_est_for_aligned_model/Established\\ Campground/satimg_WA_734_Established\\ Campground_17_48.5126_-122.61267.png"
   ]
  },
  {
   "cell_type": "code",
   "execution_count": 8,
   "metadata": {},
   "outputs": [
    {
     "name": "stdout",
     "output_type": "stream",
     "text": [
      "<class 'pandas.core.frame.DataFrame'>\n",
      "RangeIndex: 7835 entries, 0 to 7834\n",
      "Data columns (total 47 columns):\n",
      " #   Column                     Non-Null Count  Dtype  \n",
      "---  ------                     --------------  -----  \n",
      " 0   filename                   7835 non-null   object \n",
      " 1   lat_from_file              7835 non-null   float64\n",
      " 2   long_from_file             7835 non-null   float64\n",
      " 3   order                      7835 non-null   int64  \n",
      " 4   latlong_test               7835 non-null   object \n",
      " 5   Location                   1642 non-null   object \n",
      " 6   Name                       7835 non-null   object \n",
      " 7   Category                   7835 non-null   object \n",
      " 8   Description                7834 non-null   object \n",
      " 9   Latitude                   7835 non-null   float64\n",
      " 10  Longitude                  7835 non-null   float64\n",
      " 11  Altitude                   7649 non-null   float64\n",
      " 12  Date verified              7835 non-null   object \n",
      " 13  Open                       7835 non-null   object \n",
      " 14  Electricity                7835 non-null   object \n",
      " 15  Wifi                       7835 non-null   object \n",
      " 16  Kitchen                    7835 non-null   object \n",
      " 17  Parking                    0 non-null      float64\n",
      " 18  Restaurant                 7835 non-null   object \n",
      " 19  Showers                    7835 non-null   object \n",
      " 20  Water                      7835 non-null   object \n",
      " 21  Toilets                    7835 non-null   object \n",
      " 22  Big rig friendly           7835 non-null   object \n",
      " 23  Tent friendly              7835 non-null   object \n",
      " 24  Pet friendly               7835 non-null   object \n",
      " 25  Sanitation dump station    3424 non-null   object \n",
      " 26  Outdoor gear               0 non-null      float64\n",
      " 27  Groceries                  0 non-null      float64\n",
      " 28  Artesian goods             0 non-null      float64\n",
      " 29  Bakery                     0 non-null      float64\n",
      " 30  Rarity in this area        0 non-null      float64\n",
      " 31  Repairs vehicles           0 non-null      float64\n",
      " 32  Repairs motorcycles        0 non-null      float64\n",
      " 33  Repairs bicycles           0 non-null      float64\n",
      " 34  Sells parts                0 non-null      float64\n",
      " 35  Recycles batteries         0 non-null      float64\n",
      " 36  Recycles oil               0 non-null      float64\n",
      " 37  Bio fuel                   0 non-null      float64\n",
      " 38  Electric vehicle charging  0 non-null      float64\n",
      " 39  Composting sawdust         0 non-null      float64\n",
      " 40  Recycling center           0 non-null      float64\n",
      " 41  zip_code                   6193 non-null   float64\n",
      " 42  State                      7835 non-null   object \n",
      " 43  water_binary               7835 non-null   float64\n",
      " 44  toilets_binary             7835 non-null   float64\n",
      " 45  lat_from_df                7835 non-null   float64\n",
      " 46  long_from_df               7835 non-null   float64\n",
      "dtypes: float64(26), int64(1), object(20)\n",
      "memory usage: 2.8+ MB\n"
     ]
    }
   ],
   "source": [
    "data.info()"
   ]
  },
  {
   "cell_type": "code",
   "execution_count": 9,
   "metadata": {},
   "outputs": [],
   "source": [
    "data = data[~data['Description'].isna()]"
   ]
  },
  {
   "cell_type": "code",
   "execution_count": 10,
   "metadata": {},
   "outputs": [
    {
     "name": "stdout",
     "output_type": "stream",
     "text": [
      "<class 'pandas.core.frame.DataFrame'>\n",
      "Int64Index: 7834 entries, 0 to 7834\n",
      "Data columns (total 47 columns):\n",
      " #   Column                     Non-Null Count  Dtype  \n",
      "---  ------                     --------------  -----  \n",
      " 0   filename                   7834 non-null   object \n",
      " 1   lat_from_file              7834 non-null   float64\n",
      " 2   long_from_file             7834 non-null   float64\n",
      " 3   order                      7834 non-null   int64  \n",
      " 4   latlong_test               7834 non-null   object \n",
      " 5   Location                   1641 non-null   object \n",
      " 6   Name                       7834 non-null   object \n",
      " 7   Category                   7834 non-null   object \n",
      " 8   Description                7834 non-null   object \n",
      " 9   Latitude                   7834 non-null   float64\n",
      " 10  Longitude                  7834 non-null   float64\n",
      " 11  Altitude                   7649 non-null   float64\n",
      " 12  Date verified              7834 non-null   object \n",
      " 13  Open                       7834 non-null   object \n",
      " 14  Electricity                7834 non-null   object \n",
      " 15  Wifi                       7834 non-null   object \n",
      " 16  Kitchen                    7834 non-null   object \n",
      " 17  Parking                    0 non-null      float64\n",
      " 18  Restaurant                 7834 non-null   object \n",
      " 19  Showers                    7834 non-null   object \n",
      " 20  Water                      7834 non-null   object \n",
      " 21  Toilets                    7834 non-null   object \n",
      " 22  Big rig friendly           7834 non-null   object \n",
      " 23  Tent friendly              7834 non-null   object \n",
      " 24  Pet friendly               7834 non-null   object \n",
      " 25  Sanitation dump station    3423 non-null   object \n",
      " 26  Outdoor gear               0 non-null      float64\n",
      " 27  Groceries                  0 non-null      float64\n",
      " 28  Artesian goods             0 non-null      float64\n",
      " 29  Bakery                     0 non-null      float64\n",
      " 30  Rarity in this area        0 non-null      float64\n",
      " 31  Repairs vehicles           0 non-null      float64\n",
      " 32  Repairs motorcycles        0 non-null      float64\n",
      " 33  Repairs bicycles           0 non-null      float64\n",
      " 34  Sells parts                0 non-null      float64\n",
      " 35  Recycles batteries         0 non-null      float64\n",
      " 36  Recycles oil               0 non-null      float64\n",
      " 37  Bio fuel                   0 non-null      float64\n",
      " 38  Electric vehicle charging  0 non-null      float64\n",
      " 39  Composting sawdust         0 non-null      float64\n",
      " 40  Recycling center           0 non-null      float64\n",
      " 41  zip_code                   6193 non-null   float64\n",
      " 42  State                      7834 non-null   object \n",
      " 43  water_binary               7834 non-null   float64\n",
      " 44  toilets_binary             7834 non-null   float64\n",
      " 45  lat_from_df                7834 non-null   float64\n",
      " 46  long_from_df               7834 non-null   float64\n",
      "dtypes: float64(26), int64(1), object(20)\n",
      "memory usage: 2.9+ MB\n"
     ]
    }
   ],
   "source": [
    "data.info()"
   ]
  },
  {
   "cell_type": "code",
   "execution_count": 11,
   "metadata": {},
   "outputs": [
    {
     "data": {
      "text/plain": [
       "array(['Wild Camping', 'Established Campground'], dtype=object)"
      ]
     },
     "execution_count": 11,
     "metadata": {},
     "output_type": "execute_result"
    }
   ],
   "source": [
    "data['Category'].unique()"
   ]
  },
  {
   "cell_type": "code",
   "execution_count": 12,
   "metadata": {},
   "outputs": [],
   "source": [
    "# add words to stopwords\n",
    "from sklearn.feature_extraction import text \n",
    "my_additional_stop_words = ['free', 'nice', 'good', 'spot', 'area']\n",
    "stop_words = text.ENGLISH_STOP_WORDS.union(my_additional_stop_words)"
   ]
  },
  {
   "cell_type": "code",
   "execution_count": 13,
   "metadata": {},
   "outputs": [],
   "source": [
    "tfidf = TfidfVectorizer(stop_words=stop_words, max_features=10_000, max_df=0.9)\n",
    "all_desc_tfidf_matrix = tfidf.fit_transform(data['Description'])\n",
    "k = 3\n",
    "wild_est_features = tfidf.get_feature_names()\n",
    "wild_est_data_cluster_cats, wild_est_cluster_feats, site_clusters = my_funcs.run_kmeans(all_desc_tfidf_matrix, data, wild_est_features, k, seed=42, provide_clusters=True)"
   ]
  },
  {
   "cell_type": "code",
   "execution_count": 14,
   "metadata": {},
   "outputs": [
    {
     "data": {
      "text/plain": [
       "{0: 'road, forest, dirt, spots, just, quiet, service, creek, river, right, small, camping, gravel, pull, little, site, camp, view, national, great',\n",
       " 1: 'campground, sites, water, showers, park, night, toilets, lake, rv, site, clean, tent, tables, pit, hot, picnic, available, 20, river, camping',\n",
       " 2: 'parking, place, quiet, night, camping, lot, park, great, overnight, river, big, near, street, beautiful, view, large, highway, just, lake, lots'}"
      ]
     },
     "execution_count": 14,
     "metadata": {},
     "output_type": "execute_result"
    }
   ],
   "source": [
    "wild_est_cluster_feats"
   ]
  },
  {
   "cell_type": "code",
   "execution_count": 15,
   "metadata": {},
   "outputs": [],
   "source": [
    "clust_names = ['wild_camp', 'est_camp', 'road_spot'] #['service station', 'RV park type', 'pull off camp', 'open camping', 'informal']\n",
    "wild_est_data_cat_summary, wild_est_cat_df = my_funcs.get_cat_summary(wild_est_data_cluster_cats, wild_est_cluster_feats, clust_names)"
   ]
  },
  {
   "cell_type": "code",
   "execution_count": 16,
   "metadata": {
    "scrolled": false
   },
   "outputs": [
    {
     "data": {
      "text/html": [
       "<div>\n",
       "<style scoped>\n",
       "    .dataframe tbody tr th:only-of-type {\n",
       "        vertical-align: middle;\n",
       "    }\n",
       "\n",
       "    .dataframe tbody tr th {\n",
       "        vertical-align: top;\n",
       "    }\n",
       "\n",
       "    .dataframe thead th {\n",
       "        text-align: right;\n",
       "    }\n",
       "</style>\n",
       "<table border=\"1\" class=\"dataframe\">\n",
       "  <thead>\n",
       "    <tr style=\"text-align: right;\">\n",
       "      <th></th>\n",
       "      <th>cluster</th>\n",
       "      <th>category</th>\n",
       "      <th>count</th>\n",
       "      <th>pct_total</th>\n",
       "      <th>top words</th>\n",
       "      <th>cluster name</th>\n",
       "    </tr>\n",
       "  </thead>\n",
       "  <tbody>\n",
       "    <tr>\n",
       "      <th>0</th>\n",
       "      <td>0</td>\n",
       "      <td>Wild Camping</td>\n",
       "      <td>1948</td>\n",
       "      <td>88.380</td>\n",
       "      <td>road, forest, dirt, spots, just, quiet, servic...</td>\n",
       "      <td>wild_camp</td>\n",
       "    </tr>\n",
       "    <tr>\n",
       "      <th>2</th>\n",
       "      <td>1</td>\n",
       "      <td>Established Campground</td>\n",
       "      <td>2301</td>\n",
       "      <td>94.730</td>\n",
       "      <td>campground, sites, water, showers, park, night...</td>\n",
       "      <td>est_camp</td>\n",
       "    </tr>\n",
       "    <tr>\n",
       "      <th>4</th>\n",
       "      <td>2</td>\n",
       "      <td>Wild Camping</td>\n",
       "      <td>2335</td>\n",
       "      <td>72.950</td>\n",
       "      <td>parking, place, quiet, night, camping, lot, pa...</td>\n",
       "      <td>road_spot</td>\n",
       "    </tr>\n",
       "  </tbody>\n",
       "</table>\n",
       "</div>"
      ],
      "text/plain": [
       "  cluster                category  count  pct_total  \\\n",
       "0       0            Wild Camping   1948     88.380   \n",
       "2       1  Established Campground   2301     94.730   \n",
       "4       2            Wild Camping   2335     72.950   \n",
       "\n",
       "                                           top words cluster name  \n",
       "0  road, forest, dirt, spots, just, quiet, servic...    wild_camp  \n",
       "2  campground, sites, water, showers, park, night...     est_camp  \n",
       "4  parking, place, quiet, night, camping, lot, pa...    road_spot  "
      ]
     },
     "execution_count": 16,
     "metadata": {},
     "output_type": "execute_result"
    }
   ],
   "source": [
    "wild_est_data_cat_summary"
   ]
  },
  {
   "cell_type": "code",
   "execution_count": 17,
   "metadata": {},
   "outputs": [
    {
     "data": {
      "text/html": [
       "<div>\n",
       "<style scoped>\n",
       "    .dataframe tbody tr th:only-of-type {\n",
       "        vertical-align: middle;\n",
       "    }\n",
       "\n",
       "    .dataframe tbody tr th {\n",
       "        vertical-align: top;\n",
       "    }\n",
       "\n",
       "    .dataframe thead th {\n",
       "        text-align: right;\n",
       "    }\n",
       "</style>\n",
       "<table border=\"1\" class=\"dataframe\">\n",
       "  <thead>\n",
       "    <tr style=\"text-align: right;\">\n",
       "      <th></th>\n",
       "      <th>cluster</th>\n",
       "      <th>category</th>\n",
       "      <th>count</th>\n",
       "      <th>pct_total</th>\n",
       "    </tr>\n",
       "  </thead>\n",
       "  <tbody>\n",
       "    <tr>\n",
       "      <th>0</th>\n",
       "      <td>0</td>\n",
       "      <td>Wild Camping</td>\n",
       "      <td>1948</td>\n",
       "      <td>88.380</td>\n",
       "    </tr>\n",
       "    <tr>\n",
       "      <th>1</th>\n",
       "      <td>0</td>\n",
       "      <td>Established Campground</td>\n",
       "      <td>256</td>\n",
       "      <td>11.620</td>\n",
       "    </tr>\n",
       "    <tr>\n",
       "      <th>2</th>\n",
       "      <td>1</td>\n",
       "      <td>Established Campground</td>\n",
       "      <td>2301</td>\n",
       "      <td>94.730</td>\n",
       "    </tr>\n",
       "    <tr>\n",
       "      <th>3</th>\n",
       "      <td>1</td>\n",
       "      <td>Wild Camping</td>\n",
       "      <td>128</td>\n",
       "      <td>5.270</td>\n",
       "    </tr>\n",
       "    <tr>\n",
       "      <th>4</th>\n",
       "      <td>2</td>\n",
       "      <td>Wild Camping</td>\n",
       "      <td>2335</td>\n",
       "      <td>72.950</td>\n",
       "    </tr>\n",
       "    <tr>\n",
       "      <th>5</th>\n",
       "      <td>2</td>\n",
       "      <td>Established Campground</td>\n",
       "      <td>866</td>\n",
       "      <td>27.050</td>\n",
       "    </tr>\n",
       "  </tbody>\n",
       "</table>\n",
       "</div>"
      ],
      "text/plain": [
       "  cluster                category  count  pct_total\n",
       "0       0            Wild Camping   1948     88.380\n",
       "1       0  Established Campground    256     11.620\n",
       "2       1  Established Campground   2301     94.730\n",
       "3       1            Wild Camping    128      5.270\n",
       "4       2            Wild Camping   2335     72.950\n",
       "5       2  Established Campground    866     27.050"
      ]
     },
     "execution_count": 17,
     "metadata": {},
     "output_type": "execute_result"
    }
   ],
   "source": [
    "wild_est_cat_df"
   ]
  },
  {
   "cell_type": "code",
   "execution_count": 18,
   "metadata": {
    "scrolled": true
   },
   "outputs": [
    {
     "data": {
      "text/plain": [
       "Category\n",
       "Established Campground    3423\n",
       "Wild Camping              4411\n",
       "Name: Name, dtype: int64"
      ]
     },
     "execution_count": 18,
     "metadata": {},
     "output_type": "execute_result"
    }
   ],
   "source": [
    "data.groupby(by='Category').agg('count')['Name']"
   ]
  },
  {
   "cell_type": "code",
   "execution_count": 19,
   "metadata": {},
   "outputs": [],
   "source": [
    "# assign each site (row) with the cluster label\n",
    "data_clusters = data.copy()\n",
    "data_clusters['cluster_label'] = site_clusters"
   ]
  },
  {
   "cell_type": "code",
   "execution_count": 20,
   "metadata": {},
   "outputs": [],
   "source": [
    "for i, label in enumerate(clust_names):\n",
    "    data_clusters['cluster_label'].replace(i, label, inplace=True)"
   ]
  },
  {
   "cell_type": "code",
   "execution_count": 21,
   "metadata": {
    "scrolled": false
   },
   "outputs": [
    {
     "name": "stdout",
     "output_type": "stream",
     "text": [
      "<class 'pandas.core.frame.DataFrame'>\n",
      "Int64Index: 7834 entries, 0 to 7834\n",
      "Data columns (total 48 columns):\n",
      " #   Column                     Non-Null Count  Dtype  \n",
      "---  ------                     --------------  -----  \n",
      " 0   filename                   7834 non-null   object \n",
      " 1   lat_from_file              7834 non-null   float64\n",
      " 2   long_from_file             7834 non-null   float64\n",
      " 3   order                      7834 non-null   int64  \n",
      " 4   latlong_test               7834 non-null   object \n",
      " 5   Location                   1641 non-null   object \n",
      " 6   Name                       7834 non-null   object \n",
      " 7   Category                   7834 non-null   object \n",
      " 8   Description                7834 non-null   object \n",
      " 9   Latitude                   7834 non-null   float64\n",
      " 10  Longitude                  7834 non-null   float64\n",
      " 11  Altitude                   7649 non-null   float64\n",
      " 12  Date verified              7834 non-null   object \n",
      " 13  Open                       7834 non-null   object \n",
      " 14  Electricity                7834 non-null   object \n",
      " 15  Wifi                       7834 non-null   object \n",
      " 16  Kitchen                    7834 non-null   object \n",
      " 17  Parking                    0 non-null      float64\n",
      " 18  Restaurant                 7834 non-null   object \n",
      " 19  Showers                    7834 non-null   object \n",
      " 20  Water                      7834 non-null   object \n",
      " 21  Toilets                    7834 non-null   object \n",
      " 22  Big rig friendly           7834 non-null   object \n",
      " 23  Tent friendly              7834 non-null   object \n",
      " 24  Pet friendly               7834 non-null   object \n",
      " 25  Sanitation dump station    3423 non-null   object \n",
      " 26  Outdoor gear               0 non-null      float64\n",
      " 27  Groceries                  0 non-null      float64\n",
      " 28  Artesian goods             0 non-null      float64\n",
      " 29  Bakery                     0 non-null      float64\n",
      " 30  Rarity in this area        0 non-null      float64\n",
      " 31  Repairs vehicles           0 non-null      float64\n",
      " 32  Repairs motorcycles        0 non-null      float64\n",
      " 33  Repairs bicycles           0 non-null      float64\n",
      " 34  Sells parts                0 non-null      float64\n",
      " 35  Recycles batteries         0 non-null      float64\n",
      " 36  Recycles oil               0 non-null      float64\n",
      " 37  Bio fuel                   0 non-null      float64\n",
      " 38  Electric vehicle charging  0 non-null      float64\n",
      " 39  Composting sawdust         0 non-null      float64\n",
      " 40  Recycling center           0 non-null      float64\n",
      " 41  zip_code                   6193 non-null   float64\n",
      " 42  State                      7834 non-null   object \n",
      " 43  water_binary               7834 non-null   float64\n",
      " 44  toilets_binary             7834 non-null   float64\n",
      " 45  lat_from_df                7834 non-null   float64\n",
      " 46  long_from_df               7834 non-null   float64\n",
      " 47  cluster_label              7834 non-null   object \n",
      "dtypes: float64(26), int64(1), object(21)\n",
      "memory usage: 2.9+ MB\n"
     ]
    }
   ],
   "source": [
    "data_clusters.info()"
   ]
  },
  {
   "cell_type": "code",
   "execution_count": 22,
   "metadata": {},
   "outputs": [],
   "source": [
    "data_clusters['filename'] = data_clusters['filename'] + '.png'"
   ]
  },
  {
   "cell_type": "code",
   "execution_count": 33,
   "metadata": {},
   "outputs": [
    {
     "data": {
      "text/plain": [
       "'satimg_CO__352_Wild Camping_17_38.98102_-107.32651.png'"
      ]
     },
     "execution_count": 33,
     "metadata": {},
     "output_type": "execute_result"
    }
   ],
   "source": [
    "data_clusters.iloc[0,0]"
   ]
  },
  {
   "cell_type": "code",
   "execution_count": 24,
   "metadata": {},
   "outputs": [],
   "source": [
    "# create symlink dirs of these images with the clusters as labels"
   ]
  },
  {
   "cell_type": "code",
   "execution_count": 28,
   "metadata": {},
   "outputs": [],
   "source": [
    "directory = '/Users/pault/Desktop/github/CampsitePredict/data/sat_images/'\n",
    "destination = '/Users/pault/Desktop/github/CampsitePredict/data/symlink_data/'\n",
    "dest_dir_name = 'wild_est_NLP_labels'\n",
    "class_dirs = ['Wild Camping', 'Established Campground']"
   ]
  },
  {
   "cell_type": "code",
   "execution_count": null,
   "metadata": {},
   "outputs": [],
   "source": [
    "if 'satimg_CO__352_Wild Camping_17_38.98102_-107.32651.png' in filenames_dict.haskey():\n",
    "    print('yes')"
   ]
  },
  {
   "cell_type": "code",
   "execution_count": 69,
   "metadata": {},
   "outputs": [],
   "source": [
    "def make_symlinks_file_lists_new_dirs(directory, destination, dest_dir_name, class_dirs, df):\n",
    "    counter = 0\n",
    "    filedict = {}\n",
    "    # make list of files with name and path in dict\n",
    "    for root_path, dirs, files in os.walk(directory, followlinks=False):\n",
    "        for file in files:\n",
    "            if file.endswith(\".png\"):\n",
    "                filedict[file] = str(os.path.join(root_path, file))\n",
    "    # create symlink dir\n",
    "    symlink_dir_path = os.path.join(destination + dest_dir_name)\n",
    "#     print(symlink_dir_path)\n",
    "    if not os.path.isdir(symlink_dir_path):\n",
    "            os.makedirs(symlink_dir_path)\n",
    "    # now go through files\n",
    "    # get filenames and labels to copy\n",
    "    filenames_dict = dict(zip(df['filename'], df['cluster_label']))\n",
    "    test_list = []\n",
    "    for file, filepath in filedict.items():\n",
    "        # setup class directory name to check if it is a category we want to copy\n",
    "#         parent = os.path.basename(os.path.dirname(os.path.dirname(filepath)))\n",
    "#         print(parent)\n",
    "        subdir = os.path.basename(os.path.dirname(filepath))\n",
    "#         print(subdir)\n",
    "#         fullparent = os.path.join(sobel_dir + os.sep + parent + os.sep + subdir)\n",
    "        \n",
    "        # only copy files if in directories we want\n",
    "        if subdir in class_dirs:\n",
    "#             print(type(file))\n",
    "            \n",
    "            if file in filenames_dict:\n",
    "                test_list.append(file)\n",
    "    #             print(subdir)\n",
    "                # create symlink\n",
    "#                 print(filepath)\n",
    "                # use the filename / label dictionary to determine what the new directory will be called\n",
    "                destination_filepath = os.path.join(destination + dest_dir_name + os.sep + filenames_dict[file] + os.sep + file)\n",
    "#                 print(destination_filepath)\n",
    "                # create class dir if it doesn't exist\n",
    "                destination_class_dir = os.path.join(destination + dest_dir_name + os.sep + filenames_dict[file] + os.sep)\n",
    "    #             print(destination_class_dir)\n",
    "                if not os.path.isdir(destination_class_dir):\n",
    "                    os.makedirs(destination_class_dir)\n",
    "                # create destination filepath\n",
    "                os.symlink(filepath, destination_filepath, target_is_directory=False)\n",
    "                # ln -s ~/source/* wild_est_after_exc/Established\\ Campground/\n",
    "                counter += 1\n",
    "    print(f'{counter} files were created as symlinks.')\n",
    "    return test_list"
   ]
  },
  {
   "cell_type": "code",
   "execution_count": 70,
   "metadata": {},
   "outputs": [
    {
     "name": "stdout",
     "output_type": "stream",
     "text": [
      "7834 files were created as symlinks.\n"
     ]
    }
   ],
   "source": [
    "file_dict = make_symlinks_file_lists_new_dirs(directory, destination, dest_dir_name, class_dirs, data_clusters)"
   ]
  },
  {
   "cell_type": "code",
   "execution_count": 71,
   "metadata": {},
   "outputs": [],
   "source": [
    "# while we are doing this, we might as well try wild vs not wild.. so make binary labels\n",
    "data_clusters_binary = data_clusters.copy()"
   ]
  },
  {
   "cell_type": "code",
   "execution_count": 73,
   "metadata": {},
   "outputs": [],
   "source": [
    "data_clusters_binary['cluster_label'].replace('road_spot', 'est_camp', inplace=True)"
   ]
  },
  {
   "cell_type": "code",
   "execution_count": 76,
   "metadata": {},
   "outputs": [],
   "source": [
    "directory = '/Users/pault/Desktop/github/CampsitePredict/data/sat_images/'\n",
    "destination = '/Users/pault/Desktop/github/CampsitePredict/data/symlink_data/'\n",
    "dest_dir_name = 'wild_est_NLP_binary'\n",
    "class_dirs = ['Wild Camping', 'Established Campground']"
   ]
  },
  {
   "cell_type": "code",
   "execution_count": 77,
   "metadata": {},
   "outputs": [
    {
     "name": "stdout",
     "output_type": "stream",
     "text": [
      "7834 files were created as symlinks.\n"
     ]
    }
   ],
   "source": [
    "file_dict = make_symlinks_file_lists_new_dirs(directory, destination, dest_dir_name, class_dirs, data_clusters_binary)"
   ]
  },
  {
   "cell_type": "code",
   "execution_count": null,
   "metadata": {},
   "outputs": [],
   "source": []
  }
 ],
 "metadata": {
  "kernelspec": {
   "display_name": "Python 3",
   "language": "python",
   "name": "python3"
  },
  "language_info": {
   "codemirror_mode": {
    "name": "ipython",
    "version": 3
   },
   "file_extension": ".py",
   "mimetype": "text/x-python",
   "name": "python",
   "nbconvert_exporter": "python",
   "pygments_lexer": "ipython3",
   "version": "3.7.7"
  }
 },
 "nbformat": 4,
 "nbformat_minor": 4
}
