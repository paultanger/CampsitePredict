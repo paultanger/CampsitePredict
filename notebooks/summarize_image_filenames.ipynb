{
 "cells": [
  {
   "cell_type": "code",
   "execution_count": 98,
   "metadata": {},
   "outputs": [
    {
     "name": "stdout",
     "output_type": "stream",
     "text": [
      "The autoreload extension is already loaded. To reload it, use:\n",
      "  %reload_ext autoreload\n"
     ]
    }
   ],
   "source": [
    "import numpy as np\n",
    "import pandas as pd\n",
    "import matplotlib.pyplot as plt\n",
    "import seaborn as sns\n",
    "from scipy import stats\n",
    "%matplotlib inline\n",
    "pd.options.display.float_format = '{:,.10f}'.format\n",
    "plt.style.use('seaborn-white')\n",
    "# colorblind safe\n",
    "plt.style.use('seaborn-colorblind')\n",
    "plt.style.use('tableau-colorblind10')\n",
    "\n",
    "# width and precision for f strings\n",
    "width = 10\n",
    "precision = 4\n",
    "\n",
    "# default sizes for plots\n",
    "# https://matplotlib.org/3.3.0/tutorials/introductory/customizing.html#customizing-with-matplotlibrc-files\n",
    "plt.rcParams['figure.figsize'] = [10, 6]\n",
    "plt.rcParams['font.size'] = 16\n",
    "plt.rcParams['legend.fontsize'] = 'large'\n",
    "plt.rcParams['figure.titlesize'] = 'medium'\n",
    "plt.rcParams['lines.linewidth'] = 2\n",
    "\n",
    "# other settings\n",
    "# pd.set_option(\"display.precision\", 3)\n",
    "# np.set_printoptions(precision=3, suppress=True)\n",
    "%load_ext autoreload\n",
    "%autoreload 2\n",
    "pd.set_option('display.max_columns', None)\n",
    "%config IPCompleter.greedy=True"
   ]
  },
  {
   "cell_type": "code",
   "execution_count": 99,
   "metadata": {},
   "outputs": [],
   "source": [
    "# setup dir and import helper functions\n",
    "import sys, os\n",
    "sys.path.append(os.path.join(os.path.dirname(sys.path[0]),'src'))\n",
    "import helper_funcs as my_funcs\n",
    "import re"
   ]
  },
  {
   "cell_type": "code",
   "execution_count": 100,
   "metadata": {},
   "outputs": [],
   "source": [
    "directory = '/Users/pault/Desktop/github/CampsitePredict/data/symlink_data/only_unaugmented'"
   ]
  },
  {
   "cell_type": "code",
   "execution_count": 101,
   "metadata": {},
   "outputs": [],
   "source": [
    "# get list of images in os.walk order\n",
    "filelist = []\n",
    "for root_path, dirs, files in os.walk(directory, followlinks=False):\n",
    "    for file in files:\n",
    "        if file.endswith(\".png\"):\n",
    "            # only keep original files not augmented\n",
    "            if not re.search('rot[0-9]{2,3}.png$', file):\n",
    "                # parse out part of filename\n",
    "                filelist.append(file[:-4])"
   ]
  },
  {
   "cell_type": "code",
   "execution_count": 102,
   "metadata": {},
   "outputs": [],
   "source": [
    "file_df = pd.DataFrame(filelist)"
   ]
  },
  {
   "cell_type": "code",
   "execution_count": 103,
   "metadata": {},
   "outputs": [
    {
     "data": {
      "text/plain": [
       "['satimg_CO__352_Wild Camping_17_38.98102_-107.32651',\n",
       " 'satimg_ID_7863_Wild Camping_17_43.149667_-111.052531',\n",
       " 'satimg_TX_6214_Wild Camping_17_35.2375_-102.83496099999999',\n",
       " 'satimg_CO__216_Wild Camping_17_39.337122_-107.660378',\n",
       " 'satimg_AZ_6033_Wild Camping_17_34.169239000000005_-110.794278',\n",
       " 'satimg_MI_6491_Wild Camping_17_46.76277_-85.02438000000002',\n",
       " 'satimg_UT_2806_Wild Camping_17_37.84661_-111.428193',\n",
       " 'satimg_AK_12112_Wild Camping_17_63.887170999999995_-149.348656',\n",
       " 'satimg_OR_6000_Wild Camping_17_44.413897_-120.495699',\n",
       " 'satimg_PA_2971_Wild Camping_17_41.430395_-78.883376']"
      ]
     },
     "execution_count": 103,
     "metadata": {},
     "output_type": "execute_result"
    }
   ],
   "source": [
    "filelist[:10]"
   ]
  },
  {
   "cell_type": "code",
   "execution_count": 104,
   "metadata": {},
   "outputs": [],
   "source": [
    "# make index to reorder the df the same\n",
    "image_file_df = pd.DataFrame(filelist, columns =['filename']) "
   ]
  },
  {
   "cell_type": "code",
   "execution_count": 105,
   "metadata": {},
   "outputs": [
    {
     "data": {
      "text/html": [
       "<div>\n",
       "<style scoped>\n",
       "    .dataframe tbody tr th:only-of-type {\n",
       "        vertical-align: middle;\n",
       "    }\n",
       "\n",
       "    .dataframe tbody tr th {\n",
       "        vertical-align: top;\n",
       "    }\n",
       "\n",
       "    .dataframe thead th {\n",
       "        text-align: right;\n",
       "    }\n",
       "</style>\n",
       "<table border=\"1\" class=\"dataframe\">\n",
       "  <thead>\n",
       "    <tr style=\"text-align: right;\">\n",
       "      <th></th>\n",
       "      <th>filename</th>\n",
       "    </tr>\n",
       "  </thead>\n",
       "  <tbody>\n",
       "    <tr>\n",
       "      <th>0</th>\n",
       "      <td>satimg_CO__352_Wild Camping_17_38.98102_-107.32651</td>\n",
       "    </tr>\n",
       "    <tr>\n",
       "      <th>1</th>\n",
       "      <td>satimg_ID_7863_Wild Camping_17_43.149667_-111.052531</td>\n",
       "    </tr>\n",
       "    <tr>\n",
       "      <th>2</th>\n",
       "      <td>satimg_TX_6214_Wild Camping_17_35.2375_-102.83496099999999</td>\n",
       "    </tr>\n",
       "    <tr>\n",
       "      <th>3</th>\n",
       "      <td>satimg_CO__216_Wild Camping_17_39.337122_-107.660378</td>\n",
       "    </tr>\n",
       "    <tr>\n",
       "      <th>4</th>\n",
       "      <td>satimg_AZ_6033_Wild Camping_17_34.169239000000005_-110.794278</td>\n",
       "    </tr>\n",
       "    <tr>\n",
       "      <th>...</th>\n",
       "      <td>...</td>\n",
       "    </tr>\n",
       "    <tr>\n",
       "      <th>7850</th>\n",
       "      <td>satimg_UT_1580_Established Campground_17_38.482453_-109.741828</td>\n",
       "    </tr>\n",
       "    <tr>\n",
       "      <th>7851</th>\n",
       "      <td>satimg_FL_3132_Established Campground_17_25.849862_-80.989081</td>\n",
       "    </tr>\n",
       "    <tr>\n",
       "      <th>7852</th>\n",
       "      <td>satimg_TN_3372_Established Campground_17_35.613972_-88.040368</td>\n",
       "    </tr>\n",
       "    <tr>\n",
       "      <th>7853</th>\n",
       "      <td>satimg_SD_2626_Established Campground_17_44.361324_-97.13078</td>\n",
       "    </tr>\n",
       "    <tr>\n",
       "      <th>7854</th>\n",
       "      <td>satimg_TN_1296_Established Campground_17_36.55846_-87.9052</td>\n",
       "    </tr>\n",
       "  </tbody>\n",
       "</table>\n",
       "<p>7855 rows × 1 columns</p>\n",
       "</div>"
      ],
      "text/plain": [
       "                                                            filename\n",
       "0                 satimg_CO__352_Wild Camping_17_38.98102_-107.32651\n",
       "1               satimg_ID_7863_Wild Camping_17_43.149667_-111.052531\n",
       "2         satimg_TX_6214_Wild Camping_17_35.2375_-102.83496099999999\n",
       "3               satimg_CO__216_Wild Camping_17_39.337122_-107.660378\n",
       "4      satimg_AZ_6033_Wild Camping_17_34.169239000000005_-110.794278\n",
       "...                                                              ...\n",
       "7850  satimg_UT_1580_Established Campground_17_38.482453_-109.741828\n",
       "7851   satimg_FL_3132_Established Campground_17_25.849862_-80.989081\n",
       "7852   satimg_TN_3372_Established Campground_17_35.613972_-88.040368\n",
       "7853    satimg_SD_2626_Established Campground_17_44.361324_-97.13078\n",
       "7854      satimg_TN_1296_Established Campground_17_36.55846_-87.9052\n",
       "\n",
       "[7855 rows x 1 columns]"
      ]
     },
     "execution_count": 105,
     "metadata": {},
     "output_type": "execute_result"
    }
   ],
   "source": [
    "image_file_df"
   ]
  },
  {
   "cell_type": "code",
   "execution_count": 106,
   "metadata": {},
   "outputs": [],
   "source": [
    "def func(f, n=4):\n",
    "    result =['.'.join([j[:n] for j in i.split('.')]) for i in f['filename'].split('_')[-2:]]\n",
    "    return {'lat_from_file':result[0], 'long_from_file':result[1]}"
   ]
  },
  {
   "cell_type": "code",
   "execution_count": 107,
   "metadata": {},
   "outputs": [],
   "source": [
    "latlongs = image_file_df[['filename']].apply(func, axis = 1, result_type = 'expand')"
   ]
  },
  {
   "cell_type": "code",
   "execution_count": 108,
   "metadata": {},
   "outputs": [],
   "source": [
    "image_file_df = pd.concat([image_file_df, latlongs], axis=1)"
   ]
  },
  {
   "cell_type": "code",
   "execution_count": 109,
   "metadata": {},
   "outputs": [],
   "source": [
    "image_file_df['order'] = image_file_df.index"
   ]
  },
  {
   "cell_type": "code",
   "execution_count": 87,
   "metadata": {},
   "outputs": [],
   "source": [
    "# long = list(image_file_df['long_from_file'].values)"
   ]
  },
  {
   "cell_type": "code",
   "execution_count": 110,
   "metadata": {},
   "outputs": [
    {
     "data": {
      "text/html": [
       "<div>\n",
       "<style scoped>\n",
       "    .dataframe tbody tr th:only-of-type {\n",
       "        vertical-align: middle;\n",
       "    }\n",
       "\n",
       "    .dataframe tbody tr th {\n",
       "        vertical-align: top;\n",
       "    }\n",
       "\n",
       "    .dataframe thead th {\n",
       "        text-align: right;\n",
       "    }\n",
       "</style>\n",
       "<table border=\"1\" class=\"dataframe\">\n",
       "  <thead>\n",
       "    <tr style=\"text-align: right;\">\n",
       "      <th></th>\n",
       "      <th>filename</th>\n",
       "      <th>lat_from_file</th>\n",
       "      <th>long_from_file</th>\n",
       "      <th>order</th>\n",
       "    </tr>\n",
       "  </thead>\n",
       "  <tbody>\n",
       "    <tr>\n",
       "      <th>0</th>\n",
       "      <td>satimg_CO__352_Wild Camping_17_38.98102_-107.32651</td>\n",
       "      <td>38.9810</td>\n",
       "      <td>-107.3265</td>\n",
       "      <td>0</td>\n",
       "    </tr>\n",
       "    <tr>\n",
       "      <th>1</th>\n",
       "      <td>satimg_ID_7863_Wild Camping_17_43.149667_-111.052531</td>\n",
       "      <td>43.1496</td>\n",
       "      <td>-111.0525</td>\n",
       "      <td>1</td>\n",
       "    </tr>\n",
       "    <tr>\n",
       "      <th>2</th>\n",
       "      <td>satimg_TX_6214_Wild Camping_17_35.2375_-102.83496099999999</td>\n",
       "      <td>35.2375</td>\n",
       "      <td>-102.8349</td>\n",
       "      <td>2</td>\n",
       "    </tr>\n",
       "    <tr>\n",
       "      <th>3</th>\n",
       "      <td>satimg_CO__216_Wild Camping_17_39.337122_-107.660378</td>\n",
       "      <td>39.3371</td>\n",
       "      <td>-107.6603</td>\n",
       "      <td>3</td>\n",
       "    </tr>\n",
       "    <tr>\n",
       "      <th>4</th>\n",
       "      <td>satimg_AZ_6033_Wild Camping_17_34.169239000000005_-110.794278</td>\n",
       "      <td>34.1692</td>\n",
       "      <td>-110.7942</td>\n",
       "      <td>4</td>\n",
       "    </tr>\n",
       "    <tr>\n",
       "      <th>5</th>\n",
       "      <td>satimg_MI_6491_Wild Camping_17_46.76277_-85.02438000000002</td>\n",
       "      <td>46.7627</td>\n",
       "      <td>-85.0243</td>\n",
       "      <td>5</td>\n",
       "    </tr>\n",
       "    <tr>\n",
       "      <th>6</th>\n",
       "      <td>satimg_UT_2806_Wild Camping_17_37.84661_-111.428193</td>\n",
       "      <td>37.8466</td>\n",
       "      <td>-111.4281</td>\n",
       "      <td>6</td>\n",
       "    </tr>\n",
       "    <tr>\n",
       "      <th>7</th>\n",
       "      <td>satimg_AK_12112_Wild Camping_17_63.887170999999995_-149.348656</td>\n",
       "      <td>63.8871</td>\n",
       "      <td>-149.3486</td>\n",
       "      <td>7</td>\n",
       "    </tr>\n",
       "    <tr>\n",
       "      <th>8</th>\n",
       "      <td>satimg_OR_6000_Wild Camping_17_44.413897_-120.495699</td>\n",
       "      <td>44.4138</td>\n",
       "      <td>-120.4956</td>\n",
       "      <td>8</td>\n",
       "    </tr>\n",
       "    <tr>\n",
       "      <th>9</th>\n",
       "      <td>satimg_PA_2971_Wild Camping_17_41.430395_-78.883376</td>\n",
       "      <td>41.4303</td>\n",
       "      <td>-78.8833</td>\n",
       "      <td>9</td>\n",
       "    </tr>\n",
       "    <tr>\n",
       "      <th>10</th>\n",
       "      <td>satimg_WA_8380_Wild Camping_17_47.3967_-123.585683</td>\n",
       "      <td>47.3967</td>\n",
       "      <td>-123.5856</td>\n",
       "      <td>10</td>\n",
       "    </tr>\n",
       "    <tr>\n",
       "      <th>11</th>\n",
       "      <td>satimg_ID_11363_Wild Camping_17_44.10729_-111.1417</td>\n",
       "      <td>44.1072</td>\n",
       "      <td>-111.1417</td>\n",
       "      <td>11</td>\n",
       "    </tr>\n",
       "    <tr>\n",
       "      <th>12</th>\n",
       "      <td>satimg_CA_5739_Wild Camping_17_38.46495_-121.50308</td>\n",
       "      <td>38.4649</td>\n",
       "      <td>-121.5030</td>\n",
       "      <td>12</td>\n",
       "    </tr>\n",
       "  </tbody>\n",
       "</table>\n",
       "</div>"
      ],
      "text/plain": [
       "                                                          filename  \\\n",
       "0               satimg_CO__352_Wild Camping_17_38.98102_-107.32651   \n",
       "1             satimg_ID_7863_Wild Camping_17_43.149667_-111.052531   \n",
       "2       satimg_TX_6214_Wild Camping_17_35.2375_-102.83496099999999   \n",
       "3             satimg_CO__216_Wild Camping_17_39.337122_-107.660378   \n",
       "4    satimg_AZ_6033_Wild Camping_17_34.169239000000005_-110.794278   \n",
       "5       satimg_MI_6491_Wild Camping_17_46.76277_-85.02438000000002   \n",
       "6              satimg_UT_2806_Wild Camping_17_37.84661_-111.428193   \n",
       "7   satimg_AK_12112_Wild Camping_17_63.887170999999995_-149.348656   \n",
       "8             satimg_OR_6000_Wild Camping_17_44.413897_-120.495699   \n",
       "9              satimg_PA_2971_Wild Camping_17_41.430395_-78.883376   \n",
       "10              satimg_WA_8380_Wild Camping_17_47.3967_-123.585683   \n",
       "11              satimg_ID_11363_Wild Camping_17_44.10729_-111.1417   \n",
       "12              satimg_CA_5739_Wild Camping_17_38.46495_-121.50308   \n",
       "\n",
       "   lat_from_file long_from_file  order  \n",
       "0        38.9810      -107.3265      0  \n",
       "1        43.1496      -111.0525      1  \n",
       "2        35.2375      -102.8349      2  \n",
       "3        39.3371      -107.6603      3  \n",
       "4        34.1692      -110.7942      4  \n",
       "5        46.7627       -85.0243      5  \n",
       "6        37.8466      -111.4281      6  \n",
       "7        63.8871      -149.3486      7  \n",
       "8        44.4138      -120.4956      8  \n",
       "9        41.4303       -78.8833      9  \n",
       "10       47.3967      -123.5856     10  \n",
       "11       44.1072      -111.1417     11  \n",
       "12       38.4649      -121.5030     12  "
      ]
     },
     "execution_count": 110,
     "metadata": {},
     "output_type": "execute_result"
    }
   ],
   "source": [
    "image_file_df.head(13)"
   ]
  },
  {
   "cell_type": "code",
   "execution_count": 111,
   "metadata": {
    "scrolled": true
   },
   "outputs": [
    {
     "data": {
      "text/plain": [
       "7855"
      ]
     },
     "execution_count": 111,
     "metadata": {},
     "output_type": "execute_result"
    }
   ],
   "source": [
    "len(image_file_df['filename'].unique())"
   ]
  },
  {
   "cell_type": "code",
   "execution_count": 112,
   "metadata": {
    "scrolled": true
   },
   "outputs": [
    {
     "name": "stdout",
     "output_type": "stream",
     "text": [
      "<class 'pandas.core.frame.DataFrame'>\n",
      "RangeIndex: 7855 entries, 0 to 7854\n",
      "Data columns (total 4 columns):\n",
      " #   Column          Non-Null Count  Dtype \n",
      "---  ------          --------------  ----- \n",
      " 0   filename        7855 non-null   object\n",
      " 1   lat_from_file   7855 non-null   object\n",
      " 2   long_from_file  7855 non-null   object\n",
      " 3   order           7855 non-null   int64 \n",
      "dtypes: int64(1), object(3)\n",
      "memory usage: 245.6+ KB\n"
     ]
    }
   ],
   "source": [
    "image_file_df.info()"
   ]
  },
  {
   "cell_type": "code",
   "execution_count": 113,
   "metadata": {},
   "outputs": [
    {
     "data": {
      "text/plain": [
       "filename          satimg_CA_4982_Wild Camping_17_33.75881500000001_-118.14552\n",
       "lat_from_file                                                         33.7588\n",
       "long_from_file                                                      -118.1455\n",
       "order                                                                      79\n",
       "Name: 79, dtype: object"
      ]
     },
     "execution_count": 113,
     "metadata": {},
     "output_type": "execute_result"
    }
   ],
   "source": [
    "pd.set_option('max_colwidth', None)\n",
    "image_file_df.iloc[79]"
   ]
  },
  {
   "cell_type": "code",
   "execution_count": 114,
   "metadata": {},
   "outputs": [],
   "source": [
    "image_file_df2 = image_file_df.copy()\n",
    "image_file_df2['latlong_test'] = image_file_df2['lat_from_file'].astype('str') + '_' + image_file_df2['long_from_file'].astype('str')"
   ]
  },
  {
   "cell_type": "code",
   "execution_count": 115,
   "metadata": {},
   "outputs": [
    {
     "data": {
      "text/html": [
       "<div>\n",
       "<style scoped>\n",
       "    .dataframe tbody tr th:only-of-type {\n",
       "        vertical-align: middle;\n",
       "    }\n",
       "\n",
       "    .dataframe tbody tr th {\n",
       "        vertical-align: top;\n",
       "    }\n",
       "\n",
       "    .dataframe thead th {\n",
       "        text-align: right;\n",
       "    }\n",
       "</style>\n",
       "<table border=\"1\" class=\"dataframe\">\n",
       "  <thead>\n",
       "    <tr style=\"text-align: right;\">\n",
       "      <th></th>\n",
       "      <th>filename</th>\n",
       "      <th>lat_from_file</th>\n",
       "      <th>long_from_file</th>\n",
       "      <th>order</th>\n",
       "      <th>latlong_test</th>\n",
       "    </tr>\n",
       "  </thead>\n",
       "  <tbody>\n",
       "    <tr>\n",
       "      <th>0</th>\n",
       "      <td>satimg_CO__352_Wild Camping_17_38.98102_-107.32651</td>\n",
       "      <td>38.9810</td>\n",
       "      <td>-107.3265</td>\n",
       "      <td>0</td>\n",
       "      <td>38.9810_-107.3265</td>\n",
       "    </tr>\n",
       "    <tr>\n",
       "      <th>1</th>\n",
       "      <td>satimg_ID_7863_Wild Camping_17_43.149667_-111.052531</td>\n",
       "      <td>43.1496</td>\n",
       "      <td>-111.0525</td>\n",
       "      <td>1</td>\n",
       "      <td>43.1496_-111.0525</td>\n",
       "    </tr>\n",
       "    <tr>\n",
       "      <th>2</th>\n",
       "      <td>satimg_TX_6214_Wild Camping_17_35.2375_-102.83496099999999</td>\n",
       "      <td>35.2375</td>\n",
       "      <td>-102.8349</td>\n",
       "      <td>2</td>\n",
       "      <td>35.2375_-102.8349</td>\n",
       "    </tr>\n",
       "    <tr>\n",
       "      <th>3</th>\n",
       "      <td>satimg_CO__216_Wild Camping_17_39.337122_-107.660378</td>\n",
       "      <td>39.3371</td>\n",
       "      <td>-107.6603</td>\n",
       "      <td>3</td>\n",
       "      <td>39.3371_-107.6603</td>\n",
       "    </tr>\n",
       "    <tr>\n",
       "      <th>4</th>\n",
       "      <td>satimg_AZ_6033_Wild Camping_17_34.169239000000005_-110.794278</td>\n",
       "      <td>34.1692</td>\n",
       "      <td>-110.7942</td>\n",
       "      <td>4</td>\n",
       "      <td>34.1692_-110.7942</td>\n",
       "    </tr>\n",
       "  </tbody>\n",
       "</table>\n",
       "</div>"
      ],
      "text/plain": [
       "                                                        filename  \\\n",
       "0             satimg_CO__352_Wild Camping_17_38.98102_-107.32651   \n",
       "1           satimg_ID_7863_Wild Camping_17_43.149667_-111.052531   \n",
       "2     satimg_TX_6214_Wild Camping_17_35.2375_-102.83496099999999   \n",
       "3           satimg_CO__216_Wild Camping_17_39.337122_-107.660378   \n",
       "4  satimg_AZ_6033_Wild Camping_17_34.169239000000005_-110.794278   \n",
       "\n",
       "  lat_from_file long_from_file  order       latlong_test  \n",
       "0       38.9810      -107.3265      0  38.9810_-107.3265  \n",
       "1       43.1496      -111.0525      1  43.1496_-111.0525  \n",
       "2       35.2375      -102.8349      2  35.2375_-102.8349  \n",
       "3       39.3371      -107.6603      3  39.3371_-107.6603  \n",
       "4       34.1692      -110.7942      4  34.1692_-110.7942  "
      ]
     },
     "execution_count": 115,
     "metadata": {},
     "output_type": "execute_result"
    }
   ],
   "source": [
    "image_file_df2.head()"
   ]
  },
  {
   "cell_type": "code",
   "execution_count": 116,
   "metadata": {},
   "outputs": [
    {
     "data": {
      "text/plain": [
       "filename          satimg_CA_4982_Wild Camping_17_33.75881500000001_-118.14552\n",
       "lat_from_file                                                         33.7588\n",
       "long_from_file                                                      -118.1455\n",
       "order                                                                      79\n",
       "latlong_test                                                33.7588_-118.1455\n",
       "Name: 79, dtype: object"
      ]
     },
     "execution_count": 116,
     "metadata": {},
     "output_type": "execute_result"
    }
   ],
   "source": [
    "image_file_df2.iloc[79]"
   ]
  },
  {
   "cell_type": "code",
   "execution_count": 117,
   "metadata": {},
   "outputs": [],
   "source": [
    "image_file_df2.to_csv('../data/image_file_dfNEW.csv')"
   ]
  },
  {
   "cell_type": "code",
   "execution_count": null,
   "metadata": {},
   "outputs": [],
   "source": []
  }
 ],
 "metadata": {
  "kernelspec": {
   "display_name": "Python 3",
   "language": "python",
   "name": "python3"
  },
  "language_info": {
   "codemirror_mode": {
    "name": "ipython",
    "version": 3
   },
   "file_extension": ".py",
   "mimetype": "text/x-python",
   "name": "python",
   "nbconvert_exporter": "python",
   "pygments_lexer": "ipython3",
   "version": "3.7.7"
  }
 },
 "nbformat": 4,
 "nbformat_minor": 4
}
