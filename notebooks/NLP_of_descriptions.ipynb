{
 "cells": [
  {
   "cell_type": "code",
   "execution_count": 1,
   "metadata": {},
   "outputs": [],
   "source": [
    "import numpy as np\n",
    "import pandas as pd\n",
    "import matplotlib.pyplot as plt\n",
    "import seaborn as sns\n",
    "from scipy import stats\n",
    "#%matplotlib inline\n",
    "pd.options.display.float_format = '{:,.2f}'.format\n",
    "plt.style.use('seaborn-white')\n",
    "# colorblind safe\n",
    "plt.style.use('seaborn-colorblind')\n",
    "plt.style.use('tableau-colorblind10')\n",
    "\n",
    "# width and precision for f strings\n",
    "width = 10\n",
    "precision = 4\n",
    "\n",
    "# default sizes for plots\n",
    "# https://matplotlib.org/3.3.0/tutorials/introductory/customizing.html#customizing-with-matplotlibrc-files\n",
    "plt.rcParams['figure.figsize'] = [10, 6]\n",
    "plt.rcParams['font.size'] = 16\n",
    "plt.rcParams['legend.fontsize'] = 'large'\n",
    "plt.rcParams['figure.titlesize'] = 'medium'\n",
    "plt.rcParams['lines.linewidth'] = 2\n",
    "\n",
    "# other settings\n",
    "pd.options.display.float_format = '{:,.4f}'.format\n",
    "pd.set_option(\"display.precision\", 3)\n",
    "np.set_printoptions(precision=3, suppress=True)\n",
    "%load_ext autoreload\n",
    "%autoreload 2\n",
    "pd.set_option('display.max_columns', None)\n",
    "%config IPCompleter.greedy=True"
   ]
  },
  {
   "cell_type": "code",
   "execution_count": 2,
   "metadata": {},
   "outputs": [],
   "source": [
    "from sklearn.feature_extraction.text import TfidfVectorizer\n",
    "from sklearn.cluster import KMeans\n",
    "from sklearn.decomposition import NMF\n",
    "from sklearn.metrics import silhouette_score\n",
    "from collections import Counter"
   ]
  },
  {
   "cell_type": "code",
   "execution_count": 3,
   "metadata": {},
   "outputs": [],
   "source": [
    "data = pd.read_csv('../data/USdata_est_campgrounds_zip_states_combined_cleaned.csv')\n",
    "data.drop(['Unnamed: 0', 'Unnamed: 0.1'], axis=1, inplace=True)"
   ]
  },
  {
   "cell_type": "code",
   "execution_count": 4,
   "metadata": {},
   "outputs": [],
   "source": [
    "# maybe just do for state subset I have images for\n",
    "states = ['CO', 'CA', 'AZ', 'OR', 'UT', 'WA']\n",
    "data_states = data[data['State'].isin(states)].copy()"
   ]
  },
  {
   "cell_type": "code",
   "execution_count": 5,
   "metadata": {},
   "outputs": [
    {
     "data": {
      "text/plain": [
       "5364"
      ]
     },
     "execution_count": 5,
     "metadata": {},
     "output_type": "execute_result"
    }
   ],
   "source": [
    "len(data_states)"
   ]
  },
  {
   "cell_type": "code",
   "execution_count": 6,
   "metadata": {
    "scrolled": true
   },
   "outputs": [
    {
     "data": {
      "text/plain": [
       "State\n",
       "AZ     886\n",
       "CA    1698\n",
       "CO     707\n",
       "OR     729\n",
       "UT     651\n",
       "WA     692\n",
       "Name: Description, dtype: int64"
      ]
     },
     "execution_count": 6,
     "metadata": {},
     "output_type": "execute_result"
    }
   ],
   "source": [
    "data_states.groupby(['State'])['Description'].agg('count')"
   ]
  },
  {
   "cell_type": "code",
   "execution_count": 7,
   "metadata": {},
   "outputs": [
    {
     "data": {
      "text/plain": [
       "Category\n",
       "Eco-Friendly                16\n",
       "Established Campground    1408\n",
       "Informal Campsite          887\n",
       "Short-term Parking          11\n",
       "Showers                    139\n",
       "Water                      253\n",
       "Wild Camping              2649\n",
       "Name: Description, dtype: int64"
      ]
     },
     "execution_count": 7,
     "metadata": {},
     "output_type": "execute_result"
    }
   ],
   "source": [
    "data_states.groupby(['Category'])['Description'].agg('count')"
   ]
  },
  {
   "cell_type": "code",
   "execution_count": 8,
   "metadata": {},
   "outputs": [],
   "source": [
    "data_states = data_states[~data_states['Description'].isna()]"
   ]
  },
  {
   "cell_type": "code",
   "execution_count": 9,
   "metadata": {},
   "outputs": [],
   "source": [
    "descriptions = data_states['Description']"
   ]
  },
  {
   "cell_type": "code",
   "execution_count": 10,
   "metadata": {},
   "outputs": [],
   "source": [
    "tfidf = TfidfVectorizer(stop_words='english', max_features=10_000, max_df=0.9)\n",
    "desc_tfidf_matrix = tfidf.fit_transform(data_states['Description'])"
   ]
  },
  {
   "cell_type": "code",
   "execution_count": 11,
   "metadata": {},
   "outputs": [
    {
     "data": {
      "text/plain": [
       "9493"
      ]
     },
     "execution_count": 11,
     "metadata": {},
     "output_type": "execute_result"
    }
   ],
   "source": [
    "# features = tfidf.vocabulary_.keys()\n",
    "# or better:\n",
    "features = tfidf.get_feature_names()\n",
    "len(features)"
   ]
  },
  {
   "cell_type": "code",
   "execution_count": 12,
   "metadata": {},
   "outputs": [],
   "source": [
    "# Fit the NMF model\n",
    "clusters = 6\n",
    "nmf = NMF(n_components=clusters, max_iter=500, verbose=False, alpha=0.1, l1_ratio=.5)\n",
    "nmf_fit = nmf.fit(desc_tfidf_matrix)"
   ]
  },
  {
   "cell_type": "code",
   "execution_count": 13,
   "metadata": {},
   "outputs": [
    {
     "name": "stdout",
     "output_type": "stream",
     "text": [
      "reconstruction error: 71.14398844974363\n"
     ]
    }
   ],
   "source": [
    "print('reconstruction error:', nmf_fit.reconstruction_err_)"
   ]
  },
  {
   "cell_type": "code",
   "execution_count": 14,
   "metadata": {},
   "outputs": [
    {
     "name": "stdout",
     "output_type": "stream",
     "text": [
      "\"Topic # 0:\n",
      "road spot spots dirt forest just camping great service views right pull flat view camp area large small little gravel\n",
      "\"Topic # 1:\n",
      "parking lot overnight street signs park quiet area big walmart rv casino stayed free parked sign allowed stay large camping\n",
      "\"Topic # 2:\n",
      "showers park hot rv clean tent shower wifi laundry pool hookups beach 25 bathrooms site state nice available paid campground\n",
      "\"Topic # 3:\n",
      "water free station potable dump hose gas spigot drinking available gallon air rest area tank bathrooms propane toilets fountain filling\n",
      "\"Topic # 4:\n",
      "sites campground river pit toilets tables nice lake picnic forest toilet site pits rings creek national free small camping established\n",
      "\"Topic # 5:\n",
      "night place good quiet nice close highway stayed spend ok near sleep stay traffic noise little stop view noisy big\n"
     ]
    }
   ],
   "source": [
    "for topic_idx, topic in enumerate(nmf_fit.components_):\n",
    "    print(f'\"Topic # {topic_idx}:')\n",
    "    print(\" \".join([features[i] for i in topic.argsort()[:-20 - 1:-1]]))"
   ]
  },
  {
   "cell_type": "code",
   "execution_count": 15,
   "metadata": {},
   "outputs": [],
   "source": [
    "topic_feats = {}\n",
    "for num, topic in enumerate(nmf_fit.components_):\n",
    "    topic_feats[num] = \" \".join([features[i] for i in topic.argsort()[:-20 - 1:-1]])"
   ]
  },
  {
   "cell_type": "code",
   "execution_count": 16,
   "metadata": {
    "scrolled": true
   },
   "outputs": [
    {
     "data": {
      "text/plain": [
       "{0: 'road spot spots dirt forest just camping great service views right pull flat view camp area large small little gravel',\n",
       " 1: 'parking lot overnight street signs park quiet area big walmart rv casino stayed free parked sign allowed stay large camping',\n",
       " 2: 'showers park hot rv clean tent shower wifi laundry pool hookups beach 25 bathrooms site state nice available paid campground',\n",
       " 3: 'water free station potable dump hose gas spigot drinking available gallon air rest area tank bathrooms propane toilets fountain filling',\n",
       " 4: 'sites campground river pit toilets tables nice lake picnic forest toilet site pits rings creek national free small camping established',\n",
       " 5: 'night place good quiet nice close highway stayed spend ok near sleep stay traffic noise little stop view noisy big'}"
      ]
     },
     "execution_count": 16,
     "metadata": {},
     "output_type": "execute_result"
    }
   ],
   "source": [
    "topic_feats"
   ]
  },
  {
   "cell_type": "code",
   "execution_count": 17,
   "metadata": {},
   "outputs": [],
   "source": [
    "assigned_cluster = nmf.fit_transform(desc_tfidf_matrix).argmin(axis=1) # get the cluster assigned to each row (site)"
   ]
  },
  {
   "cell_type": "code",
   "execution_count": 18,
   "metadata": {},
   "outputs": [
    {
     "name": "stdout",
     "output_type": "stream",
     "text": [
      "Cluster 0:\n",
      "top features: road spot spots dirt forest just camping great service views right pull flat view camp area large small little gravel\n",
      "\n",
      "     Established Campground (440 site count for this category)\n",
      "     Informal Campsite (294 site count for this category)\n",
      "     Water (172 site count for this category)\n",
      "     Wild Camping (123 site count for this category)\n",
      "     Showers (93 site count for this category)\n",
      "     Eco-Friendly (8 site count for this category)\n",
      "     Short-term Parking (3 site count for this category)\n",
      "Cluster 1:\n",
      "top features: parking lot overnight street signs park quiet area big walmart rv casino stayed free parked sign allowed stay large camping\n",
      "\n",
      "     Wild Camping (1410 site count for this category)\n",
      "     Established Campground (645 site count for this category)\n",
      "     Informal Campsite (126 site count for this category)\n",
      "     Water (41 site count for this category)\n",
      "     Showers (29 site count for this category)\n",
      "     Eco-Friendly (4 site count for this category)\n",
      "Cluster 2:\n",
      "top features: showers park hot rv clean tent shower wifi laundry pool hookups beach 25 bathrooms site state nice available paid campground\n",
      "\n",
      "     Wild Camping (616 site count for this category)\n",
      "     Informal Campsite (281 site count for this category)\n",
      "     Established Campground (64 site count for this category)\n",
      "     Water (31 site count for this category)\n",
      "     Showers (13 site count for this category)\n",
      "     Short-term Parking (7 site count for this category)\n",
      "     Eco-Friendly (2 site count for this category)\n",
      "Cluster 3:\n",
      "top features: water free station potable dump hose gas spigot drinking available gallon air rest area tank bathrooms propane toilets fountain filling\n",
      "\n",
      "     Wild Camping (363 site count for this category)\n",
      "     Established Campground (171 site count for this category)\n",
      "     Informal Campsite (101 site count for this category)\n",
      "     Short-term Parking (1 site count for this category)\n",
      "     Showers (1 site count for this category)\n",
      "     Water (1 site count for this category)\n",
      "Cluster 4:\n",
      "top features: sites campground river pit toilets tables nice lake picnic forest toilet site pits rings creek national free small camping established\n",
      "\n",
      "     Wild Camping (106 site count for this category)\n",
      "     Informal Campsite (57 site count for this category)\n",
      "     Established Campground (42 site count for this category)\n",
      "     Water (5 site count for this category)\n",
      "     Eco-Friendly (2 site count for this category)\n",
      "Cluster 5:\n",
      "top features: night place good quiet nice close highway stayed spend ok near sleep stay traffic noise little stop view noisy big\n",
      "\n",
      "     Established Campground (46 site count for this category)\n",
      "     Wild Camping (31 site count for this category)\n",
      "     Informal Campsite (28 site count for this category)\n",
      "     Water (3 site count for this category)\n",
      "     Showers (3 site count for this category)\n"
     ]
    }
   ],
   "source": [
    "for i in range(nmf_fit.components_.shape[0]): # for each cluster\n",
    "    cluster = np.arange(0, desc_tfidf_matrix.shape[0])[assigned_cluster==i] # the cluster for the feat (row indices)\n",
    "    categories = data_states.iloc[cluster]['Category'] # get the categories from each row (site) in that cluster)\n",
    "    most_common = Counter(categories).most_common() # count up\n",
    "    print(f\"Cluster {i}:\")\n",
    "    print(f'top features: {topic_feats[i]}\\n')\n",
    "    for j in range (len(most_common)):\n",
    "        print(f\"     {most_common[j][0]} ({most_common[j][1]} site count for this category)\")"
   ]
  },
  {
   "cell_type": "code",
   "execution_count": 126,
   "metadata": {},
   "outputs": [
    {
     "name": "stdout",
     "output_type": "stream",
     "text": [
      "\n",
      "top 20 features for each cluster with 10,000 max features:\n",
      "\n",
      "0: water, station, potable, free, dump, hose, spigot, park, gas, gallon, drinking, showers, bathrooms, available, area, rv, rest, toilets, hot, use\n",
      "1: campground, sites, nice, showers, toilets, night, river, water, pit, tables, site, lake, park, tent, free, clean, forest, picnic, available, rv\n",
      "2: road, spot, forest, spots, dirt, just, nice, service, camping, right, quiet, great, pull, views, good, river, gravel, little, camp, view\n",
      "3: place, night, nice, area, camping, free, quiet, good, park, great, spot, rv, highway, just, near, big, showers, lots, beautiful, site\n",
      "4: parking, lot, overnight, quiet, street, night, park, signs, big, area, free, rv, stayed, walmart, parked, good, casino, road, stay, near\n"
     ]
    }
   ],
   "source": [
    "kmeans = KMeans(5)\n",
    "kmeans.fit(desc_tfidf_matrix)\n",
    "top_centroids = kmeans.cluster_centers_.argsort()[:,-1:-21:-1]\n",
    "print(\"\\ntop 20 features for each cluster with 10,000 max features:\\n\")\n",
    "cluster_feats = {}\n",
    "for num, centroid in enumerate(top_centroids):\n",
    "    cluster_feats[num] = ', '.join(features[i] for i in centroid)\n",
    "    print(f\"{num}: {', '.join(features[i] for i in centroid)}\")"
   ]
  },
  {
   "cell_type": "code",
   "execution_count": 127,
   "metadata": {},
   "outputs": [],
   "source": [
    "assigned_cluster = kmeans.fit_transform(desc_tfidf_matrix).argmin(axis=1) # get the cluster assigned to each row (site)"
   ]
  },
  {
   "cell_type": "code",
   "execution_count": 128,
   "metadata": {
    "scrolled": true
   },
   "outputs": [
    {
     "name": "stdout",
     "output_type": "stream",
     "text": [
      "Cluster 0:\n",
      "top features: water, station, potable, free, dump, hose, spigot, park, gas, gallon, drinking, showers, bathrooms, available, area, rv, rest, toilets, hot, use\n",
      "\n",
      "     Wild Camping (1036 sites categoried)\n",
      "     Informal Campsite (354 sites categoried)\n",
      "     Established Campground (285 sites categoried)\n",
      "     Showers (31 sites categoried)\n",
      "     Water (19 sites categoried)\n",
      "     Eco-Friendly (15 sites categoried)\n",
      "     Short-term Parking (3 sites categoried)\n",
      "Cluster 1:\n",
      "top features: campground, sites, nice, showers, toilets, night, river, water, pit, tables, site, lake, park, tent, free, clean, forest, picnic, available, rv\n",
      "\n",
      "     Water (221 sites categoried)\n",
      "     Established Campground (68 sites categoried)\n",
      "     Informal Campsite (37 sites categoried)\n",
      "     Wild Camping (30 sites categoried)\n",
      "     Showers (13 sites categoried)\n",
      "     Eco-Friendly (1 sites categoried)\n",
      "     Short-term Parking (1 sites categoried)\n",
      "Cluster 2:\n",
      "top features: road, spot, forest, spots, dirt, just, nice, service, camping, right, quiet, great, pull, views, good, river, gravel, little, camp, view\n",
      "\n",
      "     Informal Campsite (385 sites categoried)\n",
      "     Wild Camping (269 sites categoried)\n",
      "     Established Campground (24 sites categoried)\n",
      "     Water (11 sites categoried)\n",
      "     Short-term Parking (7 sites categoried)\n",
      "     Showers (4 sites categoried)\n",
      "Cluster 3:\n",
      "top features: place, night, nice, area, camping, free, quiet, good, park, great, spot, rv, highway, just, near, big, showers, lots, beautiful, site\n",
      "\n",
      "     Wild Camping (1247 sites categoried)\n",
      "     Established Campground (109 sites categoried)\n",
      "     Informal Campsite (68 sites categoried)\n",
      "     Water (2 sites categoried)\n",
      "Cluster 4:\n",
      "top features: parking, lot, overnight, quiet, street, night, park, signs, big, area, free, rv, stayed, walmart, parked, good, casino, road, stay, near\n",
      "\n",
      "     Established Campground (922 sites categoried)\n",
      "     Showers (91 sites categoried)\n",
      "     Wild Camping (67 sites categoried)\n",
      "     Informal Campsite (43 sites categoried)\n"
     ]
    }
   ],
   "source": [
    "for i in range(kmeans.n_clusters):\n",
    "    cluster = np.arange(0, desc_tfidf_matrix.shape[0])[assigned_cluster==i]\n",
    "    categories = data_states.iloc[cluster]['Category']\n",
    "    most_common = Counter(categories).most_common()\n",
    "    print(f\"Cluster {i}:\")\n",
    "    print(f'top features: {cluster_feats[i]}\\n')\n",
    "    for j in range (len(most_common)):\n",
    "        print(f\"     {most_common[j][0]} ({most_common[j][1]} sites categoried)\")"
   ]
  },
  {
   "cell_type": "code",
   "execution_count": 129,
   "metadata": {},
   "outputs": [],
   "source": [
    "# save in dict\n",
    "cluster_cats = {}\n",
    "\n",
    "for i in range(kmeans.n_clusters):\n",
    "    cluster = np.arange(0, desc_tfidf_matrix.shape[0])[assigned_cluster==i]\n",
    "    categories = data_states.iloc[cluster]['Category']\n",
    "    most_common = Counter(categories).most_common()\n",
    "    cluster_cats[i] = {}\n",
    "    for j in range (len(most_common)):\n",
    "        cluster_cats[i].update({most_common[j][0] : most_common[j][1]})"
   ]
  },
  {
   "cell_type": "code",
   "execution_count": 139,
   "metadata": {},
   "outputs": [],
   "source": [
    "cat_df = pd.concat({k: pd.DataFrame.from_dict(v, 'index') for k, v in cluster_cats.items()}, axis=0).reset_index()"
   ]
  },
  {
   "cell_type": "code",
   "execution_count": 140,
   "metadata": {},
   "outputs": [],
   "source": [
    "cat_df.columns = ['cluster', 'category', 'count']"
   ]
  },
  {
   "cell_type": "code",
   "execution_count": 141,
   "metadata": {},
   "outputs": [],
   "source": [
    "cat_df['cluster'] = cat_df['cluster'].astype('str')"
   ]
  },
  {
   "cell_type": "code",
   "execution_count": 142,
   "metadata": {},
   "outputs": [],
   "source": [
    "cat_df['pct_total'] = round(cat_df['count'].div(cat_df.groupby('cluster')['count'].transform('sum'))*100, 2)"
   ]
  },
  {
   "cell_type": "code",
   "execution_count": 143,
   "metadata": {},
   "outputs": [],
   "source": [
    "max_indices = cat_df.groupby(['cluster'])['pct_total'].transform(max) == cat_df['pct_total']"
   ]
  },
  {
   "cell_type": "code",
   "execution_count": 151,
   "metadata": {
    "scrolled": true
   },
   "outputs": [],
   "source": [
    "cat_max = cat_df[max_indices].copy()"
   ]
  },
  {
   "cell_type": "code",
   "execution_count": 153,
   "metadata": {},
   "outputs": [],
   "source": [
    "cat_max['top words'] = pd.Series(cluster_feats).values"
   ]
  },
  {
   "cell_type": "code",
   "execution_count": 156,
   "metadata": {
    "scrolled": true
   },
   "outputs": [
    {
     "data": {
      "text/plain": [
       "{0: 'water, station, potable, free, dump, hose, spigot, park, gas, gallon, drinking, showers, bathrooms, available, area, rv, rest, toilets, hot, use',\n",
       " 1: 'campground, sites, nice, showers, toilets, night, river, water, pit, tables, site, lake, park, tent, free, clean, forest, picnic, available, rv',\n",
       " 2: 'road, spot, forest, spots, dirt, just, nice, service, camping, right, quiet, great, pull, views, good, river, gravel, little, camp, view',\n",
       " 3: 'place, night, nice, area, camping, free, quiet, good, park, great, spot, rv, highway, just, near, big, showers, lots, beautiful, site',\n",
       " 4: 'parking, lot, overnight, quiet, street, night, park, signs, big, area, free, rv, stayed, walmart, parked, good, casino, road, stay, near'}"
      ]
     },
     "execution_count": 156,
     "metadata": {},
     "output_type": "execute_result"
    }
   ],
   "source": [
    "cluster_feats"
   ]
  },
  {
   "cell_type": "code",
   "execution_count": 157,
   "metadata": {},
   "outputs": [
    {
     "data": {
      "text/html": [
       "<div>\n",
       "<style scoped>\n",
       "    .dataframe tbody tr th:only-of-type {\n",
       "        vertical-align: middle;\n",
       "    }\n",
       "\n",
       "    .dataframe tbody tr th {\n",
       "        vertical-align: top;\n",
       "    }\n",
       "\n",
       "    .dataframe thead th {\n",
       "        text-align: right;\n",
       "    }\n",
       "</style>\n",
       "<table border=\"1\" class=\"dataframe\">\n",
       "  <thead>\n",
       "    <tr style=\"text-align: right;\">\n",
       "      <th></th>\n",
       "      <th>cluster</th>\n",
       "      <th>category</th>\n",
       "      <th>count</th>\n",
       "      <th>pct_total</th>\n",
       "      <th>top words</th>\n",
       "    </tr>\n",
       "  </thead>\n",
       "  <tbody>\n",
       "    <tr>\n",
       "      <th>0</th>\n",
       "      <td>0</td>\n",
       "      <td>Wild Camping</td>\n",
       "      <td>1036</td>\n",
       "      <td>59.4400</td>\n",
       "      <td>water, station, potable, free, dump, hose, spi...</td>\n",
       "    </tr>\n",
       "    <tr>\n",
       "      <th>7</th>\n",
       "      <td>1</td>\n",
       "      <td>Water</td>\n",
       "      <td>221</td>\n",
       "      <td>59.5700</td>\n",
       "      <td>campground, sites, nice, showers, toilets, nig...</td>\n",
       "    </tr>\n",
       "    <tr>\n",
       "      <th>14</th>\n",
       "      <td>2</td>\n",
       "      <td>Informal Campsite</td>\n",
       "      <td>385</td>\n",
       "      <td>55.0000</td>\n",
       "      <td>road, spot, forest, spots, dirt, just, nice, s...</td>\n",
       "    </tr>\n",
       "    <tr>\n",
       "      <th>20</th>\n",
       "      <td>3</td>\n",
       "      <td>Wild Camping</td>\n",
       "      <td>1247</td>\n",
       "      <td>87.4500</td>\n",
       "      <td>place, night, nice, area, camping, free, quiet...</td>\n",
       "    </tr>\n",
       "    <tr>\n",
       "      <th>24</th>\n",
       "      <td>4</td>\n",
       "      <td>Established Campground</td>\n",
       "      <td>922</td>\n",
       "      <td>82.1000</td>\n",
       "      <td>parking, lot, overnight, quiet, street, night,...</td>\n",
       "    </tr>\n",
       "  </tbody>\n",
       "</table>\n",
       "</div>"
      ],
      "text/plain": [
       "   cluster                category  count  pct_total  \\\n",
       "0        0            Wild Camping   1036    59.4400   \n",
       "7        1                   Water    221    59.5700   \n",
       "14       2       Informal Campsite    385    55.0000   \n",
       "20       3            Wild Camping   1247    87.4500   \n",
       "24       4  Established Campground    922    82.1000   \n",
       "\n",
       "                                            top words  \n",
       "0   water, station, potable, free, dump, hose, spi...  \n",
       "7   campground, sites, nice, showers, toilets, nig...  \n",
       "14  road, spot, forest, spots, dirt, just, nice, s...  \n",
       "20  place, night, nice, area, camping, free, quiet...  \n",
       "24  parking, lot, overnight, quiet, street, night,...  "
      ]
     },
     "execution_count": 157,
     "metadata": {},
     "output_type": "execute_result"
    }
   ],
   "source": [
    "cat_max"
   ]
  },
  {
   "cell_type": "code",
   "execution_count": 158,
   "metadata": {},
   "outputs": [],
   "source": [
    "cat_max['cluster name'] = ['service station', 'RV park type', 'pull off camp', 'open camping', 'informal']"
   ]
  },
  {
   "cell_type": "code",
   "execution_count": 159,
   "metadata": {},
   "outputs": [
    {
     "data": {
      "text/html": [
       "<div>\n",
       "<style scoped>\n",
       "    .dataframe tbody tr th:only-of-type {\n",
       "        vertical-align: middle;\n",
       "    }\n",
       "\n",
       "    .dataframe tbody tr th {\n",
       "        vertical-align: top;\n",
       "    }\n",
       "\n",
       "    .dataframe thead th {\n",
       "        text-align: right;\n",
       "    }\n",
       "</style>\n",
       "<table border=\"1\" class=\"dataframe\">\n",
       "  <thead>\n",
       "    <tr style=\"text-align: right;\">\n",
       "      <th></th>\n",
       "      <th>cluster</th>\n",
       "      <th>category</th>\n",
       "      <th>count</th>\n",
       "      <th>pct_total</th>\n",
       "      <th>top words</th>\n",
       "      <th>cluster name</th>\n",
       "    </tr>\n",
       "  </thead>\n",
       "  <tbody>\n",
       "    <tr>\n",
       "      <th>0</th>\n",
       "      <td>0</td>\n",
       "      <td>Wild Camping</td>\n",
       "      <td>1036</td>\n",
       "      <td>59.4400</td>\n",
       "      <td>water, station, potable, free, dump, hose, spi...</td>\n",
       "      <td>service station</td>\n",
       "    </tr>\n",
       "    <tr>\n",
       "      <th>7</th>\n",
       "      <td>1</td>\n",
       "      <td>Water</td>\n",
       "      <td>221</td>\n",
       "      <td>59.5700</td>\n",
       "      <td>campground, sites, nice, showers, toilets, nig...</td>\n",
       "      <td>RV park type</td>\n",
       "    </tr>\n",
       "    <tr>\n",
       "      <th>14</th>\n",
       "      <td>2</td>\n",
       "      <td>Informal Campsite</td>\n",
       "      <td>385</td>\n",
       "      <td>55.0000</td>\n",
       "      <td>road, spot, forest, spots, dirt, just, nice, s...</td>\n",
       "      <td>pull off camp</td>\n",
       "    </tr>\n",
       "    <tr>\n",
       "      <th>20</th>\n",
       "      <td>3</td>\n",
       "      <td>Wild Camping</td>\n",
       "      <td>1247</td>\n",
       "      <td>87.4500</td>\n",
       "      <td>place, night, nice, area, camping, free, quiet...</td>\n",
       "      <td>open camping</td>\n",
       "    </tr>\n",
       "    <tr>\n",
       "      <th>24</th>\n",
       "      <td>4</td>\n",
       "      <td>Established Campground</td>\n",
       "      <td>922</td>\n",
       "      <td>82.1000</td>\n",
       "      <td>parking, lot, overnight, quiet, street, night,...</td>\n",
       "      <td>informal</td>\n",
       "    </tr>\n",
       "  </tbody>\n",
       "</table>\n",
       "</div>"
      ],
      "text/plain": [
       "   cluster                category  count  pct_total  \\\n",
       "0        0            Wild Camping   1036    59.4400   \n",
       "7        1                   Water    221    59.5700   \n",
       "14       2       Informal Campsite    385    55.0000   \n",
       "20       3            Wild Camping   1247    87.4500   \n",
       "24       4  Established Campground    922    82.1000   \n",
       "\n",
       "                                            top words     cluster name  \n",
       "0   water, station, potable, free, dump, hose, spi...  service station  \n",
       "7   campground, sites, nice, showers, toilets, nig...     RV park type  \n",
       "14  road, spot, forest, spots, dirt, just, nice, s...    pull off camp  \n",
       "20  place, night, nice, area, camping, free, quiet...     open camping  \n",
       "24  parking, lot, overnight, quiet, street, night,...         informal  "
      ]
     },
     "execution_count": 159,
     "metadata": {},
     "output_type": "execute_result"
    }
   ],
   "source": [
    "cat_max"
   ]
  },
  {
   "cell_type": "code",
   "execution_count": 161,
   "metadata": {},
   "outputs": [],
   "source": [
    "def get_cat_summary(cat_dict):\n",
    "    cat_df = pd.concat({k: pd.DataFrame.from_dict(v, 'index') for k, v in cat_dict.items()}, axis=0).reset_index()\n",
    "    cat_df.columns = ['cluster', 'category', 'count']\n",
    "    cat_df['cluster'] = cat_df['cluster'].astype('str')\n",
    "    cat_df['pct_total'] = round(cat_df['count'].div(cat_df.groupby('cluster')['count'].transform('sum'))*100, 2)\n",
    "    max_indices = cat_df.groupby(['cluster'])['pct_total'].transform(max) == cat_df['pct_total']\n",
    "    cat_max = cat_df[max_indices].copy()\n",
    "    cat_max['top words'] = pd.Series(cluster_feats).values\n",
    "    cat_max['cluster name'] = ['service station', 'RV park type', 'pull off camp', 'open camping', 'informal']\n",
    "    return cat_max"
   ]
  },
  {
   "cell_type": "code",
   "execution_count": 166,
   "metadata": {},
   "outputs": [],
   "source": [
    "data = pd.read_csv('../data/USdata_est_campgrounds_zip_states_combined_cleaned.csv')\n",
    "data.drop(['Unnamed: 0', 'Unnamed: 0.1'], axis=1, inplace=True)\n",
    "data = data[~data['Description'].isna()]"
   ]
  },
  {
   "cell_type": "code",
   "execution_count": 164,
   "metadata": {},
   "outputs": [],
   "source": [
    "def run_kmeans(X):\n",
    "    kmeans = KMeans(5)\n",
    "    kmeans.fit(desc_tfidf_matrix)\n",
    "    top_centroids = kmeans.cluster_centers_.argsort()[:,-1:-21:-1]\n",
    "    cluster_feats = {}\n",
    "    for num, centroid in enumerate(top_centroids):\n",
    "        cluster_feats[num] = ', '.join(features[i] for i in centroid)\n",
    "        #print(f\"{num}: {', '.join(features[i] for i in centroid)}\")\n",
    "\n",
    "    assigned_cluster = kmeans.fit_transform(desc_tfidf_matrix).argmin(axis=1) # get the cluster assigned to each row (site)\n",
    "\n",
    "    # save in dict\n",
    "    cluster_cats = {}\n",
    "\n",
    "    for i in range(kmeans.n_clusters):\n",
    "        cluster = np.arange(0, desc_tfidf_matrix.shape[0])[assigned_cluster==i]\n",
    "        categories = data_states.iloc[cluster]['Category']\n",
    "        most_common = Counter(categories).most_common()\n",
    "        cluster_cats[i] = {}\n",
    "        for j in range (len(most_common)):\n",
    "            cluster_cats[i].update({most_common[j][0] : most_common[j][1]})\n",
    "    return cluster_cats"
   ]
  },
  {
   "cell_type": "code",
   "execution_count": 167,
   "metadata": {},
   "outputs": [],
   "source": [
    "tfidf = TfidfVectorizer(stop_words='english', max_features=10_000, max_df=0.9)\n",
    "all_desc_tfidf_matrix = tfidf.fit_transform(data['Description'])"
   ]
  },
  {
   "cell_type": "code",
   "execution_count": 168,
   "metadata": {},
   "outputs": [
    {
     "data": {
      "text/plain": [
       "10000"
      ]
     },
     "execution_count": 168,
     "metadata": {},
     "output_type": "execute_result"
    }
   ],
   "source": [
    "features = tfidf.get_feature_names()\n",
    "len(features)"
   ]
  },
  {
   "cell_type": "code",
   "execution_count": 169,
   "metadata": {},
   "outputs": [],
   "source": [
    "all_data_cluster_cats = run_kmeans(all_desc_tfidf_matrix)"
   ]
  },
  {
   "cell_type": "code",
   "execution_count": 170,
   "metadata": {},
   "outputs": [],
   "source": [
    "all_data_cat_summary = get_cat_summary(all_data_cluster_cats)"
   ]
  },
  {
   "cell_type": "code",
   "execution_count": 171,
   "metadata": {
    "scrolled": true
   },
   "outputs": [
    {
     "data": {
      "text/html": [
       "<div>\n",
       "<style scoped>\n",
       "    .dataframe tbody tr th:only-of-type {\n",
       "        vertical-align: middle;\n",
       "    }\n",
       "\n",
       "    .dataframe tbody tr th {\n",
       "        vertical-align: top;\n",
       "    }\n",
       "\n",
       "    .dataframe thead th {\n",
       "        text-align: right;\n",
       "    }\n",
       "</style>\n",
       "<table border=\"1\" class=\"dataframe\">\n",
       "  <thead>\n",
       "    <tr style=\"text-align: right;\">\n",
       "      <th></th>\n",
       "      <th>cluster</th>\n",
       "      <th>category</th>\n",
       "      <th>count</th>\n",
       "      <th>pct_total</th>\n",
       "      <th>top words</th>\n",
       "      <th>cluster name</th>\n",
       "    </tr>\n",
       "  </thead>\n",
       "  <tbody>\n",
       "    <tr>\n",
       "      <th>0</th>\n",
       "      <td>0</td>\n",
       "      <td>Informal Campsite</td>\n",
       "      <td>381</td>\n",
       "      <td>54.9800</td>\n",
       "      <td>water, station, potable, free, dump, hose, spi...</td>\n",
       "      <td>service station</td>\n",
       "    </tr>\n",
       "    <tr>\n",
       "      <th>6</th>\n",
       "      <td>1</td>\n",
       "      <td>Established Campground</td>\n",
       "      <td>924</td>\n",
       "      <td>82.1300</td>\n",
       "      <td>campground, sites, nice, showers, toilets, nig...</td>\n",
       "      <td>RV park type</td>\n",
       "    </tr>\n",
       "    <tr>\n",
       "      <th>10</th>\n",
       "      <td>2</td>\n",
       "      <td>Wild Camping</td>\n",
       "      <td>1259</td>\n",
       "      <td>87.6100</td>\n",
       "      <td>road, spot, forest, spots, dirt, just, nice, s...</td>\n",
       "      <td>pull off camp</td>\n",
       "    </tr>\n",
       "    <tr>\n",
       "      <th>14</th>\n",
       "      <td>3</td>\n",
       "      <td>Wild Camping</td>\n",
       "      <td>1032</td>\n",
       "      <td>59.1400</td>\n",
       "      <td>place, night, nice, area, camping, free, quiet...</td>\n",
       "      <td>open camping</td>\n",
       "    </tr>\n",
       "    <tr>\n",
       "      <th>21</th>\n",
       "      <td>4</td>\n",
       "      <td>Water</td>\n",
       "      <td>221</td>\n",
       "      <td>60.8800</td>\n",
       "      <td>parking, lot, overnight, quiet, street, night,...</td>\n",
       "      <td>informal</td>\n",
       "    </tr>\n",
       "  </tbody>\n",
       "</table>\n",
       "</div>"
      ],
      "text/plain": [
       "   cluster                category  count  pct_total  \\\n",
       "0        0       Informal Campsite    381    54.9800   \n",
       "6        1  Established Campground    924    82.1300   \n",
       "10       2            Wild Camping   1259    87.6100   \n",
       "14       3            Wild Camping   1032    59.1400   \n",
       "21       4                   Water    221    60.8800   \n",
       "\n",
       "                                            top words     cluster name  \n",
       "0   water, station, potable, free, dump, hose, spi...  service station  \n",
       "6   campground, sites, nice, showers, toilets, nig...     RV park type  \n",
       "10  road, spot, forest, spots, dirt, just, nice, s...    pull off camp  \n",
       "14  place, night, nice, area, camping, free, quiet...     open camping  \n",
       "21  parking, lot, overnight, quiet, street, night,...         informal  "
      ]
     },
     "execution_count": 171,
     "metadata": {},
     "output_type": "execute_result"
    }
   ],
   "source": [
    "all_data_cat_summary"
   ]
  },
  {
   "cell_type": "code",
   "execution_count": 172,
   "metadata": {},
   "outputs": [],
   "source": [
    "all_data_cat_summary.to_csv('../data/NLPall_data_cat_summary.csv')"
   ]
  },
  {
   "cell_type": "code",
   "execution_count": 78,
   "metadata": {},
   "outputs": [],
   "source": [
    "# Fit the NMF model\n",
    "clusters = 6\n",
    "nmf = NMF(n_components=clusters, max_iter=500, verbose=False, alpha=0.1, l1_ratio=.5)\n",
    "nmf_fit = nmf.fit(desc_tfidf_matrix)"
   ]
  },
  {
   "cell_type": "code",
   "execution_count": 79,
   "metadata": {},
   "outputs": [
    {
     "name": "stdout",
     "output_type": "stream",
     "text": [
      "\"Topic # 0:\n",
      "road spot forest spots camping dirt just area gravel right service small great pull camp creek views little flat view\n",
      "\"Topic # 1:\n",
      "parking lot overnight walmart quiet signs night area big street park stayed large trucks parked 24 free stay noisy rv\n",
      "\"Topic # 2:\n",
      "park showers rv hot clean tent state wifi laundry site shower hookups bathrooms camping sites 20 pool hook beach 25\n",
      "\"Topic # 3:\n",
      "night place nice good quiet stay spend highway view near sleep close great little stop spot clean really noisy ok\n",
      "\"Topic # 4:\n",
      "campground sites pit lake toilets tables picnic river free nice toilet forest rings site national pits table campsites established 10\n",
      "\"Topic # 5:\n",
      "water station potable dump free gas spigot hose drinking available rest area restrooms tank air building electric gallon propane right\n"
     ]
    }
   ],
   "source": [
    "for topic_idx, topic in enumerate(nmf_fit.components_):\n",
    "    print(f'\"Topic # {topic_idx}:')\n",
    "    print(\" \".join([features[i] for i in topic.argsort()[:-20 - 1:-1]]))"
   ]
  },
  {
   "cell_type": "code",
   "execution_count": 80,
   "metadata": {},
   "outputs": [],
   "source": [
    "topic_feats = {}\n",
    "for num, topic in enumerate(nmf_fit.components_):\n",
    "    topic_feats[num] = \" \".join([features[i] for i in topic.argsort()[:-20 - 1:-1]])"
   ]
  },
  {
   "cell_type": "code",
   "execution_count": 81,
   "metadata": {},
   "outputs": [],
   "source": [
    "assigned_cluster = nmf.fit_transform(desc_tfidf_matrix).argmin(axis=1) # get the cluster assigned to each row (site)"
   ]
  },
  {
   "cell_type": "code",
   "execution_count": 83,
   "metadata": {},
   "outputs": [
    {
     "name": "stdout",
     "output_type": "stream",
     "text": [
      "Cluster 0:\n",
      "top features: road spot forest spots camping dirt just area gravel right service small great pull camp creek views little flat view\n",
      "\n",
      "     Established Campground (1284 site count for this category)\n",
      "     Informal Campsite (935 site count for this category)\n",
      "     Water (283 site count for this category)\n",
      "     Wild Camping (255 site count for this category)\n",
      "     Showers (178 site count for this category)\n",
      "     Eco-Friendly (8 site count for this category)\n",
      "     Short-term Parking (6 site count for this category)\n",
      "Cluster 1:\n",
      "top features: parking lot overnight walmart quiet signs night area big street park stayed large trucks parked 24 free stay noisy rv\n",
      "\n",
      "     Wild Camping (2430 site count for this category)\n",
      "     Established Campground (1583 site count for this category)\n",
      "     Informal Campsite (276 site count for this category)\n",
      "     Water (88 site count for this category)\n",
      "     Showers (46 site count for this category)\n",
      "     Eco-Friendly (7 site count for this category)\n",
      "Cluster 2:\n",
      "top features: park showers rv hot clean tent state wifi laundry site shower hookups bathrooms camping sites 20 pool hook beach 25\n",
      "\n",
      "     Wild Camping (1320 site count for this category)\n",
      "     Informal Campsite (697 site count for this category)\n",
      "     Established Campground (210 site count for this category)\n",
      "     Water (62 site count for this category)\n",
      "     Short-term Parking (4 site count for this category)\n",
      "     Eco-Friendly (2 site count for this category)\n",
      "Cluster 3:\n",
      "top features: night place nice good quiet stay spend highway view near sleep close great little stop spot clean really noisy ok\n",
      "\n",
      "     Wild Camping (449 site count for this category)\n",
      "     Informal Campsite (320 site count for this category)\n",
      "     Established Campground (315 site count for this category)\n",
      "     Water (44 site count for this category)\n",
      "     Showers (35 site count for this category)\n",
      "     Short-term Parking (13 site count for this category)\n",
      "     Eco-Friendly (4 site count for this category)\n",
      "Cluster 4:\n",
      "top features: campground sites pit lake toilets tables picnic river free nice toilet forest rings site national pits table campsites established 10\n",
      "\n",
      "     Wild Camping (416 site count for this category)\n",
      "     Informal Campsite (396 site count for this category)\n",
      "     Established Campground (107 site count for this category)\n",
      "     Water (13 site count for this category)\n",
      "     Short-term Parking (4 site count for this category)\n",
      "     Showers (4 site count for this category)\n",
      "Cluster 5:\n",
      "top features: water station potable dump free gas spigot hose drinking available rest area restrooms tank air building electric gallon propane right\n",
      "\n",
      "     Wild Camping (254 site count for this category)\n",
      "     Established Campground (240 site count for this category)\n",
      "     Informal Campsite (121 site count for this category)\n",
      "     Showers (1 site count for this category)\n",
      "     Short-term Parking (1 site count for this category)\n"
     ]
    }
   ],
   "source": [
    "for i in range(nmf_fit.components_.shape[0]): # for each cluster\n",
    "    cluster = np.arange(0, desc_tfidf_matrix.shape[0])[assigned_cluster==i] # the cluster for the feat (row indices)\n",
    "    categories = data.iloc[cluster]['Category'] # get the categories from each row (site) in that cluster)\n",
    "    most_common = Counter(categories).most_common() # count up\n",
    "    print(f\"Cluster {i}:\")\n",
    "    print(f'top features: {topic_feats[i]}\\n')\n",
    "    for j in range (len(most_common)):\n",
    "        print(f\"     {most_common[j][0]} ({most_common[j][1]} site count for this category)\")"
   ]
  },
  {
   "cell_type": "code",
   "execution_count": null,
   "metadata": {},
   "outputs": [],
   "source": []
  }
 ],
 "metadata": {
  "kernelspec": {
   "display_name": "Python 3",
   "language": "python",
   "name": "python3"
  },
  "language_info": {
   "codemirror_mode": {
    "name": "ipython",
    "version": 3
   },
   "file_extension": ".py",
   "mimetype": "text/x-python",
   "name": "python",
   "nbconvert_exporter": "python",
   "pygments_lexer": "ipython3",
   "version": "3.7.7"
  }
 },
 "nbformat": 4,
 "nbformat_minor": 4
}
