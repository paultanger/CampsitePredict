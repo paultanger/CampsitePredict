{
 "cells": [
  {
   "cell_type": "code",
   "execution_count": 1,
   "metadata": {},
   "outputs": [],
   "source": [
    "import numpy as np\n",
    "import pandas as pd\n",
    "import matplotlib.pyplot as plt\n",
    "import seaborn as sns\n",
    "from scipy import stats\n",
    "%matplotlib inline\n",
    "pd.options.display.float_format = '{:,.2f}'.format\n",
    "plt.style.use('seaborn-white')\n",
    "# colorblind safe\n",
    "plt.style.use('seaborn-colorblind')\n",
    "plt.style.use('tableau-colorblind10')\n",
    "\n",
    "# width and precision for f strings\n",
    "width = 10\n",
    "precision = 4\n",
    "\n",
    "# default sizes for plots\n",
    "# https://matplotlib.org/3.3.0/tutorials/introductory/customizing.html#customizing-with-matplotlibrc-files\n",
    "plt.rcParams['figure.figsize'] = [10, 6]\n",
    "plt.rcParams['font.size'] = 16\n",
    "plt.rcParams['legend.fontsize'] = 'large'\n",
    "plt.rcParams['figure.titlesize'] = 'medium'\n",
    "plt.rcParams['lines.linewidth'] = 2\n",
    "\n",
    "# other settings\n",
    "pd.options.display.float_format = '{:,.4f}'.format\n",
    "pd.set_option(\"display.precision\", 3)\n",
    "np.set_printoptions(precision=3, suppress=True)\n",
    "%load_ext autoreload\n",
    "%autoreload 2\n",
    "pd.set_option('display.max_columns', None)\n",
    "%config IPCompleter.greedy=True\n"
   ]
  },
  {
   "cell_type": "code",
   "execution_count": 56,
   "metadata": {},
   "outputs": [],
   "source": [
    "from sklearn.feature_extraction.text import TfidfVectorizer\n",
    "from sklearn.cluster import KMeans\n",
    "from sklearn.metrics import silhouette_score"
   ]
  },
  {
   "cell_type": "code",
   "execution_count": 7,
   "metadata": {},
   "outputs": [],
   "source": [
    "data = pd.read_csv('../data/USdata_est_campgrounds_zip_states_combined_cleaned.csv')\n",
    "data.drop(['Unnamed: 0', 'Unnamed: 0.1'], axis=1, inplace=True)"
   ]
  },
  {
   "cell_type": "code",
   "execution_count": 10,
   "metadata": {},
   "outputs": [],
   "source": [
    "# maybe just do for state subset I have images for\n",
    "states = ['CO', 'CA', 'AZ', 'OR', 'UT', 'WA']\n",
    "data_states = data[data['State'].isin(states)].copy()"
   ]
  },
  {
   "cell_type": "code",
   "execution_count": 153,
   "metadata": {},
   "outputs": [
    {
     "data": {
      "text/plain": [
       "5363"
      ]
     },
     "execution_count": 153,
     "metadata": {},
     "output_type": "execute_result"
    }
   ],
   "source": [
    "len(data_states)"
   ]
  },
  {
   "cell_type": "code",
   "execution_count": 13,
   "metadata": {
    "scrolled": true
   },
   "outputs": [
    {
     "data": {
      "text/plain": [
       "State\n",
       "AZ     886\n",
       "CA    1698\n",
       "CO     707\n",
       "OR     729\n",
       "UT     651\n",
       "WA     692\n",
       "Name: Description, dtype: int64"
      ]
     },
     "execution_count": 13,
     "metadata": {},
     "output_type": "execute_result"
    }
   ],
   "source": [
    "data_states.groupby(['State'])['Description'].agg('count')"
   ]
  },
  {
   "cell_type": "code",
   "execution_count": 14,
   "metadata": {},
   "outputs": [
    {
     "data": {
      "text/plain": [
       "Category\n",
       "Eco-Friendly                16\n",
       "Established Campground    1408\n",
       "Informal Campsite          887\n",
       "Short-term Parking          11\n",
       "Showers                    139\n",
       "Water                      253\n",
       "Wild Camping              2649\n",
       "Name: Description, dtype: int64"
      ]
     },
     "execution_count": 14,
     "metadata": {},
     "output_type": "execute_result"
    }
   ],
   "source": [
    "data_states.groupby(['Category'])['Description'].agg('count')"
   ]
  },
  {
   "cell_type": "code",
   "execution_count": 23,
   "metadata": {},
   "outputs": [],
   "source": [
    "data_states = data_states[~data_states['Description'].isna()]"
   ]
  },
  {
   "cell_type": "code",
   "execution_count": 145,
   "metadata": {},
   "outputs": [
    {
     "name": "stdout",
     "output_type": "stream",
     "text": [
      "<class 'pandas.core.frame.DataFrame'>\n",
      "Int64Index: 5363 entries, 0 to 12411\n",
      "Data columns (total 38 columns):\n",
      " #   Column                     Non-Null Count  Dtype  \n",
      "---  ------                     --------------  -----  \n",
      " 0   Location                   1077 non-null   object \n",
      " 1   Name                       5363 non-null   object \n",
      " 2   Category                   5363 non-null   object \n",
      " 3   Description                5363 non-null   object \n",
      " 4   Latitude                   5363 non-null   float64\n",
      " 5   Longitude                  5363 non-null   float64\n",
      " 6   Altitude                   5276 non-null   float64\n",
      " 7   Date verified              5363 non-null   object \n",
      " 8   Open                       5363 non-null   object \n",
      " 9   Electricity                4944 non-null   object \n",
      " 10  Wifi                       4944 non-null   object \n",
      " 11  Kitchen                    4944 non-null   object \n",
      " 12  Parking                    0 non-null      float64\n",
      " 13  Restaurant                 4944 non-null   object \n",
      " 14  Showers                    5083 non-null   object \n",
      " 15  Water                      4944 non-null   object \n",
      " 16  Toilets                    4944 non-null   object \n",
      " 17  Big rig friendly           4944 non-null   object \n",
      " 18  Tent friendly              4944 non-null   object \n",
      " 19  Pet friendly               4944 non-null   object \n",
      " 20  Sanitation dump station    1408 non-null   object \n",
      " 21  Outdoor gear               0 non-null      float64\n",
      " 22  Groceries                  0 non-null      float64\n",
      " 23  Artesian goods             0 non-null      float64\n",
      " 24  Bakery                     0 non-null      float64\n",
      " 25  Rarity in this area        0 non-null      float64\n",
      " 26  Repairs vehicles           0 non-null      float64\n",
      " 27  Repairs motorcycles        0 non-null      float64\n",
      " 28  Repairs bicycles           0 non-null      float64\n",
      " 29  Sells parts                0 non-null      float64\n",
      " 30  Recycles batteries         16 non-null     object \n",
      " 31  Recycles oil               16 non-null     object \n",
      " 32  Bio fuel                   16 non-null     object \n",
      " 33  Electric vehicle charging  16 non-null     object \n",
      " 34  Composting sawdust         16 non-null     object \n",
      " 35  Recycling center           16 non-null     object \n",
      " 36  zip_code                   4286 non-null   object \n",
      " 37  State                      5363 non-null   object \n",
      "dtypes: float64(13), object(25)\n",
      "memory usage: 1.8+ MB\n"
     ]
    }
   ],
   "source": [
    "data_states.info()"
   ]
  },
  {
   "cell_type": "code",
   "execution_count": 24,
   "metadata": {},
   "outputs": [],
   "source": [
    "descriptions = data_states['Description']"
   ]
  },
  {
   "cell_type": "code",
   "execution_count": 70,
   "metadata": {},
   "outputs": [],
   "source": [
    "tfidf = TfidfVectorizer()\n",
    "desc_tfidf_matrix = tfidf.fit_transform(data_states['Description'])"
   ]
  },
  {
   "cell_type": "code",
   "execution_count": 71,
   "metadata": {},
   "outputs": [],
   "source": [
    "# desc_tfidf_matrix.todense() what does this do?"
   ]
  },
  {
   "cell_type": "code",
   "execution_count": 72,
   "metadata": {},
   "outputs": [
    {
     "data": {
      "text/plain": [
       "9766"
      ]
     },
     "execution_count": 72,
     "metadata": {},
     "output_type": "execute_result"
    }
   ],
   "source": [
    "# features = tfidf.vocabulary_.keys()\n",
    "# or better:\n",
    "features = tfidf.get_feature_names()\n",
    "len(features)"
   ]
  },
  {
   "cell_type": "code",
   "execution_count": 73,
   "metadata": {},
   "outputs": [],
   "source": [
    "km = KMeans(6)\n",
    "y = km.fit_predict(desc_tfidf_matrix)"
   ]
  },
  {
   "cell_type": "code",
   "execution_count": 74,
   "metadata": {},
   "outputs": [
    {
     "data": {
      "text/plain": [
       "array([[0.001, 0.   , 0.   , ..., 0.   , 0.   , 0.   ],\n",
       "       [0.002, 0.   , 0.   , ..., 0.   , 0.   , 0.   ],\n",
       "       [0.003, 0.001, 0.   , ..., 0.   , 0.   , 0.   ],\n",
       "       [0.001, 0.001, 0.   , ..., 0.   , 0.   , 0.   ],\n",
       "       [0.014, 0.   , 0.   , ..., 0.   , 0.   , 0.001],\n",
       "       [0.001, 0.   , 0.   , ..., 0.   , 0.   , 0.   ]])"
      ]
     },
     "execution_count": 74,
     "metadata": {},
     "output_type": "execute_result"
    }
   ],
   "source": [
    "km.cluster_centers_"
   ]
  },
  {
   "cell_type": "code",
   "execution_count": 75,
   "metadata": {},
   "outputs": [
    {
     "data": {
      "text/plain": [
       "array([2, 0, 4, ..., 1, 0, 1], dtype=int32)"
      ]
     },
     "execution_count": 75,
     "metadata": {},
     "output_type": "execute_result"
    }
   ],
   "source": [
    "km.labels_"
   ]
  },
  {
   "cell_type": "code",
   "execution_count": 76,
   "metadata": {},
   "outputs": [
    {
     "data": {
      "text/plain": [
       "0.0054440912977261864"
      ]
     },
     "execution_count": 76,
     "metadata": {},
     "output_type": "execute_result"
    }
   ],
   "source": [
    "silhouette_score(desc_tfidf_matrix, labels=y)"
   ]
  },
  {
   "cell_type": "code",
   "execution_count": 77,
   "metadata": {},
   "outputs": [
    {
     "data": {
      "image/png": "[encoded data removed]",
      "text/plain": [
       "<Figure size 576x396 with 1 Axes>"
      ]
     },
     "metadata": {},
     "output_type": "display_data"
    }
   ],
   "source": [
    "from yellowbrick.cluster import silhouette_visualizer\n",
    "silhouette_visualizer(km, desc_tfidf_matrix, colors='yellowbrick');"
   ]
  },
  {
   "cell_type": "code",
   "execution_count": 78,
   "metadata": {},
   "outputs": [
    {
     "data": {
      "text/plain": [
       "array([[8607, 6003, 8728, 7326, 1013, 3679, 6915, 5838, 4568, 6047],\n",
       "       [9392, 8215, 8607, 6693, 1013, 3092, 3750, 4401, 3540, 8728],\n",
       "       [3566, 1880, 9610, 6536, 1013, 7876, 8607, 3691, 6003, 7312],\n",
       "       [8607, 7326, 8728, 4695, 1013, 6003, 4709, 8618, 9720, 4568],\n",
       "       [7801, 1013, 3679, 8607, 4409, 1880, 9610, 7876, 6267, 7448],\n",
       "       [6273, 8607, 5200, 5865, 6182, 1013, 8728, 5845, 3679, 6915]])"
      ]
     },
     "execution_count": 78,
     "metadata": {},
     "output_type": "execute_result"
    }
   ],
   "source": [
    "top_10_centroids = km.cluster_centers_.argsort()[:,-1:-11:-1]\n",
    "top_10_centroids"
   ]
  },
  {
   "cell_type": "code",
   "execution_count": 79,
   "metadata": {},
   "outputs": [
    {
     "name": "stdout",
     "output_type": "stream",
     "text": [
      "0, the, of, to, road, and, for, quiet, nice, in, on\n",
      "1, water, station, the, potable, and, dump, free, hose, fill, to\n",
      "2, fire, campground, with, pit, and, sites, the, forest, of, river\n",
      "3, the, road, to, is, and, of, it, there, you, in\n",
      "4, showers, and, for, the, hot, campground, with, sites, park, rv\n",
      "5, parking, the, lot, no, overnight, and, to, night, for, quiet\n"
     ]
    }
   ],
   "source": [
    "for num, centroid in enumerate(top_10_centroids):\n",
    "    print(f\"{num}, {', '.join(features[i] for i in centroid)}\")"
   ]
  },
  {
   "cell_type": "code",
   "execution_count": 80,
   "metadata": {
    "scrolled": true
   },
   "outputs": [
    {
     "name": "stdout",
     "output_type": "stream",
     "text": [
      "\n",
      "top 15 features for each cluster with 1000 max features:\n",
      "\n",
      "0: night, place, area, quiet, nice, spot, good, camping, great, free, highway, view, big, large, beautiful\n",
      "1: parking, lot, overnight, quiet, street, night, signs, walmart, free, rv, area, big, park, stayed, casino\n",
      "2: sites, campground, lake, toilets, nice, water, pit, forest, tables, free, night, picnic, creek, camping, site\n",
      "3: river, road, nice, right, spot, sites, campground, access, spots, pit, free, small, quiet, area, night\n",
      "4: showers, hot, shower, clean, campground, laundry, wifi, nice, tent, rv, pool, night, site, water, hookups\n",
      "5: park, rv, night, state, free, quiet, nice, water, just, camping, parking, street, lots, near, overnight\n",
      "6: road, spot, dirt, forest, spots, just, camping, nice, service, pull, quiet, gravel, views, right, great\n",
      "7: water, station, potable, dump, hose, free, spigot, gallon, gas, filling, air, drinking, store, rest, area\n"
     ]
    }
   ],
   "source": [
    "vectorizer = TfidfVectorizer(stop_words='english', max_features=1000)\n",
    "X = vectorizer.fit_transform(data_states['Description'])\n",
    "features = vectorizer.get_feature_names()\n",
    "kmeans = KMeans()\n",
    "kmeans.fit(X)\n",
    "top_centroids = kmeans.cluster_centers_.argsort()[:,-1:-16:-1]\n",
    "print(\"\\ntop 15 features for each cluster with 1000 max features:\\n\")\n",
    "for num, centroid in enumerate(top_centroids):\n",
    "    print(f\"{num}: {', '.join(features[i] for i in centroid)}\")\n"
   ]
  },
  {
   "cell_type": "code",
   "execution_count": 133,
   "metadata": {},
   "outputs": [
    {
     "name": "stdout",
     "output_type": "stream",
     "text": [
      "\n",
      "top 15 features for each cluster with no max features:\n",
      "\n",
      "0: lake, campground, nice, sites, road, camping, forest, near, free, spots, night, beautiful, toilets, pit, quiet\n",
      "1: water, potable, station, free, dump, hose, spigot, park, gallon, drinking, gas, available, area, toilets, rest\n",
      "2: place, nice, night, quiet, good, road, great, free, view, just, big, near, sleep, spend, rv\n",
      "3: river, campground, sites, pit, nice, toilets, forest, tables, road, water, free, night, picnic, access, toilet\n",
      "4: area, camping, spot, free, nice, great, quiet, night, views, large, lots, good, road, beautiful, highway\n",
      "5: road, spot, dirt, forest, just, spots, service, nice, pull, right, little, quiet, small, camping, night\n",
      "6: parking, lot, overnight, night, street, quiet, park, signs, walmart, stayed, area, rv, free, parked, big\n",
      "7: showers, hot, park, campground, sites, clean, rv, nice, shower, tent, wifi, night, site, laundry, pool\n"
     ]
    }
   ],
   "source": [
    "vectorizer = TfidfVectorizer(stop_words='english')\n",
    "X = vectorizer.fit_transform(data_states['Description'])\n",
    "features = vectorizer.get_feature_names()\n",
    "kmeans = KMeans()\n",
    "kmeans.fit(X)\n",
    "top_centroids = kmeans.cluster_centers_.argsort()[:,-1:-16:-1]\n",
    "print(\"\\ntop 15 features for each cluster with no max features:\\n\")\n",
    "for num, centroid in enumerate(top_centroids):\n",
    "    print(f\"{num}: {', '.join(features[i] for i in centroid)}\")"
   ]
  },
  {
   "cell_type": "code",
   "execution_count": 138,
   "metadata": {},
   "outputs": [
    {
     "name": "stdout",
     "output_type": "stream",
     "text": [
      "\n",
      "cluster 0:\n",
      "Established Campground \n",
      " Small sites, I think tent sites but I’m in a 40’mh towing.  No guidance on the sites.  $12/nt on a small lake with gorgeous sunsets.  \n",
      "\n",
      "Established Campground \n",
      " Nice campground by the lake. Was the only place we found 'open' end of october. There was no sign that it was closed and several people dropped by during the day. There are restrooms but these were locked when we were there. Nice views on the lake, fire pits, tables and further from the road than the other campsite down the road.  \n",
      "\n",
      "Wild Camping \n",
      " A spot with a view of Lake Casitas. Stayed here night no issues \n",
      "\n",
      "Established Campground \n",
      " Lake Jennings is known for being one of the most scenic parks in all of San Diego County. It is a welcoming recreation destination located in Lakeside, California offering fishing, camping, hiking, and picnicking activities. The lake is a drinking water reservoir owned and operated by Helix Water District. The scenic views of the lake and the wooded surroundings make it feel as if you are in the middle of the wilderness, right outside of town. \n",
      "\n",
      "Established Campground \n",
      " A nice free dispersed spot in the Fish Lake National Forest.  About 13 sites with camping pads, a few with tables.  A short hike to Twin Ponds, a pretty little lake.  Very popular with the local ATV crowds, would avoid on the weekends as there was a lot of late night motoring.  Was pretty quiet on the weekdays.  Lots of other free dispersed areas nearby with Cold Creek and Farnsworth just up the road.  Pit toilet only, no other amenities.  No cell phone service. \n",
      "\n",
      "\n",
      "cluster 1:\n",
      "Water \n",
      " We asked the Rancher. He said we can help ourselves.\r\n",
      "There is a water hose. \n",
      "\n",
      "Water \n",
      " Truck stop and rest area. Potable water is available on a blue stand pipe to the left of the car/RV entrance. Plenty of room and a hose provided.\r\n",
      "dumping $10. \r\n",
      "Water Free to use  \n",
      "\n",
      "Wild Camping \n",
      " The little cutout road that dead ends at Gas Works Park. About 8 spaces of unrestricted parking. As long as you get here before 9 or after 6 it usually only has one other car here.\r\n",
      "\r\n",
      "The park has a public restroom (dawn to dusk) and water fountains. For privacy reasons, it’s a downside that it’s next to a police station. Around midnight someone comes out and writes down all the license plate numbers of the cars parked here. \n",
      "\n",
      "Water \n",
      " 200m from Highway 40 there is a RV dump station and potable water. The sign says \"for rodeo contestants\" but at the station there is no further information, so we filled. Potable water comes partly with high, partly with very low pressure. Lift the handle whenever the pressure decreases. Potable water free, dump station costs something. \n",
      "\n",
      "Water \n",
      " Free water at Chevron \n",
      "\n",
      "\n",
      "cluster 2:\n",
      "Wild Camping \n",
      " Found this place along the meyer dr. \r\n",
      "Couple trucks park there, stayed couple nights, busy area. \n",
      "\n",
      "Wild Camping \n",
      " Overnight place near to Arches NP. There are several possibilities on that Road. Fire pits there.  \n",
      "\n",
      "Informal Campsite \n",
      " Nice place to stay a night with the view on the reservoir. Ther is some fisherman inthe day but noboday in the night. Look good for fishing. No big rig please...let the space for fisherman with his boat trailer. \n",
      "\n",
      "Eco-Friendly \n",
      " Wonderful place to organize your recycling!! \n",
      "\n",
      "Established Campground \n",
      " Campground with a great view of ocean on the side of the cliff. Not much for facilities (pit toilets), but a beautiful place. 25$ per night.  \n",
      "\n",
      "\n",
      "cluster 3:\n",
      "Established Campground \n",
      " $6 per night, great camping sites. Some more suited for tents but we pulled our truck and trailer into one of the longer sites no problem! Pit toilets which are cleaned regularly is a bonus. Nice overlook and fire pits at all the camp sites. \n",
      "\n",
      "Wild Camping \n",
      " Half-dozen or so pull-outs at the base of Porcupine Reservoir, along the East Fork of the Little Bear River. Suitable for tent camping, vans, or small motorhomes/trailers. No amenities. Camping limit of 10 days applies. There seems to be a developed campsite (Cinnamon Campground) further up the road, past the reservoir, but I haven't been there.  \n",
      "\n",
      "Established Campground \n",
      " $10 to camp.  Tents and trailers.  Rough roads to access some of the sites, 4WD or high clearance needed. Extremely beautiful and quiet. Pit toilets at each end of the park, a small hike from some sites.  I think there was potable water at each end too.  Not near all sites.\r\n",
      " \n",
      "\n",
      "Established Campground \n",
      " $15 / night (much cheaper than other options in the area!). Some gorgeous big trees and on the river, but also quite close to the highway so there is road noise. The river sites aren’t super flat, but doable with some creative parking.\r\n",
      "\r\n",
      "1 bar t-mobile LTE - reasonably quick\r\n",
      "\r\n",
      "Unsure if sites big rig friendly, but has a rv turnaround point \n",
      "\n",
      "Established Campground \n",
      " Huge state or county open camping area with some sites along Klickitat River.  No cost that I can tell.  Assumed busy area during weekend/season but only one camping here on Monday night in late June.  Very clean, established firepits, and great running river sounds. \n",
      "\n",
      "\n",
      "cluster 4:\n",
      "Wild Camping \n",
      " Another pullout in the hills about 5 miles out of town  \n",
      "\n",
      "Informal Campsite \n",
      " Parking lot (not leveled everywhere) on I-70 westbound 1/2 mile prior to exit 227 Westwater. \n",
      "Short steep trail leading to outlook with great view of open plains and mountains. \n",
      "\n",
      "Established Campground \n",
      " It’s okay. Pretty expensive at $35 a night. CASH! \n",
      "\n",
      "Wild Camping \n",
      " Historic abandoned rail station, quiet, arrived during the day slept one night. no problems. 5 min from here you you can visit the the space antennas (stop at the no trespass sign)  good view from there.  \n",
      "\n",
      "Wild Camping \n",
      " Open dessert very quiet in December.  Located off I-10 exit 1 in Arizona. \n",
      "\n",
      "\n",
      "cluster 5:\n",
      "Wild Camping \n",
      " This road hasn’t been used for camping in quite some time. The camping spots are over grown and hard to get to from the dirt road. Also there’s been a ton of trash dumping in the main camping spots that are still clear. A lot of trash and animal carcasses. \n",
      "\n",
      "Wild Camping \n",
      " Just a little ways up a dirt road to lots of options. We took the first flat one marked here on a graded bench beside the road. A small knoll conceals the spot from Santa Clara. Strong cell service with Google (likely T-Mobile). Do not attempt to come here if the road is wet due to the clay soil even if you have 4-wheel drive. \n",
      "\n",
      "Wild Camping \n",
      " Nice pull off .3 miles from trailhead for Wildcat basin. Had a slope to it and not good for trailer. We had a camper van. 9.6 miles of gravel road off FS 16. Had a partial view through burned trees. We stayed three days and did three hikes into the Strawberry mountain wilderness. Sporadic ATT  phone service. Had signal at times but rarely transmitted data. Had a fire ring \n",
      "\n",
      "Wild Camping \n",
      " Just off highway 299. Dirt road with a turn around by the river. No signs. No traffic at night. Close to the road but can't be seen from the road. Good cell reception \n",
      "\n",
      "Wild Camping \n",
      " Free dispersed campsites of county road 37. Signs said there is a lake and some other campgrounds 7mi from Hwy 84 but we did not go that far. Found some beautiful boondocking sites off the road about a mile up a windy dirt road. Road was in great condition. Some sites have scenic overviews. We found a beautiful site off to the right in a wild iris meadow. 10 min off the road. Very quiet. Also, because of altitude we are able to get 4G coverage from AT&T.  \n",
      "\n",
      "\n",
      "cluster 6:\n",
      "Wild Camping \n",
      " Trailhead for a popular hike. It's dog friendly and there's a relatively large lot to park in. Overnight camping is allowed on the opposite side of the river.  \n",
      "\n",
      "Informal Campsite \n",
      " At the parking of Cultural Center and restaurant, on the left, there is an area with many places to camp. Lot of camper already here but many places to sleep. Close to the highway, a little noisy but it’s ok. The road is very easy.\r\n",
      "You can pitch your tent.\r\n",
      "It’s free. \n",
      "\n",
      "Wild Camping \n",
      " Roadside parking all along N. Ventura Ave between Cañada Larga Rd and Foster Park. multiple RVs, vans, & skoolies parked along the road. No parking restrictions. Bathrooms available at nearby Foster Park.  \n",
      "\n",
      "Informal Campsite \n",
      " FREE camping for up to three nights in the parking lot of Bear River Casino. You have to fill out a form, but it's quite easy. They also give you $10 in free gambling money, if you're into that. Everything must be self contained but still a damned good deal. Parking lot is slightly sloped, but there are spots in the shade that are flat enough. Lights, cameras and security in the parking lot were nice.  \n",
      "\n",
      "Wild Camping \n",
      " Street Overnight parking industrial area near residential area. \n",
      "\n",
      "\n",
      "cluster 7:\n",
      "Established Campground \n",
      " Great county park campground $21 per night with big beautiful oak trees. 10 minutes to the beach and 10 minutes to Ojai.  \n",
      "\n",
      "Established Campground \n",
      " Campground with clean showers, laundry, swimming pool and playground. We payed 45$ for our rv for one night.  \n",
      "\n",
      "Established Campground \n",
      " Average campsite, good place for a base camp for visiting several attractions in the area. We paid $ 20 USD a night , internet included. Laundry at $ 1.00/ load.  \n",
      "\n",
      "Established Campground \n",
      " RV Park close to Hwy 14. Some sites with trees. Simple restrooms (showers & toilets closed with curtains only) but very clean. \n",
      "Laundry available as well ($ 1.25 washer - $ 0.75 dryer).\n",
      "Small club house.\n",
      "WiFi reception with MacBook Pro good- iPhone 5 & iPad 4 average to bad. \n",
      "\n",
      "Established Campground \n",
      " This is a nice clean camp ground by the lake. $17 to tent. Tent sites do not have electricity but there are covered places with benches and bbq pits and electrical outlets. Restrooms are clean. Rule says no gathering of firewood in the park but ranger told me that it is okay. Also this place is the cheapest for tents that I could find in the area. \n",
      "\n"
     ]
    }
   ],
   "source": [
    "assigned_cluster = kmeans.transform(X).argmin(axis=1)\n",
    "for i in range(kmeans.n_clusters):\n",
    "    cluster = np.arange(0, X.shape[0])[assigned_cluster==i]\n",
    "    sample_sites = np.random.choice(cluster, 5, replace=False)\n",
    "    print(f\"\\ncluster {i}:\")\n",
    "    for site in sample_sites:\n",
    "        site_row = data_states.iloc[site]\n",
    "        print(site_row[2], '\\n', site_row[3], '\\n')"
   ]
  },
  {
   "cell_type": "code",
   "execution_count": 151,
   "metadata": {},
   "outputs": [
    {
     "name": "stdout",
     "output_type": "stream",
     "text": [
      "Cluster 0:\n",
      "     Wild Camping (207 categories)\n",
      "     Established Campground (60 categories)\n",
      "     Informal Campsite (55 categories)\n",
      "     Showers (3 categories)\n",
      "     Water (2 categories)\n",
      "     Eco-Friendly (1 categories)\n",
      "Cluster 1:\n",
      "     Informal Campsite (408 categories)\n",
      "     Wild Camping (277 categories)\n",
      "     Established Campground (26 categories)\n",
      "     Water (10 categories)\n",
      "     Short-term Parking (8 categories)\n",
      "     Showers (3 categories)\n",
      "Cluster 2:\n",
      "     Wild Camping (1028 categories)\n",
      "     Informal Campsite (274 categories)\n",
      "     Established Campground (232 categories)\n",
      "     Water (19 categories)\n",
      "     Eco-Friendly (14 categories)\n",
      "     Showers (2 categories)\n",
      "     Short-term Parking (2 categories)\n",
      "Cluster 3:\n",
      "     Water (216 categories)\n",
      "     Established Campground (46 categories)\n",
      "     Informal Campsite (26 categories)\n",
      "     Wild Camping (18 categories)\n",
      "     Showers (4 categories)\n",
      "     Eco-Friendly (1 categories)\n",
      "     Short-term Parking (1 categories)\n",
      "Cluster 4:\n",
      "     Established Campground (416 categories)\n",
      "     Showers (127 categories)\n",
      "     Informal Campsite (22 categories)\n",
      "     Wild Camping (5 categories)\n",
      "     Water (1 categories)\n",
      "Cluster 5:\n",
      "     Established Campground (477 categories)\n",
      "     Wild Camping (70 categories)\n",
      "     Informal Campsite (31 categories)\n",
      "     Water (2 categories)\n",
      "Cluster 6:\n",
      "     Wild Camping (171 categories)\n",
      "     Established Campground (100 categories)\n",
      "     Informal Campsite (31 categories)\n",
      "     Water (1 categories)\n",
      "Cluster 7:\n",
      "     Wild Camping (873 categories)\n",
      "     Established Campground (51 categories)\n",
      "     Informal Campsite (40 categories)\n",
      "     Water (2 categories)\n"
     ]
    }
   ],
   "source": [
    "# count sites of each categories in each cluster \n",
    "from collections import Counter\n",
    "kmeans = KMeans(n_clusters=8)\n",
    "kmeans.fit(X)\n",
    "assigned_cluster = kmeans.transform(X).argmin(axis=1)\n",
    "\n",
    "for i in range(kmeans.n_clusters):\n",
    "    cluster = np.arange(0, X.shape[0])[assigned_cluster==i]\n",
    "    categories = data_states.iloc[cluster]['Category']\n",
    "    most_common = Counter(categories).most_common()\n",
    "    print(f\"Cluster {i}:\")\n",
    "    for j in range (len(most_common)):\n",
    "        print(f\"     {most_common[j][0]} ({most_common[j][1]} categories)\")"
   ]
  },
  {
   "cell_type": "code",
   "execution_count": null,
   "metadata": {},
   "outputs": [],
   "source": []
  }
 ],
 "metadata": {
  "kernelspec": {
   "display_name": "Python 3",
   "language": "python",
   "name": "python3"
  },
  "language_info": {
   "codemirror_mode": {
    "name": "ipython",
    "version": 3
   },
   "file_extension": ".py",
   "mimetype": "text/x-python",
   "name": "python",
   "nbconvert_exporter": "python",
   "pygments_lexer": "ipython3",
   "version": "3.7.7"
  }
 },
 "nbformat": 4,
 "nbformat_minor": 4
}
