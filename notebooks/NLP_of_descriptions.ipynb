{
 "cells": [
  {
   "cell_type": "code",
   "execution_count": 1,
   "metadata": {},
   "outputs": [],
   "source": [
    "# generic imports\n",
    "import numpy as np\n",
    "import pandas as pd\n",
    "import matplotlib.pyplot as plt\n",
    "import seaborn as sns\n",
    "from scipy import stats\n",
    "# notebook settings\n",
    "%config IPCompleter.greedy=True\n",
    "%load_ext autoreload\n",
    "%autoreload 2 \n",
    "# precision and plot settings\n",
    "num_precision = 3\n",
    "np.set_printoptions(precision=num_precision, suppress=True)\n",
    "pd.set_option('display.float_format', lambda x: f'{x:,.{num_precision}f}')\n",
    "pd.set_option(\"display.precision\", num_precision)\n",
    "pd.set_option('display.max_columns', None)\n",
    "\n",
    "plt.style.use('tableau-colorblind10')\n",
    "plt.rcParams['figure.figsize'] = [10, 6]\n",
    "plt.rcParams['font.size'] = 16\n",
    "plt.rcParams['legend.fontsize'] = 'large'\n",
    "plt.rcParams['figure.titlesize'] = 'medium'\n",
    "plt.rcParams['lines.linewidth'] = 2"
   ]
  },
  {
   "cell_type": "code",
   "execution_count": 2,
   "metadata": {},
   "outputs": [],
   "source": [
    "# setup dir and import helper functions\n",
    "import sys, os\n",
    "sys.path.append(os.path.join(os.path.dirname(sys.path[0]),'src'))\n",
    "import helper_funcs as my_funcs"
   ]
  },
  {
   "cell_type": "code",
   "execution_count": 3,
   "metadata": {},
   "outputs": [],
   "source": [
    "from sklearn.feature_extraction.text import TfidfVectorizer\n",
    "from sklearn.cluster import KMeans\n",
    "from sklearn.metrics import silhouette_score\n",
    "from collections import Counter"
   ]
  },
  {
   "cell_type": "code",
   "execution_count": 4,
   "metadata": {},
   "outputs": [],
   "source": [
    "data = pd.read_csv('../data/USdata_est_campgrounds_zip_states_combined.csv')\n",
    "# data.drop(['Unnamed: 0'], axis=1, inplace=True)\n",
    "data = data[~data['Description'].isna()]"
   ]
  },
  {
   "cell_type": "code",
   "execution_count": 5,
   "metadata": {},
   "outputs": [],
   "source": [
    "# just try with two categories.. maybe the smaller categories are influencing the clusters too much\n",
    "data_wild_est = data[data['Category'].isin(['Established Campground', 'Wild Camping'])]"
   ]
  },
  {
   "cell_type": "code",
   "execution_count": 6,
   "metadata": {},
   "outputs": [
    {
     "data": {
      "text/plain": [
       "array(['Established Campground', 'Wild Camping'], dtype=object)"
      ]
     },
     "execution_count": 6,
     "metadata": {},
     "output_type": "execute_result"
    }
   ],
   "source": [
    "data_wild_est['Category'].unique()"
   ]
  },
  {
   "cell_type": "code",
   "execution_count": 7,
   "metadata": {},
   "outputs": [
    {
     "name": "stdout",
     "output_type": "stream",
     "text": [
      "<class 'pandas.core.frame.DataFrame'>\n",
      "Int64Index: 8863 entries, 0 to 12410\n",
      "Data columns (total 38 columns):\n",
      " #   Column                     Non-Null Count  Dtype  \n",
      "---  ------                     --------------  -----  \n",
      " 0   Location                   1739 non-null   object \n",
      " 1   Name                       8863 non-null   object \n",
      " 2   Category                   8863 non-null   object \n",
      " 3   Description                8863 non-null   object \n",
      " 4   Latitude                   8863 non-null   float64\n",
      " 5   Longitude                  8863 non-null   float64\n",
      " 6   Altitude                   8637 non-null   float64\n",
      " 7   Date verified              8863 non-null   object \n",
      " 8   Open                       8863 non-null   object \n",
      " 9   Electricity                8863 non-null   object \n",
      " 10  Wifi                       8863 non-null   object \n",
      " 11  Kitchen                    8863 non-null   object \n",
      " 12  Parking                    0 non-null      float64\n",
      " 13  Restaurant                 8863 non-null   object \n",
      " 14  Showers                    8863 non-null   object \n",
      " 15  Water                      8863 non-null   object \n",
      " 16  Toilets                    8863 non-null   object \n",
      " 17  Big rig friendly           8863 non-null   object \n",
      " 18  Tent friendly              8863 non-null   object \n",
      " 19  Pet friendly               8863 non-null   object \n",
      " 20  Sanitation dump station    3739 non-null   object \n",
      " 21  Outdoor gear               0 non-null      float64\n",
      " 22  Groceries                  0 non-null      float64\n",
      " 23  Artesian goods             0 non-null      float64\n",
      " 24  Bakery                     0 non-null      float64\n",
      " 25  Rarity in this area        0 non-null      float64\n",
      " 26  Repairs vehicles           0 non-null      float64\n",
      " 27  Repairs motorcycles        0 non-null      float64\n",
      " 28  Repairs bicycles           0 non-null      float64\n",
      " 29  Sells parts                0 non-null      float64\n",
      " 30  Recycles batteries         0 non-null      object \n",
      " 31  Recycles oil               0 non-null      object \n",
      " 32  Bio fuel                   0 non-null      object \n",
      " 33  Electric vehicle charging  0 non-null      object \n",
      " 34  Composting sawdust         0 non-null      object \n",
      " 35  Recycling center           0 non-null      object \n",
      " 36  zip_code                   6638 non-null   object \n",
      " 37  State                      8377 non-null   object \n",
      "dtypes: float64(13), object(25)\n",
      "memory usage: 2.6+ MB\n"
     ]
    }
   ],
   "source": [
    "data_wild_est.info()"
   ]
  },
  {
   "cell_type": "code",
   "execution_count": 9,
   "metadata": {},
   "outputs": [],
   "source": [
    "tfidf = TfidfVectorizer(stop_words='english', max_features=10_000, max_df=0.9)\n",
    "all_desc_tfidf_matrix = tfidf.fit_transform(data_wild_est['Description'])\n",
    "k = 3\n",
    "clust_names = ['roadsite spot', 'wild campground', 'est campground'] #['service station', 'RV park type', 'pull off camp', 'open camping', 'informal']\n",
    "wild_est_features = tfidf.get_feature_names()\n",
    "wild_est_data_cluster_cats, wild_est_cluster_feats = my_funcs.run_kmeans(all_desc_tfidf_matrix, data_wild_est, wild_est_features, k)\n",
    "wild_est_data_cat_summary, wild_est_cat_df = my_funcs.get_cat_summary(wild_est_data_cluster_cats, wild_est_cluster_feats, clust_names)"
   ]
  },
  {
   "cell_type": "code",
   "execution_count": 10,
   "metadata": {},
   "outputs": [
    {
     "data": {
      "text/plain": [
       "{0: 'campground, sites, water, showers, nice, night, park, toilets, lake, site, clean, rv, free, tent, tables, pit, hot, picnic, 20, available',\n",
       " 1: 'road, spot, forest, dirt, spots, nice, just, good, small, service, quiet, river, right, creek, gravel, camping, little, site, great, camp',\n",
       " 2: 'parking, place, night, camping, quiet, area, park, nice, free, lot, good, overnight, great, near, spot, street, big, river, just, lake'}"
      ]
     },
     "execution_count": 10,
     "metadata": {},
     "output_type": "execute_result"
    }
   ],
   "source": [
    "wild_est_cluster_feats"
   ]
  },
  {
   "cell_type": "code",
   "execution_count": 11,
   "metadata": {
    "scrolled": false
   },
   "outputs": [
    {
     "data": {
      "text/html": [
       "<div>\n",
       "<style scoped>\n",
       "    .dataframe tbody tr th:only-of-type {\n",
       "        vertical-align: middle;\n",
       "    }\n",
       "\n",
       "    .dataframe tbody tr th {\n",
       "        vertical-align: top;\n",
       "    }\n",
       "\n",
       "    .dataframe thead th {\n",
       "        text-align: right;\n",
       "    }\n",
       "</style>\n",
       "<table border=\"1\" class=\"dataframe\">\n",
       "  <thead>\n",
       "    <tr style=\"text-align: right;\">\n",
       "      <th></th>\n",
       "      <th>cluster</th>\n",
       "      <th>category</th>\n",
       "      <th>count</th>\n",
       "      <th>pct_total</th>\n",
       "      <th>top words</th>\n",
       "      <th>cluster name</th>\n",
       "    </tr>\n",
       "  </thead>\n",
       "  <tbody>\n",
       "    <tr>\n",
       "      <th>0</th>\n",
       "      <td>0</td>\n",
       "      <td>Wild Camping</td>\n",
       "      <td>2539</td>\n",
       "      <td>89.910</td>\n",
       "      <td>campground, sites, water, showers, nice, night...</td>\n",
       "      <td>roadsite spot</td>\n",
       "    </tr>\n",
       "    <tr>\n",
       "      <th>2</th>\n",
       "      <td>1</td>\n",
       "      <td>Established Campground</td>\n",
       "      <td>2568</td>\n",
       "      <td>94.660</td>\n",
       "      <td>road, spot, forest, dirt, spots, nice, just, g...</td>\n",
       "      <td>wild campground</td>\n",
       "    </tr>\n",
       "    <tr>\n",
       "      <th>4</th>\n",
       "      <td>2</td>\n",
       "      <td>Wild Camping</td>\n",
       "      <td>2440</td>\n",
       "      <td>73.360</td>\n",
       "      <td>parking, place, night, camping, quiet, area, p...</td>\n",
       "      <td>est campground</td>\n",
       "    </tr>\n",
       "  </tbody>\n",
       "</table>\n",
       "</div>"
      ],
      "text/plain": [
       "  cluster                category  count  pct_total  \\\n",
       "0       0            Wild Camping   2539     89.910   \n",
       "2       1  Established Campground   2568     94.660   \n",
       "4       2            Wild Camping   2440     73.360   \n",
       "\n",
       "                                           top words     cluster name  \n",
       "0  campground, sites, water, showers, nice, night...    roadsite spot  \n",
       "2  road, spot, forest, dirt, spots, nice, just, g...  wild campground  \n",
       "4  parking, place, night, camping, quiet, area, p...   est campground  "
      ]
     },
     "execution_count": 11,
     "metadata": {},
     "output_type": "execute_result"
    }
   ],
   "source": [
    "wild_est_data_cat_summary"
   ]
  },
  {
   "cell_type": "code",
   "execution_count": 12,
   "metadata": {},
   "outputs": [
    {
     "data": {
      "text/html": [
       "<div>\n",
       "<style scoped>\n",
       "    .dataframe tbody tr th:only-of-type {\n",
       "        vertical-align: middle;\n",
       "    }\n",
       "\n",
       "    .dataframe tbody tr th {\n",
       "        vertical-align: top;\n",
       "    }\n",
       "\n",
       "    .dataframe thead th {\n",
       "        text-align: right;\n",
       "    }\n",
       "</style>\n",
       "<table border=\"1\" class=\"dataframe\">\n",
       "  <thead>\n",
       "    <tr style=\"text-align: right;\">\n",
       "      <th></th>\n",
       "      <th>cluster</th>\n",
       "      <th>category</th>\n",
       "      <th>count</th>\n",
       "      <th>pct_total</th>\n",
       "    </tr>\n",
       "  </thead>\n",
       "  <tbody>\n",
       "    <tr>\n",
       "      <th>0</th>\n",
       "      <td>0</td>\n",
       "      <td>Wild Camping</td>\n",
       "      <td>2539</td>\n",
       "      <td>89.910</td>\n",
       "    </tr>\n",
       "    <tr>\n",
       "      <th>1</th>\n",
       "      <td>0</td>\n",
       "      <td>Established Campground</td>\n",
       "      <td>285</td>\n",
       "      <td>10.090</td>\n",
       "    </tr>\n",
       "    <tr>\n",
       "      <th>2</th>\n",
       "      <td>1</td>\n",
       "      <td>Established Campground</td>\n",
       "      <td>2568</td>\n",
       "      <td>94.660</td>\n",
       "    </tr>\n",
       "    <tr>\n",
       "      <th>3</th>\n",
       "      <td>1</td>\n",
       "      <td>Wild Camping</td>\n",
       "      <td>145</td>\n",
       "      <td>5.340</td>\n",
       "    </tr>\n",
       "    <tr>\n",
       "      <th>4</th>\n",
       "      <td>2</td>\n",
       "      <td>Wild Camping</td>\n",
       "      <td>2440</td>\n",
       "      <td>73.360</td>\n",
       "    </tr>\n",
       "    <tr>\n",
       "      <th>5</th>\n",
       "      <td>2</td>\n",
       "      <td>Established Campground</td>\n",
       "      <td>886</td>\n",
       "      <td>26.640</td>\n",
       "    </tr>\n",
       "  </tbody>\n",
       "</table>\n",
       "</div>"
      ],
      "text/plain": [
       "  cluster                category  count  pct_total\n",
       "0       0            Wild Camping   2539     89.910\n",
       "1       0  Established Campground    285     10.090\n",
       "2       1  Established Campground   2568     94.660\n",
       "3       1            Wild Camping    145      5.340\n",
       "4       2            Wild Camping   2440     73.360\n",
       "5       2  Established Campground    886     26.640"
      ]
     },
     "execution_count": 12,
     "metadata": {},
     "output_type": "execute_result"
    }
   ],
   "source": [
    "wild_est_cat_df"
   ]
  },
  {
   "cell_type": "code",
   "execution_count": 15,
   "metadata": {},
   "outputs": [
    {
     "data": {
      "text/plain": [
       "Category\n",
       "Established Campground    3739\n",
       "Wild Camping              5124\n",
       "Name: Name, dtype: int64"
      ]
     },
     "execution_count": 15,
     "metadata": {},
     "output_type": "execute_result"
    }
   ],
   "source": [
    "data_wild_est.groupby(by='Category').agg('count')['Name']"
   ]
  },
  {
   "cell_type": "code",
   "execution_count": 58,
   "metadata": {},
   "outputs": [],
   "source": [
    "#wild_est_data_cat_summary.to_csv('../data/NLPall_data_cat_summary_FINAL.csv')"
   ]
  }
 ],
 "metadata": {
  "kernelspec": {
   "display_name": "Python 3",
   "language": "python",
   "name": "python3"
  },
  "language_info": {
   "codemirror_mode": {
    "name": "ipython",
    "version": 3
   },
   "file_extension": ".py",
   "mimetype": "text/x-python",
   "name": "python",
   "nbconvert_exporter": "python",
   "pygments_lexer": "ipython3",
   "version": "3.7.7"
  }
 },
 "nbformat": 4,
 "nbformat_minor": 4
}
