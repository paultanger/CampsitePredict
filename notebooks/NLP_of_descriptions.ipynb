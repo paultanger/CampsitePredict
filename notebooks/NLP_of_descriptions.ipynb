{
 "cells": [
  {
   "cell_type": "code",
   "execution_count": 1,
   "metadata": {},
   "outputs": [],
   "source": [
    "# generic imports\n",
    "import numpy as np\n",
    "import pandas as pd\n",
    "import matplotlib.pyplot as plt\n",
    "import seaborn as sns\n",
    "from scipy import stats\n",
    "# notebook settings\n",
    "%config IPCompleter.greedy=True\n",
    "%load_ext autoreload\n",
    "%autoreload 2 \n",
    "# precision and plot settings\n",
    "num_precision = 3\n",
    "np.set_printoptions(precision=num_precision, suppress=True)\n",
    "pd.set_option('display.float_format', lambda x: f'{x:,.{num_precision}f}')\n",
    "pd.set_option(\"display.precision\", num_precision)\n",
    "pd.set_option('display.max_columns', None)\n",
    "\n",
    "plt.style.use('tableau-colorblind10')\n",
    "plt.rcParams['figure.figsize'] = [10, 6]\n",
    "plt.rcParams['font.size'] = 16\n",
    "plt.rcParams['legend.fontsize'] = 'large'\n",
    "plt.rcParams['figure.titlesize'] = 'medium'\n",
    "plt.rcParams['lines.linewidth'] = 2"
   ]
  },
  {
   "cell_type": "code",
   "execution_count": 2,
   "metadata": {},
   "outputs": [],
   "source": [
    "# setup dir and import helper functions\n",
    "import sys, os\n",
    "sys.path.append(os.path.join(os.path.dirname(sys.path[0]),'src'))\n",
    "import helper_funcs as my_funcs"
   ]
  },
  {
   "cell_type": "code",
   "execution_count": 3,
   "metadata": {},
   "outputs": [],
   "source": [
    "from sklearn.feature_extraction.text import TfidfVectorizer\n",
    "from sklearn.cluster import KMeans\n",
    "from sklearn.metrics import silhouette_score\n",
    "from collections import Counter"
   ]
  },
  {
   "cell_type": "code",
   "execution_count": 4,
   "metadata": {},
   "outputs": [],
   "source": [
    "data = pd.read_csv('../data/USdata_est_campgrounds_zip_states_combined_cleaned.csv')\n",
    "data.drop(['Unnamed: 0', 'Unnamed: 0.1'], axis=1, inplace=True)\n",
    "data = data[~data['Description'].isna()]"
   ]
  },
  {
   "cell_type": "code",
   "execution_count": 6,
   "metadata": {},
   "outputs": [],
   "source": [
    "# just try with two categories.. maybe the smaller categories are influencing the clusters too much\n",
    "data_wild_est = data[data['Category'].isin(['Established Campground', 'Wild Camping'])]"
   ]
  },
  {
   "cell_type": "code",
   "execution_count": 7,
   "metadata": {},
   "outputs": [
    {
     "data": {
      "text/plain": [
       "array(['Established Campground', 'Wild Camping'], dtype=object)"
      ]
     },
     "execution_count": 7,
     "metadata": {},
     "output_type": "execute_result"
    }
   ],
   "source": [
    "data_wild_est['Category'].unique()"
   ]
  },
  {
   "cell_type": "code",
   "execution_count": 54,
   "metadata": {},
   "outputs": [],
   "source": [
    "tfidf = TfidfVectorizer(stop_words='english', max_features=10_000, max_df=0.9)\n",
    "all_desc_tfidf_matrix = tfidf.fit_transform(data_wild_est['Description'])\n",
    "k = 3\n",
    "clust_names = ['roadsite spot', 'wild campground', 'est campground'] #['service station', 'RV park type', 'pull off camp', 'open camping', 'informal']\n",
    "wild_est_features = tfidf.get_feature_names()\n",
    "wild_est_data_cluster_cats, wild_est_cluster_feats = run_kmeans(all_desc_tfidf_matrix, data_wild_est, wild_est_features, k)\n",
    "wild_est_data_cat_summary, wild_est_cat_df = get_cat_summary(wild_est_data_cluster_cats, wild_est_cluster_feats, clust_names)"
   ]
  },
  {
   "cell_type": "code",
   "execution_count": 57,
   "metadata": {},
   "outputs": [
    {
     "data": {
      "text/plain": [
       "{0: 'parking, place, night, quiet, area, lot, nice, camping, park, free, good, overnight, great, near, spot, street, big, just, view, river',\n",
       " 1: 'road, spot, forest, spots, dirt, nice, just, service, good, small, river, right, camping, quiet, creek, site, camp, gravel, great, little',\n",
       " 2: 'campground, sites, water, nice, showers, park, night, lake, toilets, site, rv, clean, free, tent, tables, pit, picnic, hot, camping, available'}"
      ]
     },
     "execution_count": 57,
     "metadata": {},
     "output_type": "execute_result"
    }
   ],
   "source": [
    "wild_est_cluster_feats"
   ]
  },
  {
   "cell_type": "code",
   "execution_count": 56,
   "metadata": {
    "scrolled": true
   },
   "outputs": [
    {
     "data": {
      "text/html": [
       "<div>\n",
       "<style scoped>\n",
       "    .dataframe tbody tr th:only-of-type {\n",
       "        vertical-align: middle;\n",
       "    }\n",
       "\n",
       "    .dataframe tbody tr th {\n",
       "        vertical-align: top;\n",
       "    }\n",
       "\n",
       "    .dataframe thead th {\n",
       "        text-align: right;\n",
       "    }\n",
       "</style>\n",
       "<table border=\"1\" class=\"dataframe\">\n",
       "  <thead>\n",
       "    <tr style=\"text-align: right;\">\n",
       "      <th></th>\n",
       "      <th>cluster</th>\n",
       "      <th>category</th>\n",
       "      <th>count</th>\n",
       "      <th>pct_total</th>\n",
       "      <th>top words</th>\n",
       "      <th>cluster name</th>\n",
       "    </tr>\n",
       "  </thead>\n",
       "  <tbody>\n",
       "    <tr>\n",
       "      <th>0</th>\n",
       "      <td>0</td>\n",
       "      <td>Wild Camping</td>\n",
       "      <td>2560</td>\n",
       "      <td>73.1800</td>\n",
       "      <td>parking, place, night, quiet, area, lot, nice,...</td>\n",
       "      <td>roadsite spot</td>\n",
       "    </tr>\n",
       "    <tr>\n",
       "      <th>2</th>\n",
       "      <td>1</td>\n",
       "      <td>Wild Camping</td>\n",
       "      <td>2428</td>\n",
       "      <td>89.8600</td>\n",
       "      <td>road, spot, forest, spots, dirt, nice, just, s...</td>\n",
       "      <td>wild campground</td>\n",
       "    </tr>\n",
       "    <tr>\n",
       "      <th>4</th>\n",
       "      <td>2</td>\n",
       "      <td>Established Campground</td>\n",
       "      <td>2527</td>\n",
       "      <td>94.8900</td>\n",
       "      <td>campground, sites, water, nice, showers, park,...</td>\n",
       "      <td>est campground</td>\n",
       "    </tr>\n",
       "  </tbody>\n",
       "</table>\n",
       "</div>"
      ],
      "text/plain": [
       "  cluster                category  count  pct_total  \\\n",
       "0       0            Wild Camping   2560    73.1800   \n",
       "2       1            Wild Camping   2428    89.8600   \n",
       "4       2  Established Campground   2527    94.8900   \n",
       "\n",
       "                                           top words     cluster name  \n",
       "0  parking, place, night, quiet, area, lot, nice,...    roadsite spot  \n",
       "2  road, spot, forest, spots, dirt, nice, just, s...  wild campground  \n",
       "4  campground, sites, water, nice, showers, park,...   est campground  "
      ]
     },
     "execution_count": 56,
     "metadata": {},
     "output_type": "execute_result"
    }
   ],
   "source": [
    "wild_est_data_cat_summary"
   ]
  },
  {
   "cell_type": "code",
   "execution_count": 58,
   "metadata": {},
   "outputs": [],
   "source": [
    "#wild_est_data_cat_summary.to_csv('../data/NLPall_data_cat_summary_FINAL.csv')"
   ]
  }
 ],
 "metadata": {
  "kernelspec": {
   "display_name": "Python 3",
   "language": "python",
   "name": "python3"
  },
  "language_info": {
   "codemirror_mode": {
    "name": "ipython",
    "version": 3
   },
   "file_extension": ".py",
   "mimetype": "text/x-python",
   "name": "python",
   "nbconvert_exporter": "python",
   "pygments_lexer": "ipython3",
   "version": "3.7.7"
  }
 },
 "nbformat": 4,
 "nbformat_minor": 4
}
