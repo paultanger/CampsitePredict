{
 "cells": [
  {
   "cell_type": "code",
   "execution_count": 1,
   "metadata": {},
   "outputs": [],
   "source": [
    "from tensorflow.keras.preprocessing import image_dataset_from_directory\n",
    "import tensorflow\n",
    "import numpy as np\n",
    "import pandas as pd\n",
    "import matplotlib.pyplot as plt"
   ]
  },
  {
   "cell_type": "code",
   "execution_count": 2,
   "metadata": {},
   "outputs": [],
   "source": [
    "directory = '../data/symlink_data/all_US_wild_est'"
   ]
  },
  {
   "cell_type": "code",
   "execution_count": 3,
   "metadata": {},
   "outputs": [],
   "source": [
    "batch_size = 32\n",
    "img_size = 256 # keep original size and resize within model if needed"
   ]
  },
  {
   "cell_type": "code",
   "execution_count": 17,
   "metadata": {},
   "outputs": [
    {
     "name": "stdout",
     "output_type": "stream",
     "text": [
      "Found 31498 files belonging to 2 classes.\n",
      "Using 23624 files for training.\n"
     ]
    }
   ],
   "source": [
    "X_train = image_dataset_from_directory(\n",
    "    directory, labels='inferred', class_names=None, \n",
    "    color_mode='rgb', batch_size=16, image_size=(img_size, img_size), shuffle=True, seed=42,\n",
    "    validation_split=0.25, subset='training', interpolation='bilinear', follow_links=True\n",
    ")\n",
    "# this batch size is how it divides the data in the epochs below"
   ]
  },
  {
   "cell_type": "code",
   "execution_count": 5,
   "metadata": {
    "scrolled": true
   },
   "outputs": [
    {
     "name": "stdout",
     "output_type": "stream",
     "text": [
      "Found 31498 files belonging to 2 classes.\n",
      "Using 7874 files for validation.\n"
     ]
    }
   ],
   "source": [
    "# set the batch size to the entire test set so we can split it\n",
    "X_test = image_dataset_from_directory(\n",
    "    directory, labels='inferred', class_names=None, \n",
    "    color_mode='rgb', batch_size=7874, image_size=(img_size, img_size), shuffle=True, seed=42, \n",
    "    validation_split=0.25, subset='validation', interpolation='bilinear', follow_links=True\n",
    ")"
   ]
  },
  {
   "cell_type": "code",
   "execution_count": 6,
   "metadata": {},
   "outputs": [
    {
     "name": "stdout",
     "output_type": "stream",
     "text": [
      " holdout size: 2362, test size: 5512\n"
     ]
    }
   ],
   "source": [
    "# calc sizes\n",
    "holdout_size = int(0.3 * 7874)\n",
    "test_size = 7874 - holdout_size\n",
    "print(f' holdout size: {holdout_size}, test size: {test_size}')\n",
    "\n",
    "# pull X and y in tensors\n",
    "X_test_images, X_test_labels = next(iter(X_test))\n",
    "# split the first into holdout\n",
    "X_holdout_images = X_test_images[:holdout_size,...]\n",
    "X_holdout_labels = X_test_labels[:holdout_size]\n",
    "# put the rest in X_test\n",
    "X_test_images = X_test_images[holdout_size:,...]\n",
    "X_test_labels = X_test_labels[holdout_size:]"
   ]
  },
  {
   "cell_type": "code",
   "execution_count": 7,
   "metadata": {},
   "outputs": [],
   "source": [
    "# put into datasets\n",
    "X_test1 = tensorflow.data.Dataset.from_tensor_slices((X_test_images, X_test_labels))\n",
    "X_holdout1 = tensorflow.data.Dataset.from_tensor_slices((X_holdout_images, X_holdout_labels))"
   ]
  },
  {
   "cell_type": "code",
   "execution_count": null,
   "metadata": {},
   "outputs": [],
   "source": [
    "# # batch them same as X_train\n",
    "# X_test1 = X_test1.batch(32)\n",
    "# X_holdout1 = X_holdout1.batch(32)"
   ]
  },
  {
   "cell_type": "code",
   "execution_count": 8,
   "metadata": {},
   "outputs": [
    {
     "data": {
      "text/plain": [
       "(TensorSpec(shape=(None, 256, 256, 3), dtype=tf.float32, name=None),\n",
       " TensorSpec(shape=(None,), dtype=tf.int32, name=None))"
      ]
     },
     "execution_count": 8,
     "metadata": {},
     "output_type": "execute_result"
    }
   ],
   "source": [
    "X_train.element_spec"
   ]
  },
  {
   "cell_type": "code",
   "execution_count": 9,
   "metadata": {},
   "outputs": [
    {
     "data": {
      "text/plain": [
       "(TensorSpec(shape=(256, 256, 3), dtype=tf.float32, name=None),\n",
       " TensorSpec(shape=(), dtype=tf.int32, name=None))"
      ]
     },
     "execution_count": 9,
     "metadata": {},
     "output_type": "execute_result"
    }
   ],
   "source": [
    "X_holdout1.element_spec"
   ]
  },
  {
   "cell_type": "code",
   "execution_count": 10,
   "metadata": {},
   "outputs": [
    {
     "data": {
      "text/plain": [
       "(TensorSpec(shape=(256, 256, 3), dtype=tf.float32, name=None),\n",
       " TensorSpec(shape=(), dtype=tf.int32, name=None))"
      ]
     },
     "execution_count": 10,
     "metadata": {},
     "output_type": "execute_result"
    }
   ],
   "source": [
    "X_test1.element_spec"
   ]
  },
  {
   "cell_type": "code",
   "execution_count": 11,
   "metadata": {},
   "outputs": [
    {
     "data": {
      "text/plain": [
       "['Established Campground', 'Wild Camping']"
      ]
     },
     "execution_count": 11,
     "metadata": {},
     "output_type": "execute_result"
    }
   ],
   "source": [
    "X_test.class_names"
   ]
  },
  {
   "cell_type": "code",
   "execution_count": 12,
   "metadata": {},
   "outputs": [],
   "source": [
    "from tensorflow import keras\n",
    "from tensorflow.keras import layers\n",
    "from tensorflow.keras.models import Sequential\n",
    "from tensorflow import data"
   ]
  },
  {
   "cell_type": "code",
   "execution_count": 13,
   "metadata": {},
   "outputs": [],
   "source": [
    "##### SAVE DATASETS ##### this takes alot of ram..\n",
    "from tensorflow.data.experimental import save"
   ]
  },
  {
   "cell_type": "code",
   "execution_count": 18,
   "metadata": {},
   "outputs": [],
   "source": [
    "save(X_train, '../data/datasets/all_US_data/X_train_256px_16batch', compression='GZIP', shard_func=None)"
   ]
  },
  {
   "cell_type": "code",
   "execution_count": 15,
   "metadata": {},
   "outputs": [],
   "source": [
    "save(X_test1, '../data/datasets/all_US_data/X_test_256px_unbatched', compression='GZIP', shard_func=None)"
   ]
  },
  {
   "cell_type": "code",
   "execution_count": 16,
   "metadata": {},
   "outputs": [],
   "source": [
    "save(X_holdout1, '../data/datasets/all_US_data/X_holdout_256px_unbatched', compression='GZIP', shard_func=None)"
   ]
  },
  {
   "cell_type": "code",
   "execution_count": 25,
   "metadata": {},
   "outputs": [],
   "source": [
    "from tensorflow import TensorSpec, float32, int32\n",
    "from tensorflow.data.experimental import load\n",
    "\n",
    "img_height = 350\n",
    "img_width = 350\n",
    "final_dense = 350\n",
    "\n",
    "X_train_elem_spec = (TensorSpec(shape=(None, img_height, img_width, 3), dtype=float32, name=None), TensorSpec(shape=(None,), dtype=int32, name=None))\n",
    "X_test_elem_spec = (TensorSpec(shape=(None, img_height, img_width, 3), dtype=float32, name=None), TensorSpec(shape=(None,), dtype=int32, name=None))\n",
    "\n",
    "# path to files:\n",
    "X_train_data_path = '../data/datasets/all_US_data/X_train_32batch'\n",
    "X_test_data_path = '../data/datasets/all_US_data/X_test_32batch'\n",
    "X_train = load(X_train_data_path, element_spec=X_train_elem_spec, compression='GZIP', reader_func=None)\n",
    "X_test = load(X_test_data_path, element_spec=X_test_elem_spec, compression='GZIP', reader_func=None)"
   ]
  },
  {
   "cell_type": "code",
   "execution_count": 26,
   "metadata": {},
   "outputs": [],
   "source": [
    "num_classes = 2\n",
    "epochs = 1 # number of passes through the entire train dataset before weights \"final\"\n",
    "AUTOTUNE = data.experimental.AUTOTUNE\n",
    "nb_filters = 32    # number of convolutional filters to use - want 1 for each \"feature\" you think exists in images if more, more parameters\n",
    "pool_size = (2, 2)  # pooling decreases image size, reduces computation, adds translational invariance\n",
    "kernel_size = (2, 2)  # convolutional kernel size, slides over image to learn features\n",
    "X_train = X_train.cache().shuffle(32).prefetch(buffer_size=AUTOTUNE) # shuffle same as batch size\n",
    "X_test = X_test.cache().prefetch(buffer_size=AUTOTUNE)"
   ]
  },
  {
   "cell_type": "code",
   "execution_count": 27,
   "metadata": {},
   "outputs": [],
   "source": [
    "model = Sequential([\n",
    "    # try original (350 x 350), and then resized 256 x 256 - change params above\n",
    "#     layers.experimental.preprocessing.Resizing(img_height, img_width, interpolation='bilinear')\n",
    "    layers.experimental.preprocessing.Rescaling(1./255, input_shape=(img_height, img_width, 3)),\n",
    "    layers.experimental.preprocessing.RandomFlip(\"horizontal\", \n",
    "                                                 input_shape=(img_height, \n",
    "                                                              img_width,\n",
    "                                                              3)),\n",
    "    layers.experimental.preprocessing.RandomRotation(0.1),\n",
    "    layers.experimental.preprocessing.RandomZoom(0.1),\n",
    "    layers.Conv2D(nb_filters, (kernel_size[0], kernel_size[1]), padding='same', activation='relu'), # was 16, 32, 64\n",
    "    layers.MaxPooling2D(pool_size=pool_size),\n",
    "    layers.Conv2D(nb_filters*2, (kernel_size[0], kernel_size[1]), padding='same', activation='relu'), # drop layers.. for initial testing\n",
    "    layers.MaxPooling2D(pool_size=pool_size),\n",
    "    layers.Conv2D(nb_filters*3, (kernel_size[0], kernel_size[1]), padding='same', activation='relu'),\n",
    "    layers.MaxPooling2D(pool_size=pool_size),\n",
    "    layers.Conv2D(nb_filters*4, (kernel_size[0], kernel_size[1]), padding='same', activation='relu'),\n",
    "    layers.MaxPooling2D(pool_size=pool_size),\n",
    "\n",
    "    layers.Flatten(),\n",
    "    layers.Dense(final_dense, activation='relu'), \n",
    "    layers.Dropout(0.5),\n",
    "    layers.Dense(1, activation='sigmoid') \n",
    "])"
   ]
  },
  {
   "cell_type": "code",
   "execution_count": 28,
   "metadata": {},
   "outputs": [],
   "source": [
    "model.compile(optimizer='adam',\n",
    "              loss=keras.losses.BinaryCrossentropy(from_logits=False),\n",
    "              metrics=['accuracy'])"
   ]
  },
  {
   "cell_type": "code",
   "execution_count": 29,
   "metadata": {},
   "outputs": [
    {
     "name": "stdout",
     "output_type": "stream",
     "text": [
      "Model: \"sequential\"\n",
      "_________________________________________________________________\n",
      "Layer (type)                 Output Shape              Param #   \n",
      "=================================================================\n",
      "rescaling (Rescaling)        (None, 350, 350, 3)       0         \n",
      "_________________________________________________________________\n",
      "random_flip (RandomFlip)     (None, 350, 350, 3)       0         \n",
      "_________________________________________________________________\n",
      "random_rotation (RandomRotat (None, 350, 350, 3)       0         \n",
      "_________________________________________________________________\n",
      "random_zoom (RandomZoom)     (None, 350, 350, 3)       0         \n",
      "_________________________________________________________________\n",
      "conv2d (Conv2D)              (None, 350, 350, 32)      416       \n",
      "_________________________________________________________________\n",
      "max_pooling2d (MaxPooling2D) (None, 175, 175, 32)      0         \n",
      "_________________________________________________________________\n",
      "conv2d_1 (Conv2D)            (None, 175, 175, 64)      8256      \n",
      "_________________________________________________________________\n",
      "max_pooling2d_1 (MaxPooling2 (None, 87, 87, 64)        0         \n",
      "_________________________________________________________________\n",
      "conv2d_2 (Conv2D)            (None, 87, 87, 96)        24672     \n",
      "_________________________________________________________________\n",
      "max_pooling2d_2 (MaxPooling2 (None, 43, 43, 96)        0         \n",
      "_________________________________________________________________\n",
      "conv2d_3 (Conv2D)            (None, 43, 43, 128)       49280     \n",
      "_________________________________________________________________\n",
      "max_pooling2d_3 (MaxPooling2 (None, 21, 21, 128)       0         \n",
      "_________________________________________________________________\n",
      "flatten (Flatten)            (None, 56448)             0         \n",
      "_________________________________________________________________\n",
      "dense (Dense)                (None, 350)               19757150  \n",
      "_________________________________________________________________\n",
      "dropout (Dropout)            (None, 350)               0         \n",
      "_________________________________________________________________\n",
      "dense_1 (Dense)              (None, 1)                 351       \n",
      "=================================================================\n",
      "Total params: 19,840,125\n",
      "Trainable params: 19,840,125\n",
      "Non-trainable params: 0\n",
      "_________________________________________________________________\n"
     ]
    }
   ],
   "source": [
    "# check model\n",
    "model.summary()"
   ]
  },
  {
   "cell_type": "code",
   "execution_count": 31,
   "metadata": {},
   "outputs": [
    {
     "name": "stdout",
     "output_type": "stream",
     "text": [
      "739/739 [==============================] - 1436s 2s/step - loss: 0.6627 - accuracy: 0.5978 - val_loss: 0.5878 - val_accuracy: 0.6934\n"
     ]
    }
   ],
   "source": [
    "# run it\n",
    "history = model.fit(\n",
    "            X_train,\n",
    "            validation_data = X_test,\n",
    "            epochs = 1,\n",
    "            #batch_size=batch_size,\n",
    "            verbose = 1\n",
    ")"
   ]
  },
  {
   "cell_type": "code",
   "execution_count": null,
   "metadata": {
    "scrolled": true
   },
   "outputs": [],
   "source": [
    "score = model.evaluate(X_test, verbose=1) \n",
    "print('Test score:', score[0])\n",
    "print('Test accuracy:', score[1])  "
   ]
  }
 ],
 "metadata": {
  "kernelspec": {
   "display_name": "Python [conda env:tf_py377]",
   "language": "python",
   "name": "conda-env-tf_py377-py"
  },
  "language_info": {
   "codemirror_mode": {
    "name": "ipython",
    "version": 3
   },
   "file_extension": ".py",
   "mimetype": "text/x-python",
   "name": "python",
   "nbconvert_exporter": "python",
   "pygments_lexer": "ipython3",
   "version": "3.7.7"
  }
 },
 "nbformat": 4,
 "nbformat_minor": 4
}
