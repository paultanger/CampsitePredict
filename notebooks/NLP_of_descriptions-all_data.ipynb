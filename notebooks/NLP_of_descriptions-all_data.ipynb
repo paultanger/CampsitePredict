{
 "cells": [
  {
   "cell_type": "code",
   "execution_count": 1,
   "metadata": {},
   "outputs": [],
   "source": [
    "import numpy as np\n",
    "import pandas as pd\n",
    "import matplotlib.pyplot as plt\n",
    "import seaborn as sns\n",
    "from scipy import stats\n",
    "#%matplotlib inline\n",
    "pd.options.display.float_format = '{:,.2f}'.format\n",
    "plt.style.use('seaborn-white')\n",
    "# colorblind safe\n",
    "plt.style.use('seaborn-colorblind')\n",
    "plt.style.use('tableau-colorblind10')\n",
    "\n",
    "# width and precision for f strings\n",
    "width = 10\n",
    "precision = 4\n",
    "\n",
    "# default sizes for plots\n",
    "# https://matplotlib.org/3.3.0/tutorials/introductory/customizing.html#customizing-with-matplotlibrc-files\n",
    "plt.rcParams['figure.figsize'] = [10, 6]\n",
    "plt.rcParams['font.size'] = 16\n",
    "plt.rcParams['legend.fontsize'] = 'large'\n",
    "plt.rcParams['figure.titlesize'] = 'medium'\n",
    "plt.rcParams['lines.linewidth'] = 2\n",
    "\n",
    "# other settings\n",
    "pd.options.display.float_format = '{:,.4f}'.format\n",
    "pd.set_option(\"display.precision\", 3)\n",
    "np.set_printoptions(precision=3, suppress=True)\n",
    "%load_ext autoreload\n",
    "%autoreload 2\n",
    "pd.set_option('display.max_columns', None)\n",
    "%config IPCompleter.greedy=True"
   ]
  },
  {
   "cell_type": "code",
   "execution_count": 2,
   "metadata": {},
   "outputs": [],
   "source": [
    "from sklearn.feature_extraction.text import TfidfVectorizer\n",
    "from sklearn.cluster import KMeans\n",
    "from sklearn.metrics import silhouette_score"
   ]
  },
  {
   "cell_type": "code",
   "execution_count": 3,
   "metadata": {},
   "outputs": [],
   "source": [
    "data = pd.read_csv('../data/USdata_est_campgrounds_zip_states_combined_cleaned.csv')\n",
    "data.drop(['Unnamed: 0', 'Unnamed: 0.1'], axis=1, inplace=True)"
   ]
  },
  {
   "cell_type": "code",
   "execution_count": 4,
   "metadata": {},
   "outputs": [
    {
     "name": "stdout",
     "output_type": "stream",
     "text": [
      "<class 'pandas.core.frame.DataFrame'>\n",
      "RangeIndex: 12412 entries, 0 to 12411\n",
      "Data columns (total 38 columns):\n",
      " #   Column                     Non-Null Count  Dtype  \n",
      "---  ------                     --------------  -----  \n",
      " 0   Location                   2241 non-null   object \n",
      " 1   Name                       12412 non-null  object \n",
      " 2   Category                   12412 non-null  object \n",
      " 3   Description                12411 non-null  object \n",
      " 4   Latitude                   12412 non-null  float64\n",
      " 5   Longitude                  12412 non-null  float64\n",
      " 6   Altitude                   12103 non-null  float64\n",
      " 7   Date verified              12412 non-null  object \n",
      " 8   Open                       12412 non-null  object \n",
      " 9   Electricity                11609 non-null  object \n",
      " 10  Wifi                       11609 non-null  object \n",
      " 11  Kitchen                    11609 non-null  object \n",
      " 12  Parking                    0 non-null      float64\n",
      " 13  Restaurant                 11609 non-null  object \n",
      " 14  Showers                    11873 non-null  object \n",
      " 15  Water                      11609 non-null  object \n",
      " 16  Toilets                    11609 non-null  object \n",
      " 17  Big rig friendly           11609 non-null  object \n",
      " 18  Tent friendly              11609 non-null  object \n",
      " 19  Pet friendly               11609 non-null  object \n",
      " 20  Sanitation dump station    3740 non-null   object \n",
      " 21  Outdoor gear               0 non-null      float64\n",
      " 22  Groceries                  0 non-null      float64\n",
      " 23  Artesian goods             0 non-null      float64\n",
      " 24  Bakery                     0 non-null      float64\n",
      " 25  Rarity in this area        0 non-null      float64\n",
      " 26  Repairs vehicles           0 non-null      float64\n",
      " 27  Repairs motorcycles        0 non-null      float64\n",
      " 28  Repairs bicycles           0 non-null      float64\n",
      " 29  Sells parts                0 non-null      float64\n",
      " 30  Recycles batteries         21 non-null     object \n",
      " 31  Recycles oil               21 non-null     object \n",
      " 32  Bio fuel                   21 non-null     object \n",
      " 33  Electric vehicle charging  21 non-null     object \n",
      " 34  Composting sawdust         21 non-null     object \n",
      " 35  Recycling center           21 non-null     object \n",
      " 36  zip_code                   9625 non-null   object \n",
      " 37  State                      11866 non-null  object \n",
      "dtypes: float64(13), object(25)\n",
      "memory usage: 3.6+ MB\n"
     ]
    }
   ],
   "source": [
    "data.info()"
   ]
  },
  {
   "cell_type": "code",
   "execution_count": 5,
   "metadata": {
    "scrolled": true
   },
   "outputs": [
    {
     "data": {
      "text/plain": [
       "State\n",
       "AB     10\n",
       "AK    452\n",
       "AL     89\n",
       "AR     96\n",
       "AZ    886\n",
       "     ... \n",
       "WA    692\n",
       "WI     83\n",
       "WV     39\n",
       "WY    298\n",
       "YT      6\n",
       "Name: Description, Length: 69, dtype: int64"
      ]
     },
     "execution_count": 5,
     "metadata": {},
     "output_type": "execute_result"
    }
   ],
   "source": [
    "data.groupby(['State'])['Description'].agg('count')"
   ]
  },
  {
   "cell_type": "code",
   "execution_count": 7,
   "metadata": {},
   "outputs": [
    {
     "data": {
      "text/plain": [
       "Category\n",
       "Eco-Friendly                21\n",
       "Established Campground    3739\n",
       "Informal Campsite         2745\n",
       "Short-term Parking          28\n",
       "Showers                    264\n",
       "Water                      490\n",
       "Wild Camping              5124\n",
       "Name: Description, dtype: int64"
      ]
     },
     "execution_count": 7,
     "metadata": {},
     "output_type": "execute_result"
    }
   ],
   "source": [
    "data.groupby(['Category'])['Description'].agg('count')"
   ]
  },
  {
   "cell_type": "code",
   "execution_count": 8,
   "metadata": {},
   "outputs": [],
   "source": [
    "data = data[~data['Description'].isna()]"
   ]
  },
  {
   "cell_type": "code",
   "execution_count": 10,
   "metadata": {},
   "outputs": [
    {
     "name": "stdout",
     "output_type": "stream",
     "text": [
      "<class 'pandas.core.frame.DataFrame'>\n",
      "Int64Index: 12411 entries, 0 to 12411\n",
      "Data columns (total 38 columns):\n",
      " #   Column                     Non-Null Count  Dtype  \n",
      "---  ------                     --------------  -----  \n",
      " 0   Location                   2240 non-null   object \n",
      " 1   Name                       12411 non-null  object \n",
      " 2   Category                   12411 non-null  object \n",
      " 3   Description                12411 non-null  object \n",
      " 4   Latitude                   12411 non-null  float64\n",
      " 5   Longitude                  12411 non-null  float64\n",
      " 6   Altitude                   12103 non-null  float64\n",
      " 7   Date verified              12411 non-null  object \n",
      " 8   Open                       12411 non-null  object \n",
      " 9   Electricity                11608 non-null  object \n",
      " 10  Wifi                       11608 non-null  object \n",
      " 11  Kitchen                    11608 non-null  object \n",
      " 12  Parking                    0 non-null      float64\n",
      " 13  Restaurant                 11608 non-null  object \n",
      " 14  Showers                    11872 non-null  object \n",
      " 15  Water                      11608 non-null  object \n",
      " 16  Toilets                    11608 non-null  object \n",
      " 17  Big rig friendly           11608 non-null  object \n",
      " 18  Tent friendly              11608 non-null  object \n",
      " 19  Pet friendly               11608 non-null  object \n",
      " 20  Sanitation dump station    3739 non-null   object \n",
      " 21  Outdoor gear               0 non-null      float64\n",
      " 22  Groceries                  0 non-null      float64\n",
      " 23  Artesian goods             0 non-null      float64\n",
      " 24  Bakery                     0 non-null      float64\n",
      " 25  Rarity in this area        0 non-null      float64\n",
      " 26  Repairs vehicles           0 non-null      float64\n",
      " 27  Repairs motorcycles        0 non-null      float64\n",
      " 28  Repairs bicycles           0 non-null      float64\n",
      " 29  Sells parts                0 non-null      float64\n",
      " 30  Recycles batteries         21 non-null     object \n",
      " 31  Recycles oil               21 non-null     object \n",
      " 32  Bio fuel                   21 non-null     object \n",
      " 33  Electric vehicle charging  21 non-null     object \n",
      " 34  Composting sawdust         21 non-null     object \n",
      " 35  Recycling center           21 non-null     object \n",
      " 36  zip_code                   9625 non-null   object \n",
      " 37  State                      11865 non-null  object \n",
      "dtypes: float64(13), object(25)\n",
      "memory usage: 3.7+ MB\n"
     ]
    }
   ],
   "source": [
    "data.info()"
   ]
  },
  {
   "cell_type": "code",
   "execution_count": 33,
   "metadata": {},
   "outputs": [],
   "source": [
    "tfidf = TfidfVectorizer(stop_words='english', max_features=10_000)\n",
    "desc_tfidf_matrix = tfidf.fit_transform(data['Description'])"
   ]
  },
  {
   "cell_type": "code",
   "execution_count": 28,
   "metadata": {},
   "outputs": [],
   "source": [
    "# desc_tfidf_matrix.todense() what does this do?"
   ]
  },
  {
   "cell_type": "code",
   "execution_count": 34,
   "metadata": {},
   "outputs": [
    {
     "data": {
      "text/plain": [
       "10000"
      ]
     },
     "execution_count": 34,
     "metadata": {},
     "output_type": "execute_result"
    }
   ],
   "source": [
    "# features = tfidf.vocabulary_.keys()\n",
    "# or better:\n",
    "features = tfidf.get_feature_names()\n",
    "len(features)"
   ]
  },
  {
   "cell_type": "code",
   "execution_count": 48,
   "metadata": {
    "scrolled": true
   },
   "outputs": [
    {
     "name": "stdout",
     "output_type": "stream",
     "text": [
      "\n",
      "top 20 features for each cluster with 10,000 max features:\n",
      "\n",
      "0: water, station, potable, dump, free, spigot, hose, gas, park, drinking, rv, available, gallon, parking, area, air, building, right, rest, inside\n",
      "1: showers, hot, clean, park, shower, laundry, nice, rv, campground, wifi, water, night, pool, site, tent, hookups, bathrooms, free, sites, available\n",
      "2: place, nice, night, quiet, good, road, great, stay, near, free, overnight, view, big, just, river, sleep, small, park, rv, highway\n",
      "3: camping, area, spot, night, nice, park, quiet, free, great, river, good, site, beautiful, large, just, camp, highway, big, spots, small\n",
      "4: parking, lot, overnight, walmart, night, quiet, park, street, signs, stayed, big, area, rv, free, parked, near, good, 24, stay, large\n",
      "5: road, spot, forest, dirt, spots, just, service, nice, quiet, gravel, good, creek, camping, little, small, pull, right, site, great, camp\n",
      "6: tables, picnic, pit, toilets, free, area, water, toilet, campground, nice, sites, rings, lake, pits, river, table, night, camping, quiet, rest\n",
      "7: sites, campground, nice, lake, water, night, river, park, site, toilets, forest, tent, state, 20, free, rv, 10, small, available, camping\n"
     ]
    }
   ],
   "source": [
    "kmeans = KMeans(8)\n",
    "kmeans.fit(desc_tfidf_matrix)\n",
    "y = kmeans.fit_predict(desc_tfidf_matrix)\n",
    "\n",
    "top_centroids = kmeans.cluster_centers_.argsort()[:,-1:-21:-1]\n",
    "print(\"\\ntop 20 features for each cluster with 10,000 max features:\\n\")\n",
    "cluster_feats = {}\n",
    "for num, centroid in enumerate(top_centroids):\n",
    "    cluster_feats[num] = ', '.join(features[i] for i in centroid)\n",
    "    print(f\"{num}: {', '.join(features[i] for i in centroid)}\")"
   ]
  },
  {
   "cell_type": "code",
   "execution_count": 42,
   "metadata": {},
   "outputs": [
    {
     "data": {
      "text/plain": [
       "{0: 'water, station, potable, dump, free, spigot, hose, gas, park, area, rv, drinking, available, parking, gallon, nebraska, rest, picnic, nice, air',\n",
       " 1: 'campground, sites, pit, toilets, tables, lake, picnic, nice, water, free, river, forest, night, site, toilet, rings, national, small, quiet, camping',\n",
       " 2: 'parking, lot, overnight, walmart, night, quiet, park, signs, street, big, area, rv, stayed, free, good, near, parked, stay, large, 24',\n",
       " 3: 'showers, park, hot, clean, rv, campground, nice, sites, shower, night, tent, laundry, water, site, wifi, hookups, pool, bathrooms, state, 20',\n",
       " 4: 'road, spot, forest, dirt, spots, nice, just, quiet, good, gravel, camping, service, small, creek, little, right, pull, site, camp, river',\n",
       " 5: 'place, night, area, nice, camping, quiet, spot, good, great, free, park, river, highway, beautiful, just, big, view, near, large, camp'}"
      ]
     },
     "execution_count": 42,
     "metadata": {},
     "output_type": "execute_result"
    }
   ],
   "source": [
    "cluster_feats"
   ]
  },
  {
   "cell_type": "code",
   "execution_count": 49,
   "metadata": {},
   "outputs": [
    {
     "name": "stdout",
     "output_type": "stream",
     "text": [
      "Cluster 0:\n",
      "top features: water, station, potable, dump, free, spigot, hose, gas, park, drinking, rv, available, gallon, parking, area, air, building, right, rest, inside\n",
      "\n",
      "     Water (398 categories)\n",
      "     Established Campground (139 categories)\n",
      "     Informal Campsite (95 categories)\n",
      "     Wild Camping (32 categories)\n",
      "     Showers (11 categories)\n",
      "     Eco-Friendly (1 categories)\n",
      "Cluster 1:\n",
      "top features: showers, hot, clean, park, shower, laundry, nice, rv, campground, wifi, water, night, pool, site, tent, hookups, bathrooms, free, sites, available\n",
      "\n",
      "     Established Campground (728 categories)\n",
      "     Showers (210 categories)\n",
      "     Informal Campsite (37 categories)\n",
      "     Wild Camping (10 categories)\n",
      "     Water (2 categories)\n",
      "     Short-term Parking (1 categories)\n",
      "Cluster 2:\n",
      "top features: place, nice, night, quiet, good, road, great, stay, near, free, overnight, view, big, just, river, sleep, small, park, rv, highway\n",
      "\n",
      "     Wild Camping (392 categories)\n",
      "     Informal Campsite (180 categories)\n",
      "     Established Campground (170 categories)\n",
      "     Showers (9 categories)\n",
      "     Water (6 categories)\n",
      "     Short-term Parking (2 categories)\n",
      "     Eco-Friendly (2 categories)\n",
      "Cluster 3:\n",
      "top features: camping, area, spot, night, nice, park, quiet, free, great, river, good, site, beautiful, large, just, camp, highway, big, spots, small\n",
      "\n",
      "     Wild Camping (2029 categories)\n",
      "     Established Campground (873 categories)\n",
      "     Informal Campsite (831 categories)\n",
      "     Water (44 categories)\n",
      "     Showers (24 categories)\n",
      "     Eco-Friendly (18 categories)\n",
      "     Short-term Parking (10 categories)\n",
      "Cluster 4:\n",
      "top features: parking, lot, overnight, walmart, night, quiet, park, street, signs, stayed, big, area, rv, free, parked, near, good, 24, stay, large\n",
      "\n",
      "     Informal Campsite (1230 categories)\n",
      "     Wild Camping (480 categories)\n",
      "     Established Campground (37 categories)\n",
      "     Water (19 categories)\n",
      "     Short-term Parking (13 categories)\n",
      "     Showers (6 categories)\n",
      "Cluster 5:\n",
      "top features: road, spot, forest, dirt, spots, just, service, nice, quiet, gravel, good, creek, camping, little, small, pull, right, site, great, camp\n",
      "\n",
      "     Wild Camping (1949 categories)\n",
      "     Established Campground (173 categories)\n",
      "     Informal Campsite (133 categories)\n",
      "     Water (4 categories)\n",
      "     Short-term Parking (1 categories)\n",
      "Cluster 6:\n",
      "top features: tables, picnic, pit, toilets, free, area, water, toilet, campground, nice, sites, rings, lake, pits, river, table, night, camping, quiet, rest\n",
      "\n",
      "     Established Campground (409 categories)\n",
      "     Informal Campsite (202 categories)\n",
      "     Wild Camping (136 categories)\n",
      "     Water (15 categories)\n",
      "     Showers (3 categories)\n",
      "     Short-term Parking (1 categories)\n",
      "Cluster 7:\n",
      "top features: sites, campground, nice, lake, water, night, river, park, site, toilets, forest, tent, state, 20, free, rv, 10, small, available, camping\n",
      "\n",
      "     Established Campground (1210 categories)\n",
      "     Wild Camping (96 categories)\n",
      "     Informal Campsite (37 categories)\n",
      "     Water (2 categories)\n",
      "     Showers (1 categories)\n"
     ]
    }
   ],
   "source": [
    "# count sites of each categories in each cluster \n",
    "from collections import Counter\n",
    "assigned_cluster = kmeans.transform(desc_tfidf_matrix).argmin(axis=1)\n",
    "\n",
    "for i in range(kmeans.n_clusters):\n",
    "    cluster = np.arange(0, X.shape[0])[assigned_cluster==i]\n",
    "    categories = data.iloc[cluster]['Category']\n",
    "    most_common = Counter(categories).most_common()\n",
    "    print(f\"Cluster {i}:\")\n",
    "    print(f'top features: {cluster_feats[i]}\\n')\n",
    "    for j in range (len(most_common)):\n",
    "        print(f\"     {most_common[j][0]} ({most_common[j][1]} categories)\")"
   ]
  },
  {
   "cell_type": "code",
   "execution_count": null,
   "metadata": {},
   "outputs": [],
   "source": []
  }
 ],
 "metadata": {
  "kernelspec": {
   "display_name": "Python 3",
   "language": "python",
   "name": "python3"
  },
  "language_info": {
   "codemirror_mode": {
    "name": "ipython",
    "version": 3
   },
   "file_extension": ".py",
   "mimetype": "text/x-python",
   "name": "python",
   "nbconvert_exporter": "python",
   "pygments_lexer": "ipython3",
   "version": "3.7.7"
  }
 },
 "nbformat": 4,
 "nbformat_minor": 4
}
