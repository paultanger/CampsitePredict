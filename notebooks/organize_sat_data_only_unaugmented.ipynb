{
 "cells": [
  {
   "cell_type": "code",
   "execution_count": 1,
   "metadata": {},
   "outputs": [],
   "source": [
    "# generic imports\n",
    "import numpy as np\n",
    "import pandas as pd\n",
    "import matplotlib.pyplot as plt\n",
    "import seaborn as sns\n",
    "from scipy import stats\n",
    "# notebook settings\n",
    "%config IPCompleter.greedy=True\n",
    "%load_ext autoreload\n",
    "%autoreload 2 \n",
    "# precision and plot settings\n",
    "num_precision = 3\n",
    "np.set_printoptions(precision=num_precision, suppress=True)\n",
    "pd.set_option('display.float_format', lambda x: f'{x:,.{num_precision}f}')\n",
    "pd.set_option(\"display.precision\", num_precision)\n",
    "pd.set_option('display.max_columns', None)\n",
    "\n",
    "plt.style.use('tableau-colorblind10')\n",
    "plt.rcParams['figure.figsize'] = [10, 6]\n",
    "plt.rcParams['font.size'] = 16\n",
    "plt.rcParams['legend.fontsize'] = 'large'\n",
    "plt.rcParams['figure.titlesize'] = 'medium'\n",
    "plt.rcParams['lines.linewidth'] = 2"
   ]
  },
  {
   "cell_type": "code",
   "execution_count": 2,
   "metadata": {},
   "outputs": [],
   "source": [
    "# setup dir and import helper functions\n",
    "import sys, os\n",
    "sys.path.append(os.path.join(os.path.dirname(sys.path[0]),'src'))\n",
    "import helper_funcs as my_funcs"
   ]
  },
  {
   "cell_type": "code",
   "execution_count": 4,
   "metadata": {},
   "outputs": [],
   "source": [
    "import shutil\n",
    "import os\n",
    "import re"
   ]
  },
  {
   "cell_type": "code",
   "execution_count": 6,
   "metadata": {},
   "outputs": [],
   "source": [
    "files = ['satimg_AK_2_Established Campground_17_62.09536800000001_-145.980492.png',\n",
    "'satimg_AK_15_Established Campground_17_61.57805_-149.136753_rot90.png',\n",
    "'satimg_AK_15_Established Campground_17_61.57805_-149.136753_rot180.png']"
   ]
  },
  {
   "cell_type": "code",
   "execution_count": 7,
   "metadata": {},
   "outputs": [],
   "source": [
    "regex = 'rot[0-9]{2,3}.png$'"
   ]
  },
  {
   "cell_type": "code",
   "execution_count": 12,
   "metadata": {},
   "outputs": [
    {
     "name": "stdout",
     "output_type": "stream",
     "text": [
      "satimg_AK_2_Established Campground_17_62.09536800000001_-145.980492.png\n"
     ]
    }
   ],
   "source": [
    "for file in files:\n",
    "    if not re.search('rot[0-9]{2,3}.png$', file):\n",
    "        print(file)"
   ]
  },
  {
   "cell_type": "code",
   "execution_count": 29,
   "metadata": {},
   "outputs": [],
   "source": [
    "def make_symlinks_only_unaugmented(directory, destination, dest_dir_name, class_dirs):\n",
    "    counter = 0\n",
    "    filedict = {}\n",
    "    # make list of files with name and path in dict\n",
    "    for root_path, dirs, files in os.walk(directory, followlinks=False):\n",
    "        for file in files:\n",
    "            if file.endswith(\".png\"):\n",
    "                # only keep original files not augmented\n",
    "                if not re.search('rot[0-9]{2,3}.png$', file):\n",
    "#                     print(file)\n",
    "                    filedict[file] = str(os.path.join(root_path, file))\n",
    "#     # create symlink dir\n",
    "    symlink_dir_path = os.path.join(destination + dest_dir_name)\n",
    "#     print(symlink_dir_path)\n",
    "    if not os.path.isdir(symlink_dir_path):\n",
    "            os.makedirs(symlink_dir_path)\n",
    "    # now go through files\n",
    "    for file, filepath in filedict.items():\n",
    "        # setup class directory name to check if it is a category we want to copy\n",
    "#         parent = os.path.basename(os.path.dirname(os.path.dirname(filepath)))\n",
    "#         print(parent)\n",
    "        subdir = os.path.basename(os.path.dirname(filepath))\n",
    "#         print(subdir)\n",
    "#         fullparent = os.path.join(sobel_dir + os.sep + parent + os.sep + subdir)\n",
    "        \n",
    "        # only copy files if in directories we want\n",
    "        if subdir in class_dirs:\n",
    "#             print(subdir)\n",
    "            # create symlink\n",
    "#             print(filepath)\n",
    "            destination_filepath = os.path.join(destination + dest_dir_name + os.sep + subdir + os.sep + file)\n",
    "#             print(destination_filepath)\n",
    "            # create class dir if it doesn't exist\n",
    "            destination_class_dir = os.path.join(destination + dest_dir_name + os.sep + subdir + os.sep)\n",
    "#             print(destination_class_dir)\n",
    "            if not os.path.isdir(destination_class_dir):\n",
    "                os.makedirs(destination_class_dir)\n",
    "            # create destination filepath\n",
    "            os.symlink(filepath, destination_filepath, target_is_directory=False)\n",
    "            # ln -s ~/source/* wild_est_after_exc/Established\\ Campground/\n",
    "            counter += 1\n",
    "    print(f'{counter} files were created as symlinks.')\n",
    "    return filedict"
   ]
  },
  {
   "cell_type": "code",
   "execution_count": 21,
   "metadata": {},
   "outputs": [],
   "source": [
    "directory = '/Users/pault/Desktop/github/CampsitePredict/data/img_testing/test_filtering/'\n",
    "destination = '/Users/pault/Desktop/github/CampsitePredict/data/symlink_data/'\n",
    "dest_dir_name = 'test'\n",
    "class_dirs = ['class1']"
   ]
  },
  {
   "cell_type": "code",
   "execution_count": 22,
   "metadata": {},
   "outputs": [
    {
     "name": "stdout",
     "output_type": "stream",
     "text": [
      "0 files were created as symlinks.\n"
     ]
    }
   ],
   "source": [
    "filedict = make_symlinks_only_unaugmented(directory, destination, dest_dir_name, class_dirs)"
   ]
  },
  {
   "cell_type": "code",
   "execution_count": 23,
   "metadata": {},
   "outputs": [
    {
     "data": {
      "text/plain": [
       "{}"
      ]
     },
     "execution_count": 23,
     "metadata": {},
     "output_type": "execute_result"
    }
   ],
   "source": [
    "filedict"
   ]
  },
  {
   "cell_type": "code",
   "execution_count": 30,
   "metadata": {},
   "outputs": [],
   "source": [
    "directory = '/Users/pault/Desktop/github/CampsitePredict/data/sat_images/'\n",
    "destination = '/Users/pault/Desktop/github/CampsitePredict/data/symlink_data/'\n",
    "dest_dir_name = 'only_unaugmented'\n",
    "class_dirs = ['Wild Camping', 'Established Campground']"
   ]
  },
  {
   "cell_type": "code",
   "execution_count": 31,
   "metadata": {},
   "outputs": [
    {
     "name": "stdout",
     "output_type": "stream",
     "text": [
      "7875 files were created as symlinks.\n"
     ]
    }
   ],
   "source": [
    "filedict = make_symlinks_only_unaugmented(directory, destination, dest_dir_name, class_dirs)"
   ]
  },
  {
   "cell_type": "code",
   "execution_count": null,
   "metadata": {},
   "outputs": [],
   "source": []
  }
 ],
 "metadata": {
  "kernelspec": {
   "display_name": "Python 3",
   "language": "python",
   "name": "python3"
  },
  "language_info": {
   "codemirror_mode": {
    "name": "ipython",
    "version": 3
   },
   "file_extension": ".py",
   "mimetype": "text/x-python",
   "name": "python",
   "nbconvert_exporter": "python",
   "pygments_lexer": "ipython3",
   "version": "3.7.7"
  }
 },
 "nbformat": 4,
 "nbformat_minor": 4
}
