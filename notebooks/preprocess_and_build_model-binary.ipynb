{
 "cells": [
  {
   "cell_type": "code",
   "execution_count": 1,
   "metadata": {},
   "outputs": [],
   "source": [
    "from tensorflow.keras.preprocessing import image_dataset_from_directory\n",
    "import numpy as np\n",
    "import pandas as pd\n",
    "import matplotlib.pyplot as plt"
   ]
  },
  {
   "cell_type": "code",
   "execution_count": 5,
   "metadata": {},
   "outputs": [],
   "source": [
    "directory = '../data/sat_images/wild_est/'"
   ]
  },
  {
   "cell_type": "code",
   "execution_count": 6,
   "metadata": {},
   "outputs": [],
   "source": [
    "batch_size = 32\n",
    "img_size = 256"
   ]
  },
  {
   "cell_type": "code",
   "execution_count": 19,
   "metadata": {},
   "outputs": [
    {
     "name": "stdout",
     "output_type": "stream",
     "text": [
      "Found 16232 files belonging to 2 classes.\n",
      "Using 12986 files for training.\n"
     ]
    }
   ],
   "source": [
    "X_train = image_dataset_from_directory(\n",
    "    directory, labels='inferred', class_names=None, # maybe need: label_mode='binary' and rename directories to 0 1\n",
    "    color_mode='rgb', batch_size=batch_size, image_size=(img_size, img_size), shuffle=True, seed=42,\n",
    "    validation_split=0.2, subset='training', interpolation='bilinear', follow_links=True\n",
    ")\n",
    "# this batch size is how it divides the data in the epochs below"
   ]
  },
  {
   "cell_type": "code",
   "execution_count": 8,
   "metadata": {
    "scrolled": true
   },
   "outputs": [
    {
     "name": "stdout",
     "output_type": "stream",
     "text": [
      "Found 16232 files belonging to 2 classes.\n",
      "Using 3246 files for validation.\n"
     ]
    }
   ],
   "source": [
    "X_test = image_dataset_from_directory(\n",
    "    directory, labels='inferred', class_names=None, # # maybe need: label_mode='binary' and rename directories to 0 1\n",
    "    color_mode='rgb', batch_size=batch_size, image_size=(img_size, img_size), shuffle=True, seed=42, # maybe not need shuffle\n",
    "    validation_split=0.2, subset='validation', interpolation='bilinear', follow_links=True\n",
    ")"
   ]
  },
  {
   "cell_type": "code",
   "execution_count": 151,
   "metadata": {},
   "outputs": [
    {
     "data": {
      "text/plain": [
       "(TensorSpec(shape=(None, 256, 256, 3), dtype=tf.float32, name=None),\n",
       " TensorSpec(shape=(None,), dtype=tf.int32, name=None))"
      ]
     },
     "execution_count": 151,
     "metadata": {},
     "output_type": "execute_result"
    }
   ],
   "source": [
    "X_test.element_spec"
   ]
  },
  {
   "cell_type": "code",
   "execution_count": null,
   "metadata": {},
   "outputs": [],
   "source": [
    "from tensorflow.data.experimental import save\n",
    "save(X_train, 'data/X_train', compression='GZIP', shard_func=None)\n",
    "save(X_test, 'data/X_test', compression='GZIP', shard_func=None)"
   ]
  },
  {
   "cell_type": "code",
   "execution_count": 9,
   "metadata": {},
   "outputs": [],
   "source": [
    "from tensorflow import keras\n",
    "from tensorflow.keras import layers\n",
    "from tensorflow.keras.models import Sequential\n",
    "from tensorflow import data"
   ]
  },
  {
   "cell_type": "code",
   "execution_count": 75,
   "metadata": {},
   "outputs": [],
   "source": [
    "# set parameters\n",
    "num_classes = 2\n",
    "epochs = 2 # number of passes through the entire train dataset before weights \"final\"\n",
    "AUTOTUNE = data.experimental.AUTOTUNE\n",
    "# X_train = X_train.cache().shuffle(1000).prefetch(buffer_size=AUTOTUNE)\n",
    "# X_test = X_test.cache().prefetch(buffer_size=AUTOTUNE)\n",
    "img_height = 256\n",
    "img_width = 256\n",
    "#input_shape = (img_rows, img_cols, 1)   # 1 channel image input (grayscale) KEEP\n",
    "nb_filters = 16    # number of convolutional filters to use summarizes more\n",
    "pool_size = (2, 2)  # pooling decreases image size, reduces computation, adds translational invariance\n",
    "kernel_size = (4, 4)  # convolutional kernel size, slides over image to learn features\n",
    "#batch_size = 1000 # number of training samples used at a time to update the weights\n",
    "# model.add(Dropout(0.5))  # zeros out some fraction of inputs (neurons), helps prevent overfitting\n",
    "\n",
    "# add callback to save weights \n",
    "# https://www.tensorflow.org/api_docs/python/tf/keras/callbacks/Callback\n",
    "# model callback\n",
    "# reduce LR on plateau\n",
    "\n",
    "# what about padding? below same uses padding if needed\n",
    "\n",
    "# '''\n",
    "# When you apply Dropout to a layer it randomly drops out (by setting the activation to zero) a \n",
    "# number of output units from the layer during the training process. Dropout takes a fractional \n",
    "# number as its input value, in the form such as 0.1, 0.2, 0.4, etc. This means dropping out 10%, \n",
    "# 20% or 40% of the output units randomly from the applied layer.\n",
    "# '''"
   ]
  },
  {
   "cell_type": "code",
   "execution_count": 81,
   "metadata": {},
   "outputs": [],
   "source": [
    "model = Sequential([\n",
    "    layers.experimental.preprocessing.Rescaling(1./255, input_shape=(256, 256, 3)),\n",
    "    layers.Conv2D(nb_filters, 3, padding='same', activation='relu'), # was 16, 32, 64\n",
    "    layers.MaxPooling2D(pool_size=pool_size),\n",
    "    layers.Conv2D(nb_filters, 3, padding='same', activation='relu'), # drop layers.. for initial testing\n",
    "    layers.MaxPooling2D(pool_size=pool_size),\n",
    "    layers.Conv2D(nb_filters, 3, padding='same', activation='relu'),\n",
    "    layers.MaxPooling2D(pool_size=pool_size),\n",
    "    # insert more layers?\n",
    "    # insert callback?\n",
    "    layers.Flatten(),\n",
    "    layers.Dense(256, activation='relu'), # activation='relu'\n",
    "    #layers.Dropout(0.3),\n",
    "    #layers.Dense(num_classes, activation='relu') # or sigmoid for binary? relu?\n",
    "    layers.Dense(1, activation='sigmoid') # or sigmoid for binary? relu?\n",
    "])"
   ]
  },
  {
   "cell_type": "code",
   "execution_count": 82,
   "metadata": {},
   "outputs": [],
   "source": [
    "model.compile(optimizer='adam',\n",
    "              loss=keras.losses.BinaryCrossentropy(from_logits=False),\n",
    "              metrics=['accuracy'])\n",
    "              # if multiclass then use this:\n",
    "              #loss = keras.losses.CategoricalCrossentropy(from_logits=True),\n",
    "#               metrics = ['accuracy'])"
   ]
  },
  {
   "cell_type": "code",
   "execution_count": 83,
   "metadata": {},
   "outputs": [
    {
     "name": "stdout",
     "output_type": "stream",
     "text": [
      "Model: \"sequential_13\"\n",
      "_________________________________________________________________\n",
      "Layer (type)                 Output Shape              Param #   \n",
      "=================================================================\n",
      "rescaling_13 (Rescaling)     (None, 256, 256, 3)       0         \n",
      "_________________________________________________________________\n",
      "conv2d_36 (Conv2D)           (None, 256, 256, 32)      896       \n",
      "_________________________________________________________________\n",
      "max_pooling2d_36 (MaxPooling (None, 128, 128, 32)      0         \n",
      "_________________________________________________________________\n",
      "conv2d_37 (Conv2D)           (None, 128, 128, 32)      9248      \n",
      "_________________________________________________________________\n",
      "max_pooling2d_37 (MaxPooling (None, 64, 64, 32)        0         \n",
      "_________________________________________________________________\n",
      "conv2d_38 (Conv2D)           (None, 64, 64, 32)        9248      \n",
      "_________________________________________________________________\n",
      "max_pooling2d_38 (MaxPooling (None, 32, 32, 32)        0         \n",
      "_________________________________________________________________\n",
      "flatten_13 (Flatten)         (None, 32768)             0         \n",
      "_________________________________________________________________\n",
      "dense_26 (Dense)             (None, 256)               8388864   \n",
      "_________________________________________________________________\n",
      "dense_27 (Dense)             (None, 1)                 257       \n",
      "=================================================================\n",
      "Total params: 8,408,513\n",
      "Trainable params: 8,408,513\n",
      "Non-trainable params: 0\n",
      "_________________________________________________________________\n"
     ]
    }
   ],
   "source": [
    "# check model\n",
    "model.summary()"
   ]
  },
  {
   "cell_type": "code",
   "execution_count": 84,
   "metadata": {},
   "outputs": [
    {
     "name": "stdout",
     "output_type": "stream",
     "text": [
      "Epoch 1/2\n",
      "406/406 [==============================] - 444s 1s/step - loss: 0.6521 - accuracy: 0.6536 - val_loss: 0.6060 - val_accuracy: 0.7144\n",
      "Epoch 2/2\n",
      "406/406 [==============================] - 495s 1s/step - loss: 0.5556 - accuracy: 0.7241 - val_loss: 0.5555 - val_accuracy: 0.7344\n"
     ]
    }
   ],
   "source": [
    "# run it\n",
    "# try more epochs (maybe 1000.. at least 100)\n",
    "history = model.fit(\n",
    "            X_train,\n",
    "            validation_data = X_test,\n",
    "            epochs = epochs,\n",
    "            #batch_size=batch_size,\n",
    "            verbose = 1\n",
    ") # weighted_metrics"
   ]
  },
  {
   "cell_type": "code",
   "execution_count": 85,
   "metadata": {
    "scrolled": true
   },
   "outputs": [
    {
     "name": "stdout",
     "output_type": "stream",
     "text": [
      "102/102 [==============================] - 51s 503ms/step - loss: 0.5555 - accuracy: 0.7344\n",
      "Test score: 0.5555156469345093\n",
      "Test accuracy: 0.734442412853241\n"
     ]
    }
   ],
   "source": [
    "score = model.evaluate(X_test, verbose=1) # diff that model.predict ? yes.. just gets scores will predict will return classes\n",
    "print('Test score:', score[0])\n",
    "print('Test accuracy:', score[1])  # this is the one we care about"
   ]
  }
 ],
 "metadata": {
  "kernelspec": {
   "display_name": "Python [conda env:tf_py377]",
   "language": "python",
   "name": "conda-env-tf_py377-py"
  },
  "language_info": {
   "codemirror_mode": {
    "name": "ipython",
    "version": 3
   },
   "file_extension": ".py",
   "mimetype": "text/x-python",
   "name": "python",
   "nbconvert_exporter": "python",
   "pygments_lexer": "ipython3",
   "version": "3.7.7"
  }
 },
 "nbformat": 4,
 "nbformat_minor": 4
}
