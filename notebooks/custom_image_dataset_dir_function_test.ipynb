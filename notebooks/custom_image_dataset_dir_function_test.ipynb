{
 "cells": [
  {
   "cell_type": "code",
   "execution_count": 1,
   "metadata": {},
   "outputs": [],
   "source": [
    "# generic imports\n",
    "import numpy as np\n",
    "import pandas as pd\n",
    "import matplotlib.pyplot as plt\n",
    "import seaborn as sns\n",
    "from scipy import stats\n",
    "# notebook settings\n",
    "%config IPCompleter.greedy=True\n",
    "%load_ext autoreload\n",
    "%autoreload 2 \n",
    "# precision and plot settings\n",
    "num_precision = 3\n",
    "np.set_printoptions(precision=num_precision, suppress=True)\n",
    "pd.set_option('display.float_format', lambda x: f'{x:,.{num_precision}f}')\n",
    "pd.set_option(\"display.precision\", num_precision)\n",
    "pd.set_option('display.max_columns', None)\n",
    "plt.rcParams['font.size'] = 16\n",
    "plt.rcParams['legend.fontsize'] = 'large'\n",
    "plt.rcParams['figure.titlesize'] = 'medium'\n",
    "plt.rcParams['lines.linewidth'] = 2"
   ]
  },
  {
   "cell_type": "code",
   "execution_count": 2,
   "metadata": {},
   "outputs": [],
   "source": [
    "# setup dir and import helper functions\n",
    "import sys, os\n",
    "sys.path.append(os.path.join(os.path.dirname(sys.path[0]),'src'))\n",
    "import helper_funcs as my_funcs\n",
    "from image_dataset_from_dir_return_paths import image_dataset_from_directory_paths"
   ]
  },
  {
   "cell_type": "code",
   "execution_count": 3,
   "metadata": {},
   "outputs": [],
   "source": [
    "# from tensorflow.keras.preprocessing import image_dataset_from_directory\n",
    "from tensorflow import keras\n",
    "from tensorflow.keras import layers\n",
    "from tensorflow.keras.models import Sequential\n",
    "from tensorflow import data\n",
    "from tensorflow.keras import callbacks"
   ]
  },
  {
   "cell_type": "code",
   "execution_count": 4,
   "metadata": {},
   "outputs": [],
   "source": [
    "directory = '../data/symlink_data/wild_est_test'"
   ]
  },
  {
   "cell_type": "code",
   "execution_count": 5,
   "metadata": {},
   "outputs": [],
   "source": [
    "batch_size = 32\n",
    "img_size = 256"
   ]
  },
  {
   "cell_type": "code",
   "execution_count": 14,
   "metadata": {},
   "outputs": [
    {
     "name": "stdout",
     "output_type": "stream",
     "text": [
      "Found 7834 files belonging to 2 classes.\n",
      "Using 5876 files for training.\n"
     ]
    }
   ],
   "source": [
    "# make a dataset of 2\n",
    "X_train, X_train_img_paths = image_dataset_from_directory_paths(\n",
    "    directory, labels='inferred', class_names=None, \n",
    "    color_mode='rgb', batch_size=8, image_size=(img_size, img_size), shuffle=True, seed=42,\n",
    "    validation_split=0.25, subset='training', interpolation='bilinear', follow_links=True\n",
    ")"
   ]
  },
  {
   "cell_type": "code",
   "execution_count": 8,
   "metadata": {},
   "outputs": [
    {
     "data": {
      "text/plain": [
       "['../data/symlink_data/wild_est_test/Established Campground/satimg_ID_264_Established Campground_17_43.460267_-113.560938_rot180.png',\n",
       " '../data/symlink_data/wild_est_test/Wild Camping/satimg_ID_11390_Wild Camping_17_47.702711_-117.031512_rot270.png',\n",
       " '../data/symlink_data/wild_est_test/Established Campground/satimg_AZ_18_Established Campground_17_31.703691999999997_-111.063476.png',\n",
       " '../data/symlink_data/wild_est_test/Wild Camping/satimg_MT_7384_Wild Camping_17_48.782051_-114.283557_rot270.png',\n",
       " '../data/symlink_data/wild_est_test/Established Campground/satimg_ID_983_Established Campground_17_42.956692_-115.307018_rot270.png',\n",
       " '../data/symlink_data/wild_est_test/Wild Camping/satimg_AZ_17_Wild Camping_17_32.784379_-109.602116.png']"
      ]
     },
     "execution_count": 8,
     "metadata": {},
     "output_type": "execute_result"
    }
   ],
   "source": [
    "X_train_img_paths"
   ]
  },
  {
   "cell_type": "code",
   "execution_count": 15,
   "metadata": {
    "scrolled": true
   },
   "outputs": [
    {
     "name": "stdout",
     "output_type": "stream",
     "text": [
      "Found 7834 files belonging to 2 classes.\n",
      "Using 1958 files for validation.\n"
     ]
    }
   ],
   "source": [
    "X_test, X_test_img_paths = image_dataset_from_directory_paths(\n",
    "    directory, labels='inferred', class_names=None, \n",
    "    color_mode='rgb', batch_size=batch_size, image_size=(img_size, img_size), shuffle=True, seed=42, \n",
    "    validation_split=0.25, subset='validation', interpolation='bilinear', follow_links=True\n",
    ")"
   ]
  },
  {
   "cell_type": "code",
   "execution_count": 10,
   "metadata": {},
   "outputs": [
    {
     "data": {
      "text/plain": [
       "['../data/symlink_data/wild_est_test/Established Campground/satimg_MT_1237_Established Campground_17_46.65782_-111.70844_rot180.png',\n",
       " '../data/symlink_data/wild_est_test/Wild Camping/satimg_MT_5076_Wild Camping_17_47.812919_-113.854707_rot180.png']"
      ]
     },
     "execution_count": 10,
     "metadata": {},
     "output_type": "execute_result"
    }
   ],
   "source": [
    "X_test_img_paths"
   ]
  },
  {
   "cell_type": "code",
   "execution_count": 12,
   "metadata": {},
   "outputs": [
    {
     "data": {
      "text/plain": [
       "['../data/symlink_data/wild_est_test/Established Campground/satimg_ID_264_Established Campground_17_43.460267_-113.560938_rot180.png',\n",
       " '../data/symlink_data/wild_est_test/Wild Camping/satimg_ID_11390_Wild Camping_17_47.702711_-117.031512_rot270.png']"
      ]
     },
     "execution_count": 12,
     "metadata": {},
     "output_type": "execute_result"
    }
   ],
   "source": [
    "X_train_img_paths[:2]"
   ]
  },
  {
   "cell_type": "code",
   "execution_count": 20,
   "metadata": {},
   "outputs": [],
   "source": [
    "def get_class_weights(X_train):\n",
    "    class_names = X_train.class_names\n",
    "    labels = np.concatenate([y for x, y in X_train], axis=0)\n",
    "    if np.ndim(labels) == 1:\n",
    "        # for binary\n",
    "        weights = [len(labels) - labels.sum(), labels.sum()]\n",
    "    else:\n",
    "        weights = list(np.sum(labels, axis=0))\n",
    "    class_weights = {}\n",
    "    # for class_, weight in zip(class_names, weights):\n",
    "    #     class_weights[class_] = weight\n",
    "    for i, weight in enumerate(weights):\n",
    "        class_weights[i] = weight\n",
    "    return class_names, class_weights"
   ]
  },
  {
   "cell_type": "code",
   "execution_count": 13,
   "metadata": {},
   "outputs": [],
   "source": [
    "directory = '/Users/pault/Desktop/github/CampsitePredict/data/symlink_data/unique_wild_est_for_aligned_model' "
   ]
  },
  {
   "cell_type": "code",
   "execution_count": 23,
   "metadata": {},
   "outputs": [],
   "source": [
    "class_names, class_weights = get_class_weights(X_train)"
   ]
  },
  {
   "cell_type": "code",
   "execution_count": 24,
   "metadata": {},
   "outputs": [
    {
     "data": {
      "text/plain": [
       "{0: 3, 1: 3}"
      ]
     },
     "execution_count": 24,
     "metadata": {},
     "output_type": "execute_result"
    }
   ],
   "source": [
    "class_weights"
   ]
  },
  {
   "cell_type": "code",
   "execution_count": 15,
   "metadata": {},
   "outputs": [],
   "source": [
    "num_classes = 2\n",
    "epochs = 1 \n",
    "AUTOTUNE = data.experimental.AUTOTUNE\n",
    "img_height = 256\n",
    "img_width = 256\n",
    "nb_filters = 32    # number of convolutional filters to use - want 1 for each \"feature\" you think exists in images if more, more parameters\n",
    "pool_size = (2, 2)  # pooling decreases image size, reduces computation, adds translational invariance\n",
    "kernel_size = (2, 2)  # convolutional kernel size, slides over image to learn features\n",
    "X_train = X_train.cache().shuffle(32).prefetch(buffer_size=AUTOTUNE) \n",
    "X_test = X_test.cache().prefetch(buffer_size=AUTOTUNE)"
   ]
  },
  {
   "cell_type": "code",
   "execution_count": 16,
   "metadata": {},
   "outputs": [],
   "source": [
    "model = Sequential([\n",
    "    layers.experimental.preprocessing.Rescaling(1./255, input_shape=(256, 256, 3)),\n",
    "    layers.experimental.preprocessing.RandomFlip(\"horizontal\", \n",
    "                                                 input_shape=(img_height, \n",
    "                                                              img_width,\n",
    "                                                              3)),\n",
    "    layers.experimental.preprocessing.RandomRotation(0.1),\n",
    "    layers.experimental.preprocessing.RandomZoom(0.1),\n",
    "    layers.Conv2D(nb_filters, (kernel_size[0], kernel_size[1]), padding='same', activation='relu'), # was 16, 32, 64\n",
    "    layers.MaxPooling2D(pool_size=pool_size),\n",
    "    layers.Conv2D(nb_filters*2, (kernel_size[0], kernel_size[1]), padding='same', activation='relu'), # drop layers.. for initial testing\n",
    "    layers.MaxPooling2D(pool_size=pool_size),\n",
    "    layers.Conv2D(nb_filters*3, (kernel_size[0], kernel_size[1]), padding='same', activation='relu'),\n",
    "    layers.MaxPooling2D(pool_size=pool_size),\n",
    "    layers.Conv2D(nb_filters*4, (kernel_size[0], kernel_size[1]), padding='same', activation='relu'),\n",
    "    layers.MaxPooling2D(pool_size=pool_size),\n",
    "    layers.Flatten(),\n",
    "    layers.Dense(256, activation='relu'), # increase this? add another dense layer?\n",
    "    layers.Dropout(0.5),\n",
    "    #layers.Dense(num_classes, activation='relu') # or sigmoid for binary? relu?\n",
    "    layers.Dense(1, activation='sigmoid') # or sigmoid for binary? relu?\n",
    "])"
   ]
  },
  {
   "cell_type": "code",
   "execution_count": 17,
   "metadata": {},
   "outputs": [],
   "source": [
    "model.compile(optimizer='adam',\n",
    "              loss=keras.losses.BinaryCrossentropy(from_logits=False),\n",
    "              metrics=['accuracy'])"
   ]
  },
  {
   "cell_type": "code",
   "execution_count": 18,
   "metadata": {},
   "outputs": [
    {
     "name": "stdout",
     "output_type": "stream",
     "text": [
      "Model: \"sequential\"\n",
      "_________________________________________________________________\n",
      "Layer (type)                 Output Shape              Param #   \n",
      "=================================================================\n",
      "rescaling (Rescaling)        (None, 256, 256, 3)       0         \n",
      "_________________________________________________________________\n",
      "random_flip (RandomFlip)     (None, 256, 256, 3)       0         \n",
      "_________________________________________________________________\n",
      "random_rotation (RandomRotat (None, 256, 256, 3)       0         \n",
      "_________________________________________________________________\n",
      "random_zoom (RandomZoom)     (None, 256, 256, 3)       0         \n",
      "_________________________________________________________________\n",
      "conv2d (Conv2D)              (None, 256, 256, 32)      416       \n",
      "_________________________________________________________________\n",
      "max_pooling2d (MaxPooling2D) (None, 128, 128, 32)      0         \n",
      "_________________________________________________________________\n",
      "conv2d_1 (Conv2D)            (None, 128, 128, 64)      8256      \n",
      "_________________________________________________________________\n",
      "max_pooling2d_1 (MaxPooling2 (None, 64, 64, 64)        0         \n",
      "_________________________________________________________________\n",
      "conv2d_2 (Conv2D)            (None, 64, 64, 96)        24672     \n",
      "_________________________________________________________________\n",
      "max_pooling2d_2 (MaxPooling2 (None, 32, 32, 96)        0         \n",
      "_________________________________________________________________\n",
      "conv2d_3 (Conv2D)            (None, 32, 32, 128)       49280     \n",
      "_________________________________________________________________\n",
      "max_pooling2d_3 (MaxPooling2 (None, 16, 16, 128)       0         \n",
      "_________________________________________________________________\n",
      "flatten (Flatten)            (None, 32768)             0         \n",
      "_________________________________________________________________\n",
      "dense (Dense)                (None, 256)               8388864   \n",
      "_________________________________________________________________\n",
      "dropout (Dropout)            (None, 256)               0         \n",
      "_________________________________________________________________\n",
      "dense_1 (Dense)              (None, 1)                 257       \n",
      "=================================================================\n",
      "Total params: 8,471,745\n",
      "Trainable params: 8,471,745\n",
      "Non-trainable params: 0\n",
      "_________________________________________________________________\n"
     ]
    }
   ],
   "source": [
    "model.summary()"
   ]
  },
  {
   "cell_type": "code",
   "execution_count": 19,
   "metadata": {},
   "outputs": [
    {
     "name": "stdout",
     "output_type": "stream",
     "text": [
      "Epoch 1/5\n",
      "1/1 [==============================] - 0s 233ms/step - loss: 0.7025 - accuracy: 0.3333 - val_loss: 0.7181 - val_accuracy: 0.5000\n",
      "Epoch 2/5\n",
      "1/1 [==============================] - 0s 59ms/step - loss: 0.7819 - accuracy: 0.5000 - val_loss: 0.6475 - val_accuracy: 0.5000\n",
      "Epoch 3/5\n",
      "1/1 [==============================] - 0s 56ms/step - loss: 0.6793 - accuracy: 0.5000 - val_loss: 0.6652 - val_accuracy: 0.5000\n",
      "Epoch 4/5\n",
      "1/1 [==============================] - 0s 59ms/step - loss: 0.6546 - accuracy: 0.6667 - val_loss: 0.6750 - val_accuracy: 0.5000\n",
      "Epoch 5/5\n",
      "1/1 [==============================] - 0s 62ms/step - loss: 0.5894 - accuracy: 0.6667 - val_loss: 0.6842 - val_accuracy: 0.5000\n"
     ]
    }
   ],
   "source": [
    "# run it\n",
    "history = model.fit(\n",
    "            X_train,\n",
    "            validation_data = X_test,\n",
    "            epochs = 5,\n",
    "            #batch_size=batch_size,\n",
    "            verbose = 1,\n",
    "#             callbacks=my_callbacks\n",
    ") # weighted_metrics"
   ]
  },
  {
   "cell_type": "code",
   "execution_count": null,
   "metadata": {},
   "outputs": [],
   "source": [
    "# testing this plot function\n",
    "model_name = 'test'\n",
    "fig, axs = plt.subplots(1, 2, figsize=(10, 8))\n",
    "my_funcs.plot_train_val_acc(history, 5, model_name, axs)"
   ]
  },
  {
   "cell_type": "code",
   "execution_count": null,
   "metadata": {},
   "outputs": [],
   "source": []
  }
 ],
 "metadata": {
  "kernelspec": {
   "display_name": "Python [conda env:tf_py377]",
   "language": "python",
   "name": "conda-env-tf_py377-py"
  },
  "language_info": {
   "codemirror_mode": {
    "name": "ipython",
    "version": 3
   },
   "file_extension": ".py",
   "mimetype": "text/x-python",
   "name": "python",
   "nbconvert_exporter": "python",
   "pygments_lexer": "ipython3",
   "version": "3.7.7"
  }
 },
 "nbformat": 4,
 "nbformat_minor": 4
}
